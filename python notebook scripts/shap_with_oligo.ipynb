{
  "cells": [
    {
      "cell_type": "code",
      "execution_count": null,
      "metadata": {
        "id": "AmHOpUbMwN_g"
      },
      "outputs": [],
      "source": [
        "import numpy as np # linear algebra\n",
        "import pandas as pd # data processing, CSV file I/O (e.g. pd.read_csv)\n",
        "import matplotlib.pyplot as plt # for data visualization\n",
        "import seaborn as sns # for statistical data visualization\n",
        "%matplotlib inline"
      ]
    },
    {
      "cell_type": "code",
      "execution_count": null,
      "metadata": {
        "colab": {
          "base_uri": "https://localhost:8080/",
          "height": 419
        },
        "id": "JoPR7GW5wg5a",
        "outputId": "f6882e47-47b0-4141-abca-eae162aecfa0"
      },
      "outputs": [
        {
          "data": {
            "text/html": [
              "\n",
              "  <div id=\"df-5fe15be8-f91d-42e0-bc90-646587749000\">\n",
              "    <div class=\"colab-df-container\">\n",
              "      <div>\n",
              "<style scoped>\n",
              "    .dataframe tbody tr th:only-of-type {\n",
              "        vertical-align: middle;\n",
              "    }\n",
              "\n",
              "    .dataframe tbody tr th {\n",
              "        vertical-align: top;\n",
              "    }\n",
              "\n",
              "    .dataframe thead th {\n",
              "        text-align: right;\n",
              "    }\n",
              "</style>\n",
              "<table border=\"1\" class=\"dataframe\">\n",
              "  <thead>\n",
              "    <tr style=\"text-align: right;\">\n",
              "      <th></th>\n",
              "      <th>tumor</th>\n",
              "    </tr>\n",
              "  </thead>\n",
              "  <tbody>\n",
              "    <tr>\n",
              "      <th>GSM2899558</th>\n",
              "      <td>normal</td>\n",
              "    </tr>\n",
              "    <tr>\n",
              "      <th>GSM2899559</th>\n",
              "      <td>normal</td>\n",
              "    </tr>\n",
              "    <tr>\n",
              "      <th>GSM2899560</th>\n",
              "      <td>normal</td>\n",
              "    </tr>\n",
              "    <tr>\n",
              "      <th>GSM2899561</th>\n",
              "      <td>normal</td>\n",
              "    </tr>\n",
              "    <tr>\n",
              "      <th>GSM2899562</th>\n",
              "      <td>normal</td>\n",
              "    </tr>\n",
              "    <tr>\n",
              "      <th>...</th>\n",
              "      <td>...</td>\n",
              "    </tr>\n",
              "    <tr>\n",
              "      <th>GSM97949</th>\n",
              "      <td>oligodendroglioma</td>\n",
              "    </tr>\n",
              "    <tr>\n",
              "      <th>GSM97956</th>\n",
              "      <td>oligodendroglioma</td>\n",
              "    </tr>\n",
              "    <tr>\n",
              "      <th>GSM97962</th>\n",
              "      <td>oligodendroglioma</td>\n",
              "    </tr>\n",
              "    <tr>\n",
              "      <th>GSM97964</th>\n",
              "      <td>oligodendroglioma</td>\n",
              "    </tr>\n",
              "    <tr>\n",
              "      <th>GSM97970</th>\n",
              "      <td>oligodendroglioma</td>\n",
              "    </tr>\n",
              "  </tbody>\n",
              "</table>\n",
              "<p>168 rows × 1 columns</p>\n",
              "</div>\n",
              "      <button class=\"colab-df-convert\" onclick=\"convertToInteractive('df-5fe15be8-f91d-42e0-bc90-646587749000')\"\n",
              "              title=\"Convert this dataframe to an interactive table.\"\n",
              "              style=\"display:none;\">\n",
              "        \n",
              "  <svg xmlns=\"http://www.w3.org/2000/svg\" height=\"24px\"viewBox=\"0 0 24 24\"\n",
              "       width=\"24px\">\n",
              "    <path d=\"M0 0h24v24H0V0z\" fill=\"none\"/>\n",
              "    <path d=\"M18.56 5.44l.94 2.06.94-2.06 2.06-.94-2.06-.94-.94-2.06-.94 2.06-2.06.94zm-11 1L8.5 8.5l.94-2.06 2.06-.94-2.06-.94L8.5 2.5l-.94 2.06-2.06.94zm10 10l.94 2.06.94-2.06 2.06-.94-2.06-.94-.94-2.06-.94 2.06-2.06.94z\"/><path d=\"M17.41 7.96l-1.37-1.37c-.4-.4-.92-.59-1.43-.59-.52 0-1.04.2-1.43.59L10.3 9.45l-7.72 7.72c-.78.78-.78 2.05 0 2.83L4 21.41c.39.39.9.59 1.41.59.51 0 1.02-.2 1.41-.59l7.78-7.78 2.81-2.81c.8-.78.8-2.07 0-2.86zM5.41 20L4 18.59l7.72-7.72 1.47 1.35L5.41 20z\"/>\n",
              "  </svg>\n",
              "      </button>\n",
              "      \n",
              "  <style>\n",
              "    .colab-df-container {\n",
              "      display:flex;\n",
              "      flex-wrap:wrap;\n",
              "      gap: 12px;\n",
              "    }\n",
              "\n",
              "    .colab-df-convert {\n",
              "      background-color: #E8F0FE;\n",
              "      border: none;\n",
              "      border-radius: 50%;\n",
              "      cursor: pointer;\n",
              "      display: none;\n",
              "      fill: #1967D2;\n",
              "      height: 32px;\n",
              "      padding: 0 0 0 0;\n",
              "      width: 32px;\n",
              "    }\n",
              "\n",
              "    .colab-df-convert:hover {\n",
              "      background-color: #E2EBFA;\n",
              "      box-shadow: 0px 1px 2px rgba(60, 64, 67, 0.3), 0px 1px 3px 1px rgba(60, 64, 67, 0.15);\n",
              "      fill: #174EA6;\n",
              "    }\n",
              "\n",
              "    [theme=dark] .colab-df-convert {\n",
              "      background-color: #3B4455;\n",
              "      fill: #D2E3FC;\n",
              "    }\n",
              "\n",
              "    [theme=dark] .colab-df-convert:hover {\n",
              "      background-color: #434B5C;\n",
              "      box-shadow: 0px 1px 3px 1px rgba(0, 0, 0, 0.15);\n",
              "      filter: drop-shadow(0px 1px 2px rgba(0, 0, 0, 0.3));\n",
              "      fill: #FFFFFF;\n",
              "    }\n",
              "  </style>\n",
              "\n",
              "      <script>\n",
              "        const buttonEl =\n",
              "          document.querySelector('#df-5fe15be8-f91d-42e0-bc90-646587749000 button.colab-df-convert');\n",
              "        buttonEl.style.display =\n",
              "          google.colab.kernel.accessAllowed ? 'block' : 'none';\n",
              "\n",
              "        async function convertToInteractive(key) {\n",
              "          const element = document.querySelector('#df-5fe15be8-f91d-42e0-bc90-646587749000');\n",
              "          const dataTable =\n",
              "            await google.colab.kernel.invokeFunction('convertToInteractive',\n",
              "                                                     [key], {});\n",
              "          if (!dataTable) return;\n",
              "\n",
              "          const docLinkHtml = 'Like what you see? Visit the ' +\n",
              "            '<a target=\"_blank\" href=https://colab.research.google.com/notebooks/data_table.ipynb>data table notebook</a>'\n",
              "            + ' to learn more about interactive tables.';\n",
              "          element.innerHTML = '';\n",
              "          dataTable['output_type'] = 'display_data';\n",
              "          await google.colab.output.renderOutput(dataTable, element);\n",
              "          const docLink = document.createElement('div');\n",
              "          docLink.innerHTML = docLinkHtml;\n",
              "          element.appendChild(docLink);\n",
              "        }\n",
              "      </script>\n",
              "    </div>\n",
              "  </div>\n",
              "  "
            ],
            "text/plain": [
              "                        tumor\n",
              "GSM2899558             normal\n",
              "GSM2899559             normal\n",
              "GSM2899560             normal\n",
              "GSM2899561             normal\n",
              "GSM2899562             normal\n",
              "...                       ...\n",
              "GSM97949    oligodendroglioma\n",
              "GSM97956    oligodendroglioma\n",
              "GSM97962    oligodendroglioma\n",
              "GSM97964    oligodendroglioma\n",
              "GSM97970    oligodendroglioma\n",
              "\n",
              "[168 rows x 1 columns]"
            ]
          },
          "execution_count": 2,
          "metadata": {},
          "output_type": "execute_result"
        }
      ],
      "source": [
        "metadata = pd.read_csv('interesting_metadata_for_oligo_vs_normal.csv')\n",
        "metadata = metadata[[\"Unnamed: 0\", \"tumor\"]]\n",
        "metadata.rename(columns={'Unnamed: 0':'sample_name'}, inplace=True)\n",
        "metadata = metadata.set_index('sample_name', drop=False).rename_axis(None)\n",
        "metadata = metadata.iloc[: , 1:]\n",
        "metadata"
      ]
    },
    {
      "cell_type": "code",
      "execution_count": null,
      "metadata": {
        "colab": {
          "base_uri": "https://localhost:8080/"
        },
        "id": "82_RDo9swoI_",
        "outputId": "ec6dcbd5-2aa9-4e9d-bed0-f350a1091804"
      },
      "outputs": [
        {
          "data": {
            "text/plain": [
              "oligodendroglioma    117\n",
              "normal                51\n",
              "Name: tumor, dtype: int64"
            ]
          },
          "execution_count": 3,
          "metadata": {},
          "output_type": "execute_result"
        }
      ],
      "source": [
        "metadata[\"tumor\"].value_counts()"
      ]
    },
    {
      "cell_type": "code",
      "execution_count": null,
      "metadata": {
        "colab": {
          "base_uri": "https://localhost:8080/",
          "height": 483
        },
        "id": "FlnFbpmHwqHj",
        "outputId": "234f1e05-f786-4cb9-b3f0-cb0709c65f54"
      },
      "outputs": [
        {
          "data": {
            "text/html": [
              "\n",
              "  <div id=\"df-b93cbe23-f22c-4b4a-b8b8-01c71e07cfdc\">\n",
              "    <div class=\"colab-df-container\">\n",
              "      <div>\n",
              "<style scoped>\n",
              "    .dataframe tbody tr th:only-of-type {\n",
              "        vertical-align: middle;\n",
              "    }\n",
              "\n",
              "    .dataframe tbody tr th {\n",
              "        vertical-align: top;\n",
              "    }\n",
              "\n",
              "    .dataframe thead th {\n",
              "        text-align: right;\n",
              "    }\n",
              "</style>\n",
              "<table border=\"1\" class=\"dataframe\">\n",
              "  <thead>\n",
              "    <tr style=\"text-align: right;\">\n",
              "      <th></th>\n",
              "      <th>tumor</th>\n",
              "      <th>CREG2</th>\n",
              "      <th>SLC39A12</th>\n",
              "      <th>RBFOX1</th>\n",
              "      <th>DNAJA4</th>\n",
              "      <th>OLFM3</th>\n",
              "      <th>OLFM3</th>\n",
              "      <th>MYT1L</th>\n",
              "      <th>PALM2AKAP2</th>\n",
              "      <th>ZNF385B</th>\n",
              "      <th>...</th>\n",
              "      <th>PDE1A</th>\n",
              "      <th>ARHGEF7</th>\n",
              "      <th>KRT222</th>\n",
              "      <th>GABRA1</th>\n",
              "      <th>HTR2A</th>\n",
              "      <th>NaN</th>\n",
              "      <th>NEFH</th>\n",
              "      <th>PHF24</th>\n",
              "      <th>PPP1R16B</th>\n",
              "      <th>FERMT1</th>\n",
              "    </tr>\n",
              "  </thead>\n",
              "  <tbody>\n",
              "    <tr>\n",
              "      <th>GSM2899558</th>\n",
              "      <td>normal</td>\n",
              "      <td>9.851671</td>\n",
              "      <td>8.362494</td>\n",
              "      <td>10.671862</td>\n",
              "      <td>7.018926</td>\n",
              "      <td>8.996324</td>\n",
              "      <td>8.427248</td>\n",
              "      <td>7.591996</td>\n",
              "      <td>7.780938</td>\n",
              "      <td>7.14333</td>\n",
              "      <td>...</td>\n",
              "      <td>7.928691</td>\n",
              "      <td>9.883658</td>\n",
              "      <td>9.042614</td>\n",
              "      <td>10.500672</td>\n",
              "      <td>9.641306</td>\n",
              "      <td>8.402532</td>\n",
              "      <td>9.567037</td>\n",
              "      <td>9.354607</td>\n",
              "      <td>10.082158</td>\n",
              "      <td>7.101034</td>\n",
              "    </tr>\n",
              "    <tr>\n",
              "      <th>GSM2899559</th>\n",
              "      <td>normal</td>\n",
              "      <td>10.004868</td>\n",
              "      <td>8.514118</td>\n",
              "      <td>10.774532</td>\n",
              "      <td>6.265091</td>\n",
              "      <td>9.206954</td>\n",
              "      <td>8.561028</td>\n",
              "      <td>8.66956</td>\n",
              "      <td>7.695347</td>\n",
              "      <td>6.765222</td>\n",
              "      <td>...</td>\n",
              "      <td>8.862359</td>\n",
              "      <td>9.701488</td>\n",
              "      <td>8.098819</td>\n",
              "      <td>10.542419</td>\n",
              "      <td>9.495524</td>\n",
              "      <td>7.767477</td>\n",
              "      <td>8.744901</td>\n",
              "      <td>9.297281</td>\n",
              "      <td>10.151204</td>\n",
              "      <td>7.223274</td>\n",
              "    </tr>\n",
              "    <tr>\n",
              "      <th>GSM2899560</th>\n",
              "      <td>normal</td>\n",
              "      <td>10.082971</td>\n",
              "      <td>8.117597</td>\n",
              "      <td>11.024331</td>\n",
              "      <td>5.668174</td>\n",
              "      <td>9.102236</td>\n",
              "      <td>8.218835</td>\n",
              "      <td>9.025794</td>\n",
              "      <td>7.571697</td>\n",
              "      <td>7.051955</td>\n",
              "      <td>...</td>\n",
              "      <td>8.086636</td>\n",
              "      <td>9.364249</td>\n",
              "      <td>8.018005</td>\n",
              "      <td>10.657301</td>\n",
              "      <td>9.144482</td>\n",
              "      <td>7.002602</td>\n",
              "      <td>9.765754</td>\n",
              "      <td>8.893805</td>\n",
              "      <td>9.825098</td>\n",
              "      <td>6.898798</td>\n",
              "    </tr>\n",
              "    <tr>\n",
              "      <th>GSM2899561</th>\n",
              "      <td>normal</td>\n",
              "      <td>9.613305</td>\n",
              "      <td>8.337773</td>\n",
              "      <td>10.418179</td>\n",
              "      <td>5.534756</td>\n",
              "      <td>8.519577</td>\n",
              "      <td>8.191908</td>\n",
              "      <td>7.66378</td>\n",
              "      <td>7.490396</td>\n",
              "      <td>6.907394</td>\n",
              "      <td>...</td>\n",
              "      <td>8.103343</td>\n",
              "      <td>9.176542</td>\n",
              "      <td>8.369438</td>\n",
              "      <td>9.848985</td>\n",
              "      <td>9.500753</td>\n",
              "      <td>8.079844</td>\n",
              "      <td>9.138567</td>\n",
              "      <td>8.461969</td>\n",
              "      <td>9.779112</td>\n",
              "      <td>7.256169</td>\n",
              "    </tr>\n",
              "    <tr>\n",
              "      <th>GSM2899562</th>\n",
              "      <td>normal</td>\n",
              "      <td>8.457482</td>\n",
              "      <td>8.695391</td>\n",
              "      <td>11.186727</td>\n",
              "      <td>7.716112</td>\n",
              "      <td>8.684439</td>\n",
              "      <td>8.094604</td>\n",
              "      <td>8.846499</td>\n",
              "      <td>8.851955</td>\n",
              "      <td>7.658566</td>\n",
              "      <td>...</td>\n",
              "      <td>8.733817</td>\n",
              "      <td>10.535769</td>\n",
              "      <td>7.323901</td>\n",
              "      <td>11.593391</td>\n",
              "      <td>9.951097</td>\n",
              "      <td>8.282525</td>\n",
              "      <td>9.287942</td>\n",
              "      <td>9.291152</td>\n",
              "      <td>10.651021</td>\n",
              "      <td>7.088356</td>\n",
              "    </tr>\n",
              "    <tr>\n",
              "      <th>...</th>\n",
              "      <td>...</td>\n",
              "      <td>...</td>\n",
              "      <td>...</td>\n",
              "      <td>...</td>\n",
              "      <td>...</td>\n",
              "      <td>...</td>\n",
              "      <td>...</td>\n",
              "      <td>...</td>\n",
              "      <td>...</td>\n",
              "      <td>...</td>\n",
              "      <td>...</td>\n",
              "      <td>...</td>\n",
              "      <td>...</td>\n",
              "      <td>...</td>\n",
              "      <td>...</td>\n",
              "      <td>...</td>\n",
              "      <td>...</td>\n",
              "      <td>...</td>\n",
              "      <td>...</td>\n",
              "      <td>...</td>\n",
              "      <td>...</td>\n",
              "    </tr>\n",
              "    <tr>\n",
              "      <th>GSM97949</th>\n",
              "      <td>oligodendroglioma</td>\n",
              "      <td>9.027686</td>\n",
              "      <td>9.300857</td>\n",
              "      <td>11.115386</td>\n",
              "      <td>6.975324</td>\n",
              "      <td>9.424444</td>\n",
              "      <td>8.94623</td>\n",
              "      <td>9.083982</td>\n",
              "      <td>7.286302</td>\n",
              "      <td>7.863392</td>\n",
              "      <td>...</td>\n",
              "      <td>8.438254</td>\n",
              "      <td>9.75556</td>\n",
              "      <td>8.342702</td>\n",
              "      <td>11.519143</td>\n",
              "      <td>9.686889</td>\n",
              "      <td>8.828929</td>\n",
              "      <td>9.811604</td>\n",
              "      <td>9.091557</td>\n",
              "      <td>10.517268</td>\n",
              "      <td>7.769258</td>\n",
              "    </tr>\n",
              "    <tr>\n",
              "      <th>GSM97956</th>\n",
              "      <td>oligodendroglioma</td>\n",
              "      <td>6.994399</td>\n",
              "      <td>6.047246</td>\n",
              "      <td>8.573914</td>\n",
              "      <td>4.726631</td>\n",
              "      <td>6.26679</td>\n",
              "      <td>5.337717</td>\n",
              "      <td>6.648777</td>\n",
              "      <td>5.483084</td>\n",
              "      <td>5.225153</td>\n",
              "      <td>...</td>\n",
              "      <td>6.362447</td>\n",
              "      <td>8.035177</td>\n",
              "      <td>5.226744</td>\n",
              "      <td>8.096293</td>\n",
              "      <td>8.161451</td>\n",
              "      <td>11.185226</td>\n",
              "      <td>7.276039</td>\n",
              "      <td>6.549953</td>\n",
              "      <td>8.619844</td>\n",
              "      <td>11.390267</td>\n",
              "    </tr>\n",
              "    <tr>\n",
              "      <th>GSM97962</th>\n",
              "      <td>oligodendroglioma</td>\n",
              "      <td>7.67684</td>\n",
              "      <td>6.061922</td>\n",
              "      <td>8.23299</td>\n",
              "      <td>4.665596</td>\n",
              "      <td>5.98233</td>\n",
              "      <td>5.211924</td>\n",
              "      <td>5.478844</td>\n",
              "      <td>5.092967</td>\n",
              "      <td>4.662381</td>\n",
              "      <td>...</td>\n",
              "      <td>6.592222</td>\n",
              "      <td>8.102213</td>\n",
              "      <td>5.208956</td>\n",
              "      <td>7.827442</td>\n",
              "      <td>7.164248</td>\n",
              "      <td>11.299513</td>\n",
              "      <td>7.164679</td>\n",
              "      <td>6.751209</td>\n",
              "      <td>8.282735</td>\n",
              "      <td>11.338484</td>\n",
              "    </tr>\n",
              "    <tr>\n",
              "      <th>GSM97964</th>\n",
              "      <td>oligodendroglioma</td>\n",
              "      <td>6.142205</td>\n",
              "      <td>5.946772</td>\n",
              "      <td>8.656033</td>\n",
              "      <td>5.024079</td>\n",
              "      <td>5.851491</td>\n",
              "      <td>5.35864</td>\n",
              "      <td>7.25225</td>\n",
              "      <td>5.139143</td>\n",
              "      <td>5.072622</td>\n",
              "      <td>...</td>\n",
              "      <td>5.987614</td>\n",
              "      <td>7.60209</td>\n",
              "      <td>5.295106</td>\n",
              "      <td>8.20263</td>\n",
              "      <td>6.381401</td>\n",
              "      <td>10.761082</td>\n",
              "      <td>7.36401</td>\n",
              "      <td>6.643271</td>\n",
              "      <td>8.456142</td>\n",
              "      <td>11.411</td>\n",
              "    </tr>\n",
              "    <tr>\n",
              "      <th>GSM97970</th>\n",
              "      <td>oligodendroglioma</td>\n",
              "      <td>8.185996</td>\n",
              "      <td>7.106446</td>\n",
              "      <td>8.962553</td>\n",
              "      <td>4.979888</td>\n",
              "      <td>6.603919</td>\n",
              "      <td>5.520827</td>\n",
              "      <td>7.590051</td>\n",
              "      <td>6.599276</td>\n",
              "      <td>5.354979</td>\n",
              "      <td>...</td>\n",
              "      <td>6.622328</td>\n",
              "      <td>7.710634</td>\n",
              "      <td>5.625216</td>\n",
              "      <td>9.479509</td>\n",
              "      <td>7.186823</td>\n",
              "      <td>11.201734</td>\n",
              "      <td>8.498796</td>\n",
              "      <td>7.023992</td>\n",
              "      <td>8.768752</td>\n",
              "      <td>10.412549</td>\n",
              "    </tr>\n",
              "  </tbody>\n",
              "</table>\n",
              "<p>168 rows × 372 columns</p>\n",
              "</div>\n",
              "      <button class=\"colab-df-convert\" onclick=\"convertToInteractive('df-b93cbe23-f22c-4b4a-b8b8-01c71e07cfdc')\"\n",
              "              title=\"Convert this dataframe to an interactive table.\"\n",
              "              style=\"display:none;\">\n",
              "        \n",
              "  <svg xmlns=\"http://www.w3.org/2000/svg\" height=\"24px\"viewBox=\"0 0 24 24\"\n",
              "       width=\"24px\">\n",
              "    <path d=\"M0 0h24v24H0V0z\" fill=\"none\"/>\n",
              "    <path d=\"M18.56 5.44l.94 2.06.94-2.06 2.06-.94-2.06-.94-.94-2.06-.94 2.06-2.06.94zm-11 1L8.5 8.5l.94-2.06 2.06-.94-2.06-.94L8.5 2.5l-.94 2.06-2.06.94zm10 10l.94 2.06.94-2.06 2.06-.94-2.06-.94-.94-2.06-.94 2.06-2.06.94z\"/><path d=\"M17.41 7.96l-1.37-1.37c-.4-.4-.92-.59-1.43-.59-.52 0-1.04.2-1.43.59L10.3 9.45l-7.72 7.72c-.78.78-.78 2.05 0 2.83L4 21.41c.39.39.9.59 1.41.59.51 0 1.02-.2 1.41-.59l7.78-7.78 2.81-2.81c.8-.78.8-2.07 0-2.86zM5.41 20L4 18.59l7.72-7.72 1.47 1.35L5.41 20z\"/>\n",
              "  </svg>\n",
              "      </button>\n",
              "      \n",
              "  <style>\n",
              "    .colab-df-container {\n",
              "      display:flex;\n",
              "      flex-wrap:wrap;\n",
              "      gap: 12px;\n",
              "    }\n",
              "\n",
              "    .colab-df-convert {\n",
              "      background-color: #E8F0FE;\n",
              "      border: none;\n",
              "      border-radius: 50%;\n",
              "      cursor: pointer;\n",
              "      display: none;\n",
              "      fill: #1967D2;\n",
              "      height: 32px;\n",
              "      padding: 0 0 0 0;\n",
              "      width: 32px;\n",
              "    }\n",
              "\n",
              "    .colab-df-convert:hover {\n",
              "      background-color: #E2EBFA;\n",
              "      box-shadow: 0px 1px 2px rgba(60, 64, 67, 0.3), 0px 1px 3px 1px rgba(60, 64, 67, 0.15);\n",
              "      fill: #174EA6;\n",
              "    }\n",
              "\n",
              "    [theme=dark] .colab-df-convert {\n",
              "      background-color: #3B4455;\n",
              "      fill: #D2E3FC;\n",
              "    }\n",
              "\n",
              "    [theme=dark] .colab-df-convert:hover {\n",
              "      background-color: #434B5C;\n",
              "      box-shadow: 0px 1px 3px 1px rgba(0, 0, 0, 0.15);\n",
              "      filter: drop-shadow(0px 1px 2px rgba(0, 0, 0, 0.3));\n",
              "      fill: #FFFFFF;\n",
              "    }\n",
              "  </style>\n",
              "\n",
              "      <script>\n",
              "        const buttonEl =\n",
              "          document.querySelector('#df-b93cbe23-f22c-4b4a-b8b8-01c71e07cfdc button.colab-df-convert');\n",
              "        buttonEl.style.display =\n",
              "          google.colab.kernel.accessAllowed ? 'block' : 'none';\n",
              "\n",
              "        async function convertToInteractive(key) {\n",
              "          const element = document.querySelector('#df-b93cbe23-f22c-4b4a-b8b8-01c71e07cfdc');\n",
              "          const dataTable =\n",
              "            await google.colab.kernel.invokeFunction('convertToInteractive',\n",
              "                                                     [key], {});\n",
              "          if (!dataTable) return;\n",
              "\n",
              "          const docLinkHtml = 'Like what you see? Visit the ' +\n",
              "            '<a target=\"_blank\" href=https://colab.research.google.com/notebooks/data_table.ipynb>data table notebook</a>'\n",
              "            + ' to learn more about interactive tables.';\n",
              "          element.innerHTML = '';\n",
              "          dataTable['output_type'] = 'display_data';\n",
              "          await google.colab.output.renderOutput(dataTable, element);\n",
              "          const docLink = document.createElement('div');\n",
              "          docLink.innerHTML = docLinkHtml;\n",
              "          element.appendChild(docLink);\n",
              "        }\n",
              "      </script>\n",
              "    </div>\n",
              "  </div>\n",
              "  "
            ],
            "text/plain": [
              "                        tumor      CREG2  SLC39A12     RBFOX1    DNAJA4  \\\n",
              "GSM2899558             normal   9.851671  8.362494  10.671862  7.018926   \n",
              "GSM2899559             normal  10.004868  8.514118  10.774532  6.265091   \n",
              "GSM2899560             normal  10.082971  8.117597  11.024331  5.668174   \n",
              "GSM2899561             normal   9.613305  8.337773  10.418179  5.534756   \n",
              "GSM2899562             normal   8.457482  8.695391  11.186727  7.716112   \n",
              "...                       ...        ...       ...        ...       ...   \n",
              "GSM97949    oligodendroglioma   9.027686  9.300857  11.115386  6.975324   \n",
              "GSM97956    oligodendroglioma   6.994399  6.047246   8.573914  4.726631   \n",
              "GSM97962    oligodendroglioma    7.67684  6.061922    8.23299  4.665596   \n",
              "GSM97964    oligodendroglioma   6.142205  5.946772   8.656033  5.024079   \n",
              "GSM97970    oligodendroglioma   8.185996  7.106446   8.962553  4.979888   \n",
              "\n",
              "               OLFM3     OLFM3     MYT1L PALM2AKAP2   ZNF385B  ...     PDE1A  \\\n",
              "GSM2899558  8.996324  8.427248  7.591996   7.780938   7.14333  ...  7.928691   \n",
              "GSM2899559  9.206954  8.561028   8.66956   7.695347  6.765222  ...  8.862359   \n",
              "GSM2899560  9.102236  8.218835  9.025794   7.571697  7.051955  ...  8.086636   \n",
              "GSM2899561  8.519577  8.191908   7.66378   7.490396  6.907394  ...  8.103343   \n",
              "GSM2899562  8.684439  8.094604  8.846499   8.851955  7.658566  ...  8.733817   \n",
              "...              ...       ...       ...        ...       ...  ...       ...   \n",
              "GSM97949    9.424444   8.94623  9.083982   7.286302  7.863392  ...  8.438254   \n",
              "GSM97956     6.26679  5.337717  6.648777   5.483084  5.225153  ...  6.362447   \n",
              "GSM97962     5.98233  5.211924  5.478844   5.092967  4.662381  ...  6.592222   \n",
              "GSM97964    5.851491   5.35864   7.25225   5.139143  5.072622  ...  5.987614   \n",
              "GSM97970    6.603919  5.520827  7.590051   6.599276  5.354979  ...  6.622328   \n",
              "\n",
              "              ARHGEF7    KRT222     GABRA1     HTR2A        NaN      NEFH  \\\n",
              "GSM2899558   9.883658  9.042614  10.500672  9.641306   8.402532  9.567037   \n",
              "GSM2899559   9.701488  8.098819  10.542419  9.495524   7.767477  8.744901   \n",
              "GSM2899560   9.364249  8.018005  10.657301  9.144482   7.002602  9.765754   \n",
              "GSM2899561   9.176542  8.369438   9.848985  9.500753   8.079844  9.138567   \n",
              "GSM2899562  10.535769  7.323901  11.593391  9.951097   8.282525  9.287942   \n",
              "...               ...       ...        ...       ...        ...       ...   \n",
              "GSM97949      9.75556  8.342702  11.519143  9.686889   8.828929  9.811604   \n",
              "GSM97956     8.035177  5.226744   8.096293  8.161451  11.185226  7.276039   \n",
              "GSM97962     8.102213  5.208956   7.827442  7.164248  11.299513  7.164679   \n",
              "GSM97964      7.60209  5.295106    8.20263  6.381401  10.761082   7.36401   \n",
              "GSM97970     7.710634  5.625216   9.479509  7.186823  11.201734  8.498796   \n",
              "\n",
              "               PHF24   PPP1R16B     FERMT1  \n",
              "GSM2899558  9.354607  10.082158   7.101034  \n",
              "GSM2899559  9.297281  10.151204   7.223274  \n",
              "GSM2899560  8.893805   9.825098   6.898798  \n",
              "GSM2899561  8.461969   9.779112   7.256169  \n",
              "GSM2899562  9.291152  10.651021   7.088356  \n",
              "...              ...        ...        ...  \n",
              "GSM97949    9.091557  10.517268   7.769258  \n",
              "GSM97956    6.549953   8.619844  11.390267  \n",
              "GSM97962    6.751209   8.282735  11.338484  \n",
              "GSM97964    6.643271   8.456142     11.411  \n",
              "GSM97970    7.023992   8.768752  10.412549  \n",
              "\n",
              "[168 rows x 372 columns]"
            ]
          },
          "execution_count": 4,
          "metadata": {},
          "output_type": "execute_result"
        }
      ],
      "source": [
        "df = pd.read_csv('interesting_genes_expressions_for_oligo_vs_normal.csv')\n",
        "df = df.drop(columns={'Unnamed: 0'})\n",
        "df_transposed = df.T\n",
        "df_transposed = df_transposed.rename(columns=df_transposed.iloc[168])\n",
        "df_transposed.drop(index=df_transposed.index[168], \n",
        "        axis=0, \n",
        "        inplace=True)\n",
        "frames = [metadata, df_transposed]\n",
        "df = pd.concat(frames, axis=1)\n",
        "df"
      ]
    },
    {
      "cell_type": "code",
      "execution_count": null,
      "metadata": {
        "colab": {
          "base_uri": "https://localhost:8080/"
        },
        "id": "VRg2VC86wxt_",
        "outputId": "0545e9c1-7600-49f5-a42f-2fa29af92f6d"
      },
      "outputs": [
        {
          "data": {
            "text/plain": [
              "tumor       0\n",
              "CREG2       0\n",
              "SLC39A12    0\n",
              "RBFOX1      0\n",
              "DNAJA4      0\n",
              "           ..\n",
              "NaN         0\n",
              "NEFH        0\n",
              "PHF24       0\n",
              "PPP1R16B    0\n",
              "FERMT1      0\n",
              "Length: 372, dtype: int64"
            ]
          },
          "execution_count": 5,
          "metadata": {},
          "output_type": "execute_result"
        }
      ],
      "source": [
        "df.isnull().sum()"
      ]
    },
    {
      "cell_type": "code",
      "execution_count": null,
      "metadata": {
        "colab": {
          "base_uri": "https://localhost:8080/"
        },
        "id": "hOBxeJK7w0RA",
        "outputId": "87be0203-c394-4f57-cc94-ffc9261514f5"
      },
      "outputs": [
        {
          "name": "stdout",
          "output_type": "stream",
          "text": [
            "Missing values:  0\n"
          ]
        }
      ],
      "source": [
        "print('Missing values: ',sum(df.isnull().sum()))"
      ]
    },
    {
      "cell_type": "code",
      "execution_count": null,
      "metadata": {
        "id": "0It7omXfw4yb"
      },
      "outputs": [],
      "source": [
        "# Encoding categorical values\n",
        "\n",
        "df['tumor'] = df['tumor'].replace({'normal':0,'oligodendroglioma':1,'Other':-1}).astype(np.uint8)"
      ]
    },
    {
      "cell_type": "code",
      "execution_count": null,
      "metadata": {
        "colab": {
          "base_uri": "https://localhost:8080/"
        },
        "id": "u8N1-dzsxLSL",
        "outputId": "e29340ca-98c6-4f62-efae-eb0b01525387"
      },
      "outputs": [
        {
          "name": "stdout",
          "output_type": "stream",
          "text": [
            "Inverse of Null Accuracy:  0.30357142857142855\n",
            "Null Accuracy:  0.6964285714285714\n"
          ]
        }
      ],
      "source": [
        "# Inverse of Null Accuracy\n",
        "print('Inverse of Null Accuracy: ',51/(51+117))\n",
        "print('Null Accuracy: ',117/(117+51))"
      ]
    },
    {
      "cell_type": "code",
      "execution_count": null,
      "metadata": {
        "colab": {
          "base_uri": "https://localhost:8080/",
          "height": 483
        },
        "id": "SkbQjAnsx-GJ",
        "outputId": "ee1f3f27-67bd-4cd9-bc9b-e1b907a93b09"
      },
      "outputs": [
        {
          "data": {
            "text/html": [
              "\n",
              "  <div id=\"df-f692a255-7c3f-4d75-b55e-9a39d4500216\">\n",
              "    <div class=\"colab-df-container\">\n",
              "      <div>\n",
              "<style scoped>\n",
              "    .dataframe tbody tr th:only-of-type {\n",
              "        vertical-align: middle;\n",
              "    }\n",
              "\n",
              "    .dataframe tbody tr th {\n",
              "        vertical-align: top;\n",
              "    }\n",
              "\n",
              "    .dataframe thead th {\n",
              "        text-align: right;\n",
              "    }\n",
              "</style>\n",
              "<table border=\"1\" class=\"dataframe\">\n",
              "  <thead>\n",
              "    <tr style=\"text-align: right;\">\n",
              "      <th></th>\n",
              "      <th>index</th>\n",
              "      <th>tumor</th>\n",
              "      <th>CREG2</th>\n",
              "      <th>SLC39A12</th>\n",
              "      <th>RBFOX1</th>\n",
              "      <th>DNAJA4</th>\n",
              "      <th>OLFM3</th>\n",
              "      <th>OLFM3</th>\n",
              "      <th>MYT1L</th>\n",
              "      <th>PALM2AKAP2</th>\n",
              "      <th>...</th>\n",
              "      <th>PDE1A</th>\n",
              "      <th>ARHGEF7</th>\n",
              "      <th>KRT222</th>\n",
              "      <th>GABRA1</th>\n",
              "      <th>HTR2A</th>\n",
              "      <th>NaN</th>\n",
              "      <th>NEFH</th>\n",
              "      <th>PHF24</th>\n",
              "      <th>PPP1R16B</th>\n",
              "      <th>FERMT1</th>\n",
              "    </tr>\n",
              "  </thead>\n",
              "  <tbody>\n",
              "    <tr>\n",
              "      <th>0</th>\n",
              "      <td>GSM2899558</td>\n",
              "      <td>0</td>\n",
              "      <td>9.851671</td>\n",
              "      <td>8.362494</td>\n",
              "      <td>10.671862</td>\n",
              "      <td>7.018926</td>\n",
              "      <td>8.996324</td>\n",
              "      <td>8.427248</td>\n",
              "      <td>7.591996</td>\n",
              "      <td>7.780938</td>\n",
              "      <td>...</td>\n",
              "      <td>7.928691</td>\n",
              "      <td>9.883658</td>\n",
              "      <td>9.042614</td>\n",
              "      <td>10.500672</td>\n",
              "      <td>9.641306</td>\n",
              "      <td>8.402532</td>\n",
              "      <td>9.567037</td>\n",
              "      <td>9.354607</td>\n",
              "      <td>10.082158</td>\n",
              "      <td>7.101034</td>\n",
              "    </tr>\n",
              "    <tr>\n",
              "      <th>1</th>\n",
              "      <td>GSM2899559</td>\n",
              "      <td>0</td>\n",
              "      <td>10.004868</td>\n",
              "      <td>8.514118</td>\n",
              "      <td>10.774532</td>\n",
              "      <td>6.265091</td>\n",
              "      <td>9.206954</td>\n",
              "      <td>8.561028</td>\n",
              "      <td>8.66956</td>\n",
              "      <td>7.695347</td>\n",
              "      <td>...</td>\n",
              "      <td>8.862359</td>\n",
              "      <td>9.701488</td>\n",
              "      <td>8.098819</td>\n",
              "      <td>10.542419</td>\n",
              "      <td>9.495524</td>\n",
              "      <td>7.767477</td>\n",
              "      <td>8.744901</td>\n",
              "      <td>9.297281</td>\n",
              "      <td>10.151204</td>\n",
              "      <td>7.223274</td>\n",
              "    </tr>\n",
              "    <tr>\n",
              "      <th>2</th>\n",
              "      <td>GSM2899560</td>\n",
              "      <td>0</td>\n",
              "      <td>10.082971</td>\n",
              "      <td>8.117597</td>\n",
              "      <td>11.024331</td>\n",
              "      <td>5.668174</td>\n",
              "      <td>9.102236</td>\n",
              "      <td>8.218835</td>\n",
              "      <td>9.025794</td>\n",
              "      <td>7.571697</td>\n",
              "      <td>...</td>\n",
              "      <td>8.086636</td>\n",
              "      <td>9.364249</td>\n",
              "      <td>8.018005</td>\n",
              "      <td>10.657301</td>\n",
              "      <td>9.144482</td>\n",
              "      <td>7.002602</td>\n",
              "      <td>9.765754</td>\n",
              "      <td>8.893805</td>\n",
              "      <td>9.825098</td>\n",
              "      <td>6.898798</td>\n",
              "    </tr>\n",
              "    <tr>\n",
              "      <th>3</th>\n",
              "      <td>GSM2899561</td>\n",
              "      <td>0</td>\n",
              "      <td>9.613305</td>\n",
              "      <td>8.337773</td>\n",
              "      <td>10.418179</td>\n",
              "      <td>5.534756</td>\n",
              "      <td>8.519577</td>\n",
              "      <td>8.191908</td>\n",
              "      <td>7.66378</td>\n",
              "      <td>7.490396</td>\n",
              "      <td>...</td>\n",
              "      <td>8.103343</td>\n",
              "      <td>9.176542</td>\n",
              "      <td>8.369438</td>\n",
              "      <td>9.848985</td>\n",
              "      <td>9.500753</td>\n",
              "      <td>8.079844</td>\n",
              "      <td>9.138567</td>\n",
              "      <td>8.461969</td>\n",
              "      <td>9.779112</td>\n",
              "      <td>7.256169</td>\n",
              "    </tr>\n",
              "    <tr>\n",
              "      <th>4</th>\n",
              "      <td>GSM2899562</td>\n",
              "      <td>0</td>\n",
              "      <td>8.457482</td>\n",
              "      <td>8.695391</td>\n",
              "      <td>11.186727</td>\n",
              "      <td>7.716112</td>\n",
              "      <td>8.684439</td>\n",
              "      <td>8.094604</td>\n",
              "      <td>8.846499</td>\n",
              "      <td>8.851955</td>\n",
              "      <td>...</td>\n",
              "      <td>8.733817</td>\n",
              "      <td>10.535769</td>\n",
              "      <td>7.323901</td>\n",
              "      <td>11.593391</td>\n",
              "      <td>9.951097</td>\n",
              "      <td>8.282525</td>\n",
              "      <td>9.287942</td>\n",
              "      <td>9.291152</td>\n",
              "      <td>10.651021</td>\n",
              "      <td>7.088356</td>\n",
              "    </tr>\n",
              "    <tr>\n",
              "      <th>...</th>\n",
              "      <td>...</td>\n",
              "      <td>...</td>\n",
              "      <td>...</td>\n",
              "      <td>...</td>\n",
              "      <td>...</td>\n",
              "      <td>...</td>\n",
              "      <td>...</td>\n",
              "      <td>...</td>\n",
              "      <td>...</td>\n",
              "      <td>...</td>\n",
              "      <td>...</td>\n",
              "      <td>...</td>\n",
              "      <td>...</td>\n",
              "      <td>...</td>\n",
              "      <td>...</td>\n",
              "      <td>...</td>\n",
              "      <td>...</td>\n",
              "      <td>...</td>\n",
              "      <td>...</td>\n",
              "      <td>...</td>\n",
              "      <td>...</td>\n",
              "    </tr>\n",
              "    <tr>\n",
              "      <th>163</th>\n",
              "      <td>GSM97949</td>\n",
              "      <td>1</td>\n",
              "      <td>9.027686</td>\n",
              "      <td>9.300857</td>\n",
              "      <td>11.115386</td>\n",
              "      <td>6.975324</td>\n",
              "      <td>9.424444</td>\n",
              "      <td>8.94623</td>\n",
              "      <td>9.083982</td>\n",
              "      <td>7.286302</td>\n",
              "      <td>...</td>\n",
              "      <td>8.438254</td>\n",
              "      <td>9.75556</td>\n",
              "      <td>8.342702</td>\n",
              "      <td>11.519143</td>\n",
              "      <td>9.686889</td>\n",
              "      <td>8.828929</td>\n",
              "      <td>9.811604</td>\n",
              "      <td>9.091557</td>\n",
              "      <td>10.517268</td>\n",
              "      <td>7.769258</td>\n",
              "    </tr>\n",
              "    <tr>\n",
              "      <th>164</th>\n",
              "      <td>GSM97956</td>\n",
              "      <td>1</td>\n",
              "      <td>6.994399</td>\n",
              "      <td>6.047246</td>\n",
              "      <td>8.573914</td>\n",
              "      <td>4.726631</td>\n",
              "      <td>6.26679</td>\n",
              "      <td>5.337717</td>\n",
              "      <td>6.648777</td>\n",
              "      <td>5.483084</td>\n",
              "      <td>...</td>\n",
              "      <td>6.362447</td>\n",
              "      <td>8.035177</td>\n",
              "      <td>5.226744</td>\n",
              "      <td>8.096293</td>\n",
              "      <td>8.161451</td>\n",
              "      <td>11.185226</td>\n",
              "      <td>7.276039</td>\n",
              "      <td>6.549953</td>\n",
              "      <td>8.619844</td>\n",
              "      <td>11.390267</td>\n",
              "    </tr>\n",
              "    <tr>\n",
              "      <th>165</th>\n",
              "      <td>GSM97962</td>\n",
              "      <td>1</td>\n",
              "      <td>7.67684</td>\n",
              "      <td>6.061922</td>\n",
              "      <td>8.23299</td>\n",
              "      <td>4.665596</td>\n",
              "      <td>5.98233</td>\n",
              "      <td>5.211924</td>\n",
              "      <td>5.478844</td>\n",
              "      <td>5.092967</td>\n",
              "      <td>...</td>\n",
              "      <td>6.592222</td>\n",
              "      <td>8.102213</td>\n",
              "      <td>5.208956</td>\n",
              "      <td>7.827442</td>\n",
              "      <td>7.164248</td>\n",
              "      <td>11.299513</td>\n",
              "      <td>7.164679</td>\n",
              "      <td>6.751209</td>\n",
              "      <td>8.282735</td>\n",
              "      <td>11.338484</td>\n",
              "    </tr>\n",
              "    <tr>\n",
              "      <th>166</th>\n",
              "      <td>GSM97964</td>\n",
              "      <td>1</td>\n",
              "      <td>6.142205</td>\n",
              "      <td>5.946772</td>\n",
              "      <td>8.656033</td>\n",
              "      <td>5.024079</td>\n",
              "      <td>5.851491</td>\n",
              "      <td>5.35864</td>\n",
              "      <td>7.25225</td>\n",
              "      <td>5.139143</td>\n",
              "      <td>...</td>\n",
              "      <td>5.987614</td>\n",
              "      <td>7.60209</td>\n",
              "      <td>5.295106</td>\n",
              "      <td>8.20263</td>\n",
              "      <td>6.381401</td>\n",
              "      <td>10.761082</td>\n",
              "      <td>7.36401</td>\n",
              "      <td>6.643271</td>\n",
              "      <td>8.456142</td>\n",
              "      <td>11.411</td>\n",
              "    </tr>\n",
              "    <tr>\n",
              "      <th>167</th>\n",
              "      <td>GSM97970</td>\n",
              "      <td>1</td>\n",
              "      <td>8.185996</td>\n",
              "      <td>7.106446</td>\n",
              "      <td>8.962553</td>\n",
              "      <td>4.979888</td>\n",
              "      <td>6.603919</td>\n",
              "      <td>5.520827</td>\n",
              "      <td>7.590051</td>\n",
              "      <td>6.599276</td>\n",
              "      <td>...</td>\n",
              "      <td>6.622328</td>\n",
              "      <td>7.710634</td>\n",
              "      <td>5.625216</td>\n",
              "      <td>9.479509</td>\n",
              "      <td>7.186823</td>\n",
              "      <td>11.201734</td>\n",
              "      <td>8.498796</td>\n",
              "      <td>7.023992</td>\n",
              "      <td>8.768752</td>\n",
              "      <td>10.412549</td>\n",
              "    </tr>\n",
              "  </tbody>\n",
              "</table>\n",
              "<p>168 rows × 373 columns</p>\n",
              "</div>\n",
              "      <button class=\"colab-df-convert\" onclick=\"convertToInteractive('df-f692a255-7c3f-4d75-b55e-9a39d4500216')\"\n",
              "              title=\"Convert this dataframe to an interactive table.\"\n",
              "              style=\"display:none;\">\n",
              "        \n",
              "  <svg xmlns=\"http://www.w3.org/2000/svg\" height=\"24px\"viewBox=\"0 0 24 24\"\n",
              "       width=\"24px\">\n",
              "    <path d=\"M0 0h24v24H0V0z\" fill=\"none\"/>\n",
              "    <path d=\"M18.56 5.44l.94 2.06.94-2.06 2.06-.94-2.06-.94-.94-2.06-.94 2.06-2.06.94zm-11 1L8.5 8.5l.94-2.06 2.06-.94-2.06-.94L8.5 2.5l-.94 2.06-2.06.94zm10 10l.94 2.06.94-2.06 2.06-.94-2.06-.94-.94-2.06-.94 2.06-2.06.94z\"/><path d=\"M17.41 7.96l-1.37-1.37c-.4-.4-.92-.59-1.43-.59-.52 0-1.04.2-1.43.59L10.3 9.45l-7.72 7.72c-.78.78-.78 2.05 0 2.83L4 21.41c.39.39.9.59 1.41.59.51 0 1.02-.2 1.41-.59l7.78-7.78 2.81-2.81c.8-.78.8-2.07 0-2.86zM5.41 20L4 18.59l7.72-7.72 1.47 1.35L5.41 20z\"/>\n",
              "  </svg>\n",
              "      </button>\n",
              "      \n",
              "  <style>\n",
              "    .colab-df-container {\n",
              "      display:flex;\n",
              "      flex-wrap:wrap;\n",
              "      gap: 12px;\n",
              "    }\n",
              "\n",
              "    .colab-df-convert {\n",
              "      background-color: #E8F0FE;\n",
              "      border: none;\n",
              "      border-radius: 50%;\n",
              "      cursor: pointer;\n",
              "      display: none;\n",
              "      fill: #1967D2;\n",
              "      height: 32px;\n",
              "      padding: 0 0 0 0;\n",
              "      width: 32px;\n",
              "    }\n",
              "\n",
              "    .colab-df-convert:hover {\n",
              "      background-color: #E2EBFA;\n",
              "      box-shadow: 0px 1px 2px rgba(60, 64, 67, 0.3), 0px 1px 3px 1px rgba(60, 64, 67, 0.15);\n",
              "      fill: #174EA6;\n",
              "    }\n",
              "\n",
              "    [theme=dark] .colab-df-convert {\n",
              "      background-color: #3B4455;\n",
              "      fill: #D2E3FC;\n",
              "    }\n",
              "\n",
              "    [theme=dark] .colab-df-convert:hover {\n",
              "      background-color: #434B5C;\n",
              "      box-shadow: 0px 1px 3px 1px rgba(0, 0, 0, 0.15);\n",
              "      filter: drop-shadow(0px 1px 2px rgba(0, 0, 0, 0.3));\n",
              "      fill: #FFFFFF;\n",
              "    }\n",
              "  </style>\n",
              "\n",
              "      <script>\n",
              "        const buttonEl =\n",
              "          document.querySelector('#df-f692a255-7c3f-4d75-b55e-9a39d4500216 button.colab-df-convert');\n",
              "        buttonEl.style.display =\n",
              "          google.colab.kernel.accessAllowed ? 'block' : 'none';\n",
              "\n",
              "        async function convertToInteractive(key) {\n",
              "          const element = document.querySelector('#df-f692a255-7c3f-4d75-b55e-9a39d4500216');\n",
              "          const dataTable =\n",
              "            await google.colab.kernel.invokeFunction('convertToInteractive',\n",
              "                                                     [key], {});\n",
              "          if (!dataTable) return;\n",
              "\n",
              "          const docLinkHtml = 'Like what you see? Visit the ' +\n",
              "            '<a target=\"_blank\" href=https://colab.research.google.com/notebooks/data_table.ipynb>data table notebook</a>'\n",
              "            + ' to learn more about interactive tables.';\n",
              "          element.innerHTML = '';\n",
              "          dataTable['output_type'] = 'display_data';\n",
              "          await google.colab.output.renderOutput(dataTable, element);\n",
              "          const docLink = document.createElement('div');\n",
              "          docLink.innerHTML = docLinkHtml;\n",
              "          element.appendChild(docLink);\n",
              "        }\n",
              "      </script>\n",
              "    </div>\n",
              "  </div>\n",
              "  "
            ],
            "text/plain": [
              "          index  tumor      CREG2  SLC39A12     RBFOX1    DNAJA4     OLFM3  \\\n",
              "0    GSM2899558      0   9.851671  8.362494  10.671862  7.018926  8.996324   \n",
              "1    GSM2899559      0  10.004868  8.514118  10.774532  6.265091  9.206954   \n",
              "2    GSM2899560      0  10.082971  8.117597  11.024331  5.668174  9.102236   \n",
              "3    GSM2899561      0   9.613305  8.337773  10.418179  5.534756  8.519577   \n",
              "4    GSM2899562      0   8.457482  8.695391  11.186727  7.716112  8.684439   \n",
              "..          ...    ...        ...       ...        ...       ...       ...   \n",
              "163    GSM97949      1   9.027686  9.300857  11.115386  6.975324  9.424444   \n",
              "164    GSM97956      1   6.994399  6.047246   8.573914  4.726631   6.26679   \n",
              "165    GSM97962      1    7.67684  6.061922    8.23299  4.665596   5.98233   \n",
              "166    GSM97964      1   6.142205  5.946772   8.656033  5.024079  5.851491   \n",
              "167    GSM97970      1   8.185996  7.106446   8.962553  4.979888  6.603919   \n",
              "\n",
              "        OLFM3     MYT1L PALM2AKAP2  ...     PDE1A    ARHGEF7    KRT222  \\\n",
              "0    8.427248  7.591996   7.780938  ...  7.928691   9.883658  9.042614   \n",
              "1    8.561028   8.66956   7.695347  ...  8.862359   9.701488  8.098819   \n",
              "2    8.218835  9.025794   7.571697  ...  8.086636   9.364249  8.018005   \n",
              "3    8.191908   7.66378   7.490396  ...  8.103343   9.176542  8.369438   \n",
              "4    8.094604  8.846499   8.851955  ...  8.733817  10.535769  7.323901   \n",
              "..        ...       ...        ...  ...       ...        ...       ...   \n",
              "163   8.94623  9.083982   7.286302  ...  8.438254    9.75556  8.342702   \n",
              "164  5.337717  6.648777   5.483084  ...  6.362447   8.035177  5.226744   \n",
              "165  5.211924  5.478844   5.092967  ...  6.592222   8.102213  5.208956   \n",
              "166   5.35864   7.25225   5.139143  ...  5.987614    7.60209  5.295106   \n",
              "167  5.520827  7.590051   6.599276  ...  6.622328   7.710634  5.625216   \n",
              "\n",
              "        GABRA1     HTR2A        NaN      NEFH     PHF24   PPP1R16B     FERMT1  \n",
              "0    10.500672  9.641306   8.402532  9.567037  9.354607  10.082158   7.101034  \n",
              "1    10.542419  9.495524   7.767477  8.744901  9.297281  10.151204   7.223274  \n",
              "2    10.657301  9.144482   7.002602  9.765754  8.893805   9.825098   6.898798  \n",
              "3     9.848985  9.500753   8.079844  9.138567  8.461969   9.779112   7.256169  \n",
              "4    11.593391  9.951097   8.282525  9.287942  9.291152  10.651021   7.088356  \n",
              "..         ...       ...        ...       ...       ...        ...        ...  \n",
              "163  11.519143  9.686889   8.828929  9.811604  9.091557  10.517268   7.769258  \n",
              "164   8.096293  8.161451  11.185226  7.276039  6.549953   8.619844  11.390267  \n",
              "165   7.827442  7.164248  11.299513  7.164679  6.751209   8.282735  11.338484  \n",
              "166    8.20263  6.381401  10.761082   7.36401  6.643271   8.456142     11.411  \n",
              "167   9.479509  7.186823  11.201734  8.498796  7.023992   8.768752  10.412549  \n",
              "\n",
              "[168 rows x 373 columns]"
            ]
          },
          "execution_count": 9,
          "metadata": {},
          "output_type": "execute_result"
        }
      ],
      "source": [
        "df.reset_index(inplace=True)\n",
        "df"
      ]
    },
    {
      "cell_type": "code",
      "execution_count": null,
      "metadata": {
        "id": "J6zpHU7Zxv_O"
      },
      "outputs": [],
      "source": [
        "X = df.drop(['tumor', 'index'], axis=1)\n",
        "y = df['tumor']\n",
        "\n",
        "from sklearn.model_selection import train_test_split\n",
        "\n",
        "X_train, X_test, y_train, y_test = train_test_split(X, y, train_size=0.3, random_state=42)"
      ]
    },
    {
      "cell_type": "code",
      "execution_count": null,
      "metadata": {
        "id": "OHMHFaz-yL45"
      },
      "outputs": [],
      "source": [
        "from sklearn.pipeline import Pipeline\n",
        "from sklearn.preprocessing import StandardScaler\n",
        "from sklearn.ensemble import RandomForestClassifier\n",
        "from sklearn.svm import SVC\n",
        "from sklearn.linear_model import LogisticRegression\n",
        "from sklearn.neighbors import KNeighborsClassifier\n",
        "from sklearn.tree import DecisionTreeClassifier\n",
        "from sklearn.neural_network import MLPClassifier\n",
        "\n",
        "# Models\n",
        "\n",
        "# Scale our data in pipeline, then split\n",
        "\n",
        "rf_pipeline = Pipeline(steps = [('scale',StandardScaler()),('RF',RandomForestClassifier(random_state=42))])\n",
        "svm_pipeline = Pipeline(steps = [('scale',StandardScaler()),('SVM',SVC(random_state=42))])\n",
        "logreg_pipeline = Pipeline(steps = [('scale',StandardScaler()),('LR',LogisticRegression(random_state=42))])\n",
        "knn_pipeline = Pipeline(steps = [('scale',StandardScaler()),('KNN',KNeighborsClassifier())])\n",
        "dt_pipeline = Pipeline(steps = [('scale',StandardScaler()),('DT',DecisionTreeClassifier())])\n",
        "nn_pipeline = Pipeline(steps = [('scale',StandardScaler()),('NN',MLPClassifier())])"
      ]
    },
    {
      "cell_type": "code",
      "execution_count": null,
      "metadata": {
        "id": "egCbD5nWzKLb"
      },
      "outputs": [],
      "source": [
        "import warnings\n",
        "warnings.filterwarnings(\"ignore\")\n",
        "\n",
        "from sklearn.model_selection import cross_val_score\n",
        "\n",
        "rf_cv = cross_val_score(rf_pipeline,X_train,y_train,cv=10,scoring='f1')\n",
        "svm_cv = cross_val_score(svm_pipeline,X_train,y_train,cv=10,scoring='f1')\n",
        "logreg_cv = cross_val_score(logreg_pipeline,X_train,y_train,cv=10,scoring='f1')\n",
        "knn_cv = cross_val_score(knn_pipeline,X_train,y_train,cv=10,scoring='f1')\n",
        "dt_cv = cross_val_score(dt_pipeline,X_train,y_train,cv=10,scoring='f1')\n",
        "nn_cv = cross_val_score(nn_pipeline,X_train,y_train,cv=10,scoring='f1')"
      ]
    },
    {
      "cell_type": "code",
      "execution_count": null,
      "metadata": {
        "colab": {
          "base_uri": "https://localhost:8080/"
        },
        "id": "LAloSvlKzZ4_",
        "outputId": "d28bd0f8-9f3c-434f-c4af-cb971d0f3353"
      },
      "outputs": [
        {
          "name": "stdout",
          "output_type": "stream",
          "text": [
            "Mean f1 scores:\n",
            "Random Forest mean : 0.9657142857142856\n",
            "SVM mean : 0.9657142857142856\n",
            "Logistic Regression mean : 0.9800000000000001\n",
            "KNN mean : 0.9657142857142856\n",
            "Decision Tree mean : 0.9746031746031747\n",
            "Neural Network mean : 0.9457142857142857\n"
          ]
        }
      ],
      "source": [
        "import warnings\n",
        "warnings.filterwarnings(\"ignore\")\n",
        "\n",
        "print('Mean f1 scores:')\n",
        "print('Random Forest mean :',cross_val_score(rf_pipeline,X_train,y_train,cv=10,scoring='f1').mean())\n",
        "print('SVM mean :',cross_val_score(svm_pipeline,X_train,y_train,cv=10,scoring='f1').mean())\n",
        "print('Logistic Regression mean :',cross_val_score(logreg_pipeline,X_train,y_train,cv=10,scoring='f1').mean())\n",
        "print('KNN mean :',cross_val_score(knn_pipeline,X_train,y_train,cv=10,scoring='f1').mean())\n",
        "print('Decision Tree mean :',cross_val_score(dt_pipeline,X_train,y_train,cv=10,scoring='f1').mean())\n",
        "print('Neural Network mean :',cross_val_score(nn_pipeline,X_train,y_train,cv=10,scoring='f1').mean())"
      ]
    },
    {
      "cell_type": "code",
      "execution_count": null,
      "metadata": {
        "id": "Pz0JwgEAzspv"
      },
      "outputs": [],
      "source": [
        "rf_pipeline.fit(X_train,y_train)\n",
        "svm_pipeline.fit(X_train,y_train)\n",
        "logreg_pipeline.fit(X_train,y_train)\n",
        "knn_pipeline.fit(X_train, y_train)\n",
        "dt_pipeline.fit(X_train, y_train)\n",
        "nn_pipeline.fit(X_train, y_train)\n",
        "\n",
        "rf_pred = rf_pipeline.predict(X_test)\n",
        "svm_pred = svm_pipeline.predict(X_test)\n",
        "logreg_pred = logreg_pipeline.predict(X_test)\n",
        "knn_pred = knn_pipeline.predict(X_test)\n",
        "dt_pred = knn_pipeline.predict(X_test)\n",
        "nn_pred = knn_pipeline.predict(X_test)\n",
        "\n",
        "from sklearn.metrics import confusion_matrix\n",
        "\n",
        "rf_cm  = confusion_matrix(y_test,rf_pred )\n",
        "svm_cm = confusion_matrix(y_test,svm_pred)\n",
        "logreg_cm  = confusion_matrix(y_test,logreg_pred )\n",
        "knn_cm = confusion_matrix(y_test, knn_pred)\n",
        "dt_cm = confusion_matrix(y_test, dt_pred)\n",
        "nn_cm = confusion_matrix(y_test, nn_pred)\n",
        "\n",
        "from sklearn.metrics import f1_score\n",
        "\n",
        "rf_f1  = f1_score(y_test,rf_pred)\n",
        "svm_f1 = f1_score(y_test,svm_pred)\n",
        "logreg_f1  = f1_score(y_test,logreg_pred)\n",
        "knn_f1 = f1_score(y_test, knn_pred)\n",
        "dt_f1 = f1_score(y_test, dt_pred)\n",
        "nn_f1 = f1_score(y_test, nn_pred)"
      ]
    },
    {
      "cell_type": "code",
      "execution_count": null,
      "metadata": {
        "colab": {
          "base_uri": "https://localhost:8080/"
        },
        "id": "cd6q_8Fx0FL8",
        "outputId": "b8ca6b9e-4d20-4167-bc3b-b1897c19005a"
      },
      "outputs": [
        {
          "name": "stdout",
          "output_type": "stream",
          "text": [
            "Mean f1 scores:\n",
            "RF mean : 0.9299363057324841\n",
            "SVM mean : 0.9150326797385621\n",
            "LR mean : 0.948051948051948\n",
            "KNN mean : 0.9150326797385621\n",
            "DT mean : 0.9150326797385621\n",
            "NN mean : 0.9150326797385621\n"
          ]
        }
      ],
      "source": [
        "print('Mean f1 scores:')\n",
        "\n",
        "print('RF mean :',rf_f1)\n",
        "print('SVM mean :',svm_f1)\n",
        "print('LR mean :',logreg_f1)\n",
        "print('KNN mean :', knn_f1)\n",
        "print('DT mean :', dt_f1)\n",
        "print('NN mean :', nn_f1)"
      ]
    },
    {
      "cell_type": "code",
      "execution_count": null,
      "metadata": {
        "colab": {
          "base_uri": "https://localhost:8080/"
        },
        "id": "5Pzz-TBc0HfH",
        "outputId": "7f5870e7-32d9-4521-93da-7273fc2164ae"
      },
      "outputs": [
        {
          "name": "stdout",
          "output_type": "stream",
          "text": [
            "Random Forest. \n",
            "              precision    recall  f1-score   support\n",
            "\n",
            "           0       0.81      0.92      0.86        37\n",
            "           1       0.96      0.90      0.93        81\n",
            "\n",
            "    accuracy                           0.91       118\n",
            "   macro avg       0.89      0.91      0.90       118\n",
            "weighted avg       0.91      0.91      0.91       118\n",
            "\n",
            "Accuracy Score:  0.9067796610169492\n",
            "SVM. \n",
            "              precision    recall  f1-score   support\n",
            "\n",
            "           0       0.76      0.95      0.84        37\n",
            "           1       0.97      0.86      0.92        81\n",
            "\n",
            "    accuracy                           0.89       118\n",
            "   macro avg       0.87      0.91      0.88       118\n",
            "weighted avg       0.91      0.89      0.89       118\n",
            "\n",
            "Accuracy Score:  0.8898305084745762\n",
            "Logistic Regression. \n",
            "              precision    recall  f1-score   support\n",
            "\n",
            "           0       0.82      1.00      0.90        37\n",
            "           1       1.00      0.90      0.95        81\n",
            "\n",
            "    accuracy                           0.93       118\n",
            "   macro avg       0.91      0.95      0.93       118\n",
            "weighted avg       0.94      0.93      0.93       118\n",
            "\n",
            "Accuracy Score:  0.9322033898305084\n",
            "KNN. \n",
            "              precision    recall  f1-score   support\n",
            "\n",
            "           0       0.76      0.95      0.84        37\n",
            "           1       0.97      0.86      0.92        81\n",
            "\n",
            "    accuracy                           0.89       118\n",
            "   macro avg       0.87      0.91      0.88       118\n",
            "weighted avg       0.91      0.89      0.89       118\n",
            "\n",
            "Accuracy Score:  0.8898305084745762\n"
          ]
        }
      ],
      "source": [
        "from sklearn.metrics import plot_confusion_matrix, classification_report, accuracy_score\n",
        "\n",
        "print(\"Random Forest. \")\n",
        "print(classification_report(y_test,rf_pred))\n",
        "\n",
        "print('Accuracy Score: ', accuracy_score(y_test,rf_pred))\n",
        "\n",
        "print(\"SVM. \")\n",
        "print(classification_report(y_test,svm_pred))\n",
        "\n",
        "print('Accuracy Score: ', accuracy_score(y_test,svm_pred))\n",
        "\n",
        "print(\"Logistic Regression. \")\n",
        "print(classification_report(y_test,logreg_pred))\n",
        "\n",
        "print('Accuracy Score: ', accuracy_score(y_test,logreg_pred))\n",
        "\n",
        "print(\"KNN. \")\n",
        "print(classification_report(y_test,knn_pred))\n",
        "\n",
        "print('Accuracy Score: ', accuracy_score(y_test,knn_pred))"
      ]
    },
    {
      "cell_type": "code",
      "execution_count": null,
      "metadata": {
        "id": "r5UiDXoZ0h7f"
      },
      "outputs": [],
      "source": [
        "from sklearn.model_selection import GridSearchCV\n",
        "\n",
        "n_estimators =[64,100,128,200]\n",
        "max_features = [2,3,5,7]\n",
        "bootstrap = [True,False]\n",
        "\n",
        "param_grid = {'n_estimators':n_estimators,\n",
        "             'max_features':max_features,\n",
        "             'bootstrap':bootstrap}"
      ]
    },
    {
      "cell_type": "code",
      "execution_count": null,
      "metadata": {
        "id": "TonnYxvK0tT2"
      },
      "outputs": [],
      "source": [
        "rfc = RandomForestClassifier()"
      ]
    },
    {
      "cell_type": "code",
      "execution_count": null,
      "metadata": {
        "colab": {
          "base_uri": "https://localhost:8080/"
        },
        "id": "MF09LauC1Gvy",
        "outputId": "73c8b6b9-31c2-4d28-a99a-e6cdca2ba9d2"
      },
      "outputs": [
        {
          "data": {
            "text/plain": [
              "GridSearchCV(estimator=RandomForestClassifier(),\n",
              "             param_grid={'bootstrap': [True, False],\n",
              "                         'max_features': [2, 3, 5, 7],\n",
              "                         'n_estimators': [64, 100, 128, 200]})"
            ]
          },
          "execution_count": 30,
          "metadata": {},
          "output_type": "execute_result"
        }
      ],
      "source": [
        "grid = GridSearchCV(rfc,param_grid)\n",
        "\n",
        "grid.fit(X_train,y_train)"
      ]
    },
    {
      "cell_type": "code",
      "execution_count": null,
      "metadata": {
        "colab": {
          "base_uri": "https://localhost:8080/"
        },
        "id": "rHIl1-vKZ73q",
        "outputId": "ea0ceb28-f960-494d-fd82-9a0d0178f07e"
      },
      "outputs": [
        {
          "name": "stdout",
          "output_type": "stream",
          "text": [
            "GridSearch CV best score : 0.9600\n",
            "\n",
            "\n",
            "Parameters that give the best results : \n",
            "\n",
            " {'bootstrap': True, 'max_features': 2, 'n_estimators': 64}\n",
            "\n",
            "\n",
            "Estimator that was chosen by the search : \n",
            "\n",
            " RandomForestClassifier(max_features=2, n_estimators=64)\n"
          ]
        }
      ],
      "source": [
        "# best score achieved during the GridSearchCV\n",
        "print('GridSearch CV best score : {:.4f}\\n\\n'.format(grid.best_score_))\n",
        "\n",
        "\n",
        "# print parameters that give the best results\n",
        "print('Parameters that give the best results :','\\n\\n', (grid.best_params_))\n",
        "\n",
        "\n",
        "# print estimator that was chosen by the GridSearch\n",
        "print('\\n\\nEstimator that was chosen by the search :','\\n\\n', (grid.best_estimator_))"
      ]
    },
    {
      "cell_type": "code",
      "execution_count": null,
      "metadata": {
        "id": "706_cXE_0vih"
      },
      "outputs": [],
      "source": [
        "# Let's use those params now\n",
        "\n",
        "rf_pipeline = Pipeline(steps = [('scale',StandardScaler()),('RF',RandomForestClassifier(max_features=2, n_estimators=64))])\n",
        "\n",
        "rf_pipeline.fit(X_train,y_train)\n",
        "\n",
        "rf_tuned_pred = rf_pipeline.predict(X_test)"
      ]
    },
    {
      "cell_type": "code",
      "execution_count": null,
      "metadata": {
        "colab": {
          "base_uri": "https://localhost:8080/"
        },
        "id": "MmRm3_Rt08Eg",
        "outputId": "6f312803-bed9-4250-b5e4-c1f52f769c28"
      },
      "outputs": [
        {
          "name": "stdout",
          "output_type": "stream",
          "text": [
            "              precision    recall  f1-score   support\n",
            "\n",
            "           0       0.77      0.92      0.84        37\n",
            "           1       0.96      0.88      0.92        81\n",
            "\n",
            "    accuracy                           0.89       118\n",
            "   macro avg       0.87      0.90      0.88       118\n",
            "weighted avg       0.90      0.89      0.89       118\n",
            "\n",
            "Accuracy Score:  0.8898305084745762\n",
            "F1 Score:  0.9161290322580644\n"
          ]
        }
      ],
      "source": [
        "print(classification_report(y_test,rf_tuned_pred))\n",
        "\n",
        "print('Accuracy Score: ',accuracy_score(y_test,rf_tuned_pred))\n",
        "print('F1 Score: ',f1_score(y_test,rf_tuned_pred))"
      ]
    },
    {
      "cell_type": "code",
      "execution_count": null,
      "metadata": {
        "id": "Nkdk_XJv1NFP"
      },
      "outputs": [],
      "source": [
        "penalty = ['l1','l2']\n",
        "C = [0.001, 0.01, 0.1, 1, 10, 100] \n",
        "\n",
        "log_param_grid = {'penalty': penalty, \n",
        "                  'C': C}\n",
        "logreg = LogisticRegression()\n",
        "grid = GridSearchCV(logreg,log_param_grid)"
      ]
    },
    {
      "cell_type": "code",
      "execution_count": null,
      "metadata": {
        "colab": {
          "base_uri": "https://localhost:8080/"
        },
        "id": "IP9Er0Kd1chv",
        "outputId": "122bf50f-79b5-4d00-d9e0-75006ddb4201"
      },
      "outputs": [
        {
          "data": {
            "text/plain": [
              "GridSearchCV(estimator=LogisticRegression(),\n",
              "             param_grid={'C': [0.001, 0.01, 0.1, 1, 10, 100],\n",
              "                         'penalty': ['l1', 'l2']})"
            ]
          },
          "execution_count": 35,
          "metadata": {},
          "output_type": "execute_result"
        }
      ],
      "source": [
        "grid.fit(X_train,y_train)"
      ]
    },
    {
      "cell_type": "code",
      "execution_count": null,
      "metadata": {
        "colab": {
          "base_uri": "https://localhost:8080/"
        },
        "id": "fGwGICGXaJBh",
        "outputId": "da678645-7a76-47e2-d9c1-834fbe572938"
      },
      "outputs": [
        {
          "name": "stdout",
          "output_type": "stream",
          "text": [
            "GridSearch CV best score : 0.9800\n",
            "\n",
            "\n",
            "Parameters that give the best results : \n",
            "\n",
            " {'C': 0.1, 'penalty': 'l2'}\n",
            "\n",
            "\n",
            "Estimator that was chosen by the search : \n",
            "\n",
            " LogisticRegression(C=0.1)\n"
          ]
        }
      ],
      "source": [
        "# best score achieved during the GridSearchCV\n",
        "print('GridSearch CV best score : {:.4f}\\n\\n'.format(grid.best_score_))\n",
        "\n",
        "\n",
        "# print parameters that give the best results\n",
        "print('Parameters that give the best results :','\\n\\n', (grid.best_params_))\n",
        "\n",
        "\n",
        "# print estimator that was chosen by the GridSearch\n",
        "print('\\n\\nEstimator that was chosen by the search :','\\n\\n', (grid.best_estimator_))"
      ]
    },
    {
      "cell_type": "code",
      "execution_count": null,
      "metadata": {
        "colab": {
          "base_uri": "https://localhost:8080/"
        },
        "id": "trDAn8hf1g0C",
        "outputId": "58260a89-2ab2-4810-8a52-8a2360dc95b0"
      },
      "outputs": [
        {
          "data": {
            "text/plain": [
              "{'C': 0.1, 'penalty': 'l2'}"
            ]
          },
          "execution_count": 37,
          "metadata": {},
          "output_type": "execute_result"
        }
      ],
      "source": [
        "grid.best_params_"
      ]
    },
    {
      "cell_type": "code",
      "execution_count": null,
      "metadata": {
        "id": "SiWCgJcG1jmr"
      },
      "outputs": [],
      "source": [
        "# Let's use those params now\n",
        "\n",
        "logreg_pipeline = Pipeline(steps = [('scale',StandardScaler()),('LR',LogisticRegression(C=0.1))])\n",
        "\n",
        "logreg_pipeline.fit(X_train,y_train)\n",
        "\n",
        "logreg.fit(X_train,y_train)\n",
        "\n",
        "logreg_tuned_pred = logreg_pipeline.predict(X_test)"
      ]
    },
    {
      "cell_type": "code",
      "execution_count": null,
      "metadata": {
        "colab": {
          "base_uri": "https://localhost:8080/"
        },
        "id": "djVjuaxD1zxs",
        "outputId": "ab6a4d7d-4fdb-4503-d210-3cd1e70b9396"
      },
      "outputs": [
        {
          "name": "stdout",
          "output_type": "stream",
          "text": [
            "              precision    recall  f1-score   support\n",
            "\n",
            "           0       0.81      0.95      0.88        37\n",
            "           1       0.97      0.90      0.94        81\n",
            "\n",
            "    accuracy                           0.92       118\n",
            "   macro avg       0.89      0.92      0.91       118\n",
            "weighted avg       0.92      0.92      0.92       118\n",
            "\n",
            "Accuracy Score:  0.9152542372881356\n",
            "F1 Score:  0.935897435897436\n"
          ]
        }
      ],
      "source": [
        "print(classification_report(y_test,logreg_tuned_pred))\n",
        "\n",
        "print('Accuracy Score: ',accuracy_score(y_test,logreg_tuned_pred))\n",
        "print('F1 Score: ',f1_score(y_test,logreg_tuned_pred))"
      ]
    },
    {
      "cell_type": "code",
      "execution_count": null,
      "metadata": {
        "id": "UzWUriKK2Rxk"
      },
      "outputs": [],
      "source": [
        "# defining parameter range \n",
        "# svm_param_grid = {'C': [0.1, 1, 10, 100, 1000],  \n",
        "#               'gamma': [1, 0.1, 0.01, 0.001, 0.0001], \n",
        "#               'kernel': ['rbf', 'linear', 'polynomial', 'sigmoid']} \n",
        "\n",
        "svm_param_grid = [ {'C':[1, 10, 100, 1000], 'kernel':['linear']},\n",
        "               {'C':[1, 10, 100, 1000], 'kernel':['rbf'], 'gamma':[0.1, 0.2, 0.3, 0.4, 0.5, 0.6, 0.7, 0.8, 0.9]},\n",
        "               {'C':[1, 10, 100, 1000], 'kernel':['poly'], 'degree': [2,3,4] ,'gamma':[0.01,0.02,0.03,0.04,0.05]} \n",
        "              ]\n",
        "\n",
        "svm = SVC(random_state=42)\n",
        "\n",
        "# grid = GridSearchCV(svm,svm_param_grid)\n",
        "\n",
        "grid = GridSearchCV(estimator = svm,  \n",
        "                           param_grid = svm_param_grid,\n",
        "                           scoring = 'accuracy',\n",
        "                           cv = 10,\n",
        "                           verbose=0)"
      ]
    },
    {
      "cell_type": "code",
      "execution_count": null,
      "metadata": {
        "colab": {
          "base_uri": "https://localhost:8080/"
        },
        "id": "EBMFsICL2VnT",
        "outputId": "cbf5cc60-5754-4db3-9df8-f24894a7c58b"
      },
      "outputs": [
        {
          "data": {
            "text/plain": [
              "GridSearchCV(cv=10, estimator=SVC(random_state=42),\n",
              "             param_grid=[{'C': [1, 10, 100, 1000], 'kernel': ['linear']},\n",
              "                         {'C': [1, 10, 100, 1000],\n",
              "                          'gamma': [0.1, 0.2, 0.3, 0.4, 0.5, 0.6, 0.7, 0.8,\n",
              "                                    0.9],\n",
              "                          'kernel': ['rbf']},\n",
              "                         {'C': [1, 10, 100, 1000], 'degree': [2, 3, 4],\n",
              "                          'gamma': [0.01, 0.02, 0.03, 0.04, 0.05],\n",
              "                          'kernel': ['poly']}],\n",
              "             scoring='accuracy')"
            ]
          },
          "execution_count": 41,
          "metadata": {},
          "output_type": "execute_result"
        }
      ],
      "source": [
        "grid.fit(X_train,y_train)"
      ]
    },
    {
      "cell_type": "code",
      "execution_count": null,
      "metadata": {
        "colab": {
          "base_uri": "https://localhost:8080/",
          "height": 232
        },
        "id": "MzUEZemuaiBO",
        "outputId": "acee4088-3d12-45a7-ec73-c50ffc829d2a"
      },
      "outputs": [
        {
          "ename": "AttributeError",
          "evalue": "ignored",
          "output_type": "error",
          "traceback": [
            "\u001b[0;31m---------------------------------------------------------------------------\u001b[0m",
            "\u001b[0;31mAttributeError\u001b[0m                            Traceback (most recent call last)",
            "\u001b[0;32m<ipython-input-25-cf9f85aa08f3>\u001b[0m in \u001b[0;36m<module>\u001b[0;34m\u001b[0m\n\u001b[1;32m      1\u001b[0m \u001b[0;31m# best score achieved during the GridSearchCV\u001b[0m\u001b[0;34m\u001b[0m\u001b[0;34m\u001b[0m\u001b[0;34m\u001b[0m\u001b[0m\n\u001b[0;32m----> 2\u001b[0;31m \u001b[0mprint\u001b[0m\u001b[0;34m(\u001b[0m\u001b[0;34m'GridSearch CV best score : {:.4f}\\n\\n'\u001b[0m\u001b[0;34m.\u001b[0m\u001b[0mformat\u001b[0m\u001b[0;34m(\u001b[0m\u001b[0mgrid\u001b[0m\u001b[0;34m.\u001b[0m\u001b[0mbest_score_\u001b[0m\u001b[0;34m)\u001b[0m\u001b[0;34m)\u001b[0m\u001b[0;34m\u001b[0m\u001b[0;34m\u001b[0m\u001b[0m\n\u001b[0m\u001b[1;32m      3\u001b[0m \u001b[0;34m\u001b[0m\u001b[0m\n\u001b[1;32m      4\u001b[0m \u001b[0;34m\u001b[0m\u001b[0m\n\u001b[1;32m      5\u001b[0m \u001b[0;31m# print parameters that give the best results\u001b[0m\u001b[0;34m\u001b[0m\u001b[0;34m\u001b[0m\u001b[0;34m\u001b[0m\u001b[0m\n",
            "\u001b[0;31mAttributeError\u001b[0m: 'GridSearchCV' object has no attribute 'best_score_'"
          ]
        }
      ],
      "source": [
        "# best score achieved during the GridSearchCV\n",
        "print('GridSearch CV best score : {:.4f}\\n\\n'.format(grid.best_score_))\n",
        "\n",
        "\n",
        "# print parameters that give the best results\n",
        "print('Parameters that give the best results :','\\n\\n', (grid.best_params_))\n",
        "\n",
        "\n",
        "# print estimator that was chosen by the GridSearch\n",
        "print('\\n\\nEstimator that was chosen by the search :','\\n\\n', (grid.best_estimator_))"
      ]
    },
    {
      "cell_type": "code",
      "execution_count": null,
      "metadata": {
        "colab": {
          "base_uri": "https://localhost:8080/"
        },
        "id": "Qm9GK42K2aYN",
        "outputId": "61262665-81ad-4209-e700-9cd86fc3628e"
      },
      "outputs": [
        {
          "data": {
            "text/plain": [
              "{'C': 1, 'kernel': 'linear'}"
            ]
          },
          "execution_count": 43,
          "metadata": {},
          "output_type": "execute_result"
        }
      ],
      "source": [
        "grid.best_params_"
      ]
    },
    {
      "cell_type": "code",
      "execution_count": null,
      "metadata": {
        "id": "FkgNmDgD2fOK"
      },
      "outputs": [],
      "source": [
        "svm_pipeline = Pipeline(steps = [('scale',StandardScaler()),('SVM',SVC(C=1, kernel='linear', random_state=42))])\n",
        "\n",
        "svm_pipeline.fit(X_train,y_train)\n",
        "\n",
        "svm_tuned_pred = svm_pipeline.predict(X_test)"
      ]
    },
    {
      "cell_type": "code",
      "execution_count": null,
      "metadata": {
        "colab": {
          "base_uri": "https://localhost:8080/"
        },
        "id": "LM5jLYAi2nlG",
        "outputId": "6f5dbca4-8350-4106-dcc8-11ecf04fba6a"
      },
      "outputs": [
        {
          "name": "stdout",
          "output_type": "stream",
          "text": [
            "              precision    recall  f1-score   support\n",
            "\n",
            "           0       0.82      1.00      0.90        37\n",
            "           1       1.00      0.90      0.95        81\n",
            "\n",
            "    accuracy                           0.93       118\n",
            "   macro avg       0.91      0.95      0.93       118\n",
            "weighted avg       0.94      0.93      0.93       118\n",
            "\n",
            "Accuracy Score:  0.9322033898305084\n",
            "F1 Score:  0.948051948051948\n"
          ]
        }
      ],
      "source": [
        "print(classification_report(y_test,svm_tuned_pred))\n",
        "\n",
        "print('Accuracy Score: ',accuracy_score(y_test,svm_tuned_pred))\n",
        "print('F1 Score: ',f1_score(y_test,svm_tuned_pred))"
      ]
    },
    {
      "cell_type": "code",
      "execution_count": null,
      "metadata": {
        "colab": {
          "base_uri": "https://localhost:8080/"
        },
        "id": "xd54fx5icfBA",
        "outputId": "57f83544-f016-4ff9-e17c-cb1178afa41d"
      },
      "outputs": [
        {
          "name": "stdout",
          "output_type": "stream",
          "text": [
            "Fitting 10 folds for each of 30 candidates, totalling 300 fits\n"
          ]
        }
      ],
      "source": [
        "knn = KNeighborsClassifier()\n",
        "k_range = list(range(1, 31))\n",
        "param_grid = dict(n_neighbors=k_range)\n",
        "  \n",
        "# defining parameter range\n",
        "grid = GridSearchCV(knn, param_grid, cv=10, scoring='accuracy', return_train_score=False,verbose=1)\n",
        "  \n",
        "# fitting the model for grid search\n",
        "grid_search=grid.fit(X_train, y_train)"
      ]
    },
    {
      "cell_type": "code",
      "execution_count": null,
      "metadata": {
        "colab": {
          "base_uri": "https://localhost:8080/"
        },
        "id": "p1NlcuQocr6Y",
        "outputId": "69eafeef-4c7e-4f28-ee9c-91b147404e5b"
      },
      "outputs": [
        {
          "name": "stdout",
          "output_type": "stream",
          "text": [
            "GridSearch CV best score : 1.0000\n",
            "\n",
            "\n",
            "Parameters that give the best results : \n",
            "\n",
            " {'n_neighbors': 1}\n",
            "\n",
            "\n",
            "Estimator that was chosen by the search : \n",
            "\n",
            " KNeighborsClassifier(n_neighbors=1)\n"
          ]
        }
      ],
      "source": [
        "# best score achieved during the GridSearchCV\n",
        "print('GridSearch CV best score : {:.4f}\\n\\n'.format(grid.best_score_))\n",
        "\n",
        "\n",
        "# print parameters that give the best results\n",
        "print('Parameters that give the best results :','\\n\\n', (grid.best_params_))\n",
        "\n",
        "\n",
        "# print estimator that was chosen by the GridSearch\n",
        "print('\\n\\nEstimator that was chosen by the search :','\\n\\n', (grid.best_estimator_))"
      ]
    },
    {
      "cell_type": "code",
      "execution_count": null,
      "metadata": {
        "id": "5eCei3JBc-sj"
      },
      "outputs": [],
      "source": [
        "knn_pipeline = Pipeline(steps = [('scale',StandardScaler()),('KNN',KNeighborsClassifier(n_neighbors=1))])\n",
        "\n",
        "knn_pipeline.fit(X_train,y_train)\n",
        "\n",
        "knn_tuned_pred = knn_pipeline.predict(X_test)"
      ]
    },
    {
      "cell_type": "code",
      "execution_count": null,
      "metadata": {
        "colab": {
          "base_uri": "https://localhost:8080/"
        },
        "id": "dqMdzTzGdKWk",
        "outputId": "fa93dec5-6b0f-4a31-e57d-df7c3317682f"
      },
      "outputs": [
        {
          "name": "stdout",
          "output_type": "stream",
          "text": [
            "              precision    recall  f1-score   support\n",
            "\n",
            "           0       0.83      0.95      0.89        37\n",
            "           1       0.97      0.91      0.94        81\n",
            "\n",
            "    accuracy                           0.92       118\n",
            "   macro avg       0.90      0.93      0.91       118\n",
            "weighted avg       0.93      0.92      0.92       118\n",
            "\n",
            "Accuracy Score:  0.923728813559322\n",
            "F1 Score:  0.9426751592356688\n"
          ]
        }
      ],
      "source": [
        "print(classification_report(y_test,knn_tuned_pred))\n",
        "\n",
        "print('Accuracy Score: ',accuracy_score(y_test,knn_tuned_pred))\n",
        "print('F1 Score: ',f1_score(y_test,knn_tuned_pred))"
      ]
    },
    {
      "cell_type": "code",
      "execution_count": null,
      "metadata": {
        "colab": {
          "base_uri": "https://localhost:8080/",
          "height": 358
        },
        "id": "vAq1xznWtjU9",
        "outputId": "074f351f-5bb0-46cb-a424-a36d3eb7cbe7"
      },
      "outputs": [
        {
          "name": "stdout",
          "output_type": "stream",
          "text": [
            "Fitting 10 folds for each of 63504 candidates, totalling 635040 fits\n"
          ]
        },
        {
          "ename": "KeyboardInterrupt",
          "evalue": "ignored",
          "output_type": "error",
          "traceback": [
            "\u001b[0;31m---------------------------------------------------------------------------\u001b[0m",
            "\u001b[0;31mKeyboardInterrupt\u001b[0m                         Traceback (most recent call last)",
            "\u001b[0;32m<ipython-input-32-20aebf96bc91>\u001b[0m in \u001b[0;36m<module>\u001b[0;34m\u001b[0m\n\u001b[1;32m      5\u001b[0m \u001b[0;34m\u001b[0m\u001b[0m\n\u001b[1;32m      6\u001b[0m \u001b[0mgrid\u001b[0m \u001b[0;34m=\u001b[0m \u001b[0mGridSearchCV\u001b[0m\u001b[0;34m(\u001b[0m\u001b[0mdt\u001b[0m\u001b[0;34m,\u001b[0m \u001b[0mparams\u001b[0m\u001b[0;34m,\u001b[0m \u001b[0mcv\u001b[0m\u001b[0;34m=\u001b[0m\u001b[0;36m10\u001b[0m\u001b[0;34m,\u001b[0m \u001b[0mscoring\u001b[0m\u001b[0;34m=\u001b[0m\u001b[0;34m'accuracy'\u001b[0m\u001b[0;34m,\u001b[0m \u001b[0mreturn_train_score\u001b[0m\u001b[0;34m=\u001b[0m\u001b[0;32mFalse\u001b[0m\u001b[0;34m,\u001b[0m\u001b[0mverbose\u001b[0m\u001b[0;34m=\u001b[0m\u001b[0;36m1\u001b[0m\u001b[0;34m)\u001b[0m\u001b[0;34m\u001b[0m\u001b[0;34m\u001b[0m\u001b[0m\n\u001b[0;32m----> 7\u001b[0;31m \u001b[0mgrid_search\u001b[0m\u001b[0;34m=\u001b[0m\u001b[0mgrid\u001b[0m\u001b[0;34m.\u001b[0m\u001b[0mfit\u001b[0m\u001b[0;34m(\u001b[0m\u001b[0mX_train\u001b[0m\u001b[0;34m,\u001b[0m \u001b[0my_train\u001b[0m\u001b[0;34m)\u001b[0m\u001b[0;34m\u001b[0m\u001b[0;34m\u001b[0m\u001b[0m\n\u001b[0m",
            "\u001b[0;32m/usr/local/lib/python3.8/dist-packages/sklearn/model_selection/_search.py\u001b[0m in \u001b[0;36mfit\u001b[0;34m(self, X, y, groups, **fit_params)\u001b[0m\n\u001b[1;32m    889\u001b[0m                 \u001b[0;32mreturn\u001b[0m \u001b[0mresults\u001b[0m\u001b[0;34m\u001b[0m\u001b[0;34m\u001b[0m\u001b[0m\n\u001b[1;32m    890\u001b[0m \u001b[0;34m\u001b[0m\u001b[0m\n\u001b[0;32m--> 891\u001b[0;31m             \u001b[0mself\u001b[0m\u001b[0;34m.\u001b[0m\u001b[0m_run_search\u001b[0m\u001b[0;34m(\u001b[0m\u001b[0mevaluate_candidates\u001b[0m\u001b[0;34m)\u001b[0m\u001b[0;34m\u001b[0m\u001b[0;34m\u001b[0m\u001b[0m\n\u001b[0m\u001b[1;32m    892\u001b[0m \u001b[0;34m\u001b[0m\u001b[0m\n\u001b[1;32m    893\u001b[0m             \u001b[0;31m# multimetric is determined here because in the case of a callable\u001b[0m\u001b[0;34m\u001b[0m\u001b[0;34m\u001b[0m\u001b[0;34m\u001b[0m\u001b[0m\n",
            "\u001b[0;32m/usr/local/lib/python3.8/dist-packages/sklearn/model_selection/_search.py\u001b[0m in \u001b[0;36m_run_search\u001b[0;34m(self, evaluate_candidates)\u001b[0m\n\u001b[1;32m   1390\u001b[0m     \u001b[0;32mdef\u001b[0m \u001b[0m_run_search\u001b[0m\u001b[0;34m(\u001b[0m\u001b[0mself\u001b[0m\u001b[0;34m,\u001b[0m \u001b[0mevaluate_candidates\u001b[0m\u001b[0;34m)\u001b[0m\u001b[0;34m:\u001b[0m\u001b[0;34m\u001b[0m\u001b[0;34m\u001b[0m\u001b[0m\n\u001b[1;32m   1391\u001b[0m         \u001b[0;34m\"\"\"Search all candidates in param_grid\"\"\"\u001b[0m\u001b[0;34m\u001b[0m\u001b[0;34m\u001b[0m\u001b[0m\n\u001b[0;32m-> 1392\u001b[0;31m         \u001b[0mevaluate_candidates\u001b[0m\u001b[0;34m(\u001b[0m\u001b[0mParameterGrid\u001b[0m\u001b[0;34m(\u001b[0m\u001b[0mself\u001b[0m\u001b[0;34m.\u001b[0m\u001b[0mparam_grid\u001b[0m\u001b[0;34m)\u001b[0m\u001b[0;34m)\u001b[0m\u001b[0;34m\u001b[0m\u001b[0;34m\u001b[0m\u001b[0m\n\u001b[0m\u001b[1;32m   1393\u001b[0m \u001b[0;34m\u001b[0m\u001b[0m\n\u001b[1;32m   1394\u001b[0m \u001b[0;34m\u001b[0m\u001b[0m\n",
            "\u001b[0;32m/usr/local/lib/python3.8/dist-packages/sklearn/model_selection/_search.py\u001b[0m in \u001b[0;36mevaluate_candidates\u001b[0;34m(candidate_params, cv, more_results)\u001b[0m\n\u001b[1;32m    836\u001b[0m                     )\n\u001b[1;32m    837\u001b[0m \u001b[0;34m\u001b[0m\u001b[0m\n\u001b[0;32m--> 838\u001b[0;31m                 out = parallel(\n\u001b[0m\u001b[1;32m    839\u001b[0m                     delayed(_fit_and_score)(\n\u001b[1;32m    840\u001b[0m                         \u001b[0mclone\u001b[0m\u001b[0;34m(\u001b[0m\u001b[0mbase_estimator\u001b[0m\u001b[0;34m)\u001b[0m\u001b[0;34m,\u001b[0m\u001b[0;34m\u001b[0m\u001b[0;34m\u001b[0m\u001b[0m\n",
            "\u001b[0;32m/usr/local/lib/python3.8/dist-packages/joblib/parallel.py\u001b[0m in \u001b[0;36m__call__\u001b[0;34m(self, iterable)\u001b[0m\n\u001b[1;32m   1086\u001b[0m                 \u001b[0mself\u001b[0m\u001b[0;34m.\u001b[0m\u001b[0m_iterating\u001b[0m \u001b[0;34m=\u001b[0m \u001b[0mself\u001b[0m\u001b[0;34m.\u001b[0m\u001b[0m_original_iterator\u001b[0m \u001b[0;32mis\u001b[0m \u001b[0;32mnot\u001b[0m \u001b[0;32mNone\u001b[0m\u001b[0;34m\u001b[0m\u001b[0;34m\u001b[0m\u001b[0m\n\u001b[1;32m   1087\u001b[0m \u001b[0;34m\u001b[0m\u001b[0m\n\u001b[0;32m-> 1088\u001b[0;31m             \u001b[0;32mwhile\u001b[0m \u001b[0mself\u001b[0m\u001b[0;34m.\u001b[0m\u001b[0mdispatch_one_batch\u001b[0m\u001b[0;34m(\u001b[0m\u001b[0miterator\u001b[0m\u001b[0;34m)\u001b[0m\u001b[0;34m:\u001b[0m\u001b[0;34m\u001b[0m\u001b[0;34m\u001b[0m\u001b[0m\n\u001b[0m\u001b[1;32m   1089\u001b[0m                 \u001b[0;32mpass\u001b[0m\u001b[0;34m\u001b[0m\u001b[0;34m\u001b[0m\u001b[0m\n\u001b[1;32m   1090\u001b[0m \u001b[0;34m\u001b[0m\u001b[0m\n",
            "\u001b[0;32m/usr/local/lib/python3.8/dist-packages/joblib/parallel.py\u001b[0m in \u001b[0;36mdispatch_one_batch\u001b[0;34m(self, iterator)\u001b[0m\n\u001b[1;32m    899\u001b[0m                 \u001b[0;32mreturn\u001b[0m \u001b[0;32mFalse\u001b[0m\u001b[0;34m\u001b[0m\u001b[0;34m\u001b[0m\u001b[0m\n\u001b[1;32m    900\u001b[0m             \u001b[0;32melse\u001b[0m\u001b[0;34m:\u001b[0m\u001b[0;34m\u001b[0m\u001b[0;34m\u001b[0m\u001b[0m\n\u001b[0;32m--> 901\u001b[0;31m                 \u001b[0mself\u001b[0m\u001b[0;34m.\u001b[0m\u001b[0m_dispatch\u001b[0m\u001b[0;34m(\u001b[0m\u001b[0mtasks\u001b[0m\u001b[0;34m)\u001b[0m\u001b[0;34m\u001b[0m\u001b[0;34m\u001b[0m\u001b[0m\n\u001b[0m\u001b[1;32m    902\u001b[0m                 \u001b[0;32mreturn\u001b[0m \u001b[0;32mTrue\u001b[0m\u001b[0;34m\u001b[0m\u001b[0;34m\u001b[0m\u001b[0m\n\u001b[1;32m    903\u001b[0m \u001b[0;34m\u001b[0m\u001b[0m\n",
            "\u001b[0;32m/usr/local/lib/python3.8/dist-packages/joblib/parallel.py\u001b[0m in \u001b[0;36m_dispatch\u001b[0;34m(self, batch)\u001b[0m\n\u001b[1;32m    817\u001b[0m         \u001b[0;32mwith\u001b[0m \u001b[0mself\u001b[0m\u001b[0;34m.\u001b[0m\u001b[0m_lock\u001b[0m\u001b[0;34m:\u001b[0m\u001b[0;34m\u001b[0m\u001b[0;34m\u001b[0m\u001b[0m\n\u001b[1;32m    818\u001b[0m             \u001b[0mjob_idx\u001b[0m \u001b[0;34m=\u001b[0m \u001b[0mlen\u001b[0m\u001b[0;34m(\u001b[0m\u001b[0mself\u001b[0m\u001b[0;34m.\u001b[0m\u001b[0m_jobs\u001b[0m\u001b[0;34m)\u001b[0m\u001b[0;34m\u001b[0m\u001b[0;34m\u001b[0m\u001b[0m\n\u001b[0;32m--> 819\u001b[0;31m             \u001b[0mjob\u001b[0m \u001b[0;34m=\u001b[0m \u001b[0mself\u001b[0m\u001b[0;34m.\u001b[0m\u001b[0m_backend\u001b[0m\u001b[0;34m.\u001b[0m\u001b[0mapply_async\u001b[0m\u001b[0;34m(\u001b[0m\u001b[0mbatch\u001b[0m\u001b[0;34m,\u001b[0m \u001b[0mcallback\u001b[0m\u001b[0;34m=\u001b[0m\u001b[0mcb\u001b[0m\u001b[0;34m)\u001b[0m\u001b[0;34m\u001b[0m\u001b[0;34m\u001b[0m\u001b[0m\n\u001b[0m\u001b[1;32m    820\u001b[0m             \u001b[0;31m# A job can complete so quickly than its callback is\u001b[0m\u001b[0;34m\u001b[0m\u001b[0;34m\u001b[0m\u001b[0;34m\u001b[0m\u001b[0m\n\u001b[1;32m    821\u001b[0m             \u001b[0;31m# called before we get here, causing self._jobs to\u001b[0m\u001b[0;34m\u001b[0m\u001b[0;34m\u001b[0m\u001b[0;34m\u001b[0m\u001b[0m\n",
            "\u001b[0;32m/usr/local/lib/python3.8/dist-packages/joblib/_parallel_backends.py\u001b[0m in \u001b[0;36mapply_async\u001b[0;34m(self, func, callback)\u001b[0m\n\u001b[1;32m    206\u001b[0m     \u001b[0;32mdef\u001b[0m \u001b[0mapply_async\u001b[0m\u001b[0;34m(\u001b[0m\u001b[0mself\u001b[0m\u001b[0;34m,\u001b[0m \u001b[0mfunc\u001b[0m\u001b[0;34m,\u001b[0m \u001b[0mcallback\u001b[0m\u001b[0;34m=\u001b[0m\u001b[0;32mNone\u001b[0m\u001b[0;34m)\u001b[0m\u001b[0;34m:\u001b[0m\u001b[0;34m\u001b[0m\u001b[0;34m\u001b[0m\u001b[0m\n\u001b[1;32m    207\u001b[0m         \u001b[0;34m\"\"\"Schedule a func to be run\"\"\"\u001b[0m\u001b[0;34m\u001b[0m\u001b[0;34m\u001b[0m\u001b[0m\n\u001b[0;32m--> 208\u001b[0;31m         \u001b[0mresult\u001b[0m \u001b[0;34m=\u001b[0m \u001b[0mImmediateResult\u001b[0m\u001b[0;34m(\u001b[0m\u001b[0mfunc\u001b[0m\u001b[0;34m)\u001b[0m\u001b[0;34m\u001b[0m\u001b[0;34m\u001b[0m\u001b[0m\n\u001b[0m\u001b[1;32m    209\u001b[0m         \u001b[0;32mif\u001b[0m \u001b[0mcallback\u001b[0m\u001b[0;34m:\u001b[0m\u001b[0;34m\u001b[0m\u001b[0;34m\u001b[0m\u001b[0m\n\u001b[1;32m    210\u001b[0m             \u001b[0mcallback\u001b[0m\u001b[0;34m(\u001b[0m\u001b[0mresult\u001b[0m\u001b[0;34m)\u001b[0m\u001b[0;34m\u001b[0m\u001b[0;34m\u001b[0m\u001b[0m\n",
            "\u001b[0;32m/usr/local/lib/python3.8/dist-packages/joblib/_parallel_backends.py\u001b[0m in \u001b[0;36m__init__\u001b[0;34m(self, batch)\u001b[0m\n\u001b[1;32m    595\u001b[0m         \u001b[0;31m# Don't delay the application, to avoid keeping the input\u001b[0m\u001b[0;34m\u001b[0m\u001b[0;34m\u001b[0m\u001b[0;34m\u001b[0m\u001b[0m\n\u001b[1;32m    596\u001b[0m         \u001b[0;31m# arguments in memory\u001b[0m\u001b[0;34m\u001b[0m\u001b[0;34m\u001b[0m\u001b[0;34m\u001b[0m\u001b[0m\n\u001b[0;32m--> 597\u001b[0;31m         \u001b[0mself\u001b[0m\u001b[0;34m.\u001b[0m\u001b[0mresults\u001b[0m \u001b[0;34m=\u001b[0m \u001b[0mbatch\u001b[0m\u001b[0;34m(\u001b[0m\u001b[0;34m)\u001b[0m\u001b[0;34m\u001b[0m\u001b[0;34m\u001b[0m\u001b[0m\n\u001b[0m\u001b[1;32m    598\u001b[0m \u001b[0;34m\u001b[0m\u001b[0m\n\u001b[1;32m    599\u001b[0m     \u001b[0;32mdef\u001b[0m \u001b[0mget\u001b[0m\u001b[0;34m(\u001b[0m\u001b[0mself\u001b[0m\u001b[0;34m)\u001b[0m\u001b[0;34m:\u001b[0m\u001b[0;34m\u001b[0m\u001b[0;34m\u001b[0m\u001b[0m\n",
            "\u001b[0;32m/usr/local/lib/python3.8/dist-packages/joblib/parallel.py\u001b[0m in \u001b[0;36m__call__\u001b[0;34m(self)\u001b[0m\n\u001b[1;32m    286\u001b[0m         \u001b[0;31m# change the default number of processes to -1\u001b[0m\u001b[0;34m\u001b[0m\u001b[0;34m\u001b[0m\u001b[0;34m\u001b[0m\u001b[0m\n\u001b[1;32m    287\u001b[0m         \u001b[0;32mwith\u001b[0m \u001b[0mparallel_backend\u001b[0m\u001b[0;34m(\u001b[0m\u001b[0mself\u001b[0m\u001b[0;34m.\u001b[0m\u001b[0m_backend\u001b[0m\u001b[0;34m,\u001b[0m \u001b[0mn_jobs\u001b[0m\u001b[0;34m=\u001b[0m\u001b[0mself\u001b[0m\u001b[0;34m.\u001b[0m\u001b[0m_n_jobs\u001b[0m\u001b[0;34m)\u001b[0m\u001b[0;34m:\u001b[0m\u001b[0;34m\u001b[0m\u001b[0;34m\u001b[0m\u001b[0m\n\u001b[0;32m--> 288\u001b[0;31m             return [func(*args, **kwargs)\n\u001b[0m\u001b[1;32m    289\u001b[0m                     for func, args, kwargs in self.items]\n\u001b[1;32m    290\u001b[0m \u001b[0;34m\u001b[0m\u001b[0m\n",
            "\u001b[0;32m/usr/local/lib/python3.8/dist-packages/joblib/parallel.py\u001b[0m in \u001b[0;36m<listcomp>\u001b[0;34m(.0)\u001b[0m\n\u001b[1;32m    286\u001b[0m         \u001b[0;31m# change the default number of processes to -1\u001b[0m\u001b[0;34m\u001b[0m\u001b[0;34m\u001b[0m\u001b[0;34m\u001b[0m\u001b[0m\n\u001b[1;32m    287\u001b[0m         \u001b[0;32mwith\u001b[0m \u001b[0mparallel_backend\u001b[0m\u001b[0;34m(\u001b[0m\u001b[0mself\u001b[0m\u001b[0;34m.\u001b[0m\u001b[0m_backend\u001b[0m\u001b[0;34m,\u001b[0m \u001b[0mn_jobs\u001b[0m\u001b[0;34m=\u001b[0m\u001b[0mself\u001b[0m\u001b[0;34m.\u001b[0m\u001b[0m_n_jobs\u001b[0m\u001b[0;34m)\u001b[0m\u001b[0;34m:\u001b[0m\u001b[0;34m\u001b[0m\u001b[0;34m\u001b[0m\u001b[0m\n\u001b[0;32m--> 288\u001b[0;31m             return [func(*args, **kwargs)\n\u001b[0m\u001b[1;32m    289\u001b[0m                     for func, args, kwargs in self.items]\n\u001b[1;32m    290\u001b[0m \u001b[0;34m\u001b[0m\u001b[0m\n",
            "\u001b[0;32m/usr/local/lib/python3.8/dist-packages/sklearn/utils/fixes.py\u001b[0m in \u001b[0;36m__call__\u001b[0;34m(self, *args, **kwargs)\u001b[0m\n\u001b[1;32m    214\u001b[0m     \u001b[0;32mdef\u001b[0m \u001b[0m__call__\u001b[0m\u001b[0;34m(\u001b[0m\u001b[0mself\u001b[0m\u001b[0;34m,\u001b[0m \u001b[0;34m*\u001b[0m\u001b[0margs\u001b[0m\u001b[0;34m,\u001b[0m \u001b[0;34m**\u001b[0m\u001b[0mkwargs\u001b[0m\u001b[0;34m)\u001b[0m\u001b[0;34m:\u001b[0m\u001b[0;34m\u001b[0m\u001b[0;34m\u001b[0m\u001b[0m\n\u001b[1;32m    215\u001b[0m         \u001b[0;32mwith\u001b[0m \u001b[0mconfig_context\u001b[0m\u001b[0;34m(\u001b[0m\u001b[0;34m**\u001b[0m\u001b[0mself\u001b[0m\u001b[0;34m.\u001b[0m\u001b[0mconfig\u001b[0m\u001b[0;34m)\u001b[0m\u001b[0;34m:\u001b[0m\u001b[0;34m\u001b[0m\u001b[0;34m\u001b[0m\u001b[0m\n\u001b[0;32m--> 216\u001b[0;31m             \u001b[0;32mreturn\u001b[0m \u001b[0mself\u001b[0m\u001b[0;34m.\u001b[0m\u001b[0mfunction\u001b[0m\u001b[0;34m(\u001b[0m\u001b[0;34m*\u001b[0m\u001b[0margs\u001b[0m\u001b[0;34m,\u001b[0m \u001b[0;34m**\u001b[0m\u001b[0mkwargs\u001b[0m\u001b[0;34m)\u001b[0m\u001b[0;34m\u001b[0m\u001b[0;34m\u001b[0m\u001b[0m\n\u001b[0m\u001b[1;32m    217\u001b[0m \u001b[0;34m\u001b[0m\u001b[0m\n\u001b[1;32m    218\u001b[0m \u001b[0;34m\u001b[0m\u001b[0m\n",
            "\u001b[0;32m/usr/local/lib/python3.8/dist-packages/sklearn/model_selection/_validation.py\u001b[0m in \u001b[0;36m_fit_and_score\u001b[0;34m(estimator, X, y, scorer, train, test, verbose, parameters, fit_params, return_train_score, return_parameters, return_n_test_samples, return_times, return_estimator, split_progress, candidate_progress, error_score)\u001b[0m\n\u001b[1;32m    678\u001b[0m             \u001b[0mestimator\u001b[0m\u001b[0;34m.\u001b[0m\u001b[0mfit\u001b[0m\u001b[0;34m(\u001b[0m\u001b[0mX_train\u001b[0m\u001b[0;34m,\u001b[0m \u001b[0;34m**\u001b[0m\u001b[0mfit_params\u001b[0m\u001b[0;34m)\u001b[0m\u001b[0;34m\u001b[0m\u001b[0;34m\u001b[0m\u001b[0m\n\u001b[1;32m    679\u001b[0m         \u001b[0;32melse\u001b[0m\u001b[0;34m:\u001b[0m\u001b[0;34m\u001b[0m\u001b[0;34m\u001b[0m\u001b[0m\n\u001b[0;32m--> 680\u001b[0;31m             \u001b[0mestimator\u001b[0m\u001b[0;34m.\u001b[0m\u001b[0mfit\u001b[0m\u001b[0;34m(\u001b[0m\u001b[0mX_train\u001b[0m\u001b[0;34m,\u001b[0m \u001b[0my_train\u001b[0m\u001b[0;34m,\u001b[0m \u001b[0;34m**\u001b[0m\u001b[0mfit_params\u001b[0m\u001b[0;34m)\u001b[0m\u001b[0;34m\u001b[0m\u001b[0;34m\u001b[0m\u001b[0m\n\u001b[0m\u001b[1;32m    681\u001b[0m \u001b[0;34m\u001b[0m\u001b[0m\n\u001b[1;32m    682\u001b[0m     \u001b[0;32mexcept\u001b[0m \u001b[0mException\u001b[0m\u001b[0;34m:\u001b[0m\u001b[0;34m\u001b[0m\u001b[0;34m\u001b[0m\u001b[0m\n",
            "\u001b[0;32m/usr/local/lib/python3.8/dist-packages/sklearn/tree/_classes.py\u001b[0m in \u001b[0;36mfit\u001b[0;34m(self, X, y, sample_weight, check_input, X_idx_sorted)\u001b[0m\n\u001b[1;32m    935\u001b[0m         \"\"\"\n\u001b[1;32m    936\u001b[0m \u001b[0;34m\u001b[0m\u001b[0m\n\u001b[0;32m--> 937\u001b[0;31m         super().fit(\n\u001b[0m\u001b[1;32m    938\u001b[0m             \u001b[0mX\u001b[0m\u001b[0;34m,\u001b[0m\u001b[0;34m\u001b[0m\u001b[0;34m\u001b[0m\u001b[0m\n\u001b[1;32m    939\u001b[0m             \u001b[0my\u001b[0m\u001b[0;34m,\u001b[0m\u001b[0;34m\u001b[0m\u001b[0;34m\u001b[0m\u001b[0m\n",
            "\u001b[0;32m/usr/local/lib/python3.8/dist-packages/sklearn/tree/_classes.py\u001b[0m in \u001b[0;36mfit\u001b[0;34m(self, X, y, sample_weight, check_input, X_idx_sorted)\u001b[0m\n\u001b[1;32m    163\u001b[0m             \u001b[0mcheck_X_params\u001b[0m \u001b[0;34m=\u001b[0m \u001b[0mdict\u001b[0m\u001b[0;34m(\u001b[0m\u001b[0mdtype\u001b[0m\u001b[0;34m=\u001b[0m\u001b[0mDTYPE\u001b[0m\u001b[0;34m,\u001b[0m \u001b[0maccept_sparse\u001b[0m\u001b[0;34m=\u001b[0m\u001b[0;34m\"csc\"\u001b[0m\u001b[0;34m)\u001b[0m\u001b[0;34m\u001b[0m\u001b[0;34m\u001b[0m\u001b[0m\n\u001b[1;32m    164\u001b[0m             \u001b[0mcheck_y_params\u001b[0m \u001b[0;34m=\u001b[0m \u001b[0mdict\u001b[0m\u001b[0;34m(\u001b[0m\u001b[0mensure_2d\u001b[0m\u001b[0;34m=\u001b[0m\u001b[0;32mFalse\u001b[0m\u001b[0;34m,\u001b[0m \u001b[0mdtype\u001b[0m\u001b[0;34m=\u001b[0m\u001b[0;32mNone\u001b[0m\u001b[0;34m)\u001b[0m\u001b[0;34m\u001b[0m\u001b[0;34m\u001b[0m\u001b[0m\n\u001b[0;32m--> 165\u001b[0;31m             X, y = self._validate_data(\n\u001b[0m\u001b[1;32m    166\u001b[0m                 \u001b[0mX\u001b[0m\u001b[0;34m,\u001b[0m \u001b[0my\u001b[0m\u001b[0;34m,\u001b[0m \u001b[0mvalidate_separately\u001b[0m\u001b[0;34m=\u001b[0m\u001b[0;34m(\u001b[0m\u001b[0mcheck_X_params\u001b[0m\u001b[0;34m,\u001b[0m \u001b[0mcheck_y_params\u001b[0m\u001b[0;34m)\u001b[0m\u001b[0;34m\u001b[0m\u001b[0;34m\u001b[0m\u001b[0m\n\u001b[1;32m    167\u001b[0m             )\n",
            "\u001b[0;32m/usr/local/lib/python3.8/dist-packages/sklearn/base.py\u001b[0m in \u001b[0;36m_validate_data\u001b[0;34m(self, X, y, reset, validate_separately, **check_params)\u001b[0m\n\u001b[1;32m    576\u001b[0m                 \u001b[0;31m# :(\u001b[0m\u001b[0;34m\u001b[0m\u001b[0;34m\u001b[0m\u001b[0;34m\u001b[0m\u001b[0m\n\u001b[1;32m    577\u001b[0m                 \u001b[0mcheck_X_params\u001b[0m\u001b[0;34m,\u001b[0m \u001b[0mcheck_y_params\u001b[0m \u001b[0;34m=\u001b[0m \u001b[0mvalidate_separately\u001b[0m\u001b[0;34m\u001b[0m\u001b[0;34m\u001b[0m\u001b[0m\n\u001b[0;32m--> 578\u001b[0;31m                 \u001b[0mX\u001b[0m \u001b[0;34m=\u001b[0m \u001b[0mcheck_array\u001b[0m\u001b[0;34m(\u001b[0m\u001b[0mX\u001b[0m\u001b[0;34m,\u001b[0m \u001b[0;34m**\u001b[0m\u001b[0mcheck_X_params\u001b[0m\u001b[0;34m)\u001b[0m\u001b[0;34m\u001b[0m\u001b[0;34m\u001b[0m\u001b[0m\n\u001b[0m\u001b[1;32m    579\u001b[0m                 \u001b[0my\u001b[0m \u001b[0;34m=\u001b[0m \u001b[0mcheck_array\u001b[0m\u001b[0;34m(\u001b[0m\u001b[0my\u001b[0m\u001b[0;34m,\u001b[0m \u001b[0;34m**\u001b[0m\u001b[0mcheck_y_params\u001b[0m\u001b[0;34m)\u001b[0m\u001b[0;34m\u001b[0m\u001b[0;34m\u001b[0m\u001b[0m\n\u001b[1;32m    580\u001b[0m             \u001b[0;32melse\u001b[0m\u001b[0;34m:\u001b[0m\u001b[0;34m\u001b[0m\u001b[0;34m\u001b[0m\u001b[0m\n",
            "\u001b[0;32m/usr/local/lib/python3.8/dist-packages/sklearn/utils/validation.py\u001b[0m in \u001b[0;36mcheck_array\u001b[0;34m(array, accept_sparse, accept_large_sparse, dtype, order, copy, force_all_finite, ensure_2d, allow_nd, ensure_min_samples, ensure_min_features, estimator)\u001b[0m\n\u001b[1;32m    744\u001b[0m                     \u001b[0marray\u001b[0m \u001b[0;34m=\u001b[0m \u001b[0marray\u001b[0m\u001b[0;34m.\u001b[0m\u001b[0mastype\u001b[0m\u001b[0;34m(\u001b[0m\u001b[0mdtype\u001b[0m\u001b[0;34m,\u001b[0m \u001b[0mcasting\u001b[0m\u001b[0;34m=\u001b[0m\u001b[0;34m\"unsafe\"\u001b[0m\u001b[0;34m,\u001b[0m \u001b[0mcopy\u001b[0m\u001b[0;34m=\u001b[0m\u001b[0;32mFalse\u001b[0m\u001b[0;34m)\u001b[0m\u001b[0;34m\u001b[0m\u001b[0;34m\u001b[0m\u001b[0m\n\u001b[1;32m    745\u001b[0m                 \u001b[0;32melse\u001b[0m\u001b[0;34m:\u001b[0m\u001b[0;34m\u001b[0m\u001b[0;34m\u001b[0m\u001b[0m\n\u001b[0;32m--> 746\u001b[0;31m                     \u001b[0marray\u001b[0m \u001b[0;34m=\u001b[0m \u001b[0mnp\u001b[0m\u001b[0;34m.\u001b[0m\u001b[0masarray\u001b[0m\u001b[0;34m(\u001b[0m\u001b[0marray\u001b[0m\u001b[0;34m,\u001b[0m \u001b[0morder\u001b[0m\u001b[0;34m=\u001b[0m\u001b[0morder\u001b[0m\u001b[0;34m,\u001b[0m \u001b[0mdtype\u001b[0m\u001b[0;34m=\u001b[0m\u001b[0mdtype\u001b[0m\u001b[0;34m)\u001b[0m\u001b[0;34m\u001b[0m\u001b[0;34m\u001b[0m\u001b[0m\n\u001b[0m\u001b[1;32m    747\u001b[0m             \u001b[0;32mexcept\u001b[0m \u001b[0mComplexWarning\u001b[0m \u001b[0;32mas\u001b[0m \u001b[0mcomplex_warning\u001b[0m\u001b[0;34m:\u001b[0m\u001b[0;34m\u001b[0m\u001b[0;34m\u001b[0m\u001b[0m\n\u001b[1;32m    748\u001b[0m                 raise ValueError(\n",
            "\u001b[0;32m/usr/local/lib/python3.8/dist-packages/pandas/core/generic.py\u001b[0m in \u001b[0;36m__array__\u001b[0;34m(self, dtype)\u001b[0m\n\u001b[1;32m   1991\u001b[0m \u001b[0;34m\u001b[0m\u001b[0m\n\u001b[1;32m   1992\u001b[0m     \u001b[0;32mdef\u001b[0m \u001b[0m__array__\u001b[0m\u001b[0;34m(\u001b[0m\u001b[0mself\u001b[0m\u001b[0;34m,\u001b[0m \u001b[0mdtype\u001b[0m\u001b[0;34m:\u001b[0m \u001b[0mNpDtype\u001b[0m \u001b[0;34m|\u001b[0m \u001b[0;32mNone\u001b[0m \u001b[0;34m=\u001b[0m \u001b[0;32mNone\u001b[0m\u001b[0;34m)\u001b[0m \u001b[0;34m->\u001b[0m \u001b[0mnp\u001b[0m\u001b[0;34m.\u001b[0m\u001b[0mndarray\u001b[0m\u001b[0;34m:\u001b[0m\u001b[0;34m\u001b[0m\u001b[0;34m\u001b[0m\u001b[0m\n\u001b[0;32m-> 1993\u001b[0;31m         \u001b[0;32mreturn\u001b[0m \u001b[0mnp\u001b[0m\u001b[0;34m.\u001b[0m\u001b[0masarray\u001b[0m\u001b[0;34m(\u001b[0m\u001b[0mself\u001b[0m\u001b[0;34m.\u001b[0m\u001b[0m_values\u001b[0m\u001b[0;34m,\u001b[0m \u001b[0mdtype\u001b[0m\u001b[0;34m=\u001b[0m\u001b[0mdtype\u001b[0m\u001b[0;34m)\u001b[0m\u001b[0;34m\u001b[0m\u001b[0;34m\u001b[0m\u001b[0m\n\u001b[0m\u001b[1;32m   1994\u001b[0m \u001b[0;34m\u001b[0m\u001b[0m\n\u001b[1;32m   1995\u001b[0m     def __array_wrap__(\n",
            "\u001b[0;31mKeyboardInterrupt\u001b[0m: "
          ]
        }
      ],
      "source": [
        "dt = DecisionTreeClassifier(random_state=42)\n",
        "\n",
        "params = {'criterion': ['gini', 'entropy'], 'max_depth': range(1,10), 'max_leaf_nodes': list(range(2, 100)), 'min_samples_split': range(1,10), \n",
        "          'min_samples_leaf': range(1,5)}\n",
        "\n",
        "grid = GridSearchCV(dt, params, cv=10, scoring='accuracy', return_train_score=False,verbose=1)\n",
        "grid_search=grid.fit(X_train, y_train)"
      ]
    },
    {
      "cell_type": "code",
      "execution_count": null,
      "metadata": {
        "colab": {
          "base_uri": "https://localhost:8080/"
        },
        "id": "BLu_uCcO_vfL",
        "outputId": "3ff8d291-2bc6-428d-d3cf-cbfe5f94fd9a"
      },
      "outputs": [
        {
          "name": "stdout",
          "output_type": "stream",
          "text": [
            "GridSearch CV best score : 0.9600\n",
            "\n",
            "\n",
            "Parameters that give the best results : \n",
            "\n",
            " {'criterion': 'gini', 'max_depth': 1, 'min_samples_leaf': 1, 'min_samples_split': 2}\n",
            "\n",
            "\n",
            "Estimator that was chosen by the search : \n",
            "\n",
            " DecisionTreeClassifier(max_depth=1, random_state=42)\n"
          ]
        }
      ],
      "source": [
        "# best score achieved during the GridSearchCV\n",
        "print('GridSearch CV best score : {:.4f}\\n\\n'.format(grid.best_score_))\n",
        "\n",
        "\n",
        "# print parameters that give the best results\n",
        "print('Parameters that give the best results :','\\n\\n', (grid.best_params_))\n",
        "\n",
        "\n",
        "# print estimator that was chosen by the GridSearch\n",
        "print('\\n\\nEstimator that was chosen by the search :','\\n\\n', (grid.best_estimator_))"
      ]
    },
    {
      "cell_type": "code",
      "execution_count": null,
      "metadata": {
        "id": "Xr9-iAUZzjIn"
      },
      "outputs": [],
      "source": [
        "dt_pipeline = Pipeline(steps = [('scale',StandardScaler()),('DT',DecisionTreeClassifier(max_depth=1, random_state=42))])\n",
        "\n",
        "dt_pipeline.fit(X_train,y_train)\n",
        "\n",
        "dt_tuned_pred = dt_pipeline.predict(X_test)"
      ]
    },
    {
      "cell_type": "code",
      "execution_count": null,
      "metadata": {
        "colab": {
          "base_uri": "https://localhost:8080/"
        },
        "id": "UfOO40Piztdr",
        "outputId": "472268d7-7073-463c-aea6-bba4dd237b90"
      },
      "outputs": [
        {
          "name": "stdout",
          "output_type": "stream",
          "text": [
            "              precision    recall  f1-score   support\n",
            "\n",
            "           0       0.88      0.95      0.91        37\n",
            "           1       0.97      0.94      0.96        81\n",
            "\n",
            "    accuracy                           0.94       118\n",
            "   macro avg       0.92      0.94      0.93       118\n",
            "weighted avg       0.94      0.94      0.94       118\n",
            "\n",
            "Accuracy Score:  0.940677966101695\n",
            "F1 Score:  0.9559748427672956\n"
          ]
        }
      ],
      "source": [
        "print(classification_report(y_test,dt_tuned_pred))\n",
        "\n",
        "print('Accuracy Score: ',accuracy_score(y_test,dt_tuned_pred))\n",
        "print('F1 Score: ',f1_score(y_test,dt_tuned_pred))"
      ]
    },
    {
      "cell_type": "code",
      "execution_count": null,
      "metadata": {
        "colab": {
          "base_uri": "https://localhost:8080/"
        },
        "id": "JlyHoNakzyTz",
        "outputId": "b39d2bc0-b294-4d62-80db-c9b6a64f0acd"
      },
      "outputs": [
        {
          "name": "stdout",
          "output_type": "stream",
          "text": [
            "Fitting 10 folds for each of 4950 candidates, totalling 49500 fits\n"
          ]
        }
      ],
      "source": [
        "mlp = MLPClassifier(random_state=42)\n",
        "\n",
        "params = {'solver': ['lbfgs'], 'max_iter': [1000,1100,1200,1300,1400,1500,1600,1700,1800,1900,2000 ], \n",
        "              'alpha': 10.0 ** -np.arange(1, 10), 'hidden_layer_sizes':np.arange(10, 15), \n",
        "              'random_state':[0,1,2,3,4,5,6,7,8,9]}\n",
        "\n",
        "grid = GridSearchCV(mlp, params, cv=10, scoring='accuracy', return_train_score=False,verbose=1)\n",
        "grid_search=grid.fit(X_train, y_train)"
      ]
    },
    {
      "cell_type": "code",
      "execution_count": null,
      "metadata": {
        "colab": {
          "base_uri": "https://localhost:8080/"
        },
        "id": "GQF-9x2ABKbd",
        "outputId": "7bbe0dac-2c4a-4e45-a641-a6fd78b27fd6"
      },
      "outputs": [
        {
          "name": "stdout",
          "output_type": "stream",
          "text": [
            "GridSearch CV best score : 1.0000\n",
            "\n",
            "\n",
            "Parameters that give the best results : \n",
            "\n",
            " {'alpha': 0.01, 'hidden_layer_sizes': 11, 'max_iter': 1000, 'random_state': 1, 'solver': 'lbfgs'}\n",
            "\n",
            "\n",
            "Estimator that was chosen by the search : \n",
            "\n",
            " MLPClassifier(alpha=0.01, hidden_layer_sizes=11, max_iter=1000, random_state=1,\n",
            "              solver='lbfgs')\n"
          ]
        }
      ],
      "source": [
        "# best score achieved during the GridSearchCV\n",
        "print('GridSearch CV best score : {:.4f}\\n\\n'.format(grid.best_score_))\n",
        "\n",
        "\n",
        "# print parameters that give the best results\n",
        "print('Parameters that give the best results :','\\n\\n', (grid.best_params_))\n",
        "\n",
        "\n",
        "# print estimator that was chosen by the GridSearch\n",
        "print('\\n\\nEstimator that was chosen by the search :','\\n\\n', (grid.best_estimator_))"
      ]
    },
    {
      "cell_type": "code",
      "execution_count": null,
      "metadata": {
        "id": "E3f85iWX0RmJ"
      },
      "outputs": [],
      "source": [
        "nn_pipeline = Pipeline(steps = [('scale',StandardScaler()),('NN',MLPClassifier(alpha=0.01, hidden_layer_sizes=11, max_iter=1000, random_state=1,\n",
        "              solver='lbfgs'))])\n",
        "\n",
        "nn_pipeline.fit(X_train,y_train)\n",
        "\n",
        "nn_tuned_pred = nn_pipeline.predict(X_test)"
      ]
    },
    {
      "cell_type": "code",
      "execution_count": null,
      "metadata": {
        "colab": {
          "base_uri": "https://localhost:8080/"
        },
        "id": "8gLEPzqFPUXr",
        "outputId": "abe9ac64-a315-4799-b617-7c0c961050c0"
      },
      "outputs": [
        {
          "name": "stdout",
          "output_type": "stream",
          "text": [
            "              precision    recall  f1-score   support\n",
            "\n",
            "           0       0.80      0.97      0.88        37\n",
            "           1       0.99      0.89      0.94        81\n",
            "\n",
            "    accuracy                           0.92       118\n",
            "   macro avg       0.89      0.93      0.91       118\n",
            "weighted avg       0.93      0.92      0.92       118\n",
            "\n",
            "Accuracy Score:  0.9152542372881356\n",
            "F1 Score:  0.935064935064935\n"
          ]
        }
      ],
      "source": [
        "print(classification_report(y_test,nn_tuned_pred))\n",
        "\n",
        "print('Accuracy Score: ',accuracy_score(y_test,nn_tuned_pred))\n",
        "print('F1 Score: ',f1_score(y_test,nn_tuned_pred))"
      ]
    },
    {
      "cell_type": "code",
      "execution_count": null,
      "metadata": {
        "id": "YlbGxwjB4dWo"
      },
      "outputs": [],
      "source": [
        "rf_pipeline.fit(X_train,y_train)\n",
        "svm_pipeline.fit(X_train,y_train)\n",
        "logreg_pipeline.fit(X_train,y_train)\n",
        "knn_pipeline.fit(X_train, y_train)\n",
        "dt_pipeline.fit(X_train, y_train)\n",
        "nn_pipeline.fit(X_train, y_train)\n",
        "\n",
        "rf_pred = rf_pipeline.predict(X_test)\n",
        "svm_pred = svm_pipeline.predict(X_test)\n",
        "logreg_pred = logreg_pipeline.predict(X_test)\n",
        "knn_pred = knn_pipeline.predict(X_test)\n",
        "dt_pred = knn_pipeline.predict(X_test)\n",
        "nn_pred = knn_pipeline.predict(X_test)\n",
        "\n",
        "from sklearn.metrics import confusion_matrix\n",
        "\n",
        "rf_cm  = confusion_matrix(y_test,rf_pred )\n",
        "svm_cm = confusion_matrix(y_test,svm_pred)\n",
        "logreg_cm  = confusion_matrix(y_test,logreg_pred )\n",
        "knn_cm = confusion_matrix(y_test, knn_pred)\n",
        "dt_cm = confusion_matrix(y_test, dt_pred)\n",
        "nn_cm = confusion_matrix(y_test, nn_pred)\n",
        "\n",
        "from sklearn.metrics import f1_score\n",
        "\n",
        "rf_f1  = f1_score(y_test,rf_pred)\n",
        "svm_f1 = f1_score(y_test,svm_pred)\n",
        "logreg_f1  = f1_score(y_test,logreg_pred)\n",
        "knn_f1 = f1_score(y_test, knn_pred)\n",
        "dt_f1 = f1_score(y_test, dt_pred)\n",
        "nn_f1 = f1_score(y_test, nn_pred)"
      ]
    },
    {
      "cell_type": "code",
      "execution_count": null,
      "metadata": {
        "id": "mV5JJmSy2vRe"
      },
      "outputs": [],
      "source": [
        "# Make dataframes to plot\n",
        "\n",
        "from sklearn.metrics import recall_score, precision_score, roc_auc_score\n",
        "\n",
        "rf_df = pd.DataFrame(data=[f1_score(y_test,rf_pred),accuracy_score(y_test, rf_pred), recall_score(y_test, rf_pred),\n",
        "                   precision_score(y_test, rf_pred), roc_auc_score(y_test, rf_pred)], \n",
        "             columns=['Random Forest Score'],\n",
        "             index=[\"F1\",\"Accuracy\", \"Recall\", \"Precision\", \"ROC AUC Score\"])\n",
        "\n",
        "svm_df = pd.DataFrame(data=[f1_score(y_test,svm_pred),accuracy_score(y_test, svm_pred), recall_score(y_test, svm_pred),\n",
        "                   precision_score(y_test, svm_pred), roc_auc_score(y_test, svm_pred)], \n",
        "             columns=['Support Vector Machine (SVM) Score'],\n",
        "             index=[\"F1\",\"Accuracy\", \"Recall\", \"Precision\", \"ROC AUC Score\"])\n",
        "\n",
        "lr_df = pd.DataFrame(data=[f1_score(y_test,logreg_tuned_pred),accuracy_score(y_test, logreg_tuned_pred), recall_score(y_test, logreg_tuned_pred),\n",
        "                   precision_score(y_test, logreg_tuned_pred), roc_auc_score(y_test, logreg_tuned_pred)], \n",
        "             columns=['Tuned Logistic Regression Score'],\n",
        "             index=[\"F1\",\"Accuracy\", \"Recall\", \"Precision\", \"ROC AUC Score\"])\n",
        "\n",
        "knn_df = pd.DataFrame(data=[f1_score(y_test,knn_tuned_pred),accuracy_score(y_test, knn_tuned_pred), recall_score(y_test, knn_tuned_pred),\n",
        "                   precision_score(y_test, knn_tuned_pred), roc_auc_score(y_test, knn_tuned_pred)], \n",
        "             columns=['K-Nearest-Neighbors Score'],\n",
        "             index=[\"F1\",\"Accuracy\", \"Recall\", \"Precision\", \"ROC AUC Score\"])\n",
        "\n",
        "dt_df = pd.DataFrame(data=[f1_score(y_test,dt_tuned_pred),accuracy_score(y_test, dt_tuned_pred), recall_score(y_test, dt_tuned_pred),\n",
        "                   precision_score(y_test, dt_tuned_pred), roc_auc_score(y_test, dt_tuned_pred)], \n",
        "             columns=['Decision Tree Classifier Score'],\n",
        "             index=[\"F1\",\"Accuracy\", \"Recall\", \"Precision\", \"ROC AUC Score\"])\n",
        "\n",
        "nn_df = pd.DataFrame(data=[f1_score(y_test,nn_tuned_pred),accuracy_score(y_test, nn_tuned_pred), recall_score(y_test, nn_tuned_pred),\n",
        "                   precision_score(y_test, nn_tuned_pred), roc_auc_score(y_test, nn_tuned_pred)], \n",
        "             columns=['Multilayer Perceptron Neural Network Score'],\n",
        "             index=[\"F1\",\"Accuracy\", \"Recall\", \"Precision\", \"ROC AUC Score\"])"
      ]
    },
    {
      "cell_type": "code",
      "execution_count": null,
      "metadata": {
        "colab": {
          "base_uri": "https://localhost:8080/",
          "height": 380
        },
        "id": "Cp58DUr322OB",
        "outputId": "d5a8fb9f-8b3a-4107-ec76-ddbc943f2097"
      },
      "outputs": [
        {
          "data": {
            "image/png": "[encoded data removed]",
            "text/plain": [
              "<Figure size 1080x2160 with 1 Axes>"
            ]
          },
          "metadata": {},
          "output_type": "display_data"
        }
      ],
      "source": [
        "df_models = round(pd.concat([rf_df,svm_df,lr_df,knn_df, dt_df, nn_df], axis=1),3)\n",
        "import matplotlib\n",
        "colors = [\"lightgray\",\"lightgray\",\"#0f4c81\"]\n",
        "colormap = matplotlib.colors.LinearSegmentedColormap.from_list(\"\", colors)\n",
        "\n",
        "background_color = \"#fbfbfb\"\n",
        "\n",
        "fig = plt.figure(figsize=(15,30)) # create figure\n",
        "gs = fig.add_gridspec(4, 2)\n",
        "gs.update(wspace=0.1, hspace=0.5)\n",
        "ax0 = fig.add_subplot(gs[0, :])\n",
        "\n",
        "sns.heatmap(df_models.T, cmap=colormap,annot=True,fmt=\".1%\",vmin=0.80,vmax=1, linewidths=2.5,cbar=False,ax=ax0,annot_kws={\"fontsize\":18})\n",
        "fig.patch.set_facecolor(background_color) # figure background color\n",
        "ax0.set_facecolor(background_color) \n",
        "\n",
        "ax0.text(0,-0.5,'Model Comparison',fontsize=18,fontweight='bold',fontfamily='serif')\n",
        "ax0.tick_params(axis=u'both', which=u'both',length=0)\n",
        "\n",
        "plt.show()"
      ]
    },
    {
      "cell_type": "code",
      "execution_count": null,
      "metadata": {
        "colab": {
          "base_uri": "https://localhost:8080/",
          "height": 1000
        },
        "id": "-W99kU7Q3KUv",
        "outputId": "8ca0d3f2-61ed-4294-c335-cbdd3211b92b"
      },
      "outputs": [
        {
          "data": {
            "image/png": "[encoded data removed]",
            "text/plain": [
              "<Figure size 720x1440 with 6 Axes>"
            ]
          },
          "metadata": {},
          "output_type": "display_data"
        }
      ],
      "source": [
        "# Plotting our results\n",
        "\n",
        "colors = [\"lightgray\",\"#0f4c81\",\"#0f4c81\",\"#0f4c81\",\"#0f4c81\",\"#0f4c81\",\"#0f4c81\",\"#0f4c81\"]\n",
        "colormap = matplotlib.colors.LinearSegmentedColormap.from_list(\"\", colors)\n",
        "\n",
        "\n",
        "background_color = \"#fbfbfb\"\n",
        "\n",
        "fig = plt.figure(figsize=(10,20)) # create figure\n",
        "gs = fig.add_gridspec(6, 2)\n",
        "gs.update(wspace=0.1, hspace=0.8)\n",
        "ax0 = fig.add_subplot(gs[0, :])\n",
        "ax1 = fig.add_subplot(gs[1, :])\n",
        "ax2 = fig.add_subplot(gs[2, :])\n",
        "ax3 = fig.add_subplot(gs[3, :])\n",
        "ax4 = fig.add_subplot(gs[4, :])\n",
        "ax5 = fig.add_subplot(gs[5, :])\n",
        "ax0.set_facecolor(background_color) # axes background color\n",
        "\n",
        "# Overall\n",
        "sns.heatmap(rf_cm, cmap=colormap,annot=True,fmt=\"d\", linewidths=5,cbar=False,ax=ax0,\n",
        "            yticklabels=['Actual Normal','Actual Oligodendroglioma'],xticklabels=['Predicted Normal','Predicted Oligodendroglioma'],annot_kws={\"fontsize\":12})\n",
        "\n",
        "sns.heatmap(logreg_cm, cmap=colormap,annot=True,fmt=\"d\", linewidths=5,cbar=False,ax=ax1,\n",
        "            yticklabels=['Actual Normal','Actual Oligodendroglioma'],xticklabels=['Predicted Normal','Predicted Oligodendroglioma'],annot_kws={\"fontsize\":12})\n",
        "\n",
        "sns.heatmap(svm_cm, cmap=colormap,annot=True,fmt=\"d\", linewidths=5,cbar=False,ax=ax2,\n",
        "            yticklabels=['Actual Normal','Actual Oligodendroglioma'],xticklabels=['Predicted Normal','Predicted Oligodendroglioma'],annot_kws={\"fontsize\":12})\n",
        "\n",
        "sns.heatmap(knn_cm, cmap=colormap,annot=True,fmt=\"d\", linewidths=5,cbar=False,ax=ax3,\n",
        "            yticklabels=['Actual Normal','Actual Oligodendroglioma'],xticklabels=['Predicted Normal','Predicted Oligodendroglioma'],annot_kws={\"fontsize\":12})\n",
        "\n",
        "sns.heatmap(dt_cm, cmap=colormap,annot=True,fmt=\"d\", linewidths=5,cbar=False,ax=ax4,\n",
        "            yticklabels=['Actual Normal','Actual Oligodendroglioma'],xticklabels=['Predicted Normal','Predicted Oligodendroglioma'],annot_kws={\"fontsize\":12})\n",
        "\n",
        "sns.heatmap(nn_cm, cmap=colormap,annot=True,fmt=\"d\", linewidths=5,cbar=False,ax=ax5,\n",
        "            yticklabels=['Actual Normal','Actual Oligodendroglioma'],xticklabels=['Predicted Normal','Predicted Oligodendroglioma'],annot_kws={\"fontsize\":12})\n",
        "\n",
        "ax0.tick_params(axis=u'both', which=u'both',length=0)\n",
        "background_color = \"#fbfbfb\"\n",
        "fig.patch.set_facecolor(background_color) # figure background color\n",
        "ax0.set_facecolor(background_color) \n",
        "ax1.tick_params(axis=u'both', which=u'both',length=0)\n",
        "ax1.set_facecolor(background_color) \n",
        "ax2.tick_params(axis=u'both', which=u'both',length=0)\n",
        "ax2.set_facecolor(background_color)\n",
        "ax3.tick_params(axis=u'both', which=u'both',length=0)\n",
        "ax3.set_facecolor(background_color)\n",
        "ax4.tick_params(axis=u'both', which=u'both',length=0)\n",
        "ax4.set_facecolor(background_color)\n",
        "ax5.tick_params(axis=u'both', which=u'both',length=0)\n",
        "ax5.set_facecolor(background_color)\n",
        "\n",
        "ax0.text(0,-0.75,'Random Forest Performance',fontsize=18,fontweight='bold',fontfamily='serif')\n",
        "\n",
        "ax1.text(0,-0.75,'Logistic Regression Performance',fontsize=18,fontweight='bold',fontfamily='serif')\n",
        "\n",
        "ax2.text(0,-0.75,'Support Vector Machine Performance',fontsize=18,fontweight='bold',fontfamily='serif')\n",
        "\n",
        "ax3.text(0,-0.75,'K-Nearest-Neighbors Performance',fontsize=18,fontweight='bold',fontfamily='serif')\n",
        "\n",
        "ax4.text(0,-0.75,'Decision Tree Performance',fontsize=18,fontweight='bold',fontfamily='serif')\n",
        "\n",
        "ax5.text(0,-0.75,'Neural Network: MLP Performance',fontsize=18,fontweight='bold',fontfamily='serif')\n",
        "\n",
        "plt.show()"
      ]
    }
  ],
  "metadata": {
    "colab": {
      "provenance": []
    },
    "kernelspec": {
      "display_name": "Python 3",
      "name": "python3"
    },
    "language_info": {
      "name": "python"
    }
  },
  "nbformat": 4,
  "nbformat_minor": 0
}
