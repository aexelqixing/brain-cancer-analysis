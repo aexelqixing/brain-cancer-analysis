{
  "cells": [
    {
      "cell_type": "code",
      "execution_count": 1,
      "metadata": {
        "id": "AmHOpUbMwN_g"
      },
      "outputs": [],
      "source": [
        "# This Python notebook was used for creating a support vector machine to classify oligodendroglioma from normal samples, as well as compare the SVM with other machine learning models\n",
        "\n",
        "# importing all the libraries\n",
        "import numpy as np # linear algebra\n",
        "import pandas as pd # data processing, CSV file I/O (e.g. pd.read_csv)\n",
        "import matplotlib.pyplot as plt # for data visualization\n",
        "import seaborn as sns # for statistical data visualization"
      ]
    },
    {
      "cell_type": "code",
      "execution_count": 2,
      "metadata": {
        "colab": {
          "base_uri": "https://localhost:8080/",
          "height": 424
        },
        "id": "JoPR7GW5wg5a",
        "outputId": "301e7170-7b50-482d-b2fe-03743969d1a3"
      },
      "outputs": [
        {
          "output_type": "execute_result",
          "data": {
            "text/plain": [
              "                        tumor\n",
              "GSM2899558             normal\n",
              "GSM2899559             normal\n",
              "GSM2899560             normal\n",
              "GSM2899561             normal\n",
              "GSM2899562             normal\n",
              "...                       ...\n",
              "GSM97949    oligodendroglioma\n",
              "GSM97956    oligodendroglioma\n",
              "GSM97962    oligodendroglioma\n",
              "GSM97964    oligodendroglioma\n",
              "GSM97970    oligodendroglioma\n",
              "\n",
              "[168 rows x 1 columns]"
            ],
            "text/html": [
              "\n",
              "  <div id=\"df-bed855bb-9a2d-4668-b142-45de70947ad7\">\n",
              "    <div class=\"colab-df-container\">\n",
              "      <div>\n",
              "<style scoped>\n",
              "    .dataframe tbody tr th:only-of-type {\n",
              "        vertical-align: middle;\n",
              "    }\n",
              "\n",
              "    .dataframe tbody tr th {\n",
              "        vertical-align: top;\n",
              "    }\n",
              "\n",
              "    .dataframe thead th {\n",
              "        text-align: right;\n",
              "    }\n",
              "</style>\n",
              "<table border=\"1\" class=\"dataframe\">\n",
              "  <thead>\n",
              "    <tr style=\"text-align: right;\">\n",
              "      <th></th>\n",
              "      <th>tumor</th>\n",
              "    </tr>\n",
              "  </thead>\n",
              "  <tbody>\n",
              "    <tr>\n",
              "      <th>GSM2899558</th>\n",
              "      <td>normal</td>\n",
              "    </tr>\n",
              "    <tr>\n",
              "      <th>GSM2899559</th>\n",
              "      <td>normal</td>\n",
              "    </tr>\n",
              "    <tr>\n",
              "      <th>GSM2899560</th>\n",
              "      <td>normal</td>\n",
              "    </tr>\n",
              "    <tr>\n",
              "      <th>GSM2899561</th>\n",
              "      <td>normal</td>\n",
              "    </tr>\n",
              "    <tr>\n",
              "      <th>GSM2899562</th>\n",
              "      <td>normal</td>\n",
              "    </tr>\n",
              "    <tr>\n",
              "      <th>...</th>\n",
              "      <td>...</td>\n",
              "    </tr>\n",
              "    <tr>\n",
              "      <th>GSM97949</th>\n",
              "      <td>oligodendroglioma</td>\n",
              "    </tr>\n",
              "    <tr>\n",
              "      <th>GSM97956</th>\n",
              "      <td>oligodendroglioma</td>\n",
              "    </tr>\n",
              "    <tr>\n",
              "      <th>GSM97962</th>\n",
              "      <td>oligodendroglioma</td>\n",
              "    </tr>\n",
              "    <tr>\n",
              "      <th>GSM97964</th>\n",
              "      <td>oligodendroglioma</td>\n",
              "    </tr>\n",
              "    <tr>\n",
              "      <th>GSM97970</th>\n",
              "      <td>oligodendroglioma</td>\n",
              "    </tr>\n",
              "  </tbody>\n",
              "</table>\n",
              "<p>168 rows × 1 columns</p>\n",
              "</div>\n",
              "      <button class=\"colab-df-convert\" onclick=\"convertToInteractive('df-bed855bb-9a2d-4668-b142-45de70947ad7')\"\n",
              "              title=\"Convert this dataframe to an interactive table.\"\n",
              "              style=\"display:none;\">\n",
              "        \n",
              "  <svg xmlns=\"http://www.w3.org/2000/svg\" height=\"24px\"viewBox=\"0 0 24 24\"\n",
              "       width=\"24px\">\n",
              "    <path d=\"M0 0h24v24H0V0z\" fill=\"none\"/>\n",
              "    <path d=\"M18.56 5.44l.94 2.06.94-2.06 2.06-.94-2.06-.94-.94-2.06-.94 2.06-2.06.94zm-11 1L8.5 8.5l.94-2.06 2.06-.94-2.06-.94L8.5 2.5l-.94 2.06-2.06.94zm10 10l.94 2.06.94-2.06 2.06-.94-2.06-.94-.94-2.06-.94 2.06-2.06.94z\"/><path d=\"M17.41 7.96l-1.37-1.37c-.4-.4-.92-.59-1.43-.59-.52 0-1.04.2-1.43.59L10.3 9.45l-7.72 7.72c-.78.78-.78 2.05 0 2.83L4 21.41c.39.39.9.59 1.41.59.51 0 1.02-.2 1.41-.59l7.78-7.78 2.81-2.81c.8-.78.8-2.07 0-2.86zM5.41 20L4 18.59l7.72-7.72 1.47 1.35L5.41 20z\"/>\n",
              "  </svg>\n",
              "      </button>\n",
              "      \n",
              "  <style>\n",
              "    .colab-df-container {\n",
              "      display:flex;\n",
              "      flex-wrap:wrap;\n",
              "      gap: 12px;\n",
              "    }\n",
              "\n",
              "    .colab-df-convert {\n",
              "      background-color: #E8F0FE;\n",
              "      border: none;\n",
              "      border-radius: 50%;\n",
              "      cursor: pointer;\n",
              "      display: none;\n",
              "      fill: #1967D2;\n",
              "      height: 32px;\n",
              "      padding: 0 0 0 0;\n",
              "      width: 32px;\n",
              "    }\n",
              "\n",
              "    .colab-df-convert:hover {\n",
              "      background-color: #E2EBFA;\n",
              "      box-shadow: 0px 1px 2px rgba(60, 64, 67, 0.3), 0px 1px 3px 1px rgba(60, 64, 67, 0.15);\n",
              "      fill: #174EA6;\n",
              "    }\n",
              "\n",
              "    [theme=dark] .colab-df-convert {\n",
              "      background-color: #3B4455;\n",
              "      fill: #D2E3FC;\n",
              "    }\n",
              "\n",
              "    [theme=dark] .colab-df-convert:hover {\n",
              "      background-color: #434B5C;\n",
              "      box-shadow: 0px 1px 3px 1px rgba(0, 0, 0, 0.15);\n",
              "      filter: drop-shadow(0px 1px 2px rgba(0, 0, 0, 0.3));\n",
              "      fill: #FFFFFF;\n",
              "    }\n",
              "  </style>\n",
              "\n",
              "      <script>\n",
              "        const buttonEl =\n",
              "          document.querySelector('#df-bed855bb-9a2d-4668-b142-45de70947ad7 button.colab-df-convert');\n",
              "        buttonEl.style.display =\n",
              "          google.colab.kernel.accessAllowed ? 'block' : 'none';\n",
              "\n",
              "        async function convertToInteractive(key) {\n",
              "          const element = document.querySelector('#df-bed855bb-9a2d-4668-b142-45de70947ad7');\n",
              "          const dataTable =\n",
              "            await google.colab.kernel.invokeFunction('convertToInteractive',\n",
              "                                                     [key], {});\n",
              "          if (!dataTable) return;\n",
              "\n",
              "          const docLinkHtml = 'Like what you see? Visit the ' +\n",
              "            '<a target=\"_blank\" href=https://colab.research.google.com/notebooks/data_table.ipynb>data table notebook</a>'\n",
              "            + ' to learn more about interactive tables.';\n",
              "          element.innerHTML = '';\n",
              "          dataTable['output_type'] = 'display_data';\n",
              "          await google.colab.output.renderOutput(dataTable, element);\n",
              "          const docLink = document.createElement('div');\n",
              "          docLink.innerHTML = docLinkHtml;\n",
              "          element.appendChild(docLink);\n",
              "        }\n",
              "      </script>\n",
              "    </div>\n",
              "  </div>\n",
              "  "
            ]
          },
          "metadata": {},
          "execution_count": 2
        }
      ],
      "source": [
        "# read in the metadata for oligodendroglioma\n",
        "metadata = pd.read_csv('interesting_metadata_for_oligo_vs_normal.csv')\n",
        "metadata = metadata[[\"Unnamed: 0\", \"tumor\"]]\n",
        "metadata.rename(columns={'Unnamed: 0':'sample_name'}, inplace=True)\n",
        "metadata = metadata.set_index('sample_name', drop=False).rename_axis(None)\n",
        "metadata = metadata.iloc[: , 1:]\n",
        "metadata"
      ]
    },
    {
      "cell_type": "code",
      "execution_count": 3,
      "metadata": {
        "colab": {
          "base_uri": "https://localhost:8080/"
        },
        "id": "82_RDo9swoI_",
        "outputId": "e1a37422-bfa4-442f-ab6f-5f30925a964e"
      },
      "outputs": [
        {
          "output_type": "execute_result",
          "data": {
            "text/plain": [
              "oligodendroglioma    117\n",
              "normal                51\n",
              "Name: tumor, dtype: int64"
            ]
          },
          "metadata": {},
          "execution_count": 3
        }
      ],
      "source": [
        "# get the number of samples for each label\n",
        "metadata[\"tumor\"].value_counts()"
      ]
    },
    {
      "cell_type": "code",
      "execution_count": 7,
      "metadata": {
        "colab": {
          "base_uri": "https://localhost:8080/",
          "height": 488
        },
        "id": "FlnFbpmHwqHj",
        "outputId": "e94287be-7ee4-4d5b-84b1-1fafdc99d1b8"
      },
      "outputs": [
        {
          "output_type": "execute_result",
          "data": {
            "text/plain": [
              "                        tumor      CREG2  SLC39A12     RBFOX1    DNAJA4  \\\n",
              "GSM2899558             normal   9.851671  8.362494  10.671862  7.018926   \n",
              "GSM2899559             normal  10.004868  8.514118  10.774532  6.265091   \n",
              "GSM2899560             normal  10.082971  8.117597  11.024331  5.668174   \n",
              "GSM2899561             normal   9.613305  8.337773  10.418179  5.534756   \n",
              "GSM2899562             normal   8.457482  8.695391  11.186727  7.716112   \n",
              "...                       ...        ...       ...        ...       ...   \n",
              "GSM97949    oligodendroglioma   9.027686  9.300857  11.115386  6.975324   \n",
              "GSM97956    oligodendroglioma   6.994399  6.047246   8.573914  4.726631   \n",
              "GSM97962    oligodendroglioma    7.67684  6.061922    8.23299  4.665596   \n",
              "GSM97964    oligodendroglioma   6.142205  5.946772   8.656033  5.024079   \n",
              "GSM97970    oligodendroglioma   8.185996  7.106446   8.962553  4.979888   \n",
              "\n",
              "               OLFM3     OLFM3     MYT1L PALM2AKAP2   ZNF385B  ...     PDE1A  \\\n",
              "GSM2899558  8.996324  8.427248  7.591996   7.780938   7.14333  ...  7.928691   \n",
              "GSM2899559  9.206954  8.561028   8.66956   7.695347  6.765222  ...  8.862359   \n",
              "GSM2899560  9.102236  8.218835  9.025794   7.571697  7.051955  ...  8.086636   \n",
              "GSM2899561  8.519577  8.191908   7.66378   7.490396  6.907394  ...  8.103343   \n",
              "GSM2899562  8.684439  8.094604  8.846499   8.851955  7.658566  ...  8.733817   \n",
              "...              ...       ...       ...        ...       ...  ...       ...   \n",
              "GSM97949    9.424444   8.94623  9.083982   7.286302  7.863392  ...  8.438254   \n",
              "GSM97956     6.26679  5.337717  6.648777   5.483084  5.225153  ...  6.362447   \n",
              "GSM97962     5.98233  5.211924  5.478844   5.092967  4.662381  ...  6.592222   \n",
              "GSM97964    5.851491   5.35864   7.25225   5.139143  5.072622  ...  5.987614   \n",
              "GSM97970    6.603919  5.520827  7.590051   6.599276  5.354979  ...  6.622328   \n",
              "\n",
              "              ARHGEF7    KRT222     GABRA1     HTR2A        NaN      NEFH  \\\n",
              "GSM2899558   9.883658  9.042614  10.500672  9.641306   8.402532  9.567037   \n",
              "GSM2899559   9.701488  8.098819  10.542419  9.495524   7.767477  8.744901   \n",
              "GSM2899560   9.364249  8.018005  10.657301  9.144482   7.002602  9.765754   \n",
              "GSM2899561   9.176542  8.369438   9.848985  9.500753   8.079844  9.138567   \n",
              "GSM2899562  10.535769  7.323901  11.593391  9.951097   8.282525  9.287942   \n",
              "...               ...       ...        ...       ...        ...       ...   \n",
              "GSM97949      9.75556  8.342702  11.519143  9.686889   8.828929  9.811604   \n",
              "GSM97956     8.035177  5.226744   8.096293  8.161451  11.185226  7.276039   \n",
              "GSM97962     8.102213  5.208956   7.827442  7.164248  11.299513  7.164679   \n",
              "GSM97964      7.60209  5.295106    8.20263  6.381401  10.761082   7.36401   \n",
              "GSM97970     7.710634  5.625216   9.479509  7.186823  11.201734  8.498796   \n",
              "\n",
              "               PHF24   PPP1R16B     FERMT1  \n",
              "GSM2899558  9.354607  10.082158   7.101034  \n",
              "GSM2899559  9.297281  10.151204   7.223274  \n",
              "GSM2899560  8.893805   9.825098   6.898798  \n",
              "GSM2899561  8.461969   9.779112   7.256169  \n",
              "GSM2899562  9.291152  10.651021   7.088356  \n",
              "...              ...        ...        ...  \n",
              "GSM97949    9.091557  10.517268   7.769258  \n",
              "GSM97956    6.549953   8.619844  11.390267  \n",
              "GSM97962    6.751209   8.282735  11.338484  \n",
              "GSM97964    6.643271   8.456142     11.411  \n",
              "GSM97970    7.023992   8.768752  10.412549  \n",
              "\n",
              "[168 rows x 372 columns]"
            ],
            "text/html": [
              "\n",
              "  <div id=\"df-9b27ee94-f1a2-4202-92bf-43760cc10c18\">\n",
              "    <div class=\"colab-df-container\">\n",
              "      <div>\n",
              "<style scoped>\n",
              "    .dataframe tbody tr th:only-of-type {\n",
              "        vertical-align: middle;\n",
              "    }\n",
              "\n",
              "    .dataframe tbody tr th {\n",
              "        vertical-align: top;\n",
              "    }\n",
              "\n",
              "    .dataframe thead th {\n",
              "        text-align: right;\n",
              "    }\n",
              "</style>\n",
              "<table border=\"1\" class=\"dataframe\">\n",
              "  <thead>\n",
              "    <tr style=\"text-align: right;\">\n",
              "      <th></th>\n",
              "      <th>tumor</th>\n",
              "      <th>CREG2</th>\n",
              "      <th>SLC39A12</th>\n",
              "      <th>RBFOX1</th>\n",
              "      <th>DNAJA4</th>\n",
              "      <th>OLFM3</th>\n",
              "      <th>OLFM3</th>\n",
              "      <th>MYT1L</th>\n",
              "      <th>PALM2AKAP2</th>\n",
              "      <th>ZNF385B</th>\n",
              "      <th>...</th>\n",
              "      <th>PDE1A</th>\n",
              "      <th>ARHGEF7</th>\n",
              "      <th>KRT222</th>\n",
              "      <th>GABRA1</th>\n",
              "      <th>HTR2A</th>\n",
              "      <th>NaN</th>\n",
              "      <th>NEFH</th>\n",
              "      <th>PHF24</th>\n",
              "      <th>PPP1R16B</th>\n",
              "      <th>FERMT1</th>\n",
              "    </tr>\n",
              "  </thead>\n",
              "  <tbody>\n",
              "    <tr>\n",
              "      <th>GSM2899558</th>\n",
              "      <td>normal</td>\n",
              "      <td>9.851671</td>\n",
              "      <td>8.362494</td>\n",
              "      <td>10.671862</td>\n",
              "      <td>7.018926</td>\n",
              "      <td>8.996324</td>\n",
              "      <td>8.427248</td>\n",
              "      <td>7.591996</td>\n",
              "      <td>7.780938</td>\n",
              "      <td>7.14333</td>\n",
              "      <td>...</td>\n",
              "      <td>7.928691</td>\n",
              "      <td>9.883658</td>\n",
              "      <td>9.042614</td>\n",
              "      <td>10.500672</td>\n",
              "      <td>9.641306</td>\n",
              "      <td>8.402532</td>\n",
              "      <td>9.567037</td>\n",
              "      <td>9.354607</td>\n",
              "      <td>10.082158</td>\n",
              "      <td>7.101034</td>\n",
              "    </tr>\n",
              "    <tr>\n",
              "      <th>GSM2899559</th>\n",
              "      <td>normal</td>\n",
              "      <td>10.004868</td>\n",
              "      <td>8.514118</td>\n",
              "      <td>10.774532</td>\n",
              "      <td>6.265091</td>\n",
              "      <td>9.206954</td>\n",
              "      <td>8.561028</td>\n",
              "      <td>8.66956</td>\n",
              "      <td>7.695347</td>\n",
              "      <td>6.765222</td>\n",
              "      <td>...</td>\n",
              "      <td>8.862359</td>\n",
              "      <td>9.701488</td>\n",
              "      <td>8.098819</td>\n",
              "      <td>10.542419</td>\n",
              "      <td>9.495524</td>\n",
              "      <td>7.767477</td>\n",
              "      <td>8.744901</td>\n",
              "      <td>9.297281</td>\n",
              "      <td>10.151204</td>\n",
              "      <td>7.223274</td>\n",
              "    </tr>\n",
              "    <tr>\n",
              "      <th>GSM2899560</th>\n",
              "      <td>normal</td>\n",
              "      <td>10.082971</td>\n",
              "      <td>8.117597</td>\n",
              "      <td>11.024331</td>\n",
              "      <td>5.668174</td>\n",
              "      <td>9.102236</td>\n",
              "      <td>8.218835</td>\n",
              "      <td>9.025794</td>\n",
              "      <td>7.571697</td>\n",
              "      <td>7.051955</td>\n",
              "      <td>...</td>\n",
              "      <td>8.086636</td>\n",
              "      <td>9.364249</td>\n",
              "      <td>8.018005</td>\n",
              "      <td>10.657301</td>\n",
              "      <td>9.144482</td>\n",
              "      <td>7.002602</td>\n",
              "      <td>9.765754</td>\n",
              "      <td>8.893805</td>\n",
              "      <td>9.825098</td>\n",
              "      <td>6.898798</td>\n",
              "    </tr>\n",
              "    <tr>\n",
              "      <th>GSM2899561</th>\n",
              "      <td>normal</td>\n",
              "      <td>9.613305</td>\n",
              "      <td>8.337773</td>\n",
              "      <td>10.418179</td>\n",
              "      <td>5.534756</td>\n",
              "      <td>8.519577</td>\n",
              "      <td>8.191908</td>\n",
              "      <td>7.66378</td>\n",
              "      <td>7.490396</td>\n",
              "      <td>6.907394</td>\n",
              "      <td>...</td>\n",
              "      <td>8.103343</td>\n",
              "      <td>9.176542</td>\n",
              "      <td>8.369438</td>\n",
              "      <td>9.848985</td>\n",
              "      <td>9.500753</td>\n",
              "      <td>8.079844</td>\n",
              "      <td>9.138567</td>\n",
              "      <td>8.461969</td>\n",
              "      <td>9.779112</td>\n",
              "      <td>7.256169</td>\n",
              "    </tr>\n",
              "    <tr>\n",
              "      <th>GSM2899562</th>\n",
              "      <td>normal</td>\n",
              "      <td>8.457482</td>\n",
              "      <td>8.695391</td>\n",
              "      <td>11.186727</td>\n",
              "      <td>7.716112</td>\n",
              "      <td>8.684439</td>\n",
              "      <td>8.094604</td>\n",
              "      <td>8.846499</td>\n",
              "      <td>8.851955</td>\n",
              "      <td>7.658566</td>\n",
              "      <td>...</td>\n",
              "      <td>8.733817</td>\n",
              "      <td>10.535769</td>\n",
              "      <td>7.323901</td>\n",
              "      <td>11.593391</td>\n",
              "      <td>9.951097</td>\n",
              "      <td>8.282525</td>\n",
              "      <td>9.287942</td>\n",
              "      <td>9.291152</td>\n",
              "      <td>10.651021</td>\n",
              "      <td>7.088356</td>\n",
              "    </tr>\n",
              "    <tr>\n",
              "      <th>...</th>\n",
              "      <td>...</td>\n",
              "      <td>...</td>\n",
              "      <td>...</td>\n",
              "      <td>...</td>\n",
              "      <td>...</td>\n",
              "      <td>...</td>\n",
              "      <td>...</td>\n",
              "      <td>...</td>\n",
              "      <td>...</td>\n",
              "      <td>...</td>\n",
              "      <td>...</td>\n",
              "      <td>...</td>\n",
              "      <td>...</td>\n",
              "      <td>...</td>\n",
              "      <td>...</td>\n",
              "      <td>...</td>\n",
              "      <td>...</td>\n",
              "      <td>...</td>\n",
              "      <td>...</td>\n",
              "      <td>...</td>\n",
              "      <td>...</td>\n",
              "    </tr>\n",
              "    <tr>\n",
              "      <th>GSM97949</th>\n",
              "      <td>oligodendroglioma</td>\n",
              "      <td>9.027686</td>\n",
              "      <td>9.300857</td>\n",
              "      <td>11.115386</td>\n",
              "      <td>6.975324</td>\n",
              "      <td>9.424444</td>\n",
              "      <td>8.94623</td>\n",
              "      <td>9.083982</td>\n",
              "      <td>7.286302</td>\n",
              "      <td>7.863392</td>\n",
              "      <td>...</td>\n",
              "      <td>8.438254</td>\n",
              "      <td>9.75556</td>\n",
              "      <td>8.342702</td>\n",
              "      <td>11.519143</td>\n",
              "      <td>9.686889</td>\n",
              "      <td>8.828929</td>\n",
              "      <td>9.811604</td>\n",
              "      <td>9.091557</td>\n",
              "      <td>10.517268</td>\n",
              "      <td>7.769258</td>\n",
              "    </tr>\n",
              "    <tr>\n",
              "      <th>GSM97956</th>\n",
              "      <td>oligodendroglioma</td>\n",
              "      <td>6.994399</td>\n",
              "      <td>6.047246</td>\n",
              "      <td>8.573914</td>\n",
              "      <td>4.726631</td>\n",
              "      <td>6.26679</td>\n",
              "      <td>5.337717</td>\n",
              "      <td>6.648777</td>\n",
              "      <td>5.483084</td>\n",
              "      <td>5.225153</td>\n",
              "      <td>...</td>\n",
              "      <td>6.362447</td>\n",
              "      <td>8.035177</td>\n",
              "      <td>5.226744</td>\n",
              "      <td>8.096293</td>\n",
              "      <td>8.161451</td>\n",
              "      <td>11.185226</td>\n",
              "      <td>7.276039</td>\n",
              "      <td>6.549953</td>\n",
              "      <td>8.619844</td>\n",
              "      <td>11.390267</td>\n",
              "    </tr>\n",
              "    <tr>\n",
              "      <th>GSM97962</th>\n",
              "      <td>oligodendroglioma</td>\n",
              "      <td>7.67684</td>\n",
              "      <td>6.061922</td>\n",
              "      <td>8.23299</td>\n",
              "      <td>4.665596</td>\n",
              "      <td>5.98233</td>\n",
              "      <td>5.211924</td>\n",
              "      <td>5.478844</td>\n",
              "      <td>5.092967</td>\n",
              "      <td>4.662381</td>\n",
              "      <td>...</td>\n",
              "      <td>6.592222</td>\n",
              "      <td>8.102213</td>\n",
              "      <td>5.208956</td>\n",
              "      <td>7.827442</td>\n",
              "      <td>7.164248</td>\n",
              "      <td>11.299513</td>\n",
              "      <td>7.164679</td>\n",
              "      <td>6.751209</td>\n",
              "      <td>8.282735</td>\n",
              "      <td>11.338484</td>\n",
              "    </tr>\n",
              "    <tr>\n",
              "      <th>GSM97964</th>\n",
              "      <td>oligodendroglioma</td>\n",
              "      <td>6.142205</td>\n",
              "      <td>5.946772</td>\n",
              "      <td>8.656033</td>\n",
              "      <td>5.024079</td>\n",
              "      <td>5.851491</td>\n",
              "      <td>5.35864</td>\n",
              "      <td>7.25225</td>\n",
              "      <td>5.139143</td>\n",
              "      <td>5.072622</td>\n",
              "      <td>...</td>\n",
              "      <td>5.987614</td>\n",
              "      <td>7.60209</td>\n",
              "      <td>5.295106</td>\n",
              "      <td>8.20263</td>\n",
              "      <td>6.381401</td>\n",
              "      <td>10.761082</td>\n",
              "      <td>7.36401</td>\n",
              "      <td>6.643271</td>\n",
              "      <td>8.456142</td>\n",
              "      <td>11.411</td>\n",
              "    </tr>\n",
              "    <tr>\n",
              "      <th>GSM97970</th>\n",
              "      <td>oligodendroglioma</td>\n",
              "      <td>8.185996</td>\n",
              "      <td>7.106446</td>\n",
              "      <td>8.962553</td>\n",
              "      <td>4.979888</td>\n",
              "      <td>6.603919</td>\n",
              "      <td>5.520827</td>\n",
              "      <td>7.590051</td>\n",
              "      <td>6.599276</td>\n",
              "      <td>5.354979</td>\n",
              "      <td>...</td>\n",
              "      <td>6.622328</td>\n",
              "      <td>7.710634</td>\n",
              "      <td>5.625216</td>\n",
              "      <td>9.479509</td>\n",
              "      <td>7.186823</td>\n",
              "      <td>11.201734</td>\n",
              "      <td>8.498796</td>\n",
              "      <td>7.023992</td>\n",
              "      <td>8.768752</td>\n",
              "      <td>10.412549</td>\n",
              "    </tr>\n",
              "  </tbody>\n",
              "</table>\n",
              "<p>168 rows × 372 columns</p>\n",
              "</div>\n",
              "      <button class=\"colab-df-convert\" onclick=\"convertToInteractive('df-9b27ee94-f1a2-4202-92bf-43760cc10c18')\"\n",
              "              title=\"Convert this dataframe to an interactive table.\"\n",
              "              style=\"display:none;\">\n",
              "        \n",
              "  <svg xmlns=\"http://www.w3.org/2000/svg\" height=\"24px\"viewBox=\"0 0 24 24\"\n",
              "       width=\"24px\">\n",
              "    <path d=\"M0 0h24v24H0V0z\" fill=\"none\"/>\n",
              "    <path d=\"M18.56 5.44l.94 2.06.94-2.06 2.06-.94-2.06-.94-.94-2.06-.94 2.06-2.06.94zm-11 1L8.5 8.5l.94-2.06 2.06-.94-2.06-.94L8.5 2.5l-.94 2.06-2.06.94zm10 10l.94 2.06.94-2.06 2.06-.94-2.06-.94-.94-2.06-.94 2.06-2.06.94z\"/><path d=\"M17.41 7.96l-1.37-1.37c-.4-.4-.92-.59-1.43-.59-.52 0-1.04.2-1.43.59L10.3 9.45l-7.72 7.72c-.78.78-.78 2.05 0 2.83L4 21.41c.39.39.9.59 1.41.59.51 0 1.02-.2 1.41-.59l7.78-7.78 2.81-2.81c.8-.78.8-2.07 0-2.86zM5.41 20L4 18.59l7.72-7.72 1.47 1.35L5.41 20z\"/>\n",
              "  </svg>\n",
              "      </button>\n",
              "      \n",
              "  <style>\n",
              "    .colab-df-container {\n",
              "      display:flex;\n",
              "      flex-wrap:wrap;\n",
              "      gap: 12px;\n",
              "    }\n",
              "\n",
              "    .colab-df-convert {\n",
              "      background-color: #E8F0FE;\n",
              "      border: none;\n",
              "      border-radius: 50%;\n",
              "      cursor: pointer;\n",
              "      display: none;\n",
              "      fill: #1967D2;\n",
              "      height: 32px;\n",
              "      padding: 0 0 0 0;\n",
              "      width: 32px;\n",
              "    }\n",
              "\n",
              "    .colab-df-convert:hover {\n",
              "      background-color: #E2EBFA;\n",
              "      box-shadow: 0px 1px 2px rgba(60, 64, 67, 0.3), 0px 1px 3px 1px rgba(60, 64, 67, 0.15);\n",
              "      fill: #174EA6;\n",
              "    }\n",
              "\n",
              "    [theme=dark] .colab-df-convert {\n",
              "      background-color: #3B4455;\n",
              "      fill: #D2E3FC;\n",
              "    }\n",
              "\n",
              "    [theme=dark] .colab-df-convert:hover {\n",
              "      background-color: #434B5C;\n",
              "      box-shadow: 0px 1px 3px 1px rgba(0, 0, 0, 0.15);\n",
              "      filter: drop-shadow(0px 1px 2px rgba(0, 0, 0, 0.3));\n",
              "      fill: #FFFFFF;\n",
              "    }\n",
              "  </style>\n",
              "\n",
              "      <script>\n",
              "        const buttonEl =\n",
              "          document.querySelector('#df-9b27ee94-f1a2-4202-92bf-43760cc10c18 button.colab-df-convert');\n",
              "        buttonEl.style.display =\n",
              "          google.colab.kernel.accessAllowed ? 'block' : 'none';\n",
              "\n",
              "        async function convertToInteractive(key) {\n",
              "          const element = document.querySelector('#df-9b27ee94-f1a2-4202-92bf-43760cc10c18');\n",
              "          const dataTable =\n",
              "            await google.colab.kernel.invokeFunction('convertToInteractive',\n",
              "                                                     [key], {});\n",
              "          if (!dataTable) return;\n",
              "\n",
              "          const docLinkHtml = 'Like what you see? Visit the ' +\n",
              "            '<a target=\"_blank\" href=https://colab.research.google.com/notebooks/data_table.ipynb>data table notebook</a>'\n",
              "            + ' to learn more about interactive tables.';\n",
              "          element.innerHTML = '';\n",
              "          dataTable['output_type'] = 'display_data';\n",
              "          await google.colab.output.renderOutput(dataTable, element);\n",
              "          const docLink = document.createElement('div');\n",
              "          docLink.innerHTML = docLinkHtml;\n",
              "          element.appendChild(docLink);\n",
              "        }\n",
              "      </script>\n",
              "    </div>\n",
              "  </div>\n",
              "  "
            ]
          },
          "metadata": {},
          "execution_count": 7
        }
      ],
      "source": [
        "# read in the expression values for oligodendroglioma using data wrangling\n",
        "df = pd.read_csv('interesting_genes_expressions_for_oligo_vs_normal.csv')\n",
        "df = df.drop(columns={'Unnamed: 0'})\n",
        "df_transposed = df.T\n",
        "df_transposed = df_transposed.rename(columns=df_transposed.iloc[168])\n",
        "df_transposed.drop(index=df_transposed.index[168], \n",
        "        axis=0, \n",
        "        inplace=True)\n",
        "frames = [metadata, df_transposed]\n",
        "df = pd.concat(frames, axis=1)\n",
        "df"
      ]
    },
    {
      "cell_type": "code",
      "execution_count": 8,
      "metadata": {
        "colab": {
          "base_uri": "https://localhost:8080/"
        },
        "id": "VRg2VC86wxt_",
        "outputId": "67d751de-a216-4f2a-b4bb-a3829ed9ac8f"
      },
      "outputs": [
        {
          "output_type": "execute_result",
          "data": {
            "text/plain": [
              "tumor       0\n",
              "CREG2       0\n",
              "SLC39A12    0\n",
              "RBFOX1      0\n",
              "DNAJA4      0\n",
              "           ..\n",
              "NaN         0\n",
              "NEFH        0\n",
              "PHF24       0\n",
              "PPP1R16B    0\n",
              "FERMT1      0\n",
              "Length: 372, dtype: int64"
            ]
          },
          "metadata": {},
          "execution_count": 8
        }
      ],
      "source": [
        "# make sure there are no null values in the dataset\n",
        "df.isnull().sum()"
      ]
    },
    {
      "cell_type": "code",
      "execution_count": 9,
      "metadata": {
        "colab": {
          "base_uri": "https://localhost:8080/"
        },
        "id": "hOBxeJK7w0RA",
        "outputId": "41f41c2d-3162-4478-bea3-3f61ea300204"
      },
      "outputs": [
        {
          "output_type": "stream",
          "name": "stdout",
          "text": [
            "Missing values:  0\n"
          ]
        }
      ],
      "source": [
        "# print if there are missing values\n",
        "print('Missing values: ',sum(df.isnull().sum()))"
      ]
    },
    {
      "cell_type": "code",
      "execution_count": 10,
      "metadata": {
        "id": "0It7omXfw4yb"
      },
      "outputs": [],
      "source": [
        "# Encoding categorical values as either 0's or 1's\n",
        "df['tumor'] = df['tumor'].replace({'normal':0,'oligodendroglioma':1,'Other':-1}).astype(np.uint8)"
      ]
    },
    {
      "cell_type": "code",
      "execution_count": 11,
      "metadata": {
        "colab": {
          "base_uri": "https://localhost:8080/"
        },
        "id": "u8N1-dzsxLSL",
        "outputId": "73e15f6e-6489-4f48-fa8e-b693f7806290"
      },
      "outputs": [
        {
          "output_type": "stream",
          "name": "stdout",
          "text": [
            "Inverse of Null Accuracy:  0.23394495412844038\n",
            "Null Accuracy:  0.7660550458715596\n"
          ]
        }
      ],
      "source": [
        "# Inverse of Null Accuracy\n",
        "print('Inverse of Null Accuracy: ',51/(51+167))\n",
        "print('Null Accuracy: ',167/(167+51))"
      ]
    },
    {
      "cell_type": "code",
      "execution_count": 12,
      "metadata": {
        "colab": {
          "base_uri": "https://localhost:8080/",
          "height": 488
        },
        "id": "SkbQjAnsx-GJ",
        "outputId": "fbb84cce-2d99-45f0-b099-6d35e9e482e5"
      },
      "outputs": [
        {
          "output_type": "execute_result",
          "data": {
            "text/plain": [
              "          index  tumor      CREG2  SLC39A12     RBFOX1    DNAJA4     OLFM3  \\\n",
              "0    GSM2899558      0   9.851671  8.362494  10.671862  7.018926  8.996324   \n",
              "1    GSM2899559      0  10.004868  8.514118  10.774532  6.265091  9.206954   \n",
              "2    GSM2899560      0  10.082971  8.117597  11.024331  5.668174  9.102236   \n",
              "3    GSM2899561      0   9.613305  8.337773  10.418179  5.534756  8.519577   \n",
              "4    GSM2899562      0   8.457482  8.695391  11.186727  7.716112  8.684439   \n",
              "..          ...    ...        ...       ...        ...       ...       ...   \n",
              "163    GSM97949      1   9.027686  9.300857  11.115386  6.975324  9.424444   \n",
              "164    GSM97956      1   6.994399  6.047246   8.573914  4.726631   6.26679   \n",
              "165    GSM97962      1    7.67684  6.061922    8.23299  4.665596   5.98233   \n",
              "166    GSM97964      1   6.142205  5.946772   8.656033  5.024079  5.851491   \n",
              "167    GSM97970      1   8.185996  7.106446   8.962553  4.979888  6.603919   \n",
              "\n",
              "        OLFM3     MYT1L PALM2AKAP2  ...     PDE1A    ARHGEF7    KRT222  \\\n",
              "0    8.427248  7.591996   7.780938  ...  7.928691   9.883658  9.042614   \n",
              "1    8.561028   8.66956   7.695347  ...  8.862359   9.701488  8.098819   \n",
              "2    8.218835  9.025794   7.571697  ...  8.086636   9.364249  8.018005   \n",
              "3    8.191908   7.66378   7.490396  ...  8.103343   9.176542  8.369438   \n",
              "4    8.094604  8.846499   8.851955  ...  8.733817  10.535769  7.323901   \n",
              "..        ...       ...        ...  ...       ...        ...       ...   \n",
              "163   8.94623  9.083982   7.286302  ...  8.438254    9.75556  8.342702   \n",
              "164  5.337717  6.648777   5.483084  ...  6.362447   8.035177  5.226744   \n",
              "165  5.211924  5.478844   5.092967  ...  6.592222   8.102213  5.208956   \n",
              "166   5.35864   7.25225   5.139143  ...  5.987614    7.60209  5.295106   \n",
              "167  5.520827  7.590051   6.599276  ...  6.622328   7.710634  5.625216   \n",
              "\n",
              "        GABRA1     HTR2A        NaN      NEFH     PHF24   PPP1R16B     FERMT1  \n",
              "0    10.500672  9.641306   8.402532  9.567037  9.354607  10.082158   7.101034  \n",
              "1    10.542419  9.495524   7.767477  8.744901  9.297281  10.151204   7.223274  \n",
              "2    10.657301  9.144482   7.002602  9.765754  8.893805   9.825098   6.898798  \n",
              "3     9.848985  9.500753   8.079844  9.138567  8.461969   9.779112   7.256169  \n",
              "4    11.593391  9.951097   8.282525  9.287942  9.291152  10.651021   7.088356  \n",
              "..         ...       ...        ...       ...       ...        ...        ...  \n",
              "163  11.519143  9.686889   8.828929  9.811604  9.091557  10.517268   7.769258  \n",
              "164   8.096293  8.161451  11.185226  7.276039  6.549953   8.619844  11.390267  \n",
              "165   7.827442  7.164248  11.299513  7.164679  6.751209   8.282735  11.338484  \n",
              "166    8.20263  6.381401  10.761082   7.36401  6.643271   8.456142     11.411  \n",
              "167   9.479509  7.186823  11.201734  8.498796  7.023992   8.768752  10.412549  \n",
              "\n",
              "[168 rows x 373 columns]"
            ],
            "text/html": [
              "\n",
              "  <div id=\"df-95096254-f880-4ce3-a433-bc4c6c93699c\">\n",
              "    <div class=\"colab-df-container\">\n",
              "      <div>\n",
              "<style scoped>\n",
              "    .dataframe tbody tr th:only-of-type {\n",
              "        vertical-align: middle;\n",
              "    }\n",
              "\n",
              "    .dataframe tbody tr th {\n",
              "        vertical-align: top;\n",
              "    }\n",
              "\n",
              "    .dataframe thead th {\n",
              "        text-align: right;\n",
              "    }\n",
              "</style>\n",
              "<table border=\"1\" class=\"dataframe\">\n",
              "  <thead>\n",
              "    <tr style=\"text-align: right;\">\n",
              "      <th></th>\n",
              "      <th>index</th>\n",
              "      <th>tumor</th>\n",
              "      <th>CREG2</th>\n",
              "      <th>SLC39A12</th>\n",
              "      <th>RBFOX1</th>\n",
              "      <th>DNAJA4</th>\n",
              "      <th>OLFM3</th>\n",
              "      <th>OLFM3</th>\n",
              "      <th>MYT1L</th>\n",
              "      <th>PALM2AKAP2</th>\n",
              "      <th>...</th>\n",
              "      <th>PDE1A</th>\n",
              "      <th>ARHGEF7</th>\n",
              "      <th>KRT222</th>\n",
              "      <th>GABRA1</th>\n",
              "      <th>HTR2A</th>\n",
              "      <th>NaN</th>\n",
              "      <th>NEFH</th>\n",
              "      <th>PHF24</th>\n",
              "      <th>PPP1R16B</th>\n",
              "      <th>FERMT1</th>\n",
              "    </tr>\n",
              "  </thead>\n",
              "  <tbody>\n",
              "    <tr>\n",
              "      <th>0</th>\n",
              "      <td>GSM2899558</td>\n",
              "      <td>0</td>\n",
              "      <td>9.851671</td>\n",
              "      <td>8.362494</td>\n",
              "      <td>10.671862</td>\n",
              "      <td>7.018926</td>\n",
              "      <td>8.996324</td>\n",
              "      <td>8.427248</td>\n",
              "      <td>7.591996</td>\n",
              "      <td>7.780938</td>\n",
              "      <td>...</td>\n",
              "      <td>7.928691</td>\n",
              "      <td>9.883658</td>\n",
              "      <td>9.042614</td>\n",
              "      <td>10.500672</td>\n",
              "      <td>9.641306</td>\n",
              "      <td>8.402532</td>\n",
              "      <td>9.567037</td>\n",
              "      <td>9.354607</td>\n",
              "      <td>10.082158</td>\n",
              "      <td>7.101034</td>\n",
              "    </tr>\n",
              "    <tr>\n",
              "      <th>1</th>\n",
              "      <td>GSM2899559</td>\n",
              "      <td>0</td>\n",
              "      <td>10.004868</td>\n",
              "      <td>8.514118</td>\n",
              "      <td>10.774532</td>\n",
              "      <td>6.265091</td>\n",
              "      <td>9.206954</td>\n",
              "      <td>8.561028</td>\n",
              "      <td>8.66956</td>\n",
              "      <td>7.695347</td>\n",
              "      <td>...</td>\n",
              "      <td>8.862359</td>\n",
              "      <td>9.701488</td>\n",
              "      <td>8.098819</td>\n",
              "      <td>10.542419</td>\n",
              "      <td>9.495524</td>\n",
              "      <td>7.767477</td>\n",
              "      <td>8.744901</td>\n",
              "      <td>9.297281</td>\n",
              "      <td>10.151204</td>\n",
              "      <td>7.223274</td>\n",
              "    </tr>\n",
              "    <tr>\n",
              "      <th>2</th>\n",
              "      <td>GSM2899560</td>\n",
              "      <td>0</td>\n",
              "      <td>10.082971</td>\n",
              "      <td>8.117597</td>\n",
              "      <td>11.024331</td>\n",
              "      <td>5.668174</td>\n",
              "      <td>9.102236</td>\n",
              "      <td>8.218835</td>\n",
              "      <td>9.025794</td>\n",
              "      <td>7.571697</td>\n",
              "      <td>...</td>\n",
              "      <td>8.086636</td>\n",
              "      <td>9.364249</td>\n",
              "      <td>8.018005</td>\n",
              "      <td>10.657301</td>\n",
              "      <td>9.144482</td>\n",
              "      <td>7.002602</td>\n",
              "      <td>9.765754</td>\n",
              "      <td>8.893805</td>\n",
              "      <td>9.825098</td>\n",
              "      <td>6.898798</td>\n",
              "    </tr>\n",
              "    <tr>\n",
              "      <th>3</th>\n",
              "      <td>GSM2899561</td>\n",
              "      <td>0</td>\n",
              "      <td>9.613305</td>\n",
              "      <td>8.337773</td>\n",
              "      <td>10.418179</td>\n",
              "      <td>5.534756</td>\n",
              "      <td>8.519577</td>\n",
              "      <td>8.191908</td>\n",
              "      <td>7.66378</td>\n",
              "      <td>7.490396</td>\n",
              "      <td>...</td>\n",
              "      <td>8.103343</td>\n",
              "      <td>9.176542</td>\n",
              "      <td>8.369438</td>\n",
              "      <td>9.848985</td>\n",
              "      <td>9.500753</td>\n",
              "      <td>8.079844</td>\n",
              "      <td>9.138567</td>\n",
              "      <td>8.461969</td>\n",
              "      <td>9.779112</td>\n",
              "      <td>7.256169</td>\n",
              "    </tr>\n",
              "    <tr>\n",
              "      <th>4</th>\n",
              "      <td>GSM2899562</td>\n",
              "      <td>0</td>\n",
              "      <td>8.457482</td>\n",
              "      <td>8.695391</td>\n",
              "      <td>11.186727</td>\n",
              "      <td>7.716112</td>\n",
              "      <td>8.684439</td>\n",
              "      <td>8.094604</td>\n",
              "      <td>8.846499</td>\n",
              "      <td>8.851955</td>\n",
              "      <td>...</td>\n",
              "      <td>8.733817</td>\n",
              "      <td>10.535769</td>\n",
              "      <td>7.323901</td>\n",
              "      <td>11.593391</td>\n",
              "      <td>9.951097</td>\n",
              "      <td>8.282525</td>\n",
              "      <td>9.287942</td>\n",
              "      <td>9.291152</td>\n",
              "      <td>10.651021</td>\n",
              "      <td>7.088356</td>\n",
              "    </tr>\n",
              "    <tr>\n",
              "      <th>...</th>\n",
              "      <td>...</td>\n",
              "      <td>...</td>\n",
              "      <td>...</td>\n",
              "      <td>...</td>\n",
              "      <td>...</td>\n",
              "      <td>...</td>\n",
              "      <td>...</td>\n",
              "      <td>...</td>\n",
              "      <td>...</td>\n",
              "      <td>...</td>\n",
              "      <td>...</td>\n",
              "      <td>...</td>\n",
              "      <td>...</td>\n",
              "      <td>...</td>\n",
              "      <td>...</td>\n",
              "      <td>...</td>\n",
              "      <td>...</td>\n",
              "      <td>...</td>\n",
              "      <td>...</td>\n",
              "      <td>...</td>\n",
              "      <td>...</td>\n",
              "    </tr>\n",
              "    <tr>\n",
              "      <th>163</th>\n",
              "      <td>GSM97949</td>\n",
              "      <td>1</td>\n",
              "      <td>9.027686</td>\n",
              "      <td>9.300857</td>\n",
              "      <td>11.115386</td>\n",
              "      <td>6.975324</td>\n",
              "      <td>9.424444</td>\n",
              "      <td>8.94623</td>\n",
              "      <td>9.083982</td>\n",
              "      <td>7.286302</td>\n",
              "      <td>...</td>\n",
              "      <td>8.438254</td>\n",
              "      <td>9.75556</td>\n",
              "      <td>8.342702</td>\n",
              "      <td>11.519143</td>\n",
              "      <td>9.686889</td>\n",
              "      <td>8.828929</td>\n",
              "      <td>9.811604</td>\n",
              "      <td>9.091557</td>\n",
              "      <td>10.517268</td>\n",
              "      <td>7.769258</td>\n",
              "    </tr>\n",
              "    <tr>\n",
              "      <th>164</th>\n",
              "      <td>GSM97956</td>\n",
              "      <td>1</td>\n",
              "      <td>6.994399</td>\n",
              "      <td>6.047246</td>\n",
              "      <td>8.573914</td>\n",
              "      <td>4.726631</td>\n",
              "      <td>6.26679</td>\n",
              "      <td>5.337717</td>\n",
              "      <td>6.648777</td>\n",
              "      <td>5.483084</td>\n",
              "      <td>...</td>\n",
              "      <td>6.362447</td>\n",
              "      <td>8.035177</td>\n",
              "      <td>5.226744</td>\n",
              "      <td>8.096293</td>\n",
              "      <td>8.161451</td>\n",
              "      <td>11.185226</td>\n",
              "      <td>7.276039</td>\n",
              "      <td>6.549953</td>\n",
              "      <td>8.619844</td>\n",
              "      <td>11.390267</td>\n",
              "    </tr>\n",
              "    <tr>\n",
              "      <th>165</th>\n",
              "      <td>GSM97962</td>\n",
              "      <td>1</td>\n",
              "      <td>7.67684</td>\n",
              "      <td>6.061922</td>\n",
              "      <td>8.23299</td>\n",
              "      <td>4.665596</td>\n",
              "      <td>5.98233</td>\n",
              "      <td>5.211924</td>\n",
              "      <td>5.478844</td>\n",
              "      <td>5.092967</td>\n",
              "      <td>...</td>\n",
              "      <td>6.592222</td>\n",
              "      <td>8.102213</td>\n",
              "      <td>5.208956</td>\n",
              "      <td>7.827442</td>\n",
              "      <td>7.164248</td>\n",
              "      <td>11.299513</td>\n",
              "      <td>7.164679</td>\n",
              "      <td>6.751209</td>\n",
              "      <td>8.282735</td>\n",
              "      <td>11.338484</td>\n",
              "    </tr>\n",
              "    <tr>\n",
              "      <th>166</th>\n",
              "      <td>GSM97964</td>\n",
              "      <td>1</td>\n",
              "      <td>6.142205</td>\n",
              "      <td>5.946772</td>\n",
              "      <td>8.656033</td>\n",
              "      <td>5.024079</td>\n",
              "      <td>5.851491</td>\n",
              "      <td>5.35864</td>\n",
              "      <td>7.25225</td>\n",
              "      <td>5.139143</td>\n",
              "      <td>...</td>\n",
              "      <td>5.987614</td>\n",
              "      <td>7.60209</td>\n",
              "      <td>5.295106</td>\n",
              "      <td>8.20263</td>\n",
              "      <td>6.381401</td>\n",
              "      <td>10.761082</td>\n",
              "      <td>7.36401</td>\n",
              "      <td>6.643271</td>\n",
              "      <td>8.456142</td>\n",
              "      <td>11.411</td>\n",
              "    </tr>\n",
              "    <tr>\n",
              "      <th>167</th>\n",
              "      <td>GSM97970</td>\n",
              "      <td>1</td>\n",
              "      <td>8.185996</td>\n",
              "      <td>7.106446</td>\n",
              "      <td>8.962553</td>\n",
              "      <td>4.979888</td>\n",
              "      <td>6.603919</td>\n",
              "      <td>5.520827</td>\n",
              "      <td>7.590051</td>\n",
              "      <td>6.599276</td>\n",
              "      <td>...</td>\n",
              "      <td>6.622328</td>\n",
              "      <td>7.710634</td>\n",
              "      <td>5.625216</td>\n",
              "      <td>9.479509</td>\n",
              "      <td>7.186823</td>\n",
              "      <td>11.201734</td>\n",
              "      <td>8.498796</td>\n",
              "      <td>7.023992</td>\n",
              "      <td>8.768752</td>\n",
              "      <td>10.412549</td>\n",
              "    </tr>\n",
              "  </tbody>\n",
              "</table>\n",
              "<p>168 rows × 373 columns</p>\n",
              "</div>\n",
              "      <button class=\"colab-df-convert\" onclick=\"convertToInteractive('df-95096254-f880-4ce3-a433-bc4c6c93699c')\"\n",
              "              title=\"Convert this dataframe to an interactive table.\"\n",
              "              style=\"display:none;\">\n",
              "        \n",
              "  <svg xmlns=\"http://www.w3.org/2000/svg\" height=\"24px\"viewBox=\"0 0 24 24\"\n",
              "       width=\"24px\">\n",
              "    <path d=\"M0 0h24v24H0V0z\" fill=\"none\"/>\n",
              "    <path d=\"M18.56 5.44l.94 2.06.94-2.06 2.06-.94-2.06-.94-.94-2.06-.94 2.06-2.06.94zm-11 1L8.5 8.5l.94-2.06 2.06-.94-2.06-.94L8.5 2.5l-.94 2.06-2.06.94zm10 10l.94 2.06.94-2.06 2.06-.94-2.06-.94-.94-2.06-.94 2.06-2.06.94z\"/><path d=\"M17.41 7.96l-1.37-1.37c-.4-.4-.92-.59-1.43-.59-.52 0-1.04.2-1.43.59L10.3 9.45l-7.72 7.72c-.78.78-.78 2.05 0 2.83L4 21.41c.39.39.9.59 1.41.59.51 0 1.02-.2 1.41-.59l7.78-7.78 2.81-2.81c.8-.78.8-2.07 0-2.86zM5.41 20L4 18.59l7.72-7.72 1.47 1.35L5.41 20z\"/>\n",
              "  </svg>\n",
              "      </button>\n",
              "      \n",
              "  <style>\n",
              "    .colab-df-container {\n",
              "      display:flex;\n",
              "      flex-wrap:wrap;\n",
              "      gap: 12px;\n",
              "    }\n",
              "\n",
              "    .colab-df-convert {\n",
              "      background-color: #E8F0FE;\n",
              "      border: none;\n",
              "      border-radius: 50%;\n",
              "      cursor: pointer;\n",
              "      display: none;\n",
              "      fill: #1967D2;\n",
              "      height: 32px;\n",
              "      padding: 0 0 0 0;\n",
              "      width: 32px;\n",
              "    }\n",
              "\n",
              "    .colab-df-convert:hover {\n",
              "      background-color: #E2EBFA;\n",
              "      box-shadow: 0px 1px 2px rgba(60, 64, 67, 0.3), 0px 1px 3px 1px rgba(60, 64, 67, 0.15);\n",
              "      fill: #174EA6;\n",
              "    }\n",
              "\n",
              "    [theme=dark] .colab-df-convert {\n",
              "      background-color: #3B4455;\n",
              "      fill: #D2E3FC;\n",
              "    }\n",
              "\n",
              "    [theme=dark] .colab-df-convert:hover {\n",
              "      background-color: #434B5C;\n",
              "      box-shadow: 0px 1px 3px 1px rgba(0, 0, 0, 0.15);\n",
              "      filter: drop-shadow(0px 1px 2px rgba(0, 0, 0, 0.3));\n",
              "      fill: #FFFFFF;\n",
              "    }\n",
              "  </style>\n",
              "\n",
              "      <script>\n",
              "        const buttonEl =\n",
              "          document.querySelector('#df-95096254-f880-4ce3-a433-bc4c6c93699c button.colab-df-convert');\n",
              "        buttonEl.style.display =\n",
              "          google.colab.kernel.accessAllowed ? 'block' : 'none';\n",
              "\n",
              "        async function convertToInteractive(key) {\n",
              "          const element = document.querySelector('#df-95096254-f880-4ce3-a433-bc4c6c93699c');\n",
              "          const dataTable =\n",
              "            await google.colab.kernel.invokeFunction('convertToInteractive',\n",
              "                                                     [key], {});\n",
              "          if (!dataTable) return;\n",
              "\n",
              "          const docLinkHtml = 'Like what you see? Visit the ' +\n",
              "            '<a target=\"_blank\" href=https://colab.research.google.com/notebooks/data_table.ipynb>data table notebook</a>'\n",
              "            + ' to learn more about interactive tables.';\n",
              "          element.innerHTML = '';\n",
              "          dataTable['output_type'] = 'display_data';\n",
              "          await google.colab.output.renderOutput(dataTable, element);\n",
              "          const docLink = document.createElement('div');\n",
              "          docLink.innerHTML = docLinkHtml;\n",
              "          element.appendChild(docLink);\n",
              "        }\n",
              "      </script>\n",
              "    </div>\n",
              "  </div>\n",
              "  "
            ]
          },
          "metadata": {},
          "execution_count": 12
        }
      ],
      "source": [
        "# reset the index so as to remove the name of the sample\n",
        "df.reset_index(inplace=True)\n",
        "df"
      ]
    },
    {
      "cell_type": "code",
      "execution_count": 13,
      "metadata": {
        "id": "J6zpHU7Zxv_O"
      },
      "outputs": [],
      "source": [
        "# get the x values and y values\n",
        "X = df.drop(['tumor', 'index'], axis=1)\n",
        "y = df['tumor']\n",
        "\n",
        "from sklearn.model_selection import train_test_split\n",
        "\n",
        "# split the data with 70-30 train and test split\n",
        "X_train, X_test, y_train, y_test = train_test_split(X, y, train_size=0.3, random_state=42)"
      ]
    },
    {
      "cell_type": "code",
      "execution_count": 14,
      "metadata": {
        "id": "OHMHFaz-yL45"
      },
      "outputs": [],
      "source": [
        "# import more libraries for neural networks\n",
        "from sklearn.pipeline import Pipeline\n",
        "from sklearn.preprocessing import StandardScaler\n",
        "from sklearn.ensemble import RandomForestClassifier\n",
        "from sklearn.svm import SVC\n",
        "from sklearn.linear_model import LogisticRegression\n",
        "from sklearn.neighbors import KNeighborsClassifier\n",
        "from sklearn.tree import DecisionTreeClassifier\n",
        "from sklearn.neural_network import MLPClassifier\n",
        "\n",
        "# Scale our data in pipeline, then split, for each model\n",
        "rf_pipeline = Pipeline(steps = [('scale',StandardScaler()),('RF',RandomForestClassifier(random_state=42))])\n",
        "svm_pipeline = Pipeline(steps = [('scale',StandardScaler()),('SVM',SVC(random_state=42))])\n",
        "logreg_pipeline = Pipeline(steps = [('scale',StandardScaler()),('LR',LogisticRegression(random_state=42))])\n",
        "knn_pipeline = Pipeline(steps = [('scale',StandardScaler()),('KNN',KNeighborsClassifier())])\n",
        "dt_pipeline = Pipeline(steps = [('scale',StandardScaler()),('DT',DecisionTreeClassifier())])\n",
        "nn_pipeline = Pipeline(steps = [('scale',StandardScaler()),('NN',MLPClassifier())])"
      ]
    },
    {
      "cell_type": "code",
      "execution_count": 15,
      "metadata": {
        "id": "egCbD5nWzKLb"
      },
      "outputs": [],
      "source": [
        "# do cross validation\n",
        "import warnings\n",
        "warnings.filterwarnings(\"ignore\")\n",
        "\n",
        "from sklearn.model_selection import cross_val_score\n",
        "\n",
        "rf_cv = cross_val_score(rf_pipeline,X_train,y_train,cv=10,scoring='f1')\n",
        "svm_cv = cross_val_score(svm_pipeline,X_train,y_train,cv=10,scoring='f1')\n",
        "logreg_cv = cross_val_score(logreg_pipeline,X_train,y_train,cv=10,scoring='f1')\n",
        "knn_cv = cross_val_score(knn_pipeline,X_train,y_train,cv=10,scoring='f1')\n",
        "dt_cv = cross_val_score(dt_pipeline,X_train,y_train,cv=10,scoring='f1')\n",
        "nn_cv = cross_val_score(nn_pipeline,X_train,y_train,cv=10,scoring='f1')"
      ]
    },
    {
      "cell_type": "code",
      "execution_count": 16,
      "metadata": {
        "colab": {
          "base_uri": "https://localhost:8080/"
        },
        "id": "LAloSvlKzZ4_",
        "outputId": "be258439-6296-44a5-e68b-b3bbe5dd43fd"
      },
      "outputs": [
        {
          "output_type": "stream",
          "name": "stdout",
          "text": [
            "Mean f1 scores:\n",
            "Random Forest mean : 0.9657142857142856\n",
            "SVM mean : 0.9657142857142856\n",
            "Logistic Regression mean : 0.9800000000000001\n",
            "KNN mean : 0.9657142857142856\n",
            "Decision Tree mean : 0.946031746031746\n",
            "Neural Network mean : 0.9466666666666667\n"
          ]
        }
      ],
      "source": [
        "# get the mean F1 scores\n",
        "import warnings\n",
        "warnings.filterwarnings(\"ignore\")\n",
        "\n",
        "print('Mean f1 scores:')\n",
        "print('Random Forest mean :',cross_val_score(rf_pipeline,X_train,y_train,cv=10,scoring='f1').mean())\n",
        "print('SVM mean :',cross_val_score(svm_pipeline,X_train,y_train,cv=10,scoring='f1').mean())\n",
        "print('Logistic Regression mean :',cross_val_score(logreg_pipeline,X_train,y_train,cv=10,scoring='f1').mean())\n",
        "print('KNN mean :',cross_val_score(knn_pipeline,X_train,y_train,cv=10,scoring='f1').mean())\n",
        "print('Decision Tree mean :',cross_val_score(dt_pipeline,X_train,y_train,cv=10,scoring='f1').mean())\n",
        "print('Neural Network mean :',cross_val_score(nn_pipeline,X_train,y_train,cv=10,scoring='f1').mean())"
      ]
    },
    {
      "cell_type": "code",
      "execution_count": 17,
      "metadata": {
        "id": "Pz0JwgEAzspv"
      },
      "outputs": [],
      "source": [
        "# fit all models to the data \n",
        "rf_pipeline.fit(X_train,y_train)\n",
        "svm_pipeline.fit(X_train,y_train)\n",
        "logreg_pipeline.fit(X_train,y_train)\n",
        "knn_pipeline.fit(X_train, y_train)\n",
        "dt_pipeline.fit(X_train, y_train)\n",
        "nn_pipeline.fit(X_train, y_train)\n",
        "\n",
        "# get the predictions from the test data \n",
        "rf_pred = rf_pipeline.predict(X_test)\n",
        "svm_pred = svm_pipeline.predict(X_test)\n",
        "logreg_pred = logreg_pipeline.predict(X_test)\n",
        "knn_pred = knn_pipeline.predict(X_test)\n",
        "dt_pred = knn_pipeline.predict(X_test)\n",
        "nn_pred = knn_pipeline.predict(X_test)\n",
        "\n",
        "from sklearn.metrics import confusion_matrix\n",
        "\n",
        "# get all confusion matrices by comparing the predictions to the actual labels \n",
        "rf_cm  = confusion_matrix(y_test,rf_pred )\n",
        "svm_cm = confusion_matrix(y_test,svm_pred)\n",
        "logreg_cm  = confusion_matrix(y_test,logreg_pred )\n",
        "knn_cm = confusion_matrix(y_test, knn_pred)\n",
        "dt_cm = confusion_matrix(y_test, dt_pred)\n",
        "nn_cm = confusion_matrix(y_test, nn_pred)\n",
        "\n",
        "from sklearn.metrics import f1_score, classification_report, accuracy_score\n",
        "\n",
        "# calculate the f1 score again\n",
        "rf_f1  = f1_score(y_test,rf_pred)\n",
        "svm_f1 = f1_score(y_test,svm_pred)\n",
        "logreg_f1  = f1_score(y_test,logreg_pred)\n",
        "knn_f1 = f1_score(y_test, knn_pred)\n",
        "dt_f1 = f1_score(y_test, dt_pred)\n",
        "nn_f1 = f1_score(y_test, nn_pred)"
      ]
    },
    {
      "cell_type": "code",
      "execution_count": 18,
      "metadata": {
        "colab": {
          "base_uri": "https://localhost:8080/"
        },
        "id": "cd6q_8Fx0FL8",
        "outputId": "1959d398-93ad-4f41-9763-b465a7c350b1"
      },
      "outputs": [
        {
          "output_type": "stream",
          "name": "stdout",
          "text": [
            "Mean f1 scores:\n",
            "RF mean : 0.9299363057324841\n",
            "SVM mean : 0.9150326797385621\n",
            "LR mean : 0.948051948051948\n",
            "KNN mean : 0.9150326797385621\n",
            "DT mean : 0.9150326797385621\n",
            "NN mean : 0.9150326797385621\n"
          ]
        }
      ],
      "source": [
        "# print the new F1 scores\n",
        "print('Mean f1 scores:')\n",
        "\n",
        "print('RF mean :',rf_f1)\n",
        "print('SVM mean :',svm_f1)\n",
        "print('LR mean :',logreg_f1)\n",
        "print('KNN mean :', knn_f1)\n",
        "print('DT mean :', dt_f1)\n",
        "print('NN mean :', nn_f1)"
      ]
    },
    {
      "cell_type": "code",
      "execution_count": 19,
      "metadata": {
        "id": "r5UiDXoZ0h7f"
      },
      "outputs": [],
      "source": [
        "# import GridSearchCV for best params for each model \n",
        "from sklearn.model_selection import GridSearchCV\n",
        "\n",
        "# random forest classifier\n",
        "n_estimators =[64,100,128,200]\n",
        "max_features = [2,3,5,7]\n",
        "bootstrap = [True,False]\n",
        "\n",
        "# the parameters that will be cycled through\n",
        "param_grid = {'n_estimators':n_estimators,\n",
        "             'max_features':max_features,\n",
        "             'bootstrap':bootstrap}"
      ]
    },
    {
      "cell_type": "code",
      "execution_count": 25,
      "metadata": {
        "colab": {
          "base_uri": "https://localhost:8080/"
        },
        "id": "MF09LauC1Gvy",
        "outputId": "095a1f90-8f49-4b90-85f6-9b549904a3bb"
      },
      "outputs": [
        {
          "output_type": "execute_result",
          "data": {
            "text/plain": [
              "GridSearchCV(estimator=RandomForestClassifier(),\n",
              "             param_grid={'bootstrap': [True, False],\n",
              "                         'max_features': [2, 3, 5, 7],\n",
              "                         'n_estimators': [64, 100, 128, 200]})"
            ]
          },
          "metadata": {},
          "execution_count": 25
        }
      ],
      "source": [
        "# make the random forest classifier with NO parameters\n",
        "rfc = RandomForestClassifier()\n",
        "\n",
        "# fit the random forest classifier\n",
        "grid = GridSearchCV(rfc,param_grid)\n",
        "\n",
        "grid.fit(X_train,y_train)"
      ]
    },
    {
      "cell_type": "code",
      "execution_count": 26,
      "metadata": {
        "colab": {
          "base_uri": "https://localhost:8080/"
        },
        "id": "rHIl1-vKZ73q",
        "outputId": "848670f2-e42a-495d-b69c-a804b9e9052b"
      },
      "outputs": [
        {
          "output_type": "stream",
          "name": "stdout",
          "text": [
            "GridSearch CV best score : 0.9600\n",
            "\n",
            "\n",
            "Parameters that give the best results : \n",
            "\n",
            " {'bootstrap': True, 'max_features': 2, 'n_estimators': 64}\n",
            "\n",
            "\n",
            "Estimator that was chosen by the search : \n",
            "\n",
            " RandomForestClassifier(max_features=2, n_estimators=64)\n"
          ]
        }
      ],
      "source": [
        "# best score achieved during the GridSearchCV\n",
        "print('GridSearch CV best score : {:.4f}\\n\\n'.format(grid.best_score_))\n",
        "\n",
        "# print parameters that give the best results\n",
        "print('Parameters that give the best results :','\\n\\n', (grid.best_params_))\n",
        "\n",
        "# print estimator that was chosen by the GridSearch\n",
        "print('\\n\\nEstimator that was chosen by the search :','\\n\\n', (grid.best_estimator_))"
      ]
    },
    {
      "cell_type": "code",
      "execution_count": 44,
      "metadata": {
        "id": "706_cXE_0vih"
      },
      "outputs": [],
      "source": [
        "# Let's use those params now\n",
        "rf_pipeline = Pipeline(steps = [('scale',StandardScaler()),('RF',RandomForestClassifier(max_features=2, n_estimators=64))])\n",
        "\n",
        "rf_pipeline.fit(X_train,y_train) # train the data\n",
        "\n",
        "rf_tuned_pred = rf_pipeline.predict(X_test) # get the new predicted labels"
      ]
    },
    {
      "cell_type": "code",
      "execution_count": 45,
      "metadata": {
        "colab": {
          "base_uri": "https://localhost:8080/"
        },
        "id": "MmRm3_Rt08Eg",
        "outputId": "07995ff8-0eed-4edd-8b9f-8b33fe5c714e"
      },
      "outputs": [
        {
          "output_type": "stream",
          "name": "stdout",
          "text": [
            "              precision    recall  f1-score   support\n",
            "\n",
            "           0       0.76      0.92      0.83        37\n",
            "           1       0.96      0.86      0.91        81\n",
            "\n",
            "    accuracy                           0.88       118\n",
            "   macro avg       0.86      0.89      0.87       118\n",
            "weighted avg       0.90      0.88      0.88       118\n",
            "\n",
            "Accuracy Score:  0.8813559322033898\n",
            "F1 Score:  0.9090909090909091\n"
          ]
        }
      ],
      "source": [
        "# print out the classification report (Random Forest Classifier)\n",
        "print(classification_report(y_test,rf_tuned_pred))\n",
        "\n",
        "print('Accuracy Score: ',accuracy_score(y_test,rf_tuned_pred))\n",
        "print('F1 Score: ',f1_score(y_test,rf_tuned_pred))"
      ]
    },
    {
      "cell_type": "code",
      "execution_count": 46,
      "metadata": {
        "id": "Nkdk_XJv1NFP",
        "colab": {
          "base_uri": "https://localhost:8080/"
        },
        "outputId": "315db3bb-3bbb-43ea-fc48-e9b01a6796a4"
      },
      "outputs": [
        {
          "output_type": "execute_result",
          "data": {
            "text/plain": [
              "GridSearchCV(estimator=LogisticRegression(),\n",
              "             param_grid={'C': [0.001, 0.01, 0.1, 1, 10, 100],\n",
              "                         'penalty': ['l1', 'l2']})"
            ]
          },
          "metadata": {},
          "execution_count": 46
        }
      ],
      "source": [
        "# do logistic regression now\n",
        "penalty = ['l1','l2']\n",
        "C = [0.001, 0.01, 0.1, 1, 10, 100] \n",
        "\n",
        "# here are the parameters used for logistic regression\n",
        "log_param_grid = {'penalty': penalty, \n",
        "                  'C': C}\n",
        "logreg = LogisticRegression()\n",
        "grid = GridSearchCV(logreg,log_param_grid)\n",
        "\n",
        "grid.fit(X_train,y_train)"
      ]
    },
    {
      "cell_type": "code",
      "execution_count": 47,
      "metadata": {
        "colab": {
          "base_uri": "https://localhost:8080/"
        },
        "id": "fGwGICGXaJBh",
        "outputId": "39d6f9d6-b483-4e42-da8f-4853a4706757"
      },
      "outputs": [
        {
          "output_type": "stream",
          "name": "stdout",
          "text": [
            "GridSearch CV best score : 0.9800\n",
            "\n",
            "\n",
            "Parameters that give the best results : \n",
            "\n",
            " {'C': 0.1, 'penalty': 'l2'}\n",
            "\n",
            "\n",
            "Estimator that was chosen by the search : \n",
            "\n",
            " LogisticRegression(C=0.1)\n"
          ]
        }
      ],
      "source": [
        "# best score achieved during the GridSearchCV\n",
        "print('GridSearch CV best score : {:.4f}\\n\\n'.format(grid.best_score_))\n",
        "\n",
        "# print parameters that give the best results\n",
        "print('Parameters that give the best results :','\\n\\n', (grid.best_params_))\n",
        "\n",
        "# print estimator that was chosen by the GridSearch\n",
        "print('\\n\\nEstimator that was chosen by the search :','\\n\\n', (grid.best_estimator_))"
      ]
    },
    {
      "cell_type": "code",
      "execution_count": 48,
      "metadata": {
        "id": "SiWCgJcG1jmr"
      },
      "outputs": [],
      "source": [
        "# Let's use those params now\n",
        "logreg_pipeline = Pipeline(steps = [('scale',StandardScaler()),('LR',LogisticRegression(C=0.1))])\n",
        "\n",
        "logreg_pipeline.fit(X_train,y_train) # train the data\n",
        "\n",
        "logreg_tuned_pred = logreg_pipeline.predict(X_test) # get new predicted values"
      ]
    },
    {
      "cell_type": "code",
      "execution_count": 49,
      "metadata": {
        "colab": {
          "base_uri": "https://localhost:8080/"
        },
        "id": "djVjuaxD1zxs",
        "outputId": "9d0357ce-5638-49cb-beb4-e3c6c30e4f49"
      },
      "outputs": [
        {
          "output_type": "stream",
          "name": "stdout",
          "text": [
            "              precision    recall  f1-score   support\n",
            "\n",
            "           0       0.81      0.95      0.88        37\n",
            "           1       0.97      0.90      0.94        81\n",
            "\n",
            "    accuracy                           0.92       118\n",
            "   macro avg       0.89      0.92      0.91       118\n",
            "weighted avg       0.92      0.92      0.92       118\n",
            "\n",
            "Accuracy Score:  0.9152542372881356\n",
            "F1 Score:  0.935897435897436\n"
          ]
        }
      ],
      "source": [
        "# print the results (Logistic Regression)\n",
        "print(classification_report(y_test,logreg_tuned_pred))\n",
        "\n",
        "print('Accuracy Score: ',accuracy_score(y_test,logreg_tuned_pred))\n",
        "print('F1 Score: ',f1_score(y_test,logreg_tuned_pred))"
      ]
    },
    {
      "cell_type": "code",
      "execution_count": null,
      "metadata": {
        "id": "UzWUriKK2Rxk"
      },
      "outputs": [],
      "source": [
        "# do SVMs now\n",
        "svm_param_grid = [ {'C':[1, 10, 100, 1000], 'kernel':['linear']},\n",
        "               {'C':[1, 10, 100, 1000], 'kernel':['rbf'], 'gamma':[0.1, 0.2, 0.3, 0.4, 0.5, 0.6, 0.7, 0.8, 0.9]},\n",
        "               {'C':[1, 10, 100, 1000], 'kernel':['poly'], 'degree': [2,3,4] ,'gamma':[0.01,0.02,0.03,0.04,0.05]} \n",
        "              ]\n",
        "\n",
        "svm = SVC(random_state=42)\n",
        "\n",
        "grid = GridSearchCV(estimator = svm,  \n",
        "                           param_grid = svm_param_grid,\n",
        "                           scoring = 'accuracy',\n",
        "                           cv = 5,\n",
        "                           verbose=0)\n",
        "\n",
        "grid.fit(X_train,y_train) # fit the grid to find the best parameters"
      ]
    },
    {
      "cell_type": "code",
      "execution_count": null,
      "metadata": {
        "colab": {
          "base_uri": "https://localhost:8080/"
        },
        "id": "MzUEZemuaiBO",
        "outputId": "d0f7035e-21e3-447d-d5a5-61a2c2adbbf2"
      },
      "outputs": [
        {
          "name": "stdout",
          "output_type": "stream",
          "text": [
            "GridSearch CV best score : 1.0000\n",
            "\n",
            "\n",
            "Parameters that give the best results : \n",
            "\n",
            " {'C': 1, 'kernel': 'linear'}\n",
            "\n",
            "\n",
            "Estimator that was chosen by the search : \n",
            "\n",
            " SVC(C=1, kernel='linear', random_state=42)\n"
          ]
        }
      ],
      "source": [
        "# best score achieved during the GridSearchCV\n",
        "print('GridSearch CV best score : {:.4f}\\n\\n'.format(grid.best_score_))\n",
        "\n",
        "# print parameters that give the best results\n",
        "print('Parameters that give the best results :','\\n\\n', (grid.best_params_))\n",
        "\n",
        "# print estimator that was chosen by the GridSearch\n",
        "print('\\n\\nEstimator that was chosen by the search :','\\n\\n', (grid.best_estimator_))"
      ]
    },
    {
      "cell_type": "code",
      "execution_count": 50,
      "metadata": {
        "id": "FkgNmDgD2fOK"
      },
      "outputs": [],
      "source": [
        "# use these new params now\n",
        "svm_pipeline = Pipeline(steps = [('scale',StandardScaler()),('SVM',SVC(C=1,kernel='linear',random_state=42))])\n",
        "\n",
        "svm_pipeline.fit(X_train,y_train) \n",
        "\n",
        "svm_tuned_pred = svm_pipeline.predict(X_test)"
      ]
    },
    {
      "cell_type": "code",
      "execution_count": 51,
      "metadata": {
        "colab": {
          "base_uri": "https://localhost:8080/"
        },
        "id": "LM5jLYAi2nlG",
        "outputId": "c6605ead-0828-48c3-e182-9becdf097a27"
      },
      "outputs": [
        {
          "output_type": "stream",
          "name": "stdout",
          "text": [
            "              precision    recall  f1-score   support\n",
            "\n",
            "           0       0.82      1.00      0.90        37\n",
            "           1       1.00      0.90      0.95        81\n",
            "\n",
            "    accuracy                           0.93       118\n",
            "   macro avg       0.91      0.95      0.93       118\n",
            "weighted avg       0.94      0.93      0.93       118\n",
            "\n",
            "Accuracy Score:  0.9322033898305084\n",
            "F1 Score:  0.948051948051948\n"
          ]
        }
      ],
      "source": [
        "# print the results for the support vector machines\n",
        "print(classification_report(y_test,svm_tuned_pred))\n",
        "\n",
        "print('Accuracy Score: ',accuracy_score(y_test,svm_tuned_pred))\n",
        "print('F1 Score: ',f1_score(y_test,svm_tuned_pred))"
      ]
    },
    {
      "cell_type": "code",
      "execution_count": null,
      "metadata": {
        "colab": {
          "base_uri": "https://localhost:8080/"
        },
        "id": "xd54fx5icfBA",
        "outputId": "da253fc1-b27a-4bd5-9853-5b9970efc9d7"
      },
      "outputs": [
        {
          "name": "stdout",
          "output_type": "stream",
          "text": [
            "Fitting 10 folds for each of 30 candidates, totalling 300 fits\n"
          ]
        }
      ],
      "source": [
        "# next up is k-nearest-neighbors\n",
        "knn = KNeighborsClassifier()\n",
        "k_range = list(range(1, 31))\n",
        "param_grid = dict(n_neighbors=k_range)\n",
        "  \n",
        "# defining parameter range\n",
        "grid = GridSearchCV(knn, param_grid, cv=10, scoring='accuracy', return_train_score=False,verbose=1)\n",
        "  \n",
        "# fitting the model for grid search\n",
        "grid_search=grid.fit(X_train, y_train)"
      ]
    },
    {
      "cell_type": "code",
      "execution_count": null,
      "metadata": {
        "colab": {
          "base_uri": "https://localhost:8080/"
        },
        "id": "p1NlcuQocr6Y",
        "outputId": "129b3243-a6fa-4667-c8c5-09c1ff6f6011"
      },
      "outputs": [
        {
          "name": "stdout",
          "output_type": "stream",
          "text": [
            "GridSearch CV best score : 1.0000\n",
            "\n",
            "\n",
            "Parameters that give the best results : \n",
            "\n",
            " {'n_neighbors': 3}\n",
            "\n",
            "\n",
            "Estimator that was chosen by the search : \n",
            "\n",
            " KNeighborsClassifier(n_neighbors=3)\n"
          ]
        }
      ],
      "source": [
        "# best score achieved during the GridSearchCV\n",
        "print('GridSearch CV best score : {:.4f}\\n\\n'.format(grid.best_score_))\n",
        "\n",
        "# print parameters that give the best results\n",
        "print('Parameters that give the best results :','\\n\\n', (grid.best_params_))\n",
        "\n",
        "# print estimator that was chosen by the GridSearch\n",
        "print('\\n\\nEstimator that was chosen by the search :','\\n\\n', (grid.best_estimator_))"
      ]
    },
    {
      "cell_type": "code",
      "execution_count": 52,
      "metadata": {
        "id": "5eCei3JBc-sj"
      },
      "outputs": [],
      "source": [
        "# using the optimal parameters\n",
        "knn_pipeline = Pipeline(steps = [('scale',StandardScaler()),('KNN',KNeighborsClassifier(n_neighbors=1))])\n",
        "\n",
        "knn_pipeline.fit(X_train,y_train)\n",
        "\n",
        "knn_tuned_pred = knn_pipeline.predict(X_test)"
      ]
    },
    {
      "cell_type": "code",
      "execution_count": 53,
      "metadata": {
        "colab": {
          "base_uri": "https://localhost:8080/"
        },
        "id": "dqMdzTzGdKWk",
        "outputId": "aa0e2e06-aafd-491b-c2e4-2fde1cf3eafe"
      },
      "outputs": [
        {
          "output_type": "stream",
          "name": "stdout",
          "text": [
            "              precision    recall  f1-score   support\n",
            "\n",
            "           0       0.83      0.95      0.89        37\n",
            "           1       0.97      0.91      0.94        81\n",
            "\n",
            "    accuracy                           0.92       118\n",
            "   macro avg       0.90      0.93      0.91       118\n",
            "weighted avg       0.93      0.92      0.92       118\n",
            "\n",
            "Accuracy Score:  0.923728813559322\n",
            "F1 Score:  0.9426751592356688\n"
          ]
        }
      ],
      "source": [
        "# print out the report for the knn classifier\n",
        "print(classification_report(y_test,knn_tuned_pred))\n",
        "\n",
        "print('Accuracy Score: ',accuracy_score(y_test,knn_tuned_pred))\n",
        "print('F1 Score: ',f1_score(y_test,knn_tuned_pred))"
      ]
    },
    {
      "cell_type": "code",
      "execution_count": null,
      "metadata": {
        "colab": {
          "base_uri": "https://localhost:8080/"
        },
        "id": "vAq1xznWtjU9",
        "outputId": "7deaa1b7-2883-49e6-ec1c-69c4fa9a1de0"
      },
      "outputs": [
        {
          "name": "stdout",
          "output_type": "stream",
          "text": [
            "Fitting 10 folds for each of 648 candidates, totalling 6480 fits\n"
          ]
        }
      ],
      "source": [
        "# next up is decision tree classifier\n",
        "dt = DecisionTreeClassifier(random_state=42)\n",
        "\n",
        "params = {'criterion': ['gini', 'entropy'], 'max_depth': range(1,10), 'min_samples_split': range(1,10), \n",
        "          'min_samples_leaf': range(1,5)}\n",
        "\n",
        "grid = GridSearchCV(dt, params, cv=10, scoring='accuracy', return_train_score=False,verbose=1)\n",
        "grid_search=grid.fit(X_train, y_train)"
      ]
    },
    {
      "cell_type": "code",
      "execution_count": null,
      "metadata": {
        "colab": {
          "base_uri": "https://localhost:8080/"
        },
        "id": "BLu_uCcO_vfL",
        "outputId": "12079a5c-e04c-44bd-e5f2-19108017cda6"
      },
      "outputs": [
        {
          "name": "stdout",
          "output_type": "stream",
          "text": [
            "GridSearch CV best score : 0.9857\n",
            "\n",
            "\n",
            "Parameters that give the best results : \n",
            "\n",
            " {'criterion': 'gini', 'max_depth': 1, 'min_samples_leaf': 1, 'min_samples_split': 2}\n",
            "\n",
            "\n",
            "Estimator that was chosen by the search : \n",
            "\n",
            " DecisionTreeClassifier(max_depth=1, random_state=42)\n"
          ]
        }
      ],
      "source": [
        "# best score achieved during the GridSearchCV\n",
        "print('GridSearch CV best score : {:.4f}\\n\\n'.format(grid.best_score_))\n",
        "\n",
        "# print parameters that give the best results\n",
        "print('Parameters that give the best results :','\\n\\n', (grid.best_params_))\n",
        "\n",
        "# print estimator that was chosen by the GridSearch\n",
        "print('\\n\\nEstimator that was chosen by the search :','\\n\\n', (grid.best_estimator_))"
      ]
    },
    {
      "cell_type": "code",
      "execution_count": 54,
      "metadata": {
        "id": "Xr9-iAUZzjIn"
      },
      "outputs": [],
      "source": [
        "# lets use these params now\n",
        "dt_pipeline = Pipeline(steps = [('scale',StandardScaler()),('DT',DecisionTreeClassifier(max_depth=1, random_state=42))])\n",
        "\n",
        "dt_pipeline.fit(X_train,y_train)\n",
        "\n",
        "dt_tuned_pred = dt_pipeline.predict(X_test)"
      ]
    },
    {
      "cell_type": "code",
      "execution_count": 55,
      "metadata": {
        "colab": {
          "base_uri": "https://localhost:8080/"
        },
        "id": "UfOO40Piztdr",
        "outputId": "75b3a964-8b01-43f4-9702-d4ff70e80378"
      },
      "outputs": [
        {
          "output_type": "stream",
          "name": "stdout",
          "text": [
            "              precision    recall  f1-score   support\n",
            "\n",
            "           0       0.88      0.95      0.91        37\n",
            "           1       0.97      0.94      0.96        81\n",
            "\n",
            "    accuracy                           0.94       118\n",
            "   macro avg       0.92      0.94      0.93       118\n",
            "weighted avg       0.94      0.94      0.94       118\n",
            "\n",
            "Accuracy Score:  0.940677966101695\n",
            "F1 Score:  0.9559748427672956\n"
          ]
        }
      ],
      "source": [
        "# print out the report for the decision tree classifier\n",
        "print(classification_report(y_test,dt_tuned_pred))\n",
        "\n",
        "print('Accuracy Score: ',accuracy_score(y_test,dt_tuned_pred))\n",
        "print('F1 Score: ',f1_score(y_test,dt_tuned_pred))"
      ]
    },
    {
      "cell_type": "code",
      "execution_count": null,
      "metadata": {
        "id": "JlyHoNakzyTz"
      },
      "outputs": [],
      "source": [
        "# using a multilayer perceptron neural network\n",
        "mlp = MLPClassifier(random_state=42)\n",
        "\n",
        "params = {'solver': ['lbfgs'], 'max_iter': [1000,1100,1200,1300,1400,1500,1600,1700,1800,1900,2000 ], \n",
        "              'alpha': 10.0 ** -np.arange(1, 10), 'hidden_layer_sizes':np.arange(10, 15), \n",
        "              'random_state':[0,1,2,3,4,5,6,7,8,9]}\n",
        "\n",
        "grid = GridSearchCV(mlp, params, cv=10, scoring='accuracy', return_train_score=False,verbose=1)\n",
        "grid_search=grid.fit(X_train, y_train)"
      ]
    },
    {
      "cell_type": "code",
      "execution_count": null,
      "metadata": {
        "colab": {
          "base_uri": "https://localhost:8080/"
        },
        "id": "GQF-9x2ABKbd",
        "outputId": "11304202-c4e7-4bd6-fe1c-a5c6cb152fec"
      },
      "outputs": [
        {
          "name": "stdout",
          "output_type": "stream",
          "text": [
            "GridSearch CV best score : 1.0000\n",
            "\n",
            "\n",
            "Parameters that give the best results : \n",
            "\n",
            " {'alpha': 0.1, 'hidden_layer_sizes': 10, 'max_iter': 1000, 'random_state': 0, 'solver': 'lbfgs'}\n",
            "\n",
            "\n",
            "Estimator that was chosen by the search : \n",
            "\n",
            " MLPClassifier(alpha=0.1, hidden_layer_sizes=10, max_iter=1000, random_state=0,\n",
            "              solver='lbfgs')\n"
          ]
        }
      ],
      "source": [
        "# best score achieved during the GridSearchCV\n",
        "print('GridSearch CV best score : {:.4f}\\n\\n'.format(grid.best_score_))\n",
        "\n",
        "# print parameters that give the best results\n",
        "print('Parameters that give the best results :','\\n\\n', (grid.best_params_))\n",
        "\n",
        "# print estimator that was chosen by the GridSearch\n",
        "print('\\n\\nEstimator that was chosen by the search :','\\n\\n', (grid.best_estimator_))"
      ]
    },
    {
      "cell_type": "code",
      "execution_count": 39,
      "metadata": {
        "id": "E3f85iWX0RmJ"
      },
      "outputs": [],
      "source": [
        "# lets use these params now\n",
        "nn_pipeline = Pipeline(steps = [('scale',StandardScaler()),('NN',MLPClassifier(alpha=0.1, hidden_layer_sizes=10, max_iter=1000, random_state=0,\n",
        "              solver='lbfgs'))])\n",
        "\n",
        "nn_pipeline.fit(X_train,y_train)\n",
        "\n",
        "nn_tuned_pred = nn_pipeline.predict(X_test)"
      ]
    },
    {
      "cell_type": "code",
      "execution_count": 40,
      "metadata": {
        "colab": {
          "base_uri": "https://localhost:8080/"
        },
        "id": "8gLEPzqFPUXr",
        "outputId": "936527f8-16dd-4ea2-e2bd-20596192ab11"
      },
      "outputs": [
        {
          "output_type": "stream",
          "name": "stdout",
          "text": [
            "              precision    recall  f1-score   support\n",
            "\n",
            "           0       0.82      1.00      0.90        37\n",
            "           1       1.00      0.90      0.95        81\n",
            "\n",
            "    accuracy                           0.93       118\n",
            "   macro avg       0.91      0.95      0.93       118\n",
            "weighted avg       0.94      0.93      0.93       118\n",
            "\n",
            "Accuracy Score:  0.9322033898305084\n",
            "F1 Score:  0.948051948051948\n"
          ]
        }
      ],
      "source": [
        "# print out the results for the neural network \n",
        "print(classification_report(y_test,nn_tuned_pred))\n",
        "\n",
        "print('Accuracy Score: ',accuracy_score(y_test,nn_tuned_pred))\n",
        "print('F1 Score: ',f1_score(y_test,nn_tuned_pred))"
      ]
    },
    {
      "cell_type": "code",
      "execution_count": 41,
      "metadata": {
        "id": "2x7xPtjLyCT0"
      },
      "outputs": [],
      "source": [
        "# fit all of these new models\n",
        "rf_pipeline.fit(X_train,y_train)\n",
        "svm_pipeline.fit(X_train,y_train)\n",
        "logreg_pipeline.fit(X_train,y_train)\n",
        "knn_pipeline.fit(X_train, y_train)\n",
        "dt_pipeline.fit(X_train, y_train)\n",
        "nn_pipeline.fit(X_train, y_train)\n",
        "\n",
        "# get the prediction labels from the new models\n",
        "rf_pred = rf_pipeline.predict(X_test)\n",
        "svm_pred = svm_pipeline.predict(X_test)\n",
        "logreg_pred = logreg_pipeline.predict(X_test)\n",
        "knn_pred = knn_pipeline.predict(X_test)\n",
        "dt_pred = knn_pipeline.predict(X_test)\n",
        "nn_pred = knn_pipeline.predict(X_test)\n",
        "\n",
        "# create new confusion matrices\n",
        "rf_cm  = confusion_matrix(y_test,rf_pred )\n",
        "svm_cm = confusion_matrix(y_test,svm_pred)\n",
        "logreg_cm  = confusion_matrix(y_test,logreg_pred )\n",
        "knn_cm = confusion_matrix(y_test, knn_pred)\n",
        "dt_cm = confusion_matrix(y_test, dt_pred)\n",
        "nn_cm = confusion_matrix(y_test, nn_pred)"
      ]
    },
    {
      "cell_type": "code",
      "execution_count": 42,
      "metadata": {
        "id": "mV5JJmSy2vRe"
      },
      "outputs": [],
      "source": [
        "# Make dataframes to plot\n",
        "from sklearn.metrics import recall_score, precision_score, roc_auc_score\n",
        "\n",
        "# random forest classifier\n",
        "rf_df = pd.DataFrame(data=[f1_score(y_test,rf_pred),accuracy_score(y_test, rf_pred), recall_score(y_test, rf_pred),\n",
        "                   precision_score(y_test, rf_pred), roc_auc_score(y_test, rf_pred)], \n",
        "             columns=['Random Forest Score'],\n",
        "             index=[\"F1\",\"Accuracy\", \"Recall\", \"Precision\", \"ROC AUC Score\"])\n",
        "\n",
        "# support vector machine\n",
        "svm_df = pd.DataFrame(data=[f1_score(y_test,svm_pred),accuracy_score(y_test, svm_pred), recall_score(y_test, svm_pred),\n",
        "                   precision_score(y_test, svm_pred), roc_auc_score(y_test, svm_pred)], \n",
        "             columns=['Support Vector Machine (SVM) Score'],\n",
        "             index=[\"F1\",\"Accuracy\", \"Recall\", \"Precision\", \"ROC AUC Score\"])\n",
        "\n",
        "# logistic regression\n",
        "lr_df = pd.DataFrame(data=[f1_score(y_test,logreg_tuned_pred),accuracy_score(y_test, logreg_tuned_pred), recall_score(y_test, logreg_tuned_pred),\n",
        "                   precision_score(y_test, logreg_tuned_pred), roc_auc_score(y_test, logreg_tuned_pred)], \n",
        "             columns=['Tuned Logistic Regression Score'],\n",
        "             index=[\"F1\",\"Accuracy\", \"Recall\", \"Precision\", \"ROC AUC Score\"])\n",
        "\n",
        "# k nearest neighbors\n",
        "knn_df = pd.DataFrame(data=[f1_score(y_test,knn_tuned_pred),accuracy_score(y_test, knn_tuned_pred), recall_score(y_test, knn_tuned_pred),\n",
        "                   precision_score(y_test, knn_tuned_pred), roc_auc_score(y_test, knn_tuned_pred)], \n",
        "             columns=['K-Nearest-Neighbors Score'],\n",
        "             index=[\"F1\",\"Accuracy\", \"Recall\", \"Precision\", \"ROC AUC Score\"])\n",
        "\n",
        "# decision tree classifier\n",
        "dt_df = pd.DataFrame(data=[f1_score(y_test,dt_tuned_pred),accuracy_score(y_test, dt_tuned_pred), recall_score(y_test, dt_tuned_pred),\n",
        "                   precision_score(y_test, dt_tuned_pred), roc_auc_score(y_test, dt_tuned_pred)], \n",
        "             columns=['Decision Tree Classifier Score'],\n",
        "             index=[\"F1\",\"Accuracy\", \"Recall\", \"Precision\", \"ROC AUC Score\"])\n",
        "\n",
        "# multilayer perceptron neural network\n",
        "nn_df = pd.DataFrame(data=[f1_score(y_test,nn_tuned_pred),accuracy_score(y_test, nn_tuned_pred), recall_score(y_test, nn_tuned_pred),\n",
        "                   precision_score(y_test, nn_tuned_pred), roc_auc_score(y_test, nn_tuned_pred)], \n",
        "             columns=['Multilayer Perceptron Neural Network Score'],\n",
        "             index=[\"F1\",\"Accuracy\", \"Recall\", \"Precision\", \"ROC AUC Score\"])"
      ]
    },
    {
      "cell_type": "code",
      "execution_count": null,
      "metadata": {
        "id": "Cp58DUr322OB"
      },
      "outputs": [],
      "source": [
        "# create a full figure\n",
        "df_models = round(pd.concat([rf_df,svm_df,lr_df,knn_df, dt_df, nn_df], axis=1),3)\n",
        "import matplotlib\n",
        "colors = [\"lightgray\",\"lightgray\",\"#0f4c81\"] # the colors for the plot\n",
        "colormap = matplotlib.colors.LinearSegmentedColormap.from_list(\"\", colors) # make the color map from minimum to maximum\n",
        "\n",
        "fig = plt.figure(figsize=(15,30)) # create figure\n",
        "gs = fig.add_gridspec(4, 2) # add some space between the grid elements\n",
        "gs.update(wspace=0.1, hspace=0.5)\n",
        "ax0 = fig.add_subplot(gs[0, :])\n",
        "\n",
        "sns.heatmap(df_models.T, cmap=colormap,annot=True,fmt=\".1%\",vmin=0.80,vmax=1, linewidths=2.5,cbar=False,ax=ax0,annot_kws={\"fontsize\":18}) # create the heatmap using seaborn\n",
        "\n",
        "ax0.text(0,-0.5,'Model Comparison',fontsize=18,fontweight='bold',fontfamily='serif') # set the text\n",
        "ax0.tick_params(axis=u'both', which=u'both',length=0)\n",
        "\n",
        "plt.show()"
      ]
    },
    {
      "cell_type": "code",
      "execution_count": 59,
      "metadata": {
        "colab": {
          "base_uri": "https://localhost:8080/",
          "height": 1000
        },
        "id": "-W99kU7Q3KUv",
        "outputId": "0e1c1c4a-9f04-4dc2-c330-2699f4351c1c"
      },
      "outputs": [
        {
          "output_type": "display_data",
          "data": {
            "text/plain": [
              "<Figure size 720x1440 with 6 Axes>"
            ],
            "image/png": "[encoded data removed]"
          },
          "metadata": {}
        }
      ],
      "source": [
        "# Plotting our results and confusion matrices (and making them look professional)\n",
        "colors = [\"lightgray\",\"#0f4c81\",\"#0f4c81\",\"#0f4c81\",\"#0f4c81\",\"#0f4c81\",\"#0f4c81\",\"#0f4c81\"]\n",
        "colormap = matplotlib.colors.LinearSegmentedColormap.from_list(\"\", colors)\n",
        "\n",
        "# add all of our subplots\n",
        "fig = plt.figure(figsize=(10,20)) # create figure\n",
        "gs = fig.add_gridspec(6, 2)\n",
        "gs.update(wspace=0.1, hspace=0.8)\n",
        "ax0 = fig.add_subplot(gs[0, :])\n",
        "ax1 = fig.add_subplot(gs[1, :])\n",
        "ax2 = fig.add_subplot(gs[2, :])\n",
        "ax3 = fig.add_subplot(gs[3, :])\n",
        "ax4 = fig.add_subplot(gs[4, :])\n",
        "ax5 = fig.add_subplot(gs[5, :])\n",
        "\n",
        "# random forest classifier\n",
        "sns.heatmap(rf_cm, cmap=colormap,annot=True,fmt=\"d\", linewidths=5,cbar=False,ax=ax0,\n",
        "            yticklabels=['Actual Normal','Actual Oligodendroglioma'],xticklabels=['Predicted Normal','Predicted Oligodendroglioma'],annot_kws={\"fontsize\":12})\n",
        "\n",
        "# logistic regression\n",
        "sns.heatmap(logreg_cm, cmap=colormap,annot=True,fmt=\"d\", linewidths=5,cbar=False,ax=ax1,\n",
        "            yticklabels=['Actual Normal','Actual Oligodendroglioma'],xticklabels=['Predicted Normal','Predicted Oligodendroglioma'],annot_kws={\"fontsize\":12})\n",
        "\n",
        "# support vector machines\n",
        "sns.heatmap(svm_cm, cmap=colormap,annot=True,fmt=\"d\", linewidths=5,cbar=False,ax=ax2,\n",
        "            yticklabels=['Actual Normal','Actual Oligodendroglioma'],xticklabels=['Predicted Normal','Predicted Oligodendroglioma'],annot_kws={\"fontsize\":12})\n",
        "\n",
        "# k nearest neighbors\n",
        "sns.heatmap(knn_cm, cmap=colormap,annot=True,fmt=\"d\", linewidths=5,cbar=False,ax=ax3,\n",
        "            yticklabels=['Actual Normal','Actual Oligodendroglioma'],xticklabels=['Predicted Normal','Predicted Oligodendroglioma'],annot_kws={\"fontsize\":12})\n",
        "\n",
        "# decision tree classifier\n",
        "sns.heatmap(dt_cm, cmap=colormap,annot=True,fmt=\"d\", linewidths=5,cbar=False,ax=ax4,\n",
        "            yticklabels=['Actual Normal','Actual Oligodendroglioma'],xticklabels=['Predicted Normal','Predicted Oligodendroglioma'],annot_kws={\"fontsize\":12})\n",
        "\n",
        "# multilayer perceptron neural network\n",
        "sns.heatmap(nn_cm, cmap=colormap,annot=True,fmt=\"d\", linewidths=5,cbar=False,ax=ax5,\n",
        "            yticklabels=['Actual Normal','Actual Oligodendroglioma'],xticklabels=['Predicted Normal','Predicted Oligodendroglioma'],annot_kws={\"fontsize\":12})\n",
        "\n",
        "# set the background color for each figure\n",
        "ax0.tick_params(axis=u'both', which=u'both',length=0)\n",
        "background_color = \"#fbfbfb\"\n",
        "fig.patch.set_facecolor(background_color) # figure background color\n",
        "ax0.set_facecolor(background_color) \n",
        "ax1.tick_params(axis=u'both', which=u'both',length=0)\n",
        "ax1.set_facecolor(background_color) \n",
        "ax2.tick_params(axis=u'both', which=u'both',length=0)\n",
        "ax2.set_facecolor(background_color)\n",
        "ax3.tick_params(axis=u'both', which=u'both',length=0)\n",
        "ax3.set_facecolor(background_color)\n",
        "ax4.tick_params(axis=u'both', which=u'both',length=0)\n",
        "ax4.set_facecolor(background_color)\n",
        "ax5.tick_params(axis=u'both', which=u'both',length=0)\n",
        "ax5.set_facecolor(background_color)\n",
        "\n",
        "# set the text for each figure\n",
        "ax0.text(0,-0.75,'Random Forest Performance',fontsize=18,fontweight='bold',fontfamily='serif')\n",
        "ax1.text(0,-0.75,'Logistic Regression Performance',fontsize=18,fontweight='bold',fontfamily='serif')\n",
        "ax2.text(0,-0.75,'Support Vector Machine Performance',fontsize=18,fontweight='bold',fontfamily='serif')\n",
        "ax3.text(0,-0.75,'K-Nearest-Neighbors Performance',fontsize=18,fontweight='bold',fontfamily='serif')\n",
        "ax4.text(0,-0.75,'Decision Tree Performance',fontsize=18,fontweight='bold',fontfamily='serif')\n",
        "ax5.text(0,-0.75,'Neural Network: MLP Performance',fontsize=18,fontweight='bold',fontfamily='serif')\n",
        "\n",
        "plt.show()"
      ]
    }
  ],
  "metadata": {
    "colab": {
      "provenance": []
    },
    "kernelspec": {
      "display_name": "Python 3",
      "name": "python3"
    },
    "language_info": {
      "name": "python"
    }
  },
  "nbformat": 4,
  "nbformat_minor": 0
}