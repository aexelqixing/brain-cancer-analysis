{
  "cells": [
    {
      "cell_type": "code",
      "execution_count": 1,
      "metadata": {
        "id": "AmHOpUbMwN_g"
      },
      "outputs": [],
      "source": [
        "# This Python notebook was used for creating a support vector machine to classify glioblastoma multiforme (GBM) from normal samples, as well as compare the SVM with other machine learning models\n",
        "\n",
        "# importing all the libraries\n",
        "import numpy as np # linear algebra\n",
        "import pandas as pd # data processing, CSV file I/O (e.g. pd.read_csv)\n",
        "import matplotlib.pyplot as plt # for data visualization\n",
        "import seaborn as sns # for statistical data visualization"
      ]
    },
    {
      "cell_type": "code",
      "execution_count": 3,
      "metadata": {
        "colab": {
          "base_uri": "https://localhost:8080/",
          "height": 424
        },
        "id": "JoPR7GW5wg5a",
        "outputId": "e60e092c-4af9-4164-a5d3-d402812985a2"
      },
      "outputs": [
        {
          "output_type": "execute_result",
          "data": {
            "text/plain": [
              "           tumor\n",
              "GSM2899326   GBM\n",
              "GSM2899327   GBM\n",
              "GSM2899328   GBM\n",
              "GSM2899329   GBM\n",
              "GSM2899330   GBM\n",
              "...          ...\n",
              "GSM97966     GBM\n",
              "GSM97967     GBM\n",
              "GSM97968     GBM\n",
              "GSM97969     GBM\n",
              "GSM97971     GBM\n",
              "\n",
              "[356 rows x 1 columns]"
            ],
            "text/html": [
              "\n",
              "  <div id=\"df-0ab0ec63-12b8-49b6-85f2-4c5d5435e8fe\">\n",
              "    <div class=\"colab-df-container\">\n",
              "      <div>\n",
              "<style scoped>\n",
              "    .dataframe tbody tr th:only-of-type {\n",
              "        vertical-align: middle;\n",
              "    }\n",
              "\n",
              "    .dataframe tbody tr th {\n",
              "        vertical-align: top;\n",
              "    }\n",
              "\n",
              "    .dataframe thead th {\n",
              "        text-align: right;\n",
              "    }\n",
              "</style>\n",
              "<table border=\"1\" class=\"dataframe\">\n",
              "  <thead>\n",
              "    <tr style=\"text-align: right;\">\n",
              "      <th></th>\n",
              "      <th>tumor</th>\n",
              "    </tr>\n",
              "  </thead>\n",
              "  <tbody>\n",
              "    <tr>\n",
              "      <th>GSM2899326</th>\n",
              "      <td>GBM</td>\n",
              "    </tr>\n",
              "    <tr>\n",
              "      <th>GSM2899327</th>\n",
              "      <td>GBM</td>\n",
              "    </tr>\n",
              "    <tr>\n",
              "      <th>GSM2899328</th>\n",
              "      <td>GBM</td>\n",
              "    </tr>\n",
              "    <tr>\n",
              "      <th>GSM2899329</th>\n",
              "      <td>GBM</td>\n",
              "    </tr>\n",
              "    <tr>\n",
              "      <th>GSM2899330</th>\n",
              "      <td>GBM</td>\n",
              "    </tr>\n",
              "    <tr>\n",
              "      <th>...</th>\n",
              "      <td>...</td>\n",
              "    </tr>\n",
              "    <tr>\n",
              "      <th>GSM97966</th>\n",
              "      <td>GBM</td>\n",
              "    </tr>\n",
              "    <tr>\n",
              "      <th>GSM97967</th>\n",
              "      <td>GBM</td>\n",
              "    </tr>\n",
              "    <tr>\n",
              "      <th>GSM97968</th>\n",
              "      <td>GBM</td>\n",
              "    </tr>\n",
              "    <tr>\n",
              "      <th>GSM97969</th>\n",
              "      <td>GBM</td>\n",
              "    </tr>\n",
              "    <tr>\n",
              "      <th>GSM97971</th>\n",
              "      <td>GBM</td>\n",
              "    </tr>\n",
              "  </tbody>\n",
              "</table>\n",
              "<p>356 rows × 1 columns</p>\n",
              "</div>\n",
              "      <button class=\"colab-df-convert\" onclick=\"convertToInteractive('df-0ab0ec63-12b8-49b6-85f2-4c5d5435e8fe')\"\n",
              "              title=\"Convert this dataframe to an interactive table.\"\n",
              "              style=\"display:none;\">\n",
              "        \n",
              "  <svg xmlns=\"http://www.w3.org/2000/svg\" height=\"24px\"viewBox=\"0 0 24 24\"\n",
              "       width=\"24px\">\n",
              "    <path d=\"M0 0h24v24H0V0z\" fill=\"none\"/>\n",
              "    <path d=\"M18.56 5.44l.94 2.06.94-2.06 2.06-.94-2.06-.94-.94-2.06-.94 2.06-2.06.94zm-11 1L8.5 8.5l.94-2.06 2.06-.94-2.06-.94L8.5 2.5l-.94 2.06-2.06.94zm10 10l.94 2.06.94-2.06 2.06-.94-2.06-.94-.94-2.06-.94 2.06-2.06.94z\"/><path d=\"M17.41 7.96l-1.37-1.37c-.4-.4-.92-.59-1.43-.59-.52 0-1.04.2-1.43.59L10.3 9.45l-7.72 7.72c-.78.78-.78 2.05 0 2.83L4 21.41c.39.39.9.59 1.41.59.51 0 1.02-.2 1.41-.59l7.78-7.78 2.81-2.81c.8-.78.8-2.07 0-2.86zM5.41 20L4 18.59l7.72-7.72 1.47 1.35L5.41 20z\"/>\n",
              "  </svg>\n",
              "      </button>\n",
              "      \n",
              "  <style>\n",
              "    .colab-df-container {\n",
              "      display:flex;\n",
              "      flex-wrap:wrap;\n",
              "      gap: 12px;\n",
              "    }\n",
              "\n",
              "    .colab-df-convert {\n",
              "      background-color: #E8F0FE;\n",
              "      border: none;\n",
              "      border-radius: 50%;\n",
              "      cursor: pointer;\n",
              "      display: none;\n",
              "      fill: #1967D2;\n",
              "      height: 32px;\n",
              "      padding: 0 0 0 0;\n",
              "      width: 32px;\n",
              "    }\n",
              "\n",
              "    .colab-df-convert:hover {\n",
              "      background-color: #E2EBFA;\n",
              "      box-shadow: 0px 1px 2px rgba(60, 64, 67, 0.3), 0px 1px 3px 1px rgba(60, 64, 67, 0.15);\n",
              "      fill: #174EA6;\n",
              "    }\n",
              "\n",
              "    [theme=dark] .colab-df-convert {\n",
              "      background-color: #3B4455;\n",
              "      fill: #D2E3FC;\n",
              "    }\n",
              "\n",
              "    [theme=dark] .colab-df-convert:hover {\n",
              "      background-color: #434B5C;\n",
              "      box-shadow: 0px 1px 3px 1px rgba(0, 0, 0, 0.15);\n",
              "      filter: drop-shadow(0px 1px 2px rgba(0, 0, 0, 0.3));\n",
              "      fill: #FFFFFF;\n",
              "    }\n",
              "  </style>\n",
              "\n",
              "      <script>\n",
              "        const buttonEl =\n",
              "          document.querySelector('#df-0ab0ec63-12b8-49b6-85f2-4c5d5435e8fe button.colab-df-convert');\n",
              "        buttonEl.style.display =\n",
              "          google.colab.kernel.accessAllowed ? 'block' : 'none';\n",
              "\n",
              "        async function convertToInteractive(key) {\n",
              "          const element = document.querySelector('#df-0ab0ec63-12b8-49b6-85f2-4c5d5435e8fe');\n",
              "          const dataTable =\n",
              "            await google.colab.kernel.invokeFunction('convertToInteractive',\n",
              "                                                     [key], {});\n",
              "          if (!dataTable) return;\n",
              "\n",
              "          const docLinkHtml = 'Like what you see? Visit the ' +\n",
              "            '<a target=\"_blank\" href=https://colab.research.google.com/notebooks/data_table.ipynb>data table notebook</a>'\n",
              "            + ' to learn more about interactive tables.';\n",
              "          element.innerHTML = '';\n",
              "          dataTable['output_type'] = 'display_data';\n",
              "          await google.colab.output.renderOutput(dataTable, element);\n",
              "          const docLink = document.createElement('div');\n",
              "          docLink.innerHTML = docLinkHtml;\n",
              "          element.appendChild(docLink);\n",
              "        }\n",
              "      </script>\n",
              "    </div>\n",
              "  </div>\n",
              "  "
            ]
          },
          "metadata": {},
          "execution_count": 3
        }
      ],
      "source": [
        "# read in the metadata for GBM\n",
        "metadata = pd.read_csv('interesting_metadata_for_gbm_vs_normal.csv')\n",
        "metadata = metadata[[\"Unnamed: 0\", \"tumor\"]]\n",
        "metadata.rename(columns={'Unnamed: 0':'sample_name'}, inplace=True)\n",
        "metadata = metadata.set_index('sample_name', drop=False).rename_axis(None)\n",
        "metadata = metadata.iloc[: , 1:]\n",
        "metadata"
      ]
    },
    {
      "cell_type": "code",
      "execution_count": 4,
      "metadata": {
        "colab": {
          "base_uri": "https://localhost:8080/"
        },
        "id": "82_RDo9swoI_",
        "outputId": "ed78528b-9f46-47b5-8456-9cfd497f7d70"
      },
      "outputs": [
        {
          "output_type": "execute_result",
          "data": {
            "text/plain": [
              "GBM       305\n",
              "normal     51\n",
              "Name: tumor, dtype: int64"
            ]
          },
          "metadata": {},
          "execution_count": 4
        }
      ],
      "source": [
        "# get the number of samples for each label\n",
        "metadata[\"tumor\"].value_counts()"
      ]
    },
    {
      "cell_type": "code",
      "execution_count": 9,
      "metadata": {
        "colab": {
          "base_uri": "https://localhost:8080/",
          "height": 488
        },
        "id": "FlnFbpmHwqHj",
        "outputId": "629a916e-4b5d-41bc-d347-da3070aab121"
      },
      "outputs": [
        {
          "output_type": "execute_result",
          "data": {
            "text/plain": [
              "           tumor      SCIN      NAV3     CREG2     RXFP1     RBFOX1  \\\n",
              "GSM2899326   GBM  5.893106  5.887953  6.213507  4.865254    7.32657   \n",
              "GSM2899327   GBM  8.553394  7.469058  6.332858  4.764392   8.291405   \n",
              "GSM2899328   GBM  5.059928  9.497947  8.135498  6.450205  10.827845   \n",
              "GSM2899329   GBM  6.690789  7.050517  5.909533  4.746026   7.079067   \n",
              "GSM2899330   GBM  9.487291  8.944802  5.741844  4.782784   7.313938   \n",
              "...          ...       ...       ...       ...       ...        ...   \n",
              "GSM97966     GBM  7.123493  5.596523  6.119224  4.501668   7.036426   \n",
              "GSM97967     GBM  5.865979  9.070803  9.563284  6.810594  11.257569   \n",
              "GSM97968     GBM   6.80024  9.045504  8.874923  6.210138  10.361614   \n",
              "GSM97969     GBM   8.91809  7.227983  6.254368  4.664544   7.507163   \n",
              "GSM97971     GBM   8.60738  7.488432  6.026471  4.567959   7.542204   \n",
              "\n",
              "                  NaN    DNAJA4      RGS7     OLFM3  ...     GABRA1     HTR2A  \\\n",
              "GSM2899326   9.008307  4.715704  5.087414  4.835617  ...   5.509101  4.812886   \n",
              "GSM2899327   9.526303  4.513829  5.618441  5.896084  ...   5.646714  5.318297   \n",
              "GSM2899328   12.73428  7.873798   8.75332  8.765583  ...   9.972019  9.435788   \n",
              "GSM2899329   9.418886  5.084166  5.705095  5.129715  ...   5.434321  5.006544   \n",
              "GSM2899330   9.126035  5.022255  4.948203  4.933111  ...   5.629636  5.079386   \n",
              "...               ...       ...       ...       ...  ...        ...       ...   \n",
              "GSM97966     9.523712   4.48166  5.484426  5.042516  ...   5.910175  4.737608   \n",
              "GSM97967    12.739674  6.694831   8.98073  8.998477  ...  10.606814   8.97819   \n",
              "GSM97968    12.341219  5.599934  7.426404  7.753735  ...   8.860256  7.061934   \n",
              "GSM97969     9.886079  4.357976  5.537988  5.624085  ...   6.158538  4.728239   \n",
              "GSM97971     9.687529  5.746759  5.387808  5.235968  ...   6.017393  4.922658   \n",
              "\n",
              "               RAB3C    NEXMIF     KCNQ5      GLRB       NEFH     PHF24  \\\n",
              "GSM2899326  5.064933  4.752345  6.059171  6.303443   5.434206  5.486401   \n",
              "GSM2899327   7.30993  8.797541  6.215755  6.419077   6.627994  5.997405   \n",
              "GSM2899328  8.011967  9.694102  9.148566  9.276816   9.520928  9.158793   \n",
              "GSM2899329  5.086214  7.569148  5.214896  6.346889   5.707429  5.932495   \n",
              "GSM2899330  4.733561  7.920996  5.900008   5.97748   5.728552  5.774954   \n",
              "...              ...       ...       ...       ...        ...       ...   \n",
              "GSM97966    4.842652  4.717706  5.237441  6.001462   5.253549  5.936955   \n",
              "GSM97967    7.684696  9.149663  9.907065  9.328058  10.170445  9.329689   \n",
              "GSM97968    6.565887  8.540664  8.809902  8.351021   8.692934  7.941307   \n",
              "GSM97969    5.348897  4.888749  5.337169  6.683646   5.689071  5.838098   \n",
              "GSM97971    5.890617  7.065344  6.721655  6.489907   5.992136   5.96729   \n",
              "\n",
              "             PPP1R16B   SHISAL1  \n",
              "GSM2899326   5.912689  5.989639  \n",
              "GSM2899327   8.399034  6.452865  \n",
              "GSM2899328  10.455272  9.287224  \n",
              "GSM2899329   6.263655  6.099967  \n",
              "GSM2899330   6.306956   5.71853  \n",
              "...               ...       ...  \n",
              "GSM97966     6.003382  5.890101  \n",
              "GSM97967    10.543375  9.092771  \n",
              "GSM97968    10.051136  8.190855  \n",
              "GSM97969     7.006535  6.610275  \n",
              "GSM97971     9.036324  6.055038  \n",
              "\n",
              "[356 rows x 764 columns]"
            ],
            "text/html": [
              "\n",
              "  <div id=\"df-24397d0f-ae25-4a40-9612-da73a6c5c551\">\n",
              "    <div class=\"colab-df-container\">\n",
              "      <div>\n",
              "<style scoped>\n",
              "    .dataframe tbody tr th:only-of-type {\n",
              "        vertical-align: middle;\n",
              "    }\n",
              "\n",
              "    .dataframe tbody tr th {\n",
              "        vertical-align: top;\n",
              "    }\n",
              "\n",
              "    .dataframe thead th {\n",
              "        text-align: right;\n",
              "    }\n",
              "</style>\n",
              "<table border=\"1\" class=\"dataframe\">\n",
              "  <thead>\n",
              "    <tr style=\"text-align: right;\">\n",
              "      <th></th>\n",
              "      <th>tumor</th>\n",
              "      <th>SCIN</th>\n",
              "      <th>NAV3</th>\n",
              "      <th>CREG2</th>\n",
              "      <th>RXFP1</th>\n",
              "      <th>RBFOX1</th>\n",
              "      <th>NaN</th>\n",
              "      <th>DNAJA4</th>\n",
              "      <th>RGS7</th>\n",
              "      <th>OLFM3</th>\n",
              "      <th>...</th>\n",
              "      <th>GABRA1</th>\n",
              "      <th>HTR2A</th>\n",
              "      <th>RAB3C</th>\n",
              "      <th>NEXMIF</th>\n",
              "      <th>KCNQ5</th>\n",
              "      <th>GLRB</th>\n",
              "      <th>NEFH</th>\n",
              "      <th>PHF24</th>\n",
              "      <th>PPP1R16B</th>\n",
              "      <th>SHISAL1</th>\n",
              "    </tr>\n",
              "  </thead>\n",
              "  <tbody>\n",
              "    <tr>\n",
              "      <th>GSM2899326</th>\n",
              "      <td>GBM</td>\n",
              "      <td>5.893106</td>\n",
              "      <td>5.887953</td>\n",
              "      <td>6.213507</td>\n",
              "      <td>4.865254</td>\n",
              "      <td>7.32657</td>\n",
              "      <td>9.008307</td>\n",
              "      <td>4.715704</td>\n",
              "      <td>5.087414</td>\n",
              "      <td>4.835617</td>\n",
              "      <td>...</td>\n",
              "      <td>5.509101</td>\n",
              "      <td>4.812886</td>\n",
              "      <td>5.064933</td>\n",
              "      <td>4.752345</td>\n",
              "      <td>6.059171</td>\n",
              "      <td>6.303443</td>\n",
              "      <td>5.434206</td>\n",
              "      <td>5.486401</td>\n",
              "      <td>5.912689</td>\n",
              "      <td>5.989639</td>\n",
              "    </tr>\n",
              "    <tr>\n",
              "      <th>GSM2899327</th>\n",
              "      <td>GBM</td>\n",
              "      <td>8.553394</td>\n",
              "      <td>7.469058</td>\n",
              "      <td>6.332858</td>\n",
              "      <td>4.764392</td>\n",
              "      <td>8.291405</td>\n",
              "      <td>9.526303</td>\n",
              "      <td>4.513829</td>\n",
              "      <td>5.618441</td>\n",
              "      <td>5.896084</td>\n",
              "      <td>...</td>\n",
              "      <td>5.646714</td>\n",
              "      <td>5.318297</td>\n",
              "      <td>7.30993</td>\n",
              "      <td>8.797541</td>\n",
              "      <td>6.215755</td>\n",
              "      <td>6.419077</td>\n",
              "      <td>6.627994</td>\n",
              "      <td>5.997405</td>\n",
              "      <td>8.399034</td>\n",
              "      <td>6.452865</td>\n",
              "    </tr>\n",
              "    <tr>\n",
              "      <th>GSM2899328</th>\n",
              "      <td>GBM</td>\n",
              "      <td>5.059928</td>\n",
              "      <td>9.497947</td>\n",
              "      <td>8.135498</td>\n",
              "      <td>6.450205</td>\n",
              "      <td>10.827845</td>\n",
              "      <td>12.73428</td>\n",
              "      <td>7.873798</td>\n",
              "      <td>8.75332</td>\n",
              "      <td>8.765583</td>\n",
              "      <td>...</td>\n",
              "      <td>9.972019</td>\n",
              "      <td>9.435788</td>\n",
              "      <td>8.011967</td>\n",
              "      <td>9.694102</td>\n",
              "      <td>9.148566</td>\n",
              "      <td>9.276816</td>\n",
              "      <td>9.520928</td>\n",
              "      <td>9.158793</td>\n",
              "      <td>10.455272</td>\n",
              "      <td>9.287224</td>\n",
              "    </tr>\n",
              "    <tr>\n",
              "      <th>GSM2899329</th>\n",
              "      <td>GBM</td>\n",
              "      <td>6.690789</td>\n",
              "      <td>7.050517</td>\n",
              "      <td>5.909533</td>\n",
              "      <td>4.746026</td>\n",
              "      <td>7.079067</td>\n",
              "      <td>9.418886</td>\n",
              "      <td>5.084166</td>\n",
              "      <td>5.705095</td>\n",
              "      <td>5.129715</td>\n",
              "      <td>...</td>\n",
              "      <td>5.434321</td>\n",
              "      <td>5.006544</td>\n",
              "      <td>5.086214</td>\n",
              "      <td>7.569148</td>\n",
              "      <td>5.214896</td>\n",
              "      <td>6.346889</td>\n",
              "      <td>5.707429</td>\n",
              "      <td>5.932495</td>\n",
              "      <td>6.263655</td>\n",
              "      <td>6.099967</td>\n",
              "    </tr>\n",
              "    <tr>\n",
              "      <th>GSM2899330</th>\n",
              "      <td>GBM</td>\n",
              "      <td>9.487291</td>\n",
              "      <td>8.944802</td>\n",
              "      <td>5.741844</td>\n",
              "      <td>4.782784</td>\n",
              "      <td>7.313938</td>\n",
              "      <td>9.126035</td>\n",
              "      <td>5.022255</td>\n",
              "      <td>4.948203</td>\n",
              "      <td>4.933111</td>\n",
              "      <td>...</td>\n",
              "      <td>5.629636</td>\n",
              "      <td>5.079386</td>\n",
              "      <td>4.733561</td>\n",
              "      <td>7.920996</td>\n",
              "      <td>5.900008</td>\n",
              "      <td>5.97748</td>\n",
              "      <td>5.728552</td>\n",
              "      <td>5.774954</td>\n",
              "      <td>6.306956</td>\n",
              "      <td>5.71853</td>\n",
              "    </tr>\n",
              "    <tr>\n",
              "      <th>...</th>\n",
              "      <td>...</td>\n",
              "      <td>...</td>\n",
              "      <td>...</td>\n",
              "      <td>...</td>\n",
              "      <td>...</td>\n",
              "      <td>...</td>\n",
              "      <td>...</td>\n",
              "      <td>...</td>\n",
              "      <td>...</td>\n",
              "      <td>...</td>\n",
              "      <td>...</td>\n",
              "      <td>...</td>\n",
              "      <td>...</td>\n",
              "      <td>...</td>\n",
              "      <td>...</td>\n",
              "      <td>...</td>\n",
              "      <td>...</td>\n",
              "      <td>...</td>\n",
              "      <td>...</td>\n",
              "      <td>...</td>\n",
              "      <td>...</td>\n",
              "    </tr>\n",
              "    <tr>\n",
              "      <th>GSM97966</th>\n",
              "      <td>GBM</td>\n",
              "      <td>7.123493</td>\n",
              "      <td>5.596523</td>\n",
              "      <td>6.119224</td>\n",
              "      <td>4.501668</td>\n",
              "      <td>7.036426</td>\n",
              "      <td>9.523712</td>\n",
              "      <td>4.48166</td>\n",
              "      <td>5.484426</td>\n",
              "      <td>5.042516</td>\n",
              "      <td>...</td>\n",
              "      <td>5.910175</td>\n",
              "      <td>4.737608</td>\n",
              "      <td>4.842652</td>\n",
              "      <td>4.717706</td>\n",
              "      <td>5.237441</td>\n",
              "      <td>6.001462</td>\n",
              "      <td>5.253549</td>\n",
              "      <td>5.936955</td>\n",
              "      <td>6.003382</td>\n",
              "      <td>5.890101</td>\n",
              "    </tr>\n",
              "    <tr>\n",
              "      <th>GSM97967</th>\n",
              "      <td>GBM</td>\n",
              "      <td>5.865979</td>\n",
              "      <td>9.070803</td>\n",
              "      <td>9.563284</td>\n",
              "      <td>6.810594</td>\n",
              "      <td>11.257569</td>\n",
              "      <td>12.739674</td>\n",
              "      <td>6.694831</td>\n",
              "      <td>8.98073</td>\n",
              "      <td>8.998477</td>\n",
              "      <td>...</td>\n",
              "      <td>10.606814</td>\n",
              "      <td>8.97819</td>\n",
              "      <td>7.684696</td>\n",
              "      <td>9.149663</td>\n",
              "      <td>9.907065</td>\n",
              "      <td>9.328058</td>\n",
              "      <td>10.170445</td>\n",
              "      <td>9.329689</td>\n",
              "      <td>10.543375</td>\n",
              "      <td>9.092771</td>\n",
              "    </tr>\n",
              "    <tr>\n",
              "      <th>GSM97968</th>\n",
              "      <td>GBM</td>\n",
              "      <td>6.80024</td>\n",
              "      <td>9.045504</td>\n",
              "      <td>8.874923</td>\n",
              "      <td>6.210138</td>\n",
              "      <td>10.361614</td>\n",
              "      <td>12.341219</td>\n",
              "      <td>5.599934</td>\n",
              "      <td>7.426404</td>\n",
              "      <td>7.753735</td>\n",
              "      <td>...</td>\n",
              "      <td>8.860256</td>\n",
              "      <td>7.061934</td>\n",
              "      <td>6.565887</td>\n",
              "      <td>8.540664</td>\n",
              "      <td>8.809902</td>\n",
              "      <td>8.351021</td>\n",
              "      <td>8.692934</td>\n",
              "      <td>7.941307</td>\n",
              "      <td>10.051136</td>\n",
              "      <td>8.190855</td>\n",
              "    </tr>\n",
              "    <tr>\n",
              "      <th>GSM97969</th>\n",
              "      <td>GBM</td>\n",
              "      <td>8.91809</td>\n",
              "      <td>7.227983</td>\n",
              "      <td>6.254368</td>\n",
              "      <td>4.664544</td>\n",
              "      <td>7.507163</td>\n",
              "      <td>9.886079</td>\n",
              "      <td>4.357976</td>\n",
              "      <td>5.537988</td>\n",
              "      <td>5.624085</td>\n",
              "      <td>...</td>\n",
              "      <td>6.158538</td>\n",
              "      <td>4.728239</td>\n",
              "      <td>5.348897</td>\n",
              "      <td>4.888749</td>\n",
              "      <td>5.337169</td>\n",
              "      <td>6.683646</td>\n",
              "      <td>5.689071</td>\n",
              "      <td>5.838098</td>\n",
              "      <td>7.006535</td>\n",
              "      <td>6.610275</td>\n",
              "    </tr>\n",
              "    <tr>\n",
              "      <th>GSM97971</th>\n",
              "      <td>GBM</td>\n",
              "      <td>8.60738</td>\n",
              "      <td>7.488432</td>\n",
              "      <td>6.026471</td>\n",
              "      <td>4.567959</td>\n",
              "      <td>7.542204</td>\n",
              "      <td>9.687529</td>\n",
              "      <td>5.746759</td>\n",
              "      <td>5.387808</td>\n",
              "      <td>5.235968</td>\n",
              "      <td>...</td>\n",
              "      <td>6.017393</td>\n",
              "      <td>4.922658</td>\n",
              "      <td>5.890617</td>\n",
              "      <td>7.065344</td>\n",
              "      <td>6.721655</td>\n",
              "      <td>6.489907</td>\n",
              "      <td>5.992136</td>\n",
              "      <td>5.96729</td>\n",
              "      <td>9.036324</td>\n",
              "      <td>6.055038</td>\n",
              "    </tr>\n",
              "  </tbody>\n",
              "</table>\n",
              "<p>356 rows × 764 columns</p>\n",
              "</div>\n",
              "      <button class=\"colab-df-convert\" onclick=\"convertToInteractive('df-24397d0f-ae25-4a40-9612-da73a6c5c551')\"\n",
              "              title=\"Convert this dataframe to an interactive table.\"\n",
              "              style=\"display:none;\">\n",
              "        \n",
              "  <svg xmlns=\"http://www.w3.org/2000/svg\" height=\"24px\"viewBox=\"0 0 24 24\"\n",
              "       width=\"24px\">\n",
              "    <path d=\"M0 0h24v24H0V0z\" fill=\"none\"/>\n",
              "    <path d=\"M18.56 5.44l.94 2.06.94-2.06 2.06-.94-2.06-.94-.94-2.06-.94 2.06-2.06.94zm-11 1L8.5 8.5l.94-2.06 2.06-.94-2.06-.94L8.5 2.5l-.94 2.06-2.06.94zm10 10l.94 2.06.94-2.06 2.06-.94-2.06-.94-.94-2.06-.94 2.06-2.06.94z\"/><path d=\"M17.41 7.96l-1.37-1.37c-.4-.4-.92-.59-1.43-.59-.52 0-1.04.2-1.43.59L10.3 9.45l-7.72 7.72c-.78.78-.78 2.05 0 2.83L4 21.41c.39.39.9.59 1.41.59.51 0 1.02-.2 1.41-.59l7.78-7.78 2.81-2.81c.8-.78.8-2.07 0-2.86zM5.41 20L4 18.59l7.72-7.72 1.47 1.35L5.41 20z\"/>\n",
              "  </svg>\n",
              "      </button>\n",
              "      \n",
              "  <style>\n",
              "    .colab-df-container {\n",
              "      display:flex;\n",
              "      flex-wrap:wrap;\n",
              "      gap: 12px;\n",
              "    }\n",
              "\n",
              "    .colab-df-convert {\n",
              "      background-color: #E8F0FE;\n",
              "      border: none;\n",
              "      border-radius: 50%;\n",
              "      cursor: pointer;\n",
              "      display: none;\n",
              "      fill: #1967D2;\n",
              "      height: 32px;\n",
              "      padding: 0 0 0 0;\n",
              "      width: 32px;\n",
              "    }\n",
              "\n",
              "    .colab-df-convert:hover {\n",
              "      background-color: #E2EBFA;\n",
              "      box-shadow: 0px 1px 2px rgba(60, 64, 67, 0.3), 0px 1px 3px 1px rgba(60, 64, 67, 0.15);\n",
              "      fill: #174EA6;\n",
              "    }\n",
              "\n",
              "    [theme=dark] .colab-df-convert {\n",
              "      background-color: #3B4455;\n",
              "      fill: #D2E3FC;\n",
              "    }\n",
              "\n",
              "    [theme=dark] .colab-df-convert:hover {\n",
              "      background-color: #434B5C;\n",
              "      box-shadow: 0px 1px 3px 1px rgba(0, 0, 0, 0.15);\n",
              "      filter: drop-shadow(0px 1px 2px rgba(0, 0, 0, 0.3));\n",
              "      fill: #FFFFFF;\n",
              "    }\n",
              "  </style>\n",
              "\n",
              "      <script>\n",
              "        const buttonEl =\n",
              "          document.querySelector('#df-24397d0f-ae25-4a40-9612-da73a6c5c551 button.colab-df-convert');\n",
              "        buttonEl.style.display =\n",
              "          google.colab.kernel.accessAllowed ? 'block' : 'none';\n",
              "\n",
              "        async function convertToInteractive(key) {\n",
              "          const element = document.querySelector('#df-24397d0f-ae25-4a40-9612-da73a6c5c551');\n",
              "          const dataTable =\n",
              "            await google.colab.kernel.invokeFunction('convertToInteractive',\n",
              "                                                     [key], {});\n",
              "          if (!dataTable) return;\n",
              "\n",
              "          const docLinkHtml = 'Like what you see? Visit the ' +\n",
              "            '<a target=\"_blank\" href=https://colab.research.google.com/notebooks/data_table.ipynb>data table notebook</a>'\n",
              "            + ' to learn more about interactive tables.';\n",
              "          element.innerHTML = '';\n",
              "          dataTable['output_type'] = 'display_data';\n",
              "          await google.colab.output.renderOutput(dataTable, element);\n",
              "          const docLink = document.createElement('div');\n",
              "          docLink.innerHTML = docLinkHtml;\n",
              "          element.appendChild(docLink);\n",
              "        }\n",
              "      </script>\n",
              "    </div>\n",
              "  </div>\n",
              "  "
            ]
          },
          "metadata": {},
          "execution_count": 9
        }
      ],
      "source": [
        "# read in the expression values for gbm using data wrangling\n",
        "df = pd.read_csv('interesting_genes_expressions_for_gbm_vs_normal.csv')\n",
        "df = df.drop(columns={'Unnamed: 0'})\n",
        "df_transposed = df.T\n",
        "df_transposed = df_transposed.rename(columns=df_transposed.iloc[356])\n",
        "df_transposed.drop(index=df_transposed.index[356], \n",
        "        axis=0, \n",
        "        inplace=True)\n",
        "frames = [metadata, df_transposed]\n",
        "df = pd.concat(frames, axis=1)\n",
        "df"
      ]
    },
    {
      "cell_type": "code",
      "execution_count": 10,
      "metadata": {
        "colab": {
          "base_uri": "https://localhost:8080/"
        },
        "id": "VRg2VC86wxt_",
        "outputId": "f17a051b-926f-4028-bc2c-665e230d0c96"
      },
      "outputs": [
        {
          "output_type": "execute_result",
          "data": {
            "text/plain": [
              "tumor       0\n",
              "SCIN        0\n",
              "NAV3        0\n",
              "CREG2       0\n",
              "RXFP1       0\n",
              "           ..\n",
              "GLRB        0\n",
              "NEFH        0\n",
              "PHF24       0\n",
              "PPP1R16B    0\n",
              "SHISAL1     0\n",
              "Length: 764, dtype: int64"
            ]
          },
          "metadata": {},
          "execution_count": 10
        }
      ],
      "source": [
        "# make sure there are no null values in the dataset\n",
        "df.isnull().sum()"
      ]
    },
    {
      "cell_type": "code",
      "execution_count": 11,
      "metadata": {
        "colab": {
          "base_uri": "https://localhost:8080/"
        },
        "id": "hOBxeJK7w0RA",
        "outputId": "c15c8877-2f33-4e70-c045-72041e5400d8"
      },
      "outputs": [
        {
          "output_type": "stream",
          "name": "stdout",
          "text": [
            "Missing values:  0\n"
          ]
        }
      ],
      "source": [
        "# print if there are missing values\n",
        "print('Missing values: ',sum(df.isnull().sum()))"
      ]
    },
    {
      "cell_type": "code",
      "execution_count": 12,
      "metadata": {
        "id": "0It7omXfw4yb"
      },
      "outputs": [],
      "source": [
        "# Encoding categorical values as either 0's or 1's\n",
        "df['tumor'] = df['tumor'].replace({'normal':0,'GBM':1,'Other':-1}).astype(np.uint8)"
      ]
    },
    {
      "cell_type": "code",
      "execution_count": 13,
      "metadata": {
        "colab": {
          "base_uri": "https://localhost:8080/"
        },
        "id": "u8N1-dzsxLSL",
        "outputId": "3c26fb41-371d-4230-c0f2-164da6b47352"
      },
      "outputs": [
        {
          "output_type": "stream",
          "name": "stdout",
          "text": [
            "Inverse of Null Accuracy:  0.23394495412844038\n",
            "Null Accuracy:  0.7660550458715596\n"
          ]
        }
      ],
      "source": [
        "# Inverse of Null Accuracy\n",
        "print('Inverse of Null Accuracy: ',51/(51+167))\n",
        "print('Null Accuracy: ',167/(167+51))"
      ]
    },
    {
      "cell_type": "code",
      "execution_count": 14,
      "metadata": {
        "colab": {
          "base_uri": "https://localhost:8080/",
          "height": 488
        },
        "id": "SkbQjAnsx-GJ",
        "outputId": "1a5a95bf-73e6-49ca-b30f-31dcb20be3b2"
      },
      "outputs": [
        {
          "output_type": "execute_result",
          "data": {
            "text/plain": [
              "          index  tumor      SCIN      NAV3     CREG2     RXFP1     RBFOX1  \\\n",
              "0    GSM2899326      1  5.893106  5.887953  6.213507  4.865254    7.32657   \n",
              "1    GSM2899327      1  8.553394  7.469058  6.332858  4.764392   8.291405   \n",
              "2    GSM2899328      1  5.059928  9.497947  8.135498  6.450205  10.827845   \n",
              "3    GSM2899329      1  6.690789  7.050517  5.909533  4.746026   7.079067   \n",
              "4    GSM2899330      1  9.487291  8.944802  5.741844  4.782784   7.313938   \n",
              "..          ...    ...       ...       ...       ...       ...        ...   \n",
              "351    GSM97966      1  7.123493  5.596523  6.119224  4.501668   7.036426   \n",
              "352    GSM97967      1  5.865979  9.070803  9.563284  6.810594  11.257569   \n",
              "353    GSM97968      1   6.80024  9.045504  8.874923  6.210138  10.361614   \n",
              "354    GSM97969      1   8.91809  7.227983  6.254368  4.664544   7.507163   \n",
              "355    GSM97971      1   8.60738  7.488432  6.026471  4.567959   7.542204   \n",
              "\n",
              "           NaN    DNAJA4      RGS7  ...     GABRA1     HTR2A     RAB3C  \\\n",
              "0     9.008307  4.715704  5.087414  ...   5.509101  4.812886  5.064933   \n",
              "1     9.526303  4.513829  5.618441  ...   5.646714  5.318297   7.30993   \n",
              "2     12.73428  7.873798   8.75332  ...   9.972019  9.435788  8.011967   \n",
              "3     9.418886  5.084166  5.705095  ...   5.434321  5.006544  5.086214   \n",
              "4     9.126035  5.022255  4.948203  ...   5.629636  5.079386  4.733561   \n",
              "..         ...       ...       ...  ...        ...       ...       ...   \n",
              "351   9.523712   4.48166  5.484426  ...   5.910175  4.737608  4.842652   \n",
              "352  12.739674  6.694831   8.98073  ...  10.606814   8.97819  7.684696   \n",
              "353  12.341219  5.599934  7.426404  ...   8.860256  7.061934  6.565887   \n",
              "354   9.886079  4.357976  5.537988  ...   6.158538  4.728239  5.348897   \n",
              "355   9.687529  5.746759  5.387808  ...   6.017393  4.922658  5.890617   \n",
              "\n",
              "       NEXMIF     KCNQ5      GLRB       NEFH     PHF24   PPP1R16B   SHISAL1  \n",
              "0    4.752345  6.059171  6.303443   5.434206  5.486401   5.912689  5.989639  \n",
              "1    8.797541  6.215755  6.419077   6.627994  5.997405   8.399034  6.452865  \n",
              "2    9.694102  9.148566  9.276816   9.520928  9.158793  10.455272  9.287224  \n",
              "3    7.569148  5.214896  6.346889   5.707429  5.932495   6.263655  6.099967  \n",
              "4    7.920996  5.900008   5.97748   5.728552  5.774954   6.306956   5.71853  \n",
              "..        ...       ...       ...        ...       ...        ...       ...  \n",
              "351  4.717706  5.237441  6.001462   5.253549  5.936955   6.003382  5.890101  \n",
              "352  9.149663  9.907065  9.328058  10.170445  9.329689  10.543375  9.092771  \n",
              "353  8.540664  8.809902  8.351021   8.692934  7.941307  10.051136  8.190855  \n",
              "354  4.888749  5.337169  6.683646   5.689071  5.838098   7.006535  6.610275  \n",
              "355  7.065344  6.721655  6.489907   5.992136   5.96729   9.036324  6.055038  \n",
              "\n",
              "[356 rows x 765 columns]"
            ],
            "text/html": [
              "\n",
              "  <div id=\"df-c06ed68b-2540-48a3-a421-99c170d49c91\">\n",
              "    <div class=\"colab-df-container\">\n",
              "      <div>\n",
              "<style scoped>\n",
              "    .dataframe tbody tr th:only-of-type {\n",
              "        vertical-align: middle;\n",
              "    }\n",
              "\n",
              "    .dataframe tbody tr th {\n",
              "        vertical-align: top;\n",
              "    }\n",
              "\n",
              "    .dataframe thead th {\n",
              "        text-align: right;\n",
              "    }\n",
              "</style>\n",
              "<table border=\"1\" class=\"dataframe\">\n",
              "  <thead>\n",
              "    <tr style=\"text-align: right;\">\n",
              "      <th></th>\n",
              "      <th>index</th>\n",
              "      <th>tumor</th>\n",
              "      <th>SCIN</th>\n",
              "      <th>NAV3</th>\n",
              "      <th>CREG2</th>\n",
              "      <th>RXFP1</th>\n",
              "      <th>RBFOX1</th>\n",
              "      <th>NaN</th>\n",
              "      <th>DNAJA4</th>\n",
              "      <th>RGS7</th>\n",
              "      <th>...</th>\n",
              "      <th>GABRA1</th>\n",
              "      <th>HTR2A</th>\n",
              "      <th>RAB3C</th>\n",
              "      <th>NEXMIF</th>\n",
              "      <th>KCNQ5</th>\n",
              "      <th>GLRB</th>\n",
              "      <th>NEFH</th>\n",
              "      <th>PHF24</th>\n",
              "      <th>PPP1R16B</th>\n",
              "      <th>SHISAL1</th>\n",
              "    </tr>\n",
              "  </thead>\n",
              "  <tbody>\n",
              "    <tr>\n",
              "      <th>0</th>\n",
              "      <td>GSM2899326</td>\n",
              "      <td>1</td>\n",
              "      <td>5.893106</td>\n",
              "      <td>5.887953</td>\n",
              "      <td>6.213507</td>\n",
              "      <td>4.865254</td>\n",
              "      <td>7.32657</td>\n",
              "      <td>9.008307</td>\n",
              "      <td>4.715704</td>\n",
              "      <td>5.087414</td>\n",
              "      <td>...</td>\n",
              "      <td>5.509101</td>\n",
              "      <td>4.812886</td>\n",
              "      <td>5.064933</td>\n",
              "      <td>4.752345</td>\n",
              "      <td>6.059171</td>\n",
              "      <td>6.303443</td>\n",
              "      <td>5.434206</td>\n",
              "      <td>5.486401</td>\n",
              "      <td>5.912689</td>\n",
              "      <td>5.989639</td>\n",
              "    </tr>\n",
              "    <tr>\n",
              "      <th>1</th>\n",
              "      <td>GSM2899327</td>\n",
              "      <td>1</td>\n",
              "      <td>8.553394</td>\n",
              "      <td>7.469058</td>\n",
              "      <td>6.332858</td>\n",
              "      <td>4.764392</td>\n",
              "      <td>8.291405</td>\n",
              "      <td>9.526303</td>\n",
              "      <td>4.513829</td>\n",
              "      <td>5.618441</td>\n",
              "      <td>...</td>\n",
              "      <td>5.646714</td>\n",
              "      <td>5.318297</td>\n",
              "      <td>7.30993</td>\n",
              "      <td>8.797541</td>\n",
              "      <td>6.215755</td>\n",
              "      <td>6.419077</td>\n",
              "      <td>6.627994</td>\n",
              "      <td>5.997405</td>\n",
              "      <td>8.399034</td>\n",
              "      <td>6.452865</td>\n",
              "    </tr>\n",
              "    <tr>\n",
              "      <th>2</th>\n",
              "      <td>GSM2899328</td>\n",
              "      <td>1</td>\n",
              "      <td>5.059928</td>\n",
              "      <td>9.497947</td>\n",
              "      <td>8.135498</td>\n",
              "      <td>6.450205</td>\n",
              "      <td>10.827845</td>\n",
              "      <td>12.73428</td>\n",
              "      <td>7.873798</td>\n",
              "      <td>8.75332</td>\n",
              "      <td>...</td>\n",
              "      <td>9.972019</td>\n",
              "      <td>9.435788</td>\n",
              "      <td>8.011967</td>\n",
              "      <td>9.694102</td>\n",
              "      <td>9.148566</td>\n",
              "      <td>9.276816</td>\n",
              "      <td>9.520928</td>\n",
              "      <td>9.158793</td>\n",
              "      <td>10.455272</td>\n",
              "      <td>9.287224</td>\n",
              "    </tr>\n",
              "    <tr>\n",
              "      <th>3</th>\n",
              "      <td>GSM2899329</td>\n",
              "      <td>1</td>\n",
              "      <td>6.690789</td>\n",
              "      <td>7.050517</td>\n",
              "      <td>5.909533</td>\n",
              "      <td>4.746026</td>\n",
              "      <td>7.079067</td>\n",
              "      <td>9.418886</td>\n",
              "      <td>5.084166</td>\n",
              "      <td>5.705095</td>\n",
              "      <td>...</td>\n",
              "      <td>5.434321</td>\n",
              "      <td>5.006544</td>\n",
              "      <td>5.086214</td>\n",
              "      <td>7.569148</td>\n",
              "      <td>5.214896</td>\n",
              "      <td>6.346889</td>\n",
              "      <td>5.707429</td>\n",
              "      <td>5.932495</td>\n",
              "      <td>6.263655</td>\n",
              "      <td>6.099967</td>\n",
              "    </tr>\n",
              "    <tr>\n",
              "      <th>4</th>\n",
              "      <td>GSM2899330</td>\n",
              "      <td>1</td>\n",
              "      <td>9.487291</td>\n",
              "      <td>8.944802</td>\n",
              "      <td>5.741844</td>\n",
              "      <td>4.782784</td>\n",
              "      <td>7.313938</td>\n",
              "      <td>9.126035</td>\n",
              "      <td>5.022255</td>\n",
              "      <td>4.948203</td>\n",
              "      <td>...</td>\n",
              "      <td>5.629636</td>\n",
              "      <td>5.079386</td>\n",
              "      <td>4.733561</td>\n",
              "      <td>7.920996</td>\n",
              "      <td>5.900008</td>\n",
              "      <td>5.97748</td>\n",
              "      <td>5.728552</td>\n",
              "      <td>5.774954</td>\n",
              "      <td>6.306956</td>\n",
              "      <td>5.71853</td>\n",
              "    </tr>\n",
              "    <tr>\n",
              "      <th>...</th>\n",
              "      <td>...</td>\n",
              "      <td>...</td>\n",
              "      <td>...</td>\n",
              "      <td>...</td>\n",
              "      <td>...</td>\n",
              "      <td>...</td>\n",
              "      <td>...</td>\n",
              "      <td>...</td>\n",
              "      <td>...</td>\n",
              "      <td>...</td>\n",
              "      <td>...</td>\n",
              "      <td>...</td>\n",
              "      <td>...</td>\n",
              "      <td>...</td>\n",
              "      <td>...</td>\n",
              "      <td>...</td>\n",
              "      <td>...</td>\n",
              "      <td>...</td>\n",
              "      <td>...</td>\n",
              "      <td>...</td>\n",
              "      <td>...</td>\n",
              "    </tr>\n",
              "    <tr>\n",
              "      <th>351</th>\n",
              "      <td>GSM97966</td>\n",
              "      <td>1</td>\n",
              "      <td>7.123493</td>\n",
              "      <td>5.596523</td>\n",
              "      <td>6.119224</td>\n",
              "      <td>4.501668</td>\n",
              "      <td>7.036426</td>\n",
              "      <td>9.523712</td>\n",
              "      <td>4.48166</td>\n",
              "      <td>5.484426</td>\n",
              "      <td>...</td>\n",
              "      <td>5.910175</td>\n",
              "      <td>4.737608</td>\n",
              "      <td>4.842652</td>\n",
              "      <td>4.717706</td>\n",
              "      <td>5.237441</td>\n",
              "      <td>6.001462</td>\n",
              "      <td>5.253549</td>\n",
              "      <td>5.936955</td>\n",
              "      <td>6.003382</td>\n",
              "      <td>5.890101</td>\n",
              "    </tr>\n",
              "    <tr>\n",
              "      <th>352</th>\n",
              "      <td>GSM97967</td>\n",
              "      <td>1</td>\n",
              "      <td>5.865979</td>\n",
              "      <td>9.070803</td>\n",
              "      <td>9.563284</td>\n",
              "      <td>6.810594</td>\n",
              "      <td>11.257569</td>\n",
              "      <td>12.739674</td>\n",
              "      <td>6.694831</td>\n",
              "      <td>8.98073</td>\n",
              "      <td>...</td>\n",
              "      <td>10.606814</td>\n",
              "      <td>8.97819</td>\n",
              "      <td>7.684696</td>\n",
              "      <td>9.149663</td>\n",
              "      <td>9.907065</td>\n",
              "      <td>9.328058</td>\n",
              "      <td>10.170445</td>\n",
              "      <td>9.329689</td>\n",
              "      <td>10.543375</td>\n",
              "      <td>9.092771</td>\n",
              "    </tr>\n",
              "    <tr>\n",
              "      <th>353</th>\n",
              "      <td>GSM97968</td>\n",
              "      <td>1</td>\n",
              "      <td>6.80024</td>\n",
              "      <td>9.045504</td>\n",
              "      <td>8.874923</td>\n",
              "      <td>6.210138</td>\n",
              "      <td>10.361614</td>\n",
              "      <td>12.341219</td>\n",
              "      <td>5.599934</td>\n",
              "      <td>7.426404</td>\n",
              "      <td>...</td>\n",
              "      <td>8.860256</td>\n",
              "      <td>7.061934</td>\n",
              "      <td>6.565887</td>\n",
              "      <td>8.540664</td>\n",
              "      <td>8.809902</td>\n",
              "      <td>8.351021</td>\n",
              "      <td>8.692934</td>\n",
              "      <td>7.941307</td>\n",
              "      <td>10.051136</td>\n",
              "      <td>8.190855</td>\n",
              "    </tr>\n",
              "    <tr>\n",
              "      <th>354</th>\n",
              "      <td>GSM97969</td>\n",
              "      <td>1</td>\n",
              "      <td>8.91809</td>\n",
              "      <td>7.227983</td>\n",
              "      <td>6.254368</td>\n",
              "      <td>4.664544</td>\n",
              "      <td>7.507163</td>\n",
              "      <td>9.886079</td>\n",
              "      <td>4.357976</td>\n",
              "      <td>5.537988</td>\n",
              "      <td>...</td>\n",
              "      <td>6.158538</td>\n",
              "      <td>4.728239</td>\n",
              "      <td>5.348897</td>\n",
              "      <td>4.888749</td>\n",
              "      <td>5.337169</td>\n",
              "      <td>6.683646</td>\n",
              "      <td>5.689071</td>\n",
              "      <td>5.838098</td>\n",
              "      <td>7.006535</td>\n",
              "      <td>6.610275</td>\n",
              "    </tr>\n",
              "    <tr>\n",
              "      <th>355</th>\n",
              "      <td>GSM97971</td>\n",
              "      <td>1</td>\n",
              "      <td>8.60738</td>\n",
              "      <td>7.488432</td>\n",
              "      <td>6.026471</td>\n",
              "      <td>4.567959</td>\n",
              "      <td>7.542204</td>\n",
              "      <td>9.687529</td>\n",
              "      <td>5.746759</td>\n",
              "      <td>5.387808</td>\n",
              "      <td>...</td>\n",
              "      <td>6.017393</td>\n",
              "      <td>4.922658</td>\n",
              "      <td>5.890617</td>\n",
              "      <td>7.065344</td>\n",
              "      <td>6.721655</td>\n",
              "      <td>6.489907</td>\n",
              "      <td>5.992136</td>\n",
              "      <td>5.96729</td>\n",
              "      <td>9.036324</td>\n",
              "      <td>6.055038</td>\n",
              "    </tr>\n",
              "  </tbody>\n",
              "</table>\n",
              "<p>356 rows × 765 columns</p>\n",
              "</div>\n",
              "      <button class=\"colab-df-convert\" onclick=\"convertToInteractive('df-c06ed68b-2540-48a3-a421-99c170d49c91')\"\n",
              "              title=\"Convert this dataframe to an interactive table.\"\n",
              "              style=\"display:none;\">\n",
              "        \n",
              "  <svg xmlns=\"http://www.w3.org/2000/svg\" height=\"24px\"viewBox=\"0 0 24 24\"\n",
              "       width=\"24px\">\n",
              "    <path d=\"M0 0h24v24H0V0z\" fill=\"none\"/>\n",
              "    <path d=\"M18.56 5.44l.94 2.06.94-2.06 2.06-.94-2.06-.94-.94-2.06-.94 2.06-2.06.94zm-11 1L8.5 8.5l.94-2.06 2.06-.94-2.06-.94L8.5 2.5l-.94 2.06-2.06.94zm10 10l.94 2.06.94-2.06 2.06-.94-2.06-.94-.94-2.06-.94 2.06-2.06.94z\"/><path d=\"M17.41 7.96l-1.37-1.37c-.4-.4-.92-.59-1.43-.59-.52 0-1.04.2-1.43.59L10.3 9.45l-7.72 7.72c-.78.78-.78 2.05 0 2.83L4 21.41c.39.39.9.59 1.41.59.51 0 1.02-.2 1.41-.59l7.78-7.78 2.81-2.81c.8-.78.8-2.07 0-2.86zM5.41 20L4 18.59l7.72-7.72 1.47 1.35L5.41 20z\"/>\n",
              "  </svg>\n",
              "      </button>\n",
              "      \n",
              "  <style>\n",
              "    .colab-df-container {\n",
              "      display:flex;\n",
              "      flex-wrap:wrap;\n",
              "      gap: 12px;\n",
              "    }\n",
              "\n",
              "    .colab-df-convert {\n",
              "      background-color: #E8F0FE;\n",
              "      border: none;\n",
              "      border-radius: 50%;\n",
              "      cursor: pointer;\n",
              "      display: none;\n",
              "      fill: #1967D2;\n",
              "      height: 32px;\n",
              "      padding: 0 0 0 0;\n",
              "      width: 32px;\n",
              "    }\n",
              "\n",
              "    .colab-df-convert:hover {\n",
              "      background-color: #E2EBFA;\n",
              "      box-shadow: 0px 1px 2px rgba(60, 64, 67, 0.3), 0px 1px 3px 1px rgba(60, 64, 67, 0.15);\n",
              "      fill: #174EA6;\n",
              "    }\n",
              "\n",
              "    [theme=dark] .colab-df-convert {\n",
              "      background-color: #3B4455;\n",
              "      fill: #D2E3FC;\n",
              "    }\n",
              "\n",
              "    [theme=dark] .colab-df-convert:hover {\n",
              "      background-color: #434B5C;\n",
              "      box-shadow: 0px 1px 3px 1px rgba(0, 0, 0, 0.15);\n",
              "      filter: drop-shadow(0px 1px 2px rgba(0, 0, 0, 0.3));\n",
              "      fill: #FFFFFF;\n",
              "    }\n",
              "  </style>\n",
              "\n",
              "      <script>\n",
              "        const buttonEl =\n",
              "          document.querySelector('#df-c06ed68b-2540-48a3-a421-99c170d49c91 button.colab-df-convert');\n",
              "        buttonEl.style.display =\n",
              "          google.colab.kernel.accessAllowed ? 'block' : 'none';\n",
              "\n",
              "        async function convertToInteractive(key) {\n",
              "          const element = document.querySelector('#df-c06ed68b-2540-48a3-a421-99c170d49c91');\n",
              "          const dataTable =\n",
              "            await google.colab.kernel.invokeFunction('convertToInteractive',\n",
              "                                                     [key], {});\n",
              "          if (!dataTable) return;\n",
              "\n",
              "          const docLinkHtml = 'Like what you see? Visit the ' +\n",
              "            '<a target=\"_blank\" href=https://colab.research.google.com/notebooks/data_table.ipynb>data table notebook</a>'\n",
              "            + ' to learn more about interactive tables.';\n",
              "          element.innerHTML = '';\n",
              "          dataTable['output_type'] = 'display_data';\n",
              "          await google.colab.output.renderOutput(dataTable, element);\n",
              "          const docLink = document.createElement('div');\n",
              "          docLink.innerHTML = docLinkHtml;\n",
              "          element.appendChild(docLink);\n",
              "        }\n",
              "      </script>\n",
              "    </div>\n",
              "  </div>\n",
              "  "
            ]
          },
          "metadata": {},
          "execution_count": 14
        }
      ],
      "source": [
        "# reset the index so as to remove the name of the sample\n",
        "df.reset_index(inplace=True)\n",
        "df"
      ]
    },
    {
      "cell_type": "code",
      "execution_count": 15,
      "metadata": {
        "id": "J6zpHU7Zxv_O"
      },
      "outputs": [],
      "source": [
        "# get the x values and y values\n",
        "X = df.drop(['tumor', 'index'], axis=1)\n",
        "y = df['tumor']\n",
        "\n",
        "from sklearn.model_selection import train_test_split\n",
        "\n",
        "# split the data with 70-30 train and test split\n",
        "X_train, X_test, y_train, y_test = train_test_split(X, y, train_size=0.3, random_state=42)"
      ]
    },
    {
      "cell_type": "code",
      "execution_count": 16,
      "metadata": {
        "id": "OHMHFaz-yL45"
      },
      "outputs": [],
      "source": [
        "# import more libraries for neural networks\n",
        "from sklearn.pipeline import Pipeline\n",
        "from sklearn.preprocessing import StandardScaler\n",
        "from sklearn.ensemble import RandomForestClassifier\n",
        "from sklearn.svm import SVC\n",
        "from sklearn.linear_model import LogisticRegression\n",
        "from sklearn.neighbors import KNeighborsClassifier\n",
        "from sklearn.tree import DecisionTreeClassifier\n",
        "from sklearn.neural_network import MLPClassifier\n",
        "\n",
        "# Scale our data in pipeline, then split, for each model\n",
        "rf_pipeline = Pipeline(steps = [('scale',StandardScaler()),('RF',RandomForestClassifier(random_state=42))])\n",
        "svm_pipeline = Pipeline(steps = [('scale',StandardScaler()),('SVM',SVC(random_state=42))])\n",
        "logreg_pipeline = Pipeline(steps = [('scale',StandardScaler()),('LR',LogisticRegression(random_state=42))])\n",
        "knn_pipeline = Pipeline(steps = [('scale',StandardScaler()),('KNN',KNeighborsClassifier())])\n",
        "dt_pipeline = Pipeline(steps = [('scale',StandardScaler()),('DT',DecisionTreeClassifier())])\n",
        "nn_pipeline = Pipeline(steps = [('scale',StandardScaler()),('NN',MLPClassifier())])"
      ]
    },
    {
      "cell_type": "code",
      "execution_count": 17,
      "metadata": {
        "id": "egCbD5nWzKLb"
      },
      "outputs": [],
      "source": [
        "# do cross validation\n",
        "import warnings\n",
        "warnings.filterwarnings(\"ignore\")\n",
        "\n",
        "from sklearn.model_selection import cross_val_score\n",
        "\n",
        "rf_cv = cross_val_score(rf_pipeline,X_train,y_train,cv=10,scoring='f1')\n",
        "svm_cv = cross_val_score(svm_pipeline,X_train,y_train,cv=10,scoring='f1')\n",
        "logreg_cv = cross_val_score(logreg_pipeline,X_train,y_train,cv=10,scoring='f1')\n",
        "knn_cv = cross_val_score(knn_pipeline,X_train,y_train,cv=10,scoring='f1')\n",
        "dt_cv = cross_val_score(dt_pipeline,X_train,y_train,cv=10,scoring='f1')\n",
        "nn_cv = cross_val_score(nn_pipeline,X_train,y_train,cv=10,scoring='f1')"
      ]
    },
    {
      "cell_type": "code",
      "execution_count": 18,
      "metadata": {
        "colab": {
          "base_uri": "https://localhost:8080/"
        },
        "id": "LAloSvlKzZ4_",
        "outputId": "10da24cf-7fd4-4b05-ed3c-57c265ae3bc5"
      },
      "outputs": [
        {
          "output_type": "stream",
          "name": "stdout",
          "text": [
            "Mean f1 scores:\n",
            "Random Forest mean : 0.9669736842105262\n",
            "SVM mean : 0.9711257309941519\n",
            "Logistic Regression mean : 0.9777089783281735\n",
            "KNN mean : 0.9569736842105263\n",
            "Decision Tree mean : 0.9453362573099415\n",
            "Neural Network mean : 0.9888544891640867\n"
          ]
        }
      ],
      "source": [
        "# get the mean F1 scores\n",
        "import warnings\n",
        "warnings.filterwarnings(\"ignore\")\n",
        "\n",
        "print('Mean f1 scores:')\n",
        "print('Random Forest mean :',cross_val_score(rf_pipeline,X_train,y_train,cv=10,scoring='f1').mean())\n",
        "print('SVM mean :',cross_val_score(svm_pipeline,X_train,y_train,cv=10,scoring='f1').mean())\n",
        "print('Logistic Regression mean :',cross_val_score(logreg_pipeline,X_train,y_train,cv=10,scoring='f1').mean())\n",
        "print('KNN mean :',cross_val_score(knn_pipeline,X_train,y_train,cv=10,scoring='f1').mean())\n",
        "print('Decision Tree mean :',cross_val_score(dt_pipeline,X_train,y_train,cv=10,scoring='f1').mean())\n",
        "print('Neural Network mean :',cross_val_score(nn_pipeline,X_train,y_train,cv=10,scoring='f1').mean())"
      ]
    },
    {
      "cell_type": "code",
      "execution_count": 19,
      "metadata": {
        "id": "Pz0JwgEAzspv"
      },
      "outputs": [],
      "source": [
        "# fit all models to the data \n",
        "rf_pipeline.fit(X_train,y_train)\n",
        "svm_pipeline.fit(X_train,y_train)\n",
        "logreg_pipeline.fit(X_train,y_train)\n",
        "knn_pipeline.fit(X_train, y_train)\n",
        "dt_pipeline.fit(X_train, y_train)\n",
        "nn_pipeline.fit(X_train, y_train)\n",
        "\n",
        "# get the predictions from the test data \n",
        "rf_pred = rf_pipeline.predict(X_test)\n",
        "svm_pred = svm_pipeline.predict(X_test)\n",
        "logreg_pred = logreg_pipeline.predict(X_test)\n",
        "knn_pred = knn_pipeline.predict(X_test)\n",
        "dt_pred = knn_pipeline.predict(X_test)\n",
        "nn_pred = knn_pipeline.predict(X_test)\n",
        "\n",
        "from sklearn.metrics import confusion_matrix\n",
        "\n",
        "# get all confusion matrices by comparing the predictions to the actual labels \n",
        "rf_cm  = confusion_matrix(y_test,rf_pred )\n",
        "svm_cm = confusion_matrix(y_test,svm_pred)\n",
        "logreg_cm  = confusion_matrix(y_test,logreg_pred )\n",
        "knn_cm = confusion_matrix(y_test, knn_pred)\n",
        "dt_cm = confusion_matrix(y_test, dt_pred)\n",
        "nn_cm = confusion_matrix(y_test, nn_pred)\n",
        "\n",
        "from sklearn.metrics import f1_score, classification_report, accuracy_score\n",
        "\n",
        "# calculate the f1 score again\n",
        "rf_f1  = f1_score(y_test,rf_pred)\n",
        "svm_f1 = f1_score(y_test,svm_pred)\n",
        "logreg_f1  = f1_score(y_test,logreg_pred)\n",
        "knn_f1 = f1_score(y_test, knn_pred)\n",
        "dt_f1 = f1_score(y_test, dt_pred)\n",
        "nn_f1 = f1_score(y_test, nn_pred)"
      ]
    },
    {
      "cell_type": "code",
      "execution_count": 20,
      "metadata": {
        "colab": {
          "base_uri": "https://localhost:8080/"
        },
        "id": "cd6q_8Fx0FL8",
        "outputId": "d1c85fef-ebe8-4dbd-d84c-cc62fea9e372"
      },
      "outputs": [
        {
          "output_type": "stream",
          "name": "stdout",
          "text": [
            "Mean f1 scores:\n",
            "RF mean : 0.9764150943396227\n",
            "SVM mean : 0.9787234042553192\n",
            "LR mean : 0.9929411764705882\n",
            "KNN mean : 0.976303317535545\n",
            "DT mean : 0.976303317535545\n",
            "NN mean : 0.976303317535545\n"
          ]
        }
      ],
      "source": [
        "# print the new F1 scores\n",
        "print('Mean f1 scores:')\n",
        "\n",
        "print('RF mean :',rf_f1)\n",
        "print('SVM mean :',svm_f1)\n",
        "print('LR mean :',logreg_f1)\n",
        "print('KNN mean :', knn_f1)\n",
        "print('DT mean :', dt_f1)\n",
        "print('NN mean :', nn_f1)"
      ]
    },
    {
      "cell_type": "code",
      "execution_count": 21,
      "metadata": {
        "id": "r5UiDXoZ0h7f"
      },
      "outputs": [],
      "source": [
        "# import GridSearchCV for best params for each model \n",
        "from sklearn.model_selection import GridSearchCV\n",
        "\n",
        "# random forest classifier\n",
        "n_estimators =[64,100,128,200]\n",
        "max_features = [2,3,5,7]\n",
        "bootstrap = [True,False]\n",
        "\n",
        "# the parameters that will be cycled through\n",
        "param_grid = {'n_estimators':n_estimators,\n",
        "             'max_features':max_features,\n",
        "             'bootstrap':bootstrap}"
      ]
    },
    {
      "cell_type": "code",
      "execution_count": 22,
      "metadata": {
        "colab": {
          "base_uri": "https://localhost:8080/"
        },
        "id": "MF09LauC1Gvy",
        "outputId": "83795b94-ca08-44a0-900e-4520fd14f513"
      },
      "outputs": [
        {
          "output_type": "execute_result",
          "data": {
            "text/plain": [
              "GridSearchCV(estimator=RandomForestClassifier(),\n",
              "             param_grid={'bootstrap': [True, False],\n",
              "                         'max_features': [2, 3, 5, 7],\n",
              "                         'n_estimators': [64, 100, 128, 200]})"
            ]
          },
          "metadata": {},
          "execution_count": 22
        }
      ],
      "source": [
        "# make the random forest classifier with NO parameters\n",
        "rfc = RandomForestClassifier()\n",
        "\n",
        "# fit the random forest classifier\n",
        "grid = GridSearchCV(rfc,param_grid)\n",
        "\n",
        "grid.fit(X_train,y_train)"
      ]
    },
    {
      "cell_type": "code",
      "execution_count": 23,
      "metadata": {
        "colab": {
          "base_uri": "https://localhost:8080/"
        },
        "id": "rHIl1-vKZ73q",
        "outputId": "380ec5df-a9cb-4835-824a-135fe6715ab4"
      },
      "outputs": [
        {
          "output_type": "stream",
          "name": "stdout",
          "text": [
            "GridSearch CV best score : 0.9524\n",
            "\n",
            "\n",
            "Parameters that give the best results : \n",
            "\n",
            " {'bootstrap': True, 'max_features': 3, 'n_estimators': 64}\n",
            "\n",
            "\n",
            "Estimator that was chosen by the search : \n",
            "\n",
            " RandomForestClassifier(max_features=3, n_estimators=64)\n"
          ]
        }
      ],
      "source": [
        "# best score achieved during the GridSearchCV\n",
        "print('GridSearch CV best score : {:.4f}\\n\\n'.format(grid.best_score_))\n",
        "\n",
        "# print parameters that give the best results\n",
        "print('Parameters that give the best results :','\\n\\n', (grid.best_params_))\n",
        "\n",
        "# print estimator that was chosen by the GridSearch\n",
        "print('\\n\\nEstimator that was chosen by the search :','\\n\\n', (grid.best_estimator_))"
      ]
    },
    {
      "cell_type": "code",
      "execution_count": 24,
      "metadata": {
        "id": "706_cXE_0vih"
      },
      "outputs": [],
      "source": [
        "# Let's use those params now\n",
        "rf_pipeline = Pipeline(steps = [('scale',StandardScaler()),('RF',RandomForestClassifier(max_features=2, n_estimators=64))])\n",
        "\n",
        "rf_pipeline.fit(X_train,y_train) # train the data\n",
        "\n",
        "rf_tuned_pred = rf_pipeline.predict(X_test) # get the new predicted labels"
      ]
    },
    {
      "cell_type": "code",
      "execution_count": 25,
      "metadata": {
        "colab": {
          "base_uri": "https://localhost:8080/"
        },
        "id": "MmRm3_Rt08Eg",
        "outputId": "f65811f7-a7c3-46b4-e564-9bbb498002c2"
      },
      "outputs": [
        {
          "output_type": "stream",
          "name": "stdout",
          "text": [
            "              precision    recall  f1-score   support\n",
            "\n",
            "           0       0.80      0.92      0.86        36\n",
            "           1       0.99      0.96      0.97       214\n",
            "\n",
            "    accuracy                           0.96       250\n",
            "   macro avg       0.90      0.94      0.92       250\n",
            "weighted avg       0.96      0.96      0.96       250\n",
            "\n",
            "Accuracy Score:  0.956\n",
            "F1 Score:  0.9739952718676123\n"
          ]
        }
      ],
      "source": [
        "# print out the classification report (Random Forest Classifier)\n",
        "print(classification_report(y_test,rf_tuned_pred))\n",
        "\n",
        "print('Accuracy Score: ',accuracy_score(y_test,rf_tuned_pred))\n",
        "print('F1 Score: ',f1_score(y_test,rf_tuned_pred))"
      ]
    },
    {
      "cell_type": "code",
      "execution_count": null,
      "metadata": {
        "id": "Nkdk_XJv1NFP"
      },
      "outputs": [],
      "source": [
        "# do logistic regression now\n",
        "penalty = ['l1','l2']\n",
        "C = [0.001, 0.01, 0.1, 1, 10, 100] \n",
        "\n",
        "# here are the parameters used for logistic regression\n",
        "log_param_grid = {'penalty': penalty, \n",
        "                  'C': C}\n",
        "logreg = LogisticRegression()\n",
        "grid = GridSearchCV(logreg,log_param_grid)\n",
        "\n",
        "grid.fit(X_train,y_train)"
      ]
    },
    {
      "cell_type": "code",
      "execution_count": null,
      "metadata": {
        "colab": {
          "base_uri": "https://localhost:8080/"
        },
        "id": "fGwGICGXaJBh",
        "outputId": "b000f6e9-6c07-4dbe-971a-40239ae8b3f6"
      },
      "outputs": [
        {
          "name": "stdout",
          "output_type": "stream",
          "text": [
            "GridSearch CV best score : 1.0000\n",
            "\n",
            "\n",
            "Parameters that give the best results : \n",
            "\n",
            " {'C': 0.001, 'penalty': 'l2'}\n",
            "\n",
            "\n",
            "Estimator that was chosen by the search : \n",
            "\n",
            " LogisticRegression(C=0.001)\n"
          ]
        }
      ],
      "source": [
        "# best score achieved during the GridSearchCV\n",
        "print('GridSearch CV best score : {:.4f}\\n\\n'.format(grid.best_score_))\n",
        "\n",
        "# print parameters that give the best results\n",
        "print('Parameters that give the best results :','\\n\\n', (grid.best_params_))\n",
        "\n",
        "# print estimator that was chosen by the GridSearch\n",
        "print('\\n\\nEstimator that was chosen by the search :','\\n\\n', (grid.best_estimator_))"
      ]
    },
    {
      "cell_type": "code",
      "execution_count": 26,
      "metadata": {
        "id": "SiWCgJcG1jmr"
      },
      "outputs": [],
      "source": [
        "# Let's use those params now\n",
        "logreg_pipeline = Pipeline(steps = [('scale',StandardScaler()),('LR',LogisticRegression(C=0.001))])\n",
        "\n",
        "logreg_pipeline.fit(X_train,y_train) # train the data\n",
        "\n",
        "logreg_tuned_pred = logreg_pipeline.predict(X_test) # get new predicted values"
      ]
    },
    {
      "cell_type": "code",
      "execution_count": 27,
      "metadata": {
        "colab": {
          "base_uri": "https://localhost:8080/"
        },
        "id": "djVjuaxD1zxs",
        "outputId": "5284702e-edbb-4e9a-b8b1-acd865f84179"
      },
      "outputs": [
        {
          "output_type": "stream",
          "name": "stdout",
          "text": [
            "              precision    recall  f1-score   support\n",
            "\n",
            "           0       0.81      0.83      0.82        36\n",
            "           1       0.97      0.97      0.97       214\n",
            "\n",
            "    accuracy                           0.95       250\n",
            "   macro avg       0.89      0.90      0.90       250\n",
            "weighted avg       0.95      0.95      0.95       250\n",
            "\n",
            "Accuracy Score:  0.948\n",
            "F1 Score:  0.9695550351288057\n"
          ]
        }
      ],
      "source": [
        "# print the results (Logistic Regression)\n",
        "print(classification_report(y_test,logreg_tuned_pred))\n",
        "\n",
        "print('Accuracy Score: ',accuracy_score(y_test,logreg_tuned_pred))\n",
        "print('F1 Score: ',f1_score(y_test,logreg_tuned_pred))"
      ]
    },
    {
      "cell_type": "code",
      "execution_count": null,
      "metadata": {
        "id": "UzWUriKK2Rxk"
      },
      "outputs": [],
      "source": [
        "# do SVMs now\n",
        "svm_param_grid = [ {'C':[1, 10, 100, 1000], 'kernel':['linear']},\n",
        "               {'C':[1, 10, 100, 1000], 'kernel':['rbf'], 'gamma':[0.1, 0.2, 0.3, 0.4, 0.5, 0.6, 0.7, 0.8, 0.9]},\n",
        "               {'C':[1, 10, 100, 1000], 'kernel':['poly'], 'degree': [2,3,4] ,'gamma':[0.01,0.02,0.03,0.04,0.05]} \n",
        "              ]\n",
        "\n",
        "svm = SVC(random_state=42)\n",
        "\n",
        "grid = GridSearchCV(estimator = svm,  \n",
        "                           param_grid = svm_param_grid,\n",
        "                           scoring = 'accuracy',\n",
        "                           cv = 5,\n",
        "                           verbose=0)\n",
        "\n",
        "grid.fit(X_train,y_train) # fit the grid to find the best parameters"
      ]
    },
    {
      "cell_type": "code",
      "execution_count": null,
      "metadata": {
        "colab": {
          "base_uri": "https://localhost:8080/"
        },
        "id": "MzUEZemuaiBO",
        "outputId": "d0f7035e-21e3-447d-d5a5-61a2c2adbbf2"
      },
      "outputs": [
        {
          "name": "stdout",
          "output_type": "stream",
          "text": [
            "GridSearch CV best score : 1.0000\n",
            "\n",
            "\n",
            "Parameters that give the best results : \n",
            "\n",
            " {'C': 1, 'kernel': 'linear'}\n",
            "\n",
            "\n",
            "Estimator that was chosen by the search : \n",
            "\n",
            " SVC(C=1, kernel='linear', random_state=42)\n"
          ]
        }
      ],
      "source": [
        "# best score achieved during the GridSearchCV\n",
        "print('GridSearch CV best score : {:.4f}\\n\\n'.format(grid.best_score_))\n",
        "\n",
        "# print parameters that give the best results\n",
        "print('Parameters that give the best results :','\\n\\n', (grid.best_params_))\n",
        "\n",
        "# print estimator that was chosen by the GridSearch\n",
        "print('\\n\\nEstimator that was chosen by the search :','\\n\\n', (grid.best_estimator_))"
      ]
    },
    {
      "cell_type": "code",
      "execution_count": 28,
      "metadata": {
        "id": "FkgNmDgD2fOK"
      },
      "outputs": [],
      "source": [
        "# use these new params now\n",
        "svm_pipeline = Pipeline(steps = [('scale',StandardScaler()),('SVM',SVC(C=1,kernel='linear',random_state=42))])\n",
        "\n",
        "svm_pipeline.fit(X_train,y_train) \n",
        "\n",
        "svm_tuned_pred = svm_pipeline.predict(X_test)"
      ]
    },
    {
      "cell_type": "code",
      "execution_count": 29,
      "metadata": {
        "colab": {
          "base_uri": "https://localhost:8080/"
        },
        "id": "LM5jLYAi2nlG",
        "outputId": "a7889b0e-9d1a-4370-fc47-e59ff76594a4"
      },
      "outputs": [
        {
          "output_type": "stream",
          "name": "stdout",
          "text": [
            "              precision    recall  f1-score   support\n",
            "\n",
            "           0       0.95      1.00      0.97        36\n",
            "           1       1.00      0.99      1.00       214\n",
            "\n",
            "    accuracy                           0.99       250\n",
            "   macro avg       0.97      1.00      0.98       250\n",
            "weighted avg       0.99      0.99      0.99       250\n",
            "\n",
            "Accuracy Score:  0.992\n",
            "F1 Score:  0.9953051643192489\n"
          ]
        }
      ],
      "source": [
        "# print the results for the support vector machines\n",
        "print(classification_report(y_test,svm_tuned_pred))\n",
        "\n",
        "print('Accuracy Score: ',accuracy_score(y_test,svm_tuned_pred))\n",
        "print('F1 Score: ',f1_score(y_test,svm_tuned_pred))"
      ]
    },
    {
      "cell_type": "code",
      "execution_count": null,
      "metadata": {
        "colab": {
          "base_uri": "https://localhost:8080/"
        },
        "id": "xd54fx5icfBA",
        "outputId": "da253fc1-b27a-4bd5-9853-5b9970efc9d7"
      },
      "outputs": [
        {
          "name": "stdout",
          "output_type": "stream",
          "text": [
            "Fitting 10 folds for each of 30 candidates, totalling 300 fits\n"
          ]
        }
      ],
      "source": [
        "# next up is k-nearest-neighbors\n",
        "knn = KNeighborsClassifier()\n",
        "k_range = list(range(1, 31))\n",
        "param_grid = dict(n_neighbors=k_range)\n",
        "  \n",
        "# defining parameter range\n",
        "grid = GridSearchCV(knn, param_grid, cv=10, scoring='accuracy', return_train_score=False,verbose=1)\n",
        "  \n",
        "# fitting the model for grid search\n",
        "grid_search=grid.fit(X_train, y_train)"
      ]
    },
    {
      "cell_type": "code",
      "execution_count": null,
      "metadata": {
        "colab": {
          "base_uri": "https://localhost:8080/"
        },
        "id": "p1NlcuQocr6Y",
        "outputId": "129b3243-a6fa-4667-c8c5-09c1ff6f6011"
      },
      "outputs": [
        {
          "name": "stdout",
          "output_type": "stream",
          "text": [
            "GridSearch CV best score : 1.0000\n",
            "\n",
            "\n",
            "Parameters that give the best results : \n",
            "\n",
            " {'n_neighbors': 3}\n",
            "\n",
            "\n",
            "Estimator that was chosen by the search : \n",
            "\n",
            " KNeighborsClassifier(n_neighbors=3)\n"
          ]
        }
      ],
      "source": [
        "# best score achieved during the GridSearchCV\n",
        "print('GridSearch CV best score : {:.4f}\\n\\n'.format(grid.best_score_))\n",
        "\n",
        "# print parameters that give the best results\n",
        "print('Parameters that give the best results :','\\n\\n', (grid.best_params_))\n",
        "\n",
        "# print estimator that was chosen by the GridSearch\n",
        "print('\\n\\nEstimator that was chosen by the search :','\\n\\n', (grid.best_estimator_))"
      ]
    },
    {
      "cell_type": "code",
      "execution_count": 30,
      "metadata": {
        "id": "5eCei3JBc-sj"
      },
      "outputs": [],
      "source": [
        "# using the optimal parameters\n",
        "knn_pipeline = Pipeline(steps = [('scale',StandardScaler()),('KNN',KNeighborsClassifier(n_neighbors=3))])\n",
        "\n",
        "knn_pipeline.fit(X_train,y_train)\n",
        "\n",
        "knn_tuned_pred = knn_pipeline.predict(X_test)"
      ]
    },
    {
      "cell_type": "code",
      "execution_count": 31,
      "metadata": {
        "colab": {
          "base_uri": "https://localhost:8080/"
        },
        "id": "dqMdzTzGdKWk",
        "outputId": "4598b160-206b-4f4b-dc42-a2cfbb64606d"
      },
      "outputs": [
        {
          "output_type": "stream",
          "name": "stdout",
          "text": [
            "              precision    recall  f1-score   support\n",
            "\n",
            "           0       0.73      0.92      0.81        36\n",
            "           1       0.99      0.94      0.96       214\n",
            "\n",
            "    accuracy                           0.94       250\n",
            "   macro avg       0.86      0.93      0.89       250\n",
            "weighted avg       0.95      0.94      0.94       250\n",
            "\n",
            "Accuracy Score:  0.94\n",
            "F1 Score:  0.964200477326969\n"
          ]
        }
      ],
      "source": [
        "# print out the report for the knn classifier\n",
        "print(classification_report(y_test,knn_tuned_pred))\n",
        "\n",
        "print('Accuracy Score: ',accuracy_score(y_test,knn_tuned_pred))\n",
        "print('F1 Score: ',f1_score(y_test,knn_tuned_pred))"
      ]
    },
    {
      "cell_type": "code",
      "execution_count": null,
      "metadata": {
        "colab": {
          "base_uri": "https://localhost:8080/"
        },
        "id": "vAq1xznWtjU9",
        "outputId": "7deaa1b7-2883-49e6-ec1c-69c4fa9a1de0"
      },
      "outputs": [
        {
          "name": "stdout",
          "output_type": "stream",
          "text": [
            "Fitting 10 folds for each of 648 candidates, totalling 6480 fits\n"
          ]
        }
      ],
      "source": [
        "# next up is decision tree classifier\n",
        "dt = DecisionTreeClassifier(random_state=42)\n",
        "\n",
        "params = {'criterion': ['gini', 'entropy'], 'max_depth': range(1,10), 'min_samples_split': range(1,10), \n",
        "          'min_samples_leaf': range(1,5)}\n",
        "\n",
        "grid = GridSearchCV(dt, params, cv=10, scoring='accuracy', return_train_score=False,verbose=1)\n",
        "grid_search=grid.fit(X_train, y_train)"
      ]
    },
    {
      "cell_type": "code",
      "execution_count": null,
      "metadata": {
        "colab": {
          "base_uri": "https://localhost:8080/"
        },
        "id": "BLu_uCcO_vfL",
        "outputId": "12079a5c-e04c-44bd-e5f2-19108017cda6"
      },
      "outputs": [
        {
          "name": "stdout",
          "output_type": "stream",
          "text": [
            "GridSearch CV best score : 0.9857\n",
            "\n",
            "\n",
            "Parameters that give the best results : \n",
            "\n",
            " {'criterion': 'gini', 'max_depth': 1, 'min_samples_leaf': 1, 'min_samples_split': 2}\n",
            "\n",
            "\n",
            "Estimator that was chosen by the search : \n",
            "\n",
            " DecisionTreeClassifier(max_depth=1, random_state=42)\n"
          ]
        }
      ],
      "source": [
        "# best score achieved during the GridSearchCV\n",
        "print('GridSearch CV best score : {:.4f}\\n\\n'.format(grid.best_score_))\n",
        "\n",
        "# print parameters that give the best results\n",
        "print('Parameters that give the best results :','\\n\\n', (grid.best_params_))\n",
        "\n",
        "# print estimator that was chosen by the GridSearch\n",
        "print('\\n\\nEstimator that was chosen by the search :','\\n\\n', (grid.best_estimator_))"
      ]
    },
    {
      "cell_type": "code",
      "execution_count": 32,
      "metadata": {
        "id": "Xr9-iAUZzjIn"
      },
      "outputs": [],
      "source": [
        "# lets use these params now\n",
        "dt_pipeline = Pipeline(steps = [('scale',StandardScaler()),('DT',DecisionTreeClassifier(max_depth=1, random_state=42))])\n",
        "\n",
        "dt_pipeline.fit(X_train,y_train)\n",
        "\n",
        "dt_tuned_pred = dt_pipeline.predict(X_test)"
      ]
    },
    {
      "cell_type": "code",
      "execution_count": 33,
      "metadata": {
        "colab": {
          "base_uri": "https://localhost:8080/"
        },
        "id": "UfOO40Piztdr",
        "outputId": "9855a852-dd9d-4b26-e929-827238b6c950"
      },
      "outputs": [
        {
          "output_type": "stream",
          "name": "stdout",
          "text": [
            "              precision    recall  f1-score   support\n",
            "\n",
            "           0       0.70      0.89      0.78        36\n",
            "           1       0.98      0.93      0.96       214\n",
            "\n",
            "    accuracy                           0.93       250\n",
            "   macro avg       0.84      0.91      0.87       250\n",
            "weighted avg       0.94      0.93      0.93       250\n",
            "\n",
            "Accuracy Score:  0.928\n",
            "F1 Score:  0.9569377990430622\n"
          ]
        }
      ],
      "source": [
        "# print out the report for the decision tree classifier\n",
        "print(classification_report(y_test,dt_tuned_pred))\n",
        "\n",
        "print('Accuracy Score: ',accuracy_score(y_test,dt_tuned_pred))\n",
        "print('F1 Score: ',f1_score(y_test,dt_tuned_pred))"
      ]
    },
    {
      "cell_type": "code",
      "execution_count": null,
      "metadata": {
        "colab": {
          "base_uri": "https://localhost:8080/",
          "height": 358
        },
        "id": "JlyHoNakzyTz",
        "outputId": "21e01a94-406e-4abc-d3be-dd60e53503a4"
      },
      "outputs": [
        {
          "name": "stdout",
          "output_type": "stream",
          "text": [
            "Fitting 10 folds for each of 4950 candidates, totalling 49500 fits\n"
          ]
        },
        {
          "ename": "KeyboardInterrupt",
          "evalue": "ignored",
          "output_type": "error",
          "traceback": [
            "\u001b[0;31m---------------------------------------------------------------------------\u001b[0m",
            "\u001b[0;31mKeyboardInterrupt\u001b[0m                         Traceback (most recent call last)",
            "\u001b[0;32m<ipython-input-44-08cb67670b15>\u001b[0m in \u001b[0;36m<module>\u001b[0;34m\u001b[0m\n\u001b[1;32m      6\u001b[0m \u001b[0;34m\u001b[0m\u001b[0m\n\u001b[1;32m      7\u001b[0m \u001b[0mgrid\u001b[0m \u001b[0;34m=\u001b[0m \u001b[0mGridSearchCV\u001b[0m\u001b[0;34m(\u001b[0m\u001b[0mmlp\u001b[0m\u001b[0;34m,\u001b[0m \u001b[0mparams\u001b[0m\u001b[0;34m,\u001b[0m \u001b[0mcv\u001b[0m\u001b[0;34m=\u001b[0m\u001b[0;36m10\u001b[0m\u001b[0;34m,\u001b[0m \u001b[0mscoring\u001b[0m\u001b[0;34m=\u001b[0m\u001b[0;34m'accuracy'\u001b[0m\u001b[0;34m,\u001b[0m \u001b[0mreturn_train_score\u001b[0m\u001b[0;34m=\u001b[0m\u001b[0;32mFalse\u001b[0m\u001b[0;34m,\u001b[0m\u001b[0mverbose\u001b[0m\u001b[0;34m=\u001b[0m\u001b[0;36m1\u001b[0m\u001b[0;34m)\u001b[0m\u001b[0;34m\u001b[0m\u001b[0;34m\u001b[0m\u001b[0m\n\u001b[0;32m----> 8\u001b[0;31m \u001b[0mgrid_search\u001b[0m\u001b[0;34m=\u001b[0m\u001b[0mgrid\u001b[0m\u001b[0;34m.\u001b[0m\u001b[0mfit\u001b[0m\u001b[0;34m(\u001b[0m\u001b[0mX_train\u001b[0m\u001b[0;34m,\u001b[0m \u001b[0my_train\u001b[0m\u001b[0;34m)\u001b[0m\u001b[0;34m\u001b[0m\u001b[0;34m\u001b[0m\u001b[0m\n\u001b[0m",
            "\u001b[0;32m/usr/local/lib/python3.8/dist-packages/sklearn/model_selection/_search.py\u001b[0m in \u001b[0;36mfit\u001b[0;34m(self, X, y, groups, **fit_params)\u001b[0m\n\u001b[1;32m    889\u001b[0m                 \u001b[0;32mreturn\u001b[0m \u001b[0mresults\u001b[0m\u001b[0;34m\u001b[0m\u001b[0;34m\u001b[0m\u001b[0m\n\u001b[1;32m    890\u001b[0m \u001b[0;34m\u001b[0m\u001b[0m\n\u001b[0;32m--> 891\u001b[0;31m             \u001b[0mself\u001b[0m\u001b[0;34m.\u001b[0m\u001b[0m_run_search\u001b[0m\u001b[0;34m(\u001b[0m\u001b[0mevaluate_candidates\u001b[0m\u001b[0;34m)\u001b[0m\u001b[0;34m\u001b[0m\u001b[0;34m\u001b[0m\u001b[0m\n\u001b[0m\u001b[1;32m    892\u001b[0m \u001b[0;34m\u001b[0m\u001b[0m\n\u001b[1;32m    893\u001b[0m             \u001b[0;31m# multimetric is determined here because in the case of a callable\u001b[0m\u001b[0;34m\u001b[0m\u001b[0;34m\u001b[0m\u001b[0;34m\u001b[0m\u001b[0m\n",
            "\u001b[0;32m/usr/local/lib/python3.8/dist-packages/sklearn/model_selection/_search.py\u001b[0m in \u001b[0;36m_run_search\u001b[0;34m(self, evaluate_candidates)\u001b[0m\n\u001b[1;32m   1390\u001b[0m     \u001b[0;32mdef\u001b[0m \u001b[0m_run_search\u001b[0m\u001b[0;34m(\u001b[0m\u001b[0mself\u001b[0m\u001b[0;34m,\u001b[0m \u001b[0mevaluate_candidates\u001b[0m\u001b[0;34m)\u001b[0m\u001b[0;34m:\u001b[0m\u001b[0;34m\u001b[0m\u001b[0;34m\u001b[0m\u001b[0m\n\u001b[1;32m   1391\u001b[0m         \u001b[0;34m\"\"\"Search all candidates in param_grid\"\"\"\u001b[0m\u001b[0;34m\u001b[0m\u001b[0;34m\u001b[0m\u001b[0m\n\u001b[0;32m-> 1392\u001b[0;31m         \u001b[0mevaluate_candidates\u001b[0m\u001b[0;34m(\u001b[0m\u001b[0mParameterGrid\u001b[0m\u001b[0;34m(\u001b[0m\u001b[0mself\u001b[0m\u001b[0;34m.\u001b[0m\u001b[0mparam_grid\u001b[0m\u001b[0;34m)\u001b[0m\u001b[0;34m)\u001b[0m\u001b[0;34m\u001b[0m\u001b[0;34m\u001b[0m\u001b[0m\n\u001b[0m\u001b[1;32m   1393\u001b[0m \u001b[0;34m\u001b[0m\u001b[0m\n\u001b[1;32m   1394\u001b[0m \u001b[0;34m\u001b[0m\u001b[0m\n",
            "\u001b[0;32m/usr/local/lib/python3.8/dist-packages/sklearn/model_selection/_search.py\u001b[0m in \u001b[0;36mevaluate_candidates\u001b[0;34m(candidate_params, cv, more_results)\u001b[0m\n\u001b[1;32m    836\u001b[0m                     )\n\u001b[1;32m    837\u001b[0m \u001b[0;34m\u001b[0m\u001b[0m\n\u001b[0;32m--> 838\u001b[0;31m                 out = parallel(\n\u001b[0m\u001b[1;32m    839\u001b[0m                     delayed(_fit_and_score)(\n\u001b[1;32m    840\u001b[0m                         \u001b[0mclone\u001b[0m\u001b[0;34m(\u001b[0m\u001b[0mbase_estimator\u001b[0m\u001b[0;34m)\u001b[0m\u001b[0;34m,\u001b[0m\u001b[0;34m\u001b[0m\u001b[0;34m\u001b[0m\u001b[0m\n",
            "\u001b[0;32m/usr/local/lib/python3.8/dist-packages/joblib/parallel.py\u001b[0m in \u001b[0;36m__call__\u001b[0;34m(self, iterable)\u001b[0m\n\u001b[1;32m   1086\u001b[0m                 \u001b[0mself\u001b[0m\u001b[0;34m.\u001b[0m\u001b[0m_iterating\u001b[0m \u001b[0;34m=\u001b[0m \u001b[0mself\u001b[0m\u001b[0;34m.\u001b[0m\u001b[0m_original_iterator\u001b[0m \u001b[0;32mis\u001b[0m \u001b[0;32mnot\u001b[0m \u001b[0;32mNone\u001b[0m\u001b[0;34m\u001b[0m\u001b[0;34m\u001b[0m\u001b[0m\n\u001b[1;32m   1087\u001b[0m \u001b[0;34m\u001b[0m\u001b[0m\n\u001b[0;32m-> 1088\u001b[0;31m             \u001b[0;32mwhile\u001b[0m \u001b[0mself\u001b[0m\u001b[0;34m.\u001b[0m\u001b[0mdispatch_one_batch\u001b[0m\u001b[0;34m(\u001b[0m\u001b[0miterator\u001b[0m\u001b[0;34m)\u001b[0m\u001b[0;34m:\u001b[0m\u001b[0;34m\u001b[0m\u001b[0;34m\u001b[0m\u001b[0m\n\u001b[0m\u001b[1;32m   1089\u001b[0m                 \u001b[0;32mpass\u001b[0m\u001b[0;34m\u001b[0m\u001b[0;34m\u001b[0m\u001b[0m\n\u001b[1;32m   1090\u001b[0m \u001b[0;34m\u001b[0m\u001b[0m\n",
            "\u001b[0;32m/usr/local/lib/python3.8/dist-packages/joblib/parallel.py\u001b[0m in \u001b[0;36mdispatch_one_batch\u001b[0;34m(self, iterator)\u001b[0m\n\u001b[1;32m    899\u001b[0m                 \u001b[0;32mreturn\u001b[0m \u001b[0;32mFalse\u001b[0m\u001b[0;34m\u001b[0m\u001b[0;34m\u001b[0m\u001b[0m\n\u001b[1;32m    900\u001b[0m             \u001b[0;32melse\u001b[0m\u001b[0;34m:\u001b[0m\u001b[0;34m\u001b[0m\u001b[0;34m\u001b[0m\u001b[0m\n\u001b[0;32m--> 901\u001b[0;31m                 \u001b[0mself\u001b[0m\u001b[0;34m.\u001b[0m\u001b[0m_dispatch\u001b[0m\u001b[0;34m(\u001b[0m\u001b[0mtasks\u001b[0m\u001b[0;34m)\u001b[0m\u001b[0;34m\u001b[0m\u001b[0;34m\u001b[0m\u001b[0m\n\u001b[0m\u001b[1;32m    902\u001b[0m                 \u001b[0;32mreturn\u001b[0m \u001b[0;32mTrue\u001b[0m\u001b[0;34m\u001b[0m\u001b[0;34m\u001b[0m\u001b[0m\n\u001b[1;32m    903\u001b[0m \u001b[0;34m\u001b[0m\u001b[0m\n",
            "\u001b[0;32m/usr/local/lib/python3.8/dist-packages/joblib/parallel.py\u001b[0m in \u001b[0;36m_dispatch\u001b[0;34m(self, batch)\u001b[0m\n\u001b[1;32m    817\u001b[0m         \u001b[0;32mwith\u001b[0m \u001b[0mself\u001b[0m\u001b[0;34m.\u001b[0m\u001b[0m_lock\u001b[0m\u001b[0;34m:\u001b[0m\u001b[0;34m\u001b[0m\u001b[0;34m\u001b[0m\u001b[0m\n\u001b[1;32m    818\u001b[0m             \u001b[0mjob_idx\u001b[0m \u001b[0;34m=\u001b[0m \u001b[0mlen\u001b[0m\u001b[0;34m(\u001b[0m\u001b[0mself\u001b[0m\u001b[0;34m.\u001b[0m\u001b[0m_jobs\u001b[0m\u001b[0;34m)\u001b[0m\u001b[0;34m\u001b[0m\u001b[0;34m\u001b[0m\u001b[0m\n\u001b[0;32m--> 819\u001b[0;31m             \u001b[0mjob\u001b[0m \u001b[0;34m=\u001b[0m \u001b[0mself\u001b[0m\u001b[0;34m.\u001b[0m\u001b[0m_backend\u001b[0m\u001b[0;34m.\u001b[0m\u001b[0mapply_async\u001b[0m\u001b[0;34m(\u001b[0m\u001b[0mbatch\u001b[0m\u001b[0;34m,\u001b[0m \u001b[0mcallback\u001b[0m\u001b[0;34m=\u001b[0m\u001b[0mcb\u001b[0m\u001b[0;34m)\u001b[0m\u001b[0;34m\u001b[0m\u001b[0;34m\u001b[0m\u001b[0m\n\u001b[0m\u001b[1;32m    820\u001b[0m             \u001b[0;31m# A job can complete so quickly than its callback is\u001b[0m\u001b[0;34m\u001b[0m\u001b[0;34m\u001b[0m\u001b[0;34m\u001b[0m\u001b[0m\n\u001b[1;32m    821\u001b[0m             \u001b[0;31m# called before we get here, causing self._jobs to\u001b[0m\u001b[0;34m\u001b[0m\u001b[0;34m\u001b[0m\u001b[0;34m\u001b[0m\u001b[0m\n",
            "\u001b[0;32m/usr/local/lib/python3.8/dist-packages/joblib/_parallel_backends.py\u001b[0m in \u001b[0;36mapply_async\u001b[0;34m(self, func, callback)\u001b[0m\n\u001b[1;32m    206\u001b[0m     \u001b[0;32mdef\u001b[0m \u001b[0mapply_async\u001b[0m\u001b[0;34m(\u001b[0m\u001b[0mself\u001b[0m\u001b[0;34m,\u001b[0m \u001b[0mfunc\u001b[0m\u001b[0;34m,\u001b[0m \u001b[0mcallback\u001b[0m\u001b[0;34m=\u001b[0m\u001b[0;32mNone\u001b[0m\u001b[0;34m)\u001b[0m\u001b[0;34m:\u001b[0m\u001b[0;34m\u001b[0m\u001b[0;34m\u001b[0m\u001b[0m\n\u001b[1;32m    207\u001b[0m         \u001b[0;34m\"\"\"Schedule a func to be run\"\"\"\u001b[0m\u001b[0;34m\u001b[0m\u001b[0;34m\u001b[0m\u001b[0m\n\u001b[0;32m--> 208\u001b[0;31m         \u001b[0mresult\u001b[0m \u001b[0;34m=\u001b[0m \u001b[0mImmediateResult\u001b[0m\u001b[0;34m(\u001b[0m\u001b[0mfunc\u001b[0m\u001b[0;34m)\u001b[0m\u001b[0;34m\u001b[0m\u001b[0;34m\u001b[0m\u001b[0m\n\u001b[0m\u001b[1;32m    209\u001b[0m         \u001b[0;32mif\u001b[0m \u001b[0mcallback\u001b[0m\u001b[0;34m:\u001b[0m\u001b[0;34m\u001b[0m\u001b[0;34m\u001b[0m\u001b[0m\n\u001b[1;32m    210\u001b[0m             \u001b[0mcallback\u001b[0m\u001b[0;34m(\u001b[0m\u001b[0mresult\u001b[0m\u001b[0;34m)\u001b[0m\u001b[0;34m\u001b[0m\u001b[0;34m\u001b[0m\u001b[0m\n",
            "\u001b[0;32m/usr/local/lib/python3.8/dist-packages/joblib/_parallel_backends.py\u001b[0m in \u001b[0;36m__init__\u001b[0;34m(self, batch)\u001b[0m\n\u001b[1;32m    595\u001b[0m         \u001b[0;31m# Don't delay the application, to avoid keeping the input\u001b[0m\u001b[0;34m\u001b[0m\u001b[0;34m\u001b[0m\u001b[0;34m\u001b[0m\u001b[0m\n\u001b[1;32m    596\u001b[0m         \u001b[0;31m# arguments in memory\u001b[0m\u001b[0;34m\u001b[0m\u001b[0;34m\u001b[0m\u001b[0;34m\u001b[0m\u001b[0m\n\u001b[0;32m--> 597\u001b[0;31m         \u001b[0mself\u001b[0m\u001b[0;34m.\u001b[0m\u001b[0mresults\u001b[0m \u001b[0;34m=\u001b[0m \u001b[0mbatch\u001b[0m\u001b[0;34m(\u001b[0m\u001b[0;34m)\u001b[0m\u001b[0;34m\u001b[0m\u001b[0;34m\u001b[0m\u001b[0m\n\u001b[0m\u001b[1;32m    598\u001b[0m \u001b[0;34m\u001b[0m\u001b[0m\n\u001b[1;32m    599\u001b[0m     \u001b[0;32mdef\u001b[0m \u001b[0mget\u001b[0m\u001b[0;34m(\u001b[0m\u001b[0mself\u001b[0m\u001b[0;34m)\u001b[0m\u001b[0;34m:\u001b[0m\u001b[0;34m\u001b[0m\u001b[0;34m\u001b[0m\u001b[0m\n",
            "\u001b[0;32m/usr/local/lib/python3.8/dist-packages/joblib/parallel.py\u001b[0m in \u001b[0;36m__call__\u001b[0;34m(self)\u001b[0m\n\u001b[1;32m    286\u001b[0m         \u001b[0;31m# change the default number of processes to -1\u001b[0m\u001b[0;34m\u001b[0m\u001b[0;34m\u001b[0m\u001b[0;34m\u001b[0m\u001b[0m\n\u001b[1;32m    287\u001b[0m         \u001b[0;32mwith\u001b[0m \u001b[0mparallel_backend\u001b[0m\u001b[0;34m(\u001b[0m\u001b[0mself\u001b[0m\u001b[0;34m.\u001b[0m\u001b[0m_backend\u001b[0m\u001b[0;34m,\u001b[0m \u001b[0mn_jobs\u001b[0m\u001b[0;34m=\u001b[0m\u001b[0mself\u001b[0m\u001b[0;34m.\u001b[0m\u001b[0m_n_jobs\u001b[0m\u001b[0;34m)\u001b[0m\u001b[0;34m:\u001b[0m\u001b[0;34m\u001b[0m\u001b[0;34m\u001b[0m\u001b[0m\n\u001b[0;32m--> 288\u001b[0;31m             return [func(*args, **kwargs)\n\u001b[0m\u001b[1;32m    289\u001b[0m                     for func, args, kwargs in self.items]\n\u001b[1;32m    290\u001b[0m \u001b[0;34m\u001b[0m\u001b[0m\n",
            "\u001b[0;32m/usr/local/lib/python3.8/dist-packages/joblib/parallel.py\u001b[0m in \u001b[0;36m<listcomp>\u001b[0;34m(.0)\u001b[0m\n\u001b[1;32m    286\u001b[0m         \u001b[0;31m# change the default number of processes to -1\u001b[0m\u001b[0;34m\u001b[0m\u001b[0;34m\u001b[0m\u001b[0;34m\u001b[0m\u001b[0m\n\u001b[1;32m    287\u001b[0m         \u001b[0;32mwith\u001b[0m \u001b[0mparallel_backend\u001b[0m\u001b[0;34m(\u001b[0m\u001b[0mself\u001b[0m\u001b[0;34m.\u001b[0m\u001b[0m_backend\u001b[0m\u001b[0;34m,\u001b[0m \u001b[0mn_jobs\u001b[0m\u001b[0;34m=\u001b[0m\u001b[0mself\u001b[0m\u001b[0;34m.\u001b[0m\u001b[0m_n_jobs\u001b[0m\u001b[0;34m)\u001b[0m\u001b[0;34m:\u001b[0m\u001b[0;34m\u001b[0m\u001b[0;34m\u001b[0m\u001b[0m\n\u001b[0;32m--> 288\u001b[0;31m             return [func(*args, **kwargs)\n\u001b[0m\u001b[1;32m    289\u001b[0m                     for func, args, kwargs in self.items]\n\u001b[1;32m    290\u001b[0m \u001b[0;34m\u001b[0m\u001b[0m\n",
            "\u001b[0;32m/usr/local/lib/python3.8/dist-packages/sklearn/utils/fixes.py\u001b[0m in \u001b[0;36m__call__\u001b[0;34m(self, *args, **kwargs)\u001b[0m\n\u001b[1;32m    214\u001b[0m     \u001b[0;32mdef\u001b[0m \u001b[0m__call__\u001b[0m\u001b[0;34m(\u001b[0m\u001b[0mself\u001b[0m\u001b[0;34m,\u001b[0m \u001b[0;34m*\u001b[0m\u001b[0margs\u001b[0m\u001b[0;34m,\u001b[0m \u001b[0;34m**\u001b[0m\u001b[0mkwargs\u001b[0m\u001b[0;34m)\u001b[0m\u001b[0;34m:\u001b[0m\u001b[0;34m\u001b[0m\u001b[0;34m\u001b[0m\u001b[0m\n\u001b[1;32m    215\u001b[0m         \u001b[0;32mwith\u001b[0m \u001b[0mconfig_context\u001b[0m\u001b[0;34m(\u001b[0m\u001b[0;34m**\u001b[0m\u001b[0mself\u001b[0m\u001b[0;34m.\u001b[0m\u001b[0mconfig\u001b[0m\u001b[0;34m)\u001b[0m\u001b[0;34m:\u001b[0m\u001b[0;34m\u001b[0m\u001b[0;34m\u001b[0m\u001b[0m\n\u001b[0;32m--> 216\u001b[0;31m             \u001b[0;32mreturn\u001b[0m \u001b[0mself\u001b[0m\u001b[0;34m.\u001b[0m\u001b[0mfunction\u001b[0m\u001b[0;34m(\u001b[0m\u001b[0;34m*\u001b[0m\u001b[0margs\u001b[0m\u001b[0;34m,\u001b[0m \u001b[0;34m**\u001b[0m\u001b[0mkwargs\u001b[0m\u001b[0;34m)\u001b[0m\u001b[0;34m\u001b[0m\u001b[0;34m\u001b[0m\u001b[0m\n\u001b[0m\u001b[1;32m    217\u001b[0m \u001b[0;34m\u001b[0m\u001b[0m\n\u001b[1;32m    218\u001b[0m \u001b[0;34m\u001b[0m\u001b[0m\n",
            "\u001b[0;32m/usr/local/lib/python3.8/dist-packages/sklearn/model_selection/_validation.py\u001b[0m in \u001b[0;36m_fit_and_score\u001b[0;34m(estimator, X, y, scorer, train, test, verbose, parameters, fit_params, return_train_score, return_parameters, return_n_test_samples, return_times, return_estimator, split_progress, candidate_progress, error_score)\u001b[0m\n\u001b[1;32m    678\u001b[0m             \u001b[0mestimator\u001b[0m\u001b[0;34m.\u001b[0m\u001b[0mfit\u001b[0m\u001b[0;34m(\u001b[0m\u001b[0mX_train\u001b[0m\u001b[0;34m,\u001b[0m \u001b[0;34m**\u001b[0m\u001b[0mfit_params\u001b[0m\u001b[0;34m)\u001b[0m\u001b[0;34m\u001b[0m\u001b[0;34m\u001b[0m\u001b[0m\n\u001b[1;32m    679\u001b[0m         \u001b[0;32melse\u001b[0m\u001b[0;34m:\u001b[0m\u001b[0;34m\u001b[0m\u001b[0;34m\u001b[0m\u001b[0m\n\u001b[0;32m--> 680\u001b[0;31m             \u001b[0mestimator\u001b[0m\u001b[0;34m.\u001b[0m\u001b[0mfit\u001b[0m\u001b[0;34m(\u001b[0m\u001b[0mX_train\u001b[0m\u001b[0;34m,\u001b[0m \u001b[0my_train\u001b[0m\u001b[0;34m,\u001b[0m \u001b[0;34m**\u001b[0m\u001b[0mfit_params\u001b[0m\u001b[0;34m)\u001b[0m\u001b[0;34m\u001b[0m\u001b[0;34m\u001b[0m\u001b[0m\n\u001b[0m\u001b[1;32m    681\u001b[0m \u001b[0;34m\u001b[0m\u001b[0m\n\u001b[1;32m    682\u001b[0m     \u001b[0;32mexcept\u001b[0m \u001b[0mException\u001b[0m\u001b[0;34m:\u001b[0m\u001b[0;34m\u001b[0m\u001b[0;34m\u001b[0m\u001b[0m\n",
            "\u001b[0;32m/usr/local/lib/python3.8/dist-packages/sklearn/neural_network/_multilayer_perceptron.py\u001b[0m in \u001b[0;36mfit\u001b[0;34m(self, X, y)\u001b[0m\n\u001b[1;32m    750\u001b[0m             \u001b[0mReturns\u001b[0m \u001b[0ma\u001b[0m \u001b[0mtrained\u001b[0m \u001b[0mMLP\u001b[0m \u001b[0mmodel\u001b[0m\u001b[0;34m.\u001b[0m\u001b[0;34m\u001b[0m\u001b[0;34m\u001b[0m\u001b[0m\n\u001b[1;32m    751\u001b[0m         \"\"\"\n\u001b[0;32m--> 752\u001b[0;31m         \u001b[0;32mreturn\u001b[0m \u001b[0mself\u001b[0m\u001b[0;34m.\u001b[0m\u001b[0m_fit\u001b[0m\u001b[0;34m(\u001b[0m\u001b[0mX\u001b[0m\u001b[0;34m,\u001b[0m \u001b[0my\u001b[0m\u001b[0;34m,\u001b[0m \u001b[0mincremental\u001b[0m\u001b[0;34m=\u001b[0m\u001b[0;32mFalse\u001b[0m\u001b[0;34m)\u001b[0m\u001b[0;34m\u001b[0m\u001b[0;34m\u001b[0m\u001b[0m\n\u001b[0m\u001b[1;32m    753\u001b[0m \u001b[0;34m\u001b[0m\u001b[0m\n\u001b[1;32m    754\u001b[0m     \u001b[0;32mdef\u001b[0m \u001b[0m_check_solver\u001b[0m\u001b[0;34m(\u001b[0m\u001b[0mself\u001b[0m\u001b[0;34m)\u001b[0m\u001b[0;34m:\u001b[0m\u001b[0;34m\u001b[0m\u001b[0;34m\u001b[0m\u001b[0m\n",
            "\u001b[0;32m/usr/local/lib/python3.8/dist-packages/sklearn/neural_network/_multilayer_perceptron.py\u001b[0m in \u001b[0;36m_fit\u001b[0;34m(self, X, y, incremental)\u001b[0m\n\u001b[1;32m    438\u001b[0m         \u001b[0;31m# Run the LBFGS solver\u001b[0m\u001b[0;34m\u001b[0m\u001b[0;34m\u001b[0m\u001b[0;34m\u001b[0m\u001b[0m\n\u001b[1;32m    439\u001b[0m         \u001b[0;32melif\u001b[0m \u001b[0mself\u001b[0m\u001b[0;34m.\u001b[0m\u001b[0msolver\u001b[0m \u001b[0;34m==\u001b[0m \u001b[0;34m\"lbfgs\"\u001b[0m\u001b[0;34m:\u001b[0m\u001b[0;34m\u001b[0m\u001b[0;34m\u001b[0m\u001b[0m\n\u001b[0;32m--> 440\u001b[0;31m             self._fit_lbfgs(\n\u001b[0m\u001b[1;32m    441\u001b[0m                 \u001b[0mX\u001b[0m\u001b[0;34m,\u001b[0m \u001b[0my\u001b[0m\u001b[0;34m,\u001b[0m \u001b[0mactivations\u001b[0m\u001b[0;34m,\u001b[0m \u001b[0mdeltas\u001b[0m\u001b[0;34m,\u001b[0m \u001b[0mcoef_grads\u001b[0m\u001b[0;34m,\u001b[0m \u001b[0mintercept_grads\u001b[0m\u001b[0;34m,\u001b[0m \u001b[0mlayer_units\u001b[0m\u001b[0;34m\u001b[0m\u001b[0;34m\u001b[0m\u001b[0m\n\u001b[1;32m    442\u001b[0m             )\n",
            "\u001b[0;32m/usr/local/lib/python3.8/dist-packages/sklearn/neural_network/_multilayer_perceptron.py\u001b[0m in \u001b[0;36m_fit_lbfgs\u001b[0;34m(self, X, y, activations, deltas, coef_grads, intercept_grads, layer_units)\u001b[0m\n\u001b[1;32m    534\u001b[0m             \u001b[0miprint\u001b[0m \u001b[0;34m=\u001b[0m \u001b[0;34m-\u001b[0m\u001b[0;36m1\u001b[0m\u001b[0;34m\u001b[0m\u001b[0;34m\u001b[0m\u001b[0m\n\u001b[1;32m    535\u001b[0m \u001b[0;34m\u001b[0m\u001b[0m\n\u001b[0;32m--> 536\u001b[0;31m         opt_res = scipy.optimize.minimize(\n\u001b[0m\u001b[1;32m    537\u001b[0m             \u001b[0mself\u001b[0m\u001b[0;34m.\u001b[0m\u001b[0m_loss_grad_lbfgs\u001b[0m\u001b[0;34m,\u001b[0m\u001b[0;34m\u001b[0m\u001b[0;34m\u001b[0m\u001b[0m\n\u001b[1;32m    538\u001b[0m             \u001b[0mpacked_coef_inter\u001b[0m\u001b[0;34m,\u001b[0m\u001b[0;34m\u001b[0m\u001b[0;34m\u001b[0m\u001b[0m\n",
            "\u001b[0;32m/usr/local/lib/python3.8/dist-packages/scipy/optimize/_minimize.py\u001b[0m in \u001b[0;36mminimize\u001b[0;34m(fun, x0, args, method, jac, hess, hessp, bounds, constraints, tol, callback, options)\u001b[0m\n\u001b[1;32m    621\u001b[0m                                   **options)\n\u001b[1;32m    622\u001b[0m     \u001b[0;32melif\u001b[0m \u001b[0mmeth\u001b[0m \u001b[0;34m==\u001b[0m \u001b[0;34m'l-bfgs-b'\u001b[0m\u001b[0;34m:\u001b[0m\u001b[0;34m\u001b[0m\u001b[0;34m\u001b[0m\u001b[0m\n\u001b[0;32m--> 623\u001b[0;31m         return _minimize_lbfgsb(fun, x0, args, jac, bounds,\n\u001b[0m\u001b[1;32m    624\u001b[0m                                 callback=callback, **options)\n\u001b[1;32m    625\u001b[0m     \u001b[0;32melif\u001b[0m \u001b[0mmeth\u001b[0m \u001b[0;34m==\u001b[0m \u001b[0;34m'tnc'\u001b[0m\u001b[0;34m:\u001b[0m\u001b[0;34m\u001b[0m\u001b[0;34m\u001b[0m\u001b[0m\n",
            "\u001b[0;32m/usr/local/lib/python3.8/dist-packages/scipy/optimize/lbfgsb.py\u001b[0m in \u001b[0;36m_minimize_lbfgsb\u001b[0;34m(fun, x0, args, jac, bounds, disp, maxcor, ftol, gtol, eps, maxfun, maxiter, iprint, callback, maxls, finite_diff_rel_step, **unknown_options)\u001b[0m\n\u001b[1;32m    358\u001b[0m             \u001b[0;31m# until the completion of the current minimization iteration.\u001b[0m\u001b[0;34m\u001b[0m\u001b[0;34m\u001b[0m\u001b[0;34m\u001b[0m\u001b[0m\n\u001b[1;32m    359\u001b[0m             \u001b[0;31m# Overwrite f and g:\u001b[0m\u001b[0;34m\u001b[0m\u001b[0;34m\u001b[0m\u001b[0;34m\u001b[0m\u001b[0m\n\u001b[0;32m--> 360\u001b[0;31m             \u001b[0mf\u001b[0m\u001b[0;34m,\u001b[0m \u001b[0mg\u001b[0m \u001b[0;34m=\u001b[0m \u001b[0mfunc_and_grad\u001b[0m\u001b[0;34m(\u001b[0m\u001b[0mx\u001b[0m\u001b[0;34m)\u001b[0m\u001b[0;34m\u001b[0m\u001b[0;34m\u001b[0m\u001b[0m\n\u001b[0m\u001b[1;32m    361\u001b[0m         \u001b[0;32melif\u001b[0m \u001b[0mtask_str\u001b[0m\u001b[0;34m.\u001b[0m\u001b[0mstartswith\u001b[0m\u001b[0;34m(\u001b[0m\u001b[0;34mb'NEW_X'\u001b[0m\u001b[0;34m)\u001b[0m\u001b[0;34m:\u001b[0m\u001b[0;34m\u001b[0m\u001b[0;34m\u001b[0m\u001b[0m\n\u001b[1;32m    362\u001b[0m             \u001b[0;31m# new iteration\u001b[0m\u001b[0;34m\u001b[0m\u001b[0;34m\u001b[0m\u001b[0;34m\u001b[0m\u001b[0m\n",
            "\u001b[0;32m/usr/local/lib/python3.8/dist-packages/scipy/optimize/_differentiable_functions.py\u001b[0m in \u001b[0;36mfun_and_grad\u001b[0;34m(self, x)\u001b[0m\n\u001b[1;32m    265\u001b[0m         \u001b[0;32mif\u001b[0m \u001b[0;32mnot\u001b[0m \u001b[0mnp\u001b[0m\u001b[0;34m.\u001b[0m\u001b[0marray_equal\u001b[0m\u001b[0;34m(\u001b[0m\u001b[0mx\u001b[0m\u001b[0;34m,\u001b[0m \u001b[0mself\u001b[0m\u001b[0;34m.\u001b[0m\u001b[0mx\u001b[0m\u001b[0;34m)\u001b[0m\u001b[0;34m:\u001b[0m\u001b[0;34m\u001b[0m\u001b[0;34m\u001b[0m\u001b[0m\n\u001b[1;32m    266\u001b[0m             \u001b[0mself\u001b[0m\u001b[0;34m.\u001b[0m\u001b[0m_update_x_impl\u001b[0m\u001b[0;34m(\u001b[0m\u001b[0mx\u001b[0m\u001b[0;34m)\u001b[0m\u001b[0;34m\u001b[0m\u001b[0;34m\u001b[0m\u001b[0m\n\u001b[0;32m--> 267\u001b[0;31m         \u001b[0mself\u001b[0m\u001b[0;34m.\u001b[0m\u001b[0m_update_fun\u001b[0m\u001b[0;34m(\u001b[0m\u001b[0;34m)\u001b[0m\u001b[0;34m\u001b[0m\u001b[0;34m\u001b[0m\u001b[0m\n\u001b[0m\u001b[1;32m    268\u001b[0m         \u001b[0mself\u001b[0m\u001b[0;34m.\u001b[0m\u001b[0m_update_grad\u001b[0m\u001b[0;34m(\u001b[0m\u001b[0;34m)\u001b[0m\u001b[0;34m\u001b[0m\u001b[0;34m\u001b[0m\u001b[0m\n\u001b[1;32m    269\u001b[0m         \u001b[0;32mreturn\u001b[0m \u001b[0mself\u001b[0m\u001b[0;34m.\u001b[0m\u001b[0mf\u001b[0m\u001b[0;34m,\u001b[0m \u001b[0mself\u001b[0m\u001b[0;34m.\u001b[0m\u001b[0mg\u001b[0m\u001b[0;34m\u001b[0m\u001b[0;34m\u001b[0m\u001b[0m\n",
            "\u001b[0;32m/usr/local/lib/python3.8/dist-packages/scipy/optimize/_differentiable_functions.py\u001b[0m in \u001b[0;36m_update_fun\u001b[0;34m(self)\u001b[0m\n\u001b[1;32m    231\u001b[0m     \u001b[0;32mdef\u001b[0m \u001b[0m_update_fun\u001b[0m\u001b[0;34m(\u001b[0m\u001b[0mself\u001b[0m\u001b[0;34m)\u001b[0m\u001b[0;34m:\u001b[0m\u001b[0;34m\u001b[0m\u001b[0;34m\u001b[0m\u001b[0m\n\u001b[1;32m    232\u001b[0m         \u001b[0;32mif\u001b[0m \u001b[0;32mnot\u001b[0m \u001b[0mself\u001b[0m\u001b[0;34m.\u001b[0m\u001b[0mf_updated\u001b[0m\u001b[0;34m:\u001b[0m\u001b[0;34m\u001b[0m\u001b[0;34m\u001b[0m\u001b[0m\n\u001b[0;32m--> 233\u001b[0;31m             \u001b[0mself\u001b[0m\u001b[0;34m.\u001b[0m\u001b[0m_update_fun_impl\u001b[0m\u001b[0;34m(\u001b[0m\u001b[0;34m)\u001b[0m\u001b[0;34m\u001b[0m\u001b[0;34m\u001b[0m\u001b[0m\n\u001b[0m\u001b[1;32m    234\u001b[0m             \u001b[0mself\u001b[0m\u001b[0;34m.\u001b[0m\u001b[0mf_updated\u001b[0m \u001b[0;34m=\u001b[0m \u001b[0;32mTrue\u001b[0m\u001b[0;34m\u001b[0m\u001b[0;34m\u001b[0m\u001b[0m\n\u001b[1;32m    235\u001b[0m \u001b[0;34m\u001b[0m\u001b[0m\n",
            "\u001b[0;32m/usr/local/lib/python3.8/dist-packages/scipy/optimize/_differentiable_functions.py\u001b[0m in \u001b[0;36mupdate_fun\u001b[0;34m()\u001b[0m\n\u001b[1;32m    135\u001b[0m \u001b[0;34m\u001b[0m\u001b[0m\n\u001b[1;32m    136\u001b[0m         \u001b[0;32mdef\u001b[0m \u001b[0mupdate_fun\u001b[0m\u001b[0;34m(\u001b[0m\u001b[0;34m)\u001b[0m\u001b[0;34m:\u001b[0m\u001b[0;34m\u001b[0m\u001b[0;34m\u001b[0m\u001b[0m\n\u001b[0;32m--> 137\u001b[0;31m             \u001b[0mself\u001b[0m\u001b[0;34m.\u001b[0m\u001b[0mf\u001b[0m \u001b[0;34m=\u001b[0m \u001b[0mfun_wrapped\u001b[0m\u001b[0;34m(\u001b[0m\u001b[0mself\u001b[0m\u001b[0;34m.\u001b[0m\u001b[0mx\u001b[0m\u001b[0;34m)\u001b[0m\u001b[0;34m\u001b[0m\u001b[0;34m\u001b[0m\u001b[0m\n\u001b[0m\u001b[1;32m    138\u001b[0m \u001b[0;34m\u001b[0m\u001b[0m\n\u001b[1;32m    139\u001b[0m         \u001b[0mself\u001b[0m\u001b[0;34m.\u001b[0m\u001b[0m_update_fun_impl\u001b[0m \u001b[0;34m=\u001b[0m \u001b[0mupdate_fun\u001b[0m\u001b[0;34m\u001b[0m\u001b[0;34m\u001b[0m\u001b[0m\n",
            "\u001b[0;32m/usr/local/lib/python3.8/dist-packages/scipy/optimize/_differentiable_functions.py\u001b[0m in \u001b[0;36mfun_wrapped\u001b[0;34m(x)\u001b[0m\n\u001b[1;32m    132\u001b[0m             \u001b[0;31m# Overwriting results in undefined behaviour because\u001b[0m\u001b[0;34m\u001b[0m\u001b[0;34m\u001b[0m\u001b[0;34m\u001b[0m\u001b[0m\n\u001b[1;32m    133\u001b[0m             \u001b[0;31m# fun(self.x) will change self.x, with the two no longer linked.\u001b[0m\u001b[0;34m\u001b[0m\u001b[0;34m\u001b[0m\u001b[0;34m\u001b[0m\u001b[0m\n\u001b[0;32m--> 134\u001b[0;31m             \u001b[0;32mreturn\u001b[0m \u001b[0mfun\u001b[0m\u001b[0;34m(\u001b[0m\u001b[0mnp\u001b[0m\u001b[0;34m.\u001b[0m\u001b[0mcopy\u001b[0m\u001b[0;34m(\u001b[0m\u001b[0mx\u001b[0m\u001b[0;34m)\u001b[0m\u001b[0;34m,\u001b[0m \u001b[0;34m*\u001b[0m\u001b[0margs\u001b[0m\u001b[0;34m)\u001b[0m\u001b[0;34m\u001b[0m\u001b[0;34m\u001b[0m\u001b[0m\n\u001b[0m\u001b[1;32m    135\u001b[0m \u001b[0;34m\u001b[0m\u001b[0m\n\u001b[1;32m    136\u001b[0m         \u001b[0;32mdef\u001b[0m \u001b[0mupdate_fun\u001b[0m\u001b[0;34m(\u001b[0m\u001b[0;34m)\u001b[0m\u001b[0;34m:\u001b[0m\u001b[0;34m\u001b[0m\u001b[0;34m\u001b[0m\u001b[0m\n",
            "\u001b[0;32m/usr/local/lib/python3.8/dist-packages/scipy/optimize/optimize.py\u001b[0m in \u001b[0;36m__call__\u001b[0;34m(self, x, *args)\u001b[0m\n\u001b[1;32m     72\u001b[0m     \u001b[0;32mdef\u001b[0m \u001b[0m__call__\u001b[0m\u001b[0;34m(\u001b[0m\u001b[0mself\u001b[0m\u001b[0;34m,\u001b[0m \u001b[0mx\u001b[0m\u001b[0;34m,\u001b[0m \u001b[0;34m*\u001b[0m\u001b[0margs\u001b[0m\u001b[0;34m)\u001b[0m\u001b[0;34m:\u001b[0m\u001b[0;34m\u001b[0m\u001b[0;34m\u001b[0m\u001b[0m\n\u001b[1;32m     73\u001b[0m         \u001b[0;34m\"\"\" returns the the function value \"\"\"\u001b[0m\u001b[0;34m\u001b[0m\u001b[0;34m\u001b[0m\u001b[0m\n\u001b[0;32m---> 74\u001b[0;31m         \u001b[0mself\u001b[0m\u001b[0;34m.\u001b[0m\u001b[0m_compute_if_needed\u001b[0m\u001b[0;34m(\u001b[0m\u001b[0mx\u001b[0m\u001b[0;34m,\u001b[0m \u001b[0;34m*\u001b[0m\u001b[0margs\u001b[0m\u001b[0;34m)\u001b[0m\u001b[0;34m\u001b[0m\u001b[0;34m\u001b[0m\u001b[0m\n\u001b[0m\u001b[1;32m     75\u001b[0m         \u001b[0;32mreturn\u001b[0m \u001b[0mself\u001b[0m\u001b[0;34m.\u001b[0m\u001b[0m_value\u001b[0m\u001b[0;34m\u001b[0m\u001b[0;34m\u001b[0m\u001b[0m\n\u001b[1;32m     76\u001b[0m \u001b[0;34m\u001b[0m\u001b[0m\n",
            "\u001b[0;32m/usr/local/lib/python3.8/dist-packages/scipy/optimize/optimize.py\u001b[0m in \u001b[0;36m_compute_if_needed\u001b[0;34m(self, x, *args)\u001b[0m\n\u001b[1;32m     66\u001b[0m         \u001b[0;32mif\u001b[0m \u001b[0;32mnot\u001b[0m \u001b[0mnp\u001b[0m\u001b[0;34m.\u001b[0m\u001b[0mall\u001b[0m\u001b[0;34m(\u001b[0m\u001b[0mx\u001b[0m \u001b[0;34m==\u001b[0m \u001b[0mself\u001b[0m\u001b[0;34m.\u001b[0m\u001b[0mx\u001b[0m\u001b[0;34m)\u001b[0m \u001b[0;32mor\u001b[0m \u001b[0mself\u001b[0m\u001b[0;34m.\u001b[0m\u001b[0m_value\u001b[0m \u001b[0;32mis\u001b[0m \u001b[0;32mNone\u001b[0m \u001b[0;32mor\u001b[0m \u001b[0mself\u001b[0m\u001b[0;34m.\u001b[0m\u001b[0mjac\u001b[0m \u001b[0;32mis\u001b[0m \u001b[0;32mNone\u001b[0m\u001b[0;34m:\u001b[0m\u001b[0;34m\u001b[0m\u001b[0;34m\u001b[0m\u001b[0m\n\u001b[1;32m     67\u001b[0m             \u001b[0mself\u001b[0m\u001b[0;34m.\u001b[0m\u001b[0mx\u001b[0m \u001b[0;34m=\u001b[0m \u001b[0mnp\u001b[0m\u001b[0;34m.\u001b[0m\u001b[0masarray\u001b[0m\u001b[0;34m(\u001b[0m\u001b[0mx\u001b[0m\u001b[0;34m)\u001b[0m\u001b[0;34m.\u001b[0m\u001b[0mcopy\u001b[0m\u001b[0;34m(\u001b[0m\u001b[0;34m)\u001b[0m\u001b[0;34m\u001b[0m\u001b[0;34m\u001b[0m\u001b[0m\n\u001b[0;32m---> 68\u001b[0;31m             \u001b[0mfg\u001b[0m \u001b[0;34m=\u001b[0m \u001b[0mself\u001b[0m\u001b[0;34m.\u001b[0m\u001b[0mfun\u001b[0m\u001b[0;34m(\u001b[0m\u001b[0mx\u001b[0m\u001b[0;34m,\u001b[0m \u001b[0;34m*\u001b[0m\u001b[0margs\u001b[0m\u001b[0;34m)\u001b[0m\u001b[0;34m\u001b[0m\u001b[0;34m\u001b[0m\u001b[0m\n\u001b[0m\u001b[1;32m     69\u001b[0m             \u001b[0mself\u001b[0m\u001b[0;34m.\u001b[0m\u001b[0mjac\u001b[0m \u001b[0;34m=\u001b[0m \u001b[0mfg\u001b[0m\u001b[0;34m[\u001b[0m\u001b[0;36m1\u001b[0m\u001b[0;34m]\u001b[0m\u001b[0;34m\u001b[0m\u001b[0;34m\u001b[0m\u001b[0m\n\u001b[1;32m     70\u001b[0m             \u001b[0mself\u001b[0m\u001b[0;34m.\u001b[0m\u001b[0m_value\u001b[0m \u001b[0;34m=\u001b[0m \u001b[0mfg\u001b[0m\u001b[0;34m[\u001b[0m\u001b[0;36m0\u001b[0m\u001b[0;34m]\u001b[0m\u001b[0;34m\u001b[0m\u001b[0;34m\u001b[0m\u001b[0m\n",
            "\u001b[0;32m/usr/local/lib/python3.8/dist-packages/sklearn/neural_network/_multilayer_perceptron.py\u001b[0m in \u001b[0;36m_loss_grad_lbfgs\u001b[0;34m(self, packed_coef_inter, X, y, activations, deltas, coef_grads, intercept_grads)\u001b[0m\n\u001b[1;32m    232\u001b[0m         \"\"\"\n\u001b[1;32m    233\u001b[0m         \u001b[0mself\u001b[0m\u001b[0;34m.\u001b[0m\u001b[0m_unpack\u001b[0m\u001b[0;34m(\u001b[0m\u001b[0mpacked_coef_inter\u001b[0m\u001b[0;34m)\u001b[0m\u001b[0;34m\u001b[0m\u001b[0;34m\u001b[0m\u001b[0m\n\u001b[0;32m--> 234\u001b[0;31m         loss, coef_grads, intercept_grads = self._backprop(\n\u001b[0m\u001b[1;32m    235\u001b[0m             \u001b[0mX\u001b[0m\u001b[0;34m,\u001b[0m \u001b[0my\u001b[0m\u001b[0;34m,\u001b[0m \u001b[0mactivations\u001b[0m\u001b[0;34m,\u001b[0m \u001b[0mdeltas\u001b[0m\u001b[0;34m,\u001b[0m \u001b[0mcoef_grads\u001b[0m\u001b[0;34m,\u001b[0m \u001b[0mintercept_grads\u001b[0m\u001b[0;34m\u001b[0m\u001b[0;34m\u001b[0m\u001b[0m\n\u001b[1;32m    236\u001b[0m         )\n",
            "\u001b[0;32m/usr/local/lib/python3.8/dist-packages/sklearn/neural_network/_multilayer_perceptron.py\u001b[0m in \u001b[0;36m_backprop\u001b[0;34m(self, X, y, activations, deltas, coef_grads, intercept_grads)\u001b[0m\n\u001b[1;32m    311\u001b[0m             \u001b[0minplace_derivative\u001b[0m\u001b[0;34m(\u001b[0m\u001b[0mactivations\u001b[0m\u001b[0;34m[\u001b[0m\u001b[0mi\u001b[0m\u001b[0;34m]\u001b[0m\u001b[0;34m,\u001b[0m \u001b[0mdeltas\u001b[0m\u001b[0;34m[\u001b[0m\u001b[0mi\u001b[0m \u001b[0;34m-\u001b[0m \u001b[0;36m1\u001b[0m\u001b[0;34m]\u001b[0m\u001b[0;34m)\u001b[0m\u001b[0;34m\u001b[0m\u001b[0;34m\u001b[0m\u001b[0m\n\u001b[1;32m    312\u001b[0m \u001b[0;34m\u001b[0m\u001b[0m\n\u001b[0;32m--> 313\u001b[0;31m             self._compute_loss_grad(\n\u001b[0m\u001b[1;32m    314\u001b[0m                 \u001b[0mi\u001b[0m \u001b[0;34m-\u001b[0m \u001b[0;36m1\u001b[0m\u001b[0;34m,\u001b[0m \u001b[0mn_samples\u001b[0m\u001b[0;34m,\u001b[0m \u001b[0mactivations\u001b[0m\u001b[0;34m,\u001b[0m \u001b[0mdeltas\u001b[0m\u001b[0;34m,\u001b[0m \u001b[0mcoef_grads\u001b[0m\u001b[0;34m,\u001b[0m \u001b[0mintercept_grads\u001b[0m\u001b[0;34m\u001b[0m\u001b[0;34m\u001b[0m\u001b[0m\n\u001b[1;32m    315\u001b[0m             )\n",
            "\u001b[0;32m/usr/local/lib/python3.8/dist-packages/sklearn/neural_network/_multilayer_perceptron.py\u001b[0m in \u001b[0;36m_compute_loss_grad\u001b[0;34m(self, layer, n_samples, activations, deltas, coef_grads, intercept_grads)\u001b[0m\n\u001b[1;32m    182\u001b[0m         \u001b[0mThis\u001b[0m \u001b[0mfunction\u001b[0m \u001b[0mdoes\u001b[0m \u001b[0mbackpropagation\u001b[0m \u001b[0;32mfor\u001b[0m \u001b[0mthe\u001b[0m \u001b[0mspecified\u001b[0m \u001b[0mone\u001b[0m \u001b[0mlayer\u001b[0m\u001b[0;34m.\u001b[0m\u001b[0;34m\u001b[0m\u001b[0;34m\u001b[0m\u001b[0m\n\u001b[1;32m    183\u001b[0m         \"\"\"\n\u001b[0;32m--> 184\u001b[0;31m         \u001b[0mcoef_grads\u001b[0m\u001b[0;34m[\u001b[0m\u001b[0mlayer\u001b[0m\u001b[0;34m]\u001b[0m \u001b[0;34m=\u001b[0m \u001b[0msafe_sparse_dot\u001b[0m\u001b[0;34m(\u001b[0m\u001b[0mactivations\u001b[0m\u001b[0;34m[\u001b[0m\u001b[0mlayer\u001b[0m\u001b[0;34m]\u001b[0m\u001b[0;34m.\u001b[0m\u001b[0mT\u001b[0m\u001b[0;34m,\u001b[0m \u001b[0mdeltas\u001b[0m\u001b[0;34m[\u001b[0m\u001b[0mlayer\u001b[0m\u001b[0;34m]\u001b[0m\u001b[0;34m)\u001b[0m\u001b[0;34m\u001b[0m\u001b[0;34m\u001b[0m\u001b[0m\n\u001b[0m\u001b[1;32m    185\u001b[0m         \u001b[0mcoef_grads\u001b[0m\u001b[0;34m[\u001b[0m\u001b[0mlayer\u001b[0m\u001b[0;34m]\u001b[0m \u001b[0;34m+=\u001b[0m \u001b[0mself\u001b[0m\u001b[0;34m.\u001b[0m\u001b[0malpha\u001b[0m \u001b[0;34m*\u001b[0m \u001b[0mself\u001b[0m\u001b[0;34m.\u001b[0m\u001b[0mcoefs_\u001b[0m\u001b[0;34m[\u001b[0m\u001b[0mlayer\u001b[0m\u001b[0;34m]\u001b[0m\u001b[0;34m\u001b[0m\u001b[0;34m\u001b[0m\u001b[0m\n\u001b[1;32m    186\u001b[0m         \u001b[0mcoef_grads\u001b[0m\u001b[0;34m[\u001b[0m\u001b[0mlayer\u001b[0m\u001b[0;34m]\u001b[0m \u001b[0;34m/=\u001b[0m \u001b[0mn_samples\u001b[0m\u001b[0;34m\u001b[0m\u001b[0;34m\u001b[0m\u001b[0m\n",
            "\u001b[0;32m/usr/local/lib/python3.8/dist-packages/sklearn/utils/extmath.py\u001b[0m in \u001b[0;36msafe_sparse_dot\u001b[0;34m(a, b, dense_output)\u001b[0m\n\u001b[1;32m    151\u001b[0m             \u001b[0mret\u001b[0m \u001b[0;34m=\u001b[0m \u001b[0mnp\u001b[0m\u001b[0;34m.\u001b[0m\u001b[0mdot\u001b[0m\u001b[0;34m(\u001b[0m\u001b[0ma\u001b[0m\u001b[0;34m,\u001b[0m \u001b[0mb\u001b[0m\u001b[0;34m)\u001b[0m\u001b[0;34m\u001b[0m\u001b[0;34m\u001b[0m\u001b[0m\n\u001b[1;32m    152\u001b[0m     \u001b[0;32melse\u001b[0m\u001b[0;34m:\u001b[0m\u001b[0;34m\u001b[0m\u001b[0;34m\u001b[0m\u001b[0m\n\u001b[0;32m--> 153\u001b[0;31m         \u001b[0mret\u001b[0m \u001b[0;34m=\u001b[0m \u001b[0ma\u001b[0m \u001b[0;34m@\u001b[0m \u001b[0mb\u001b[0m\u001b[0;34m\u001b[0m\u001b[0;34m\u001b[0m\u001b[0m\n\u001b[0m\u001b[1;32m    154\u001b[0m \u001b[0;34m\u001b[0m\u001b[0m\n\u001b[1;32m    155\u001b[0m     if (\n",
            "\u001b[0;31mKeyboardInterrupt\u001b[0m: "
          ]
        }
      ],
      "source": [
        "# using a multilayer perceptron neural network\n",
        "mlp = MLPClassifier(random_state=42)\n",
        "\n",
        "params = {'solver': ['lbfgs'], 'max_iter': [1000,1100,1200,1300,1400,1500,1600,1700,1800,1900,2000 ], \n",
        "              'alpha': 10.0 ** -np.arange(1, 10), 'hidden_layer_sizes':np.arange(10, 15), \n",
        "              'random_state':[0,1,2,3,4,5,6,7,8,9]}\n",
        "\n",
        "grid = GridSearchCV(mlp, params, cv=10, scoring='accuracy', return_train_score=False,verbose=1)\n",
        "grid_search=grid.fit(X_train, y_train)"
      ]
    },
    {
      "cell_type": "code",
      "execution_count": null,
      "metadata": {
        "colab": {
          "base_uri": "https://localhost:8080/"
        },
        "id": "GQF-9x2ABKbd",
        "outputId": "11304202-c4e7-4bd6-fe1c-a5c6cb152fec"
      },
      "outputs": [
        {
          "name": "stdout",
          "output_type": "stream",
          "text": [
            "GridSearch CV best score : 1.0000\n",
            "\n",
            "\n",
            "Parameters that give the best results : \n",
            "\n",
            " {'alpha': 0.1, 'hidden_layer_sizes': 10, 'max_iter': 1000, 'random_state': 0, 'solver': 'lbfgs'}\n",
            "\n",
            "\n",
            "Estimator that was chosen by the search : \n",
            "\n",
            " MLPClassifier(alpha=0.1, hidden_layer_sizes=10, max_iter=1000, random_state=0,\n",
            "              solver='lbfgs')\n"
          ]
        }
      ],
      "source": [
        "# best score achieved during the GridSearchCV\n",
        "print('GridSearch CV best score : {:.4f}\\n\\n'.format(grid.best_score_))\n",
        "\n",
        "# print parameters that give the best results\n",
        "print('Parameters that give the best results :','\\n\\n', (grid.best_params_))\n",
        "\n",
        "# print estimator that was chosen by the GridSearch\n",
        "print('\\n\\nEstimator that was chosen by the search :','\\n\\n', (grid.best_estimator_))"
      ]
    },
    {
      "cell_type": "code",
      "execution_count": 34,
      "metadata": {
        "id": "E3f85iWX0RmJ"
      },
      "outputs": [],
      "source": [
        "# lets use these params now\n",
        "nn_pipeline = Pipeline(steps = [('scale',StandardScaler()),('NN',MLPClassifier(alpha=0.1, hidden_layer_sizes=10, max_iter=1000, random_state=0,\n",
        "              solver='lbfgs'))])\n",
        "\n",
        "nn_pipeline.fit(X_train,y_train)\n",
        "\n",
        "nn_tuned_pred = nn_pipeline.predict(X_test)"
      ]
    },
    {
      "cell_type": "code",
      "execution_count": 35,
      "metadata": {
        "colab": {
          "base_uri": "https://localhost:8080/"
        },
        "id": "8gLEPzqFPUXr",
        "outputId": "6b506044-e4a9-4658-fa56-e177fc5e883e"
      },
      "outputs": [
        {
          "output_type": "stream",
          "name": "stdout",
          "text": [
            "              precision    recall  f1-score   support\n",
            "\n",
            "           0       0.92      1.00      0.96        36\n",
            "           1       1.00      0.99      0.99       214\n",
            "\n",
            "    accuracy                           0.99       250\n",
            "   macro avg       0.96      0.99      0.98       250\n",
            "weighted avg       0.99      0.99      0.99       250\n",
            "\n",
            "Accuracy Score:  0.988\n",
            "F1 Score:  0.9929411764705882\n"
          ]
        }
      ],
      "source": [
        "# print out the results for the neural network \n",
        "print(classification_report(y_test,nn_tuned_pred))\n",
        "\n",
        "print('Accuracy Score: ',accuracy_score(y_test,nn_tuned_pred))\n",
        "print('F1 Score: ',f1_score(y_test,nn_tuned_pred))"
      ]
    },
    {
      "cell_type": "code",
      "execution_count": 36,
      "metadata": {
        "id": "2x7xPtjLyCT0"
      },
      "outputs": [],
      "source": [
        "# fit all of these new models\n",
        "rf_pipeline.fit(X_train,y_train)\n",
        "svm_pipeline.fit(X_train,y_train)\n",
        "logreg_pipeline.fit(X_train,y_train)\n",
        "knn_pipeline.fit(X_train, y_train)\n",
        "dt_pipeline.fit(X_train, y_train)\n",
        "nn_pipeline.fit(X_train, y_train)\n",
        "\n",
        "# get the prediction labels from the new models\n",
        "rf_pred = rf_pipeline.predict(X_test)\n",
        "svm_pred = svm_pipeline.predict(X_test)\n",
        "logreg_pred = logreg_pipeline.predict(X_test)\n",
        "knn_pred = knn_pipeline.predict(X_test)\n",
        "dt_pred = knn_pipeline.predict(X_test)\n",
        "nn_pred = knn_pipeline.predict(X_test)\n",
        "\n",
        "# create new confusion matrices\n",
        "rf_cm  = confusion_matrix(y_test,rf_pred )\n",
        "svm_cm = confusion_matrix(y_test,svm_pred)\n",
        "logreg_cm  = confusion_matrix(y_test,logreg_pred )\n",
        "knn_cm = confusion_matrix(y_test, knn_pred)\n",
        "dt_cm = confusion_matrix(y_test, dt_pred)\n",
        "nn_cm = confusion_matrix(y_test, nn_pred)"
      ]
    },
    {
      "cell_type": "code",
      "execution_count": 37,
      "metadata": {
        "id": "mV5JJmSy2vRe"
      },
      "outputs": [],
      "source": [
        "# Make dataframes to plot\n",
        "from sklearn.metrics import recall_score, precision_score, roc_auc_score\n",
        "\n",
        "# random forest classifier\n",
        "rf_df = pd.DataFrame(data=[f1_score(y_test,rf_pred),accuracy_score(y_test, rf_pred), recall_score(y_test, rf_pred),\n",
        "                   precision_score(y_test, rf_pred), roc_auc_score(y_test, rf_pred)], \n",
        "             columns=['Random Forest Score'],\n",
        "             index=[\"F1\",\"Accuracy\", \"Recall\", \"Precision\", \"ROC AUC Score\"])\n",
        "\n",
        "# support vector machine\n",
        "svm_df = pd.DataFrame(data=[f1_score(y_test,svm_pred),accuracy_score(y_test, svm_pred), recall_score(y_test, svm_pred),\n",
        "                   precision_score(y_test, svm_pred), roc_auc_score(y_test, svm_pred)], \n",
        "             columns=['Support Vector Machine (SVM) Score'],\n",
        "             index=[\"F1\",\"Accuracy\", \"Recall\", \"Precision\", \"ROC AUC Score\"])\n",
        "\n",
        "# logistic regression\n",
        "lr_df = pd.DataFrame(data=[f1_score(y_test,logreg_tuned_pred),accuracy_score(y_test, logreg_tuned_pred), recall_score(y_test, logreg_tuned_pred),\n",
        "                   precision_score(y_test, logreg_tuned_pred), roc_auc_score(y_test, logreg_tuned_pred)], \n",
        "             columns=['Tuned Logistic Regression Score'],\n",
        "             index=[\"F1\",\"Accuracy\", \"Recall\", \"Precision\", \"ROC AUC Score\"])\n",
        "\n",
        "# k nearest neighbors\n",
        "knn_df = pd.DataFrame(data=[f1_score(y_test,knn_tuned_pred),accuracy_score(y_test, knn_tuned_pred), recall_score(y_test, knn_tuned_pred),\n",
        "                   precision_score(y_test, knn_tuned_pred), roc_auc_score(y_test, knn_tuned_pred)], \n",
        "             columns=['K-Nearest-Neighbors Score'],\n",
        "             index=[\"F1\",\"Accuracy\", \"Recall\", \"Precision\", \"ROC AUC Score\"])\n",
        "\n",
        "# decision tree classifier\n",
        "dt_df = pd.DataFrame(data=[f1_score(y_test,dt_tuned_pred),accuracy_score(y_test, dt_tuned_pred), recall_score(y_test, dt_tuned_pred),\n",
        "                   precision_score(y_test, dt_tuned_pred), roc_auc_score(y_test, dt_tuned_pred)], \n",
        "             columns=['Decision Tree Classifier Score'],\n",
        "             index=[\"F1\",\"Accuracy\", \"Recall\", \"Precision\", \"ROC AUC Score\"])\n",
        "\n",
        "# multilayer perceptron neural network\n",
        "nn_df = pd.DataFrame(data=[f1_score(y_test,nn_tuned_pred),accuracy_score(y_test, nn_tuned_pred), recall_score(y_test, nn_tuned_pred),\n",
        "                   precision_score(y_test, nn_tuned_pred), roc_auc_score(y_test, nn_tuned_pred)], \n",
        "             columns=['Multilayer Perceptron Neural Network Score'],\n",
        "             index=[\"F1\",\"Accuracy\", \"Recall\", \"Precision\", \"ROC AUC Score\"])"
      ]
    },
    {
      "cell_type": "code",
      "execution_count": null,
      "metadata": {
        "id": "Cp58DUr322OB"
      },
      "outputs": [],
      "source": [
        "# create a full figure\n",
        "df_models = round(pd.concat([rf_df,svm_df,lr_df,knn_df, dt_df, nn_df], axis=1),3)\n",
        "import matplotlib\n",
        "colors = [\"lightgray\",\"lightgray\",\"#0f4c81\"] # the colors for the plot\n",
        "colormap = matplotlib.colors.LinearSegmentedColormap.from_list(\"\", colors) # make the color map from minimum to maximum\n",
        "\n",
        "fig = plt.figure(figsize=(15,30)) # create figure\n",
        "gs = fig.add_gridspec(4, 2) # add some space between the grid elements\n",
        "gs.update(wspace=0.1, hspace=0.5)\n",
        "ax0 = fig.add_subplot(gs[0, :])\n",
        "\n",
        "sns.heatmap(df_models.T, cmap=colormap,annot=True,fmt=\".1%\",vmin=0.90,vmax=1, linewidths=2.5,cbar=False,ax=ax0,annot_kws={\"fontsize\":18}) # create the heatmap using seaborn\n",
        "\n",
        "ax0.text(0,-0.5,'Model Comparison',fontsize=18,fontweight='bold',fontfamily='serif') # set the text\n",
        "ax0.tick_params(axis=u'both', which=u'both',length=0)\n",
        "\n",
        "plt.show()"
      ]
    },
    {
      "cell_type": "code",
      "execution_count": null,
      "metadata": {
        "id": "-W99kU7Q3KUv"
      },
      "outputs": [],
      "source": [
        "# Plotting our results and confusion matrices (and making them look professional)\n",
        "colors = [\"lightgray\",\"#0f4c81\",\"#0f4c81\",\"#0f4c81\",\"#0f4c81\",\"#0f4c81\",\"#0f4c81\",\"#0f4c81\"]\n",
        "colormap = matplotlib.colors.LinearSegmentedColormap.from_list(\"\", colors)\n",
        "\n",
        "# add all of our subplots\n",
        "fig = plt.figure(figsize=(10,20)) # create figure\n",
        "gs = fig.add_gridspec(6, 2)\n",
        "gs.update(wspace=0.1, hspace=0.8)\n",
        "ax0 = fig.add_subplot(gs[0, :])\n",
        "ax1 = fig.add_subplot(gs[1, :])\n",
        "ax2 = fig.add_subplot(gs[2, :])\n",
        "ax3 = fig.add_subplot(gs[3, :])\n",
        "ax4 = fig.add_subplot(gs[4, :])\n",
        "ax5 = fig.add_subplot(gs[5, :])\n",
        "\n",
        "# random forest classifier\n",
        "sns.heatmap(rf_cm, cmap=colormap,annot=True,fmt=\"d\", linewidths=5,cbar=False,ax=ax0,\n",
        "            yticklabels=['Actual Normal','Actual GBM'],xticklabels=['Predicted Normal','Predicted GBM'],annot_kws={\"fontsize\":12})\n",
        "\n",
        "# logistic regression\n",
        "sns.heatmap(logreg_cm, cmap=colormap,annot=True,fmt=\"d\", linewidths=5,cbar=False,ax=ax1,\n",
        "            yticklabels=['Actual Normal','Actual GBM'],xticklabels=['Predicted Normal','Predicted GBM'],annot_kws={\"fontsize\":12})\n",
        "\n",
        "# support vector machines\n",
        "sns.heatmap(svm_cm, cmap=colormap,annot=True,fmt=\"d\", linewidths=5,cbar=False,ax=ax2,\n",
        "            yticklabels=['Actual Normal','Actual GBM'],xticklabels=['Predicted Normal','Predicted GBM'],annot_kws={\"fontsize\":12})\n",
        "\n",
        "# k nearest neighbors\n",
        "sns.heatmap(knn_cm, cmap=colormap,annot=True,fmt=\"d\", linewidths=5,cbar=False,ax=ax3,\n",
        "            yticklabels=['Actual Normal','Actual GBM'],xticklabels=['Predicted Normal','Predicted GBM'],annot_kws={\"fontsize\":12})\n",
        "\n",
        "# decision tree classifier\n",
        "sns.heatmap(dt_cm, cmap=colormap,annot=True,fmt=\"d\", linewidths=5,cbar=False,ax=ax4,\n",
        "            yticklabels=['Actual Normal','Actual GBM'],xticklabels=['Predicted Normal','Predicted GBM'],annot_kws={\"fontsize\":12})\n",
        "\n",
        "# multilayer perceptron neural network\n",
        "sns.heatmap(nn_cm, cmap=colormap,annot=True,fmt=\"d\", linewidths=5,cbar=False,ax=ax5,\n",
        "            yticklabels=['Actual Normal','Actual GBM'],xticklabels=['Predicted Normal','Predicted GBM'],annot_kws={\"fontsize\":12})\n",
        "\n",
        "# set the background color for each figure\n",
        "ax0.tick_params(axis=u'both', which=u'both',length=0)\n",
        "background_color = \"#fbfbfb\"\n",
        "fig.patch.set_facecolor(background_color) # figure background color\n",
        "ax0.set_facecolor(background_color) \n",
        "ax1.tick_params(axis=u'both', which=u'both',length=0)\n",
        "ax1.set_facecolor(background_color) \n",
        "ax2.tick_params(axis=u'both', which=u'both',length=0)\n",
        "ax2.set_facecolor(background_color)\n",
        "ax3.tick_params(axis=u'both', which=u'both',length=0)\n",
        "ax3.set_facecolor(background_color)\n",
        "ax4.tick_params(axis=u'both', which=u'both',length=0)\n",
        "ax4.set_facecolor(background_color)\n",
        "ax5.tick_params(axis=u'both', which=u'both',length=0)\n",
        "ax5.set_facecolor(background_color)\n",
        "\n",
        "# set the text for each figure\n",
        "ax0.text(0,-0.75,'Random Forest Performance',fontsize=18,fontweight='bold',fontfamily='serif')\n",
        "ax1.text(0,-0.75,'Logistic Regression Performance',fontsize=18,fontweight='bold',fontfamily='serif')\n",
        "ax2.text(0,-0.75,'Support Vector Machine Performance',fontsize=18,fontweight='bold',fontfamily='serif')\n",
        "ax3.text(0,-0.75,'K-Nearest-Neighbors Performance',fontsize=18,fontweight='bold',fontfamily='serif')\n",
        "ax4.text(0,-0.75,'Decision Tree Performance',fontsize=18,fontweight='bold',fontfamily='serif')\n",
        "ax5.text(0,-0.75,'Neural Network: MLP Performance',fontsize=18,fontweight='bold',fontfamily='serif')\n",
        "\n",
        "plt.show()"
      ]
    }
  ],
  "metadata": {
    "colab": {
      "provenance": []
    },
    "kernelspec": {
      "display_name": "Python 3",
      "name": "python3"
    },
    "language_info": {
      "name": "python"
    }
  },
  "nbformat": 4,
  "nbformat_minor": 0
}