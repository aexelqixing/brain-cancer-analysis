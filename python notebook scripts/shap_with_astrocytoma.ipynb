{
  "cells": [
    {
      "cell_type": "code",
      "execution_count": null,
      "metadata": {
        "id": "AmHOpUbMwN_g"
      },
      "outputs": [],
      "source": [
        "import numpy as np # linear algebra\n",
        "import pandas as pd # data processing, CSV file I/O (e.g. pd.read_csv)\n",
        "import matplotlib.pyplot as plt # for data visualization\n",
        "import seaborn as sns # for statistical data visualization\n",
        "%matplotlib inline"
      ]
    },
    {
      "cell_type": "code",
      "execution_count": null,
      "metadata": {
        "colab": {
          "base_uri": "https://localhost:8080/",
          "height": 419
        },
        "id": "JoPR7GW5wg5a",
        "outputId": "d5e86d46-ee78-4250-ac59-c2a430a29950"
      },
      "outputs": [
        {
          "data": {
            "text/html": [
              "\n",
              "  <div id=\"df-5708b07f-e2f7-47ac-b8b7-56c0b23b5ae4\">\n",
              "    <div class=\"colab-df-container\">\n",
              "      <div>\n",
              "<style scoped>\n",
              "    .dataframe tbody tr th:only-of-type {\n",
              "        vertical-align: middle;\n",
              "    }\n",
              "\n",
              "    .dataframe tbody tr th {\n",
              "        vertical-align: top;\n",
              "    }\n",
              "\n",
              "    .dataframe thead th {\n",
              "        text-align: right;\n",
              "    }\n",
              "</style>\n",
              "<table border=\"1\" class=\"dataframe\">\n",
              "  <thead>\n",
              "    <tr style=\"text-align: right;\">\n",
              "      <th></th>\n",
              "      <th>tumor</th>\n",
              "    </tr>\n",
              "  </thead>\n",
              "  <tbody>\n",
              "    <tr>\n",
              "      <th>GSM2899178</th>\n",
              "      <td>astrocytoma</td>\n",
              "    </tr>\n",
              "    <tr>\n",
              "      <th>GSM2899179</th>\n",
              "      <td>astrocytoma</td>\n",
              "    </tr>\n",
              "    <tr>\n",
              "      <th>GSM2899180</th>\n",
              "      <td>astrocytoma</td>\n",
              "    </tr>\n",
              "    <tr>\n",
              "      <th>GSM2899181</th>\n",
              "      <td>astrocytoma</td>\n",
              "    </tr>\n",
              "    <tr>\n",
              "      <th>GSM2899182</th>\n",
              "      <td>astrocytoma</td>\n",
              "    </tr>\n",
              "    <tr>\n",
              "      <th>...</th>\n",
              "      <td>...</td>\n",
              "    </tr>\n",
              "    <tr>\n",
              "      <th>GSM97937</th>\n",
              "      <td>astrocytoma</td>\n",
              "    </tr>\n",
              "    <tr>\n",
              "      <th>GSM97941</th>\n",
              "      <td>astrocytoma</td>\n",
              "    </tr>\n",
              "    <tr>\n",
              "      <th>GSM97943</th>\n",
              "      <td>astrocytoma</td>\n",
              "    </tr>\n",
              "    <tr>\n",
              "      <th>GSM97958</th>\n",
              "      <td>astrocytoma</td>\n",
              "    </tr>\n",
              "    <tr>\n",
              "      <th>GSM97960</th>\n",
              "      <td>astrocytoma</td>\n",
              "    </tr>\n",
              "  </tbody>\n",
              "</table>\n",
              "<p>218 rows × 1 columns</p>\n",
              "</div>\n",
              "      <button class=\"colab-df-convert\" onclick=\"convertToInteractive('df-5708b07f-e2f7-47ac-b8b7-56c0b23b5ae4')\"\n",
              "              title=\"Convert this dataframe to an interactive table.\"\n",
              "              style=\"display:none;\">\n",
              "        \n",
              "  <svg xmlns=\"http://www.w3.org/2000/svg\" height=\"24px\"viewBox=\"0 0 24 24\"\n",
              "       width=\"24px\">\n",
              "    <path d=\"M0 0h24v24H0V0z\" fill=\"none\"/>\n",
              "    <path d=\"M18.56 5.44l.94 2.06.94-2.06 2.06-.94-2.06-.94-.94-2.06-.94 2.06-2.06.94zm-11 1L8.5 8.5l.94-2.06 2.06-.94-2.06-.94L8.5 2.5l-.94 2.06-2.06.94zm10 10l.94 2.06.94-2.06 2.06-.94-2.06-.94-.94-2.06-.94 2.06-2.06.94z\"/><path d=\"M17.41 7.96l-1.37-1.37c-.4-.4-.92-.59-1.43-.59-.52 0-1.04.2-1.43.59L10.3 9.45l-7.72 7.72c-.78.78-.78 2.05 0 2.83L4 21.41c.39.39.9.59 1.41.59.51 0 1.02-.2 1.41-.59l7.78-7.78 2.81-2.81c.8-.78.8-2.07 0-2.86zM5.41 20L4 18.59l7.72-7.72 1.47 1.35L5.41 20z\"/>\n",
              "  </svg>\n",
              "      </button>\n",
              "      \n",
              "  <style>\n",
              "    .colab-df-container {\n",
              "      display:flex;\n",
              "      flex-wrap:wrap;\n",
              "      gap: 12px;\n",
              "    }\n",
              "\n",
              "    .colab-df-convert {\n",
              "      background-color: #E8F0FE;\n",
              "      border: none;\n",
              "      border-radius: 50%;\n",
              "      cursor: pointer;\n",
              "      display: none;\n",
              "      fill: #1967D2;\n",
              "      height: 32px;\n",
              "      padding: 0 0 0 0;\n",
              "      width: 32px;\n",
              "    }\n",
              "\n",
              "    .colab-df-convert:hover {\n",
              "      background-color: #E2EBFA;\n",
              "      box-shadow: 0px 1px 2px rgba(60, 64, 67, 0.3), 0px 1px 3px 1px rgba(60, 64, 67, 0.15);\n",
              "      fill: #174EA6;\n",
              "    }\n",
              "\n",
              "    [theme=dark] .colab-df-convert {\n",
              "      background-color: #3B4455;\n",
              "      fill: #D2E3FC;\n",
              "    }\n",
              "\n",
              "    [theme=dark] .colab-df-convert:hover {\n",
              "      background-color: #434B5C;\n",
              "      box-shadow: 0px 1px 3px 1px rgba(0, 0, 0, 0.15);\n",
              "      filter: drop-shadow(0px 1px 2px rgba(0, 0, 0, 0.3));\n",
              "      fill: #FFFFFF;\n",
              "    }\n",
              "  </style>\n",
              "\n",
              "      <script>\n",
              "        const buttonEl =\n",
              "          document.querySelector('#df-5708b07f-e2f7-47ac-b8b7-56c0b23b5ae4 button.colab-df-convert');\n",
              "        buttonEl.style.display =\n",
              "          google.colab.kernel.accessAllowed ? 'block' : 'none';\n",
              "\n",
              "        async function convertToInteractive(key) {\n",
              "          const element = document.querySelector('#df-5708b07f-e2f7-47ac-b8b7-56c0b23b5ae4');\n",
              "          const dataTable =\n",
              "            await google.colab.kernel.invokeFunction('convertToInteractive',\n",
              "                                                     [key], {});\n",
              "          if (!dataTable) return;\n",
              "\n",
              "          const docLinkHtml = 'Like what you see? Visit the ' +\n",
              "            '<a target=\"_blank\" href=https://colab.research.google.com/notebooks/data_table.ipynb>data table notebook</a>'\n",
              "            + ' to learn more about interactive tables.';\n",
              "          element.innerHTML = '';\n",
              "          dataTable['output_type'] = 'display_data';\n",
              "          await google.colab.output.renderOutput(dataTable, element);\n",
              "          const docLink = document.createElement('div');\n",
              "          docLink.innerHTML = docLinkHtml;\n",
              "          element.appendChild(docLink);\n",
              "        }\n",
              "      </script>\n",
              "    </div>\n",
              "  </div>\n",
              "  "
            ],
            "text/plain": [
              "                  tumor\n",
              "GSM2899178  astrocytoma\n",
              "GSM2899179  astrocytoma\n",
              "GSM2899180  astrocytoma\n",
              "GSM2899181  astrocytoma\n",
              "GSM2899182  astrocytoma\n",
              "...                 ...\n",
              "GSM97937    astrocytoma\n",
              "GSM97941    astrocytoma\n",
              "GSM97943    astrocytoma\n",
              "GSM97958    astrocytoma\n",
              "GSM97960    astrocytoma\n",
              "\n",
              "[218 rows x 1 columns]"
            ]
          },
          "execution_count": 3,
          "metadata": {},
          "output_type": "execute_result"
        }
      ],
      "source": [
        "# read in the metadata for astrocytoma\n",
        "metadata = pd.read_csv('interesting_metadata_for_astrocytoma_vs_normal.csv')\n",
        "metadata = metadata[[\"Unnamed: 0\", \"tumor\"]]\n",
        "metadata.rename(columns={'Unnamed: 0':'sample_name'}, inplace=True)\n",
        "metadata = metadata.set_index('sample_name', drop=False).rename_axis(None)\n",
        "metadata = metadata.iloc[: , 1:]\n",
        "metadata"
      ]
    },
    {
      "cell_type": "code",
      "execution_count": null,
      "metadata": {
        "colab": {
          "base_uri": "https://localhost:8080/"
        },
        "id": "82_RDo9swoI_",
        "outputId": "64875efa-8533-4b74-cb95-accceb997386"
      },
      "outputs": [
        {
          "data": {
            "text/plain": [
              "astrocytoma    167\n",
              "normal          51\n",
              "Name: tumor, dtype: int64"
            ]
          },
          "execution_count": 4,
          "metadata": {},
          "output_type": "execute_result"
        }
      ],
      "source": [
        "metadata[\"tumor\"].value_counts()"
      ]
    },
    {
      "cell_type": "code",
      "execution_count": null,
      "metadata": {
        "colab": {
          "base_uri": "https://localhost:8080/",
          "height": 483
        },
        "id": "FlnFbpmHwqHj",
        "outputId": "6d5c3897-2ed6-438f-cc4a-6d7e9ac22553"
      },
      "outputs": [
        {
          "data": {
            "text/html": [
              "\n",
              "  <div id=\"df-4bb49800-8db3-4217-92fa-d8b85f2daf16\">\n",
              "    <div class=\"colab-df-container\">\n",
              "      <div>\n",
              "<style scoped>\n",
              "    .dataframe tbody tr th:only-of-type {\n",
              "        vertical-align: middle;\n",
              "    }\n",
              "\n",
              "    .dataframe tbody tr th {\n",
              "        vertical-align: top;\n",
              "    }\n",
              "\n",
              "    .dataframe thead th {\n",
              "        text-align: right;\n",
              "    }\n",
              "</style>\n",
              "<table border=\"1\" class=\"dataframe\">\n",
              "  <thead>\n",
              "    <tr style=\"text-align: right;\">\n",
              "      <th></th>\n",
              "      <th>tumor</th>\n",
              "      <th>CREG2</th>\n",
              "      <th>RXFP1</th>\n",
              "      <th>ARPP21</th>\n",
              "      <th>SLC39A12</th>\n",
              "      <th>RBFOX1</th>\n",
              "      <th>DNAJA4</th>\n",
              "      <th>OLFM3</th>\n",
              "      <th>OLFM3</th>\n",
              "      <th>MYT1L</th>\n",
              "      <th>...</th>\n",
              "      <th>GABRA1</th>\n",
              "      <th>HTR2A</th>\n",
              "      <th>RAB3C</th>\n",
              "      <th>NaN</th>\n",
              "      <th>KCNQ5</th>\n",
              "      <th>NEFH</th>\n",
              "      <th>PHF24</th>\n",
              "      <th>PPP1R16B</th>\n",
              "      <th>SHISAL1</th>\n",
              "      <th>FERMT1</th>\n",
              "    </tr>\n",
              "  </thead>\n",
              "  <tbody>\n",
              "    <tr>\n",
              "      <th>GSM2899178</th>\n",
              "      <td>astrocytoma</td>\n",
              "      <td>6.333002</td>\n",
              "      <td>4.808679</td>\n",
              "      <td>4.18259</td>\n",
              "      <td>5.234557</td>\n",
              "      <td>7.883327</td>\n",
              "      <td>4.374775</td>\n",
              "      <td>5.278415</td>\n",
              "      <td>4.861743</td>\n",
              "      <td>5.275747</td>\n",
              "      <td>...</td>\n",
              "      <td>6.650733</td>\n",
              "      <td>5.462042</td>\n",
              "      <td>6.36318</td>\n",
              "      <td>10.889148</td>\n",
              "      <td>7.939272</td>\n",
              "      <td>5.776776</td>\n",
              "      <td>6.386183</td>\n",
              "      <td>6.653625</td>\n",
              "      <td>7.924135</td>\n",
              "      <td>10.602226</td>\n",
              "    </tr>\n",
              "    <tr>\n",
              "      <th>GSM2899179</th>\n",
              "      <td>astrocytoma</td>\n",
              "      <td>5.940178</td>\n",
              "      <td>5.041461</td>\n",
              "      <td>4.381819</td>\n",
              "      <td>6.428453</td>\n",
              "      <td>7.440704</td>\n",
              "      <td>4.981632</td>\n",
              "      <td>5.40494</td>\n",
              "      <td>4.898408</td>\n",
              "      <td>5.028062</td>\n",
              "      <td>...</td>\n",
              "      <td>7.364148</td>\n",
              "      <td>5.552365</td>\n",
              "      <td>5.871922</td>\n",
              "      <td>10.126393</td>\n",
              "      <td>6.156109</td>\n",
              "      <td>6.425945</td>\n",
              "      <td>6.270442</td>\n",
              "      <td>6.320287</td>\n",
              "      <td>6.463994</td>\n",
              "      <td>7.222421</td>\n",
              "    </tr>\n",
              "    <tr>\n",
              "      <th>GSM2899180</th>\n",
              "      <td>astrocytoma</td>\n",
              "      <td>6.297498</td>\n",
              "      <td>5.007448</td>\n",
              "      <td>4.823922</td>\n",
              "      <td>5.316725</td>\n",
              "      <td>9.909314</td>\n",
              "      <td>6.494634</td>\n",
              "      <td>6.993744</td>\n",
              "      <td>6.082125</td>\n",
              "      <td>7.875789</td>\n",
              "      <td>...</td>\n",
              "      <td>10.607552</td>\n",
              "      <td>5.386285</td>\n",
              "      <td>7.556438</td>\n",
              "      <td>9.800518</td>\n",
              "      <td>5.708078</td>\n",
              "      <td>8.224833</td>\n",
              "      <td>6.679088</td>\n",
              "      <td>9.845503</td>\n",
              "      <td>7.299382</td>\n",
              "      <td>8.218685</td>\n",
              "    </tr>\n",
              "    <tr>\n",
              "      <th>GSM2899181</th>\n",
              "      <td>astrocytoma</td>\n",
              "      <td>6.291672</td>\n",
              "      <td>4.773659</td>\n",
              "      <td>4.287835</td>\n",
              "      <td>6.463647</td>\n",
              "      <td>8.093616</td>\n",
              "      <td>5.39355</td>\n",
              "      <td>5.395979</td>\n",
              "      <td>5.093254</td>\n",
              "      <td>5.345478</td>\n",
              "      <td>...</td>\n",
              "      <td>7.070293</td>\n",
              "      <td>5.570899</td>\n",
              "      <td>6.426237</td>\n",
              "      <td>10.855844</td>\n",
              "      <td>7.688511</td>\n",
              "      <td>5.629402</td>\n",
              "      <td>6.358968</td>\n",
              "      <td>7.09821</td>\n",
              "      <td>6.218254</td>\n",
              "      <td>10.501273</td>\n",
              "    </tr>\n",
              "    <tr>\n",
              "      <th>GSM2899182</th>\n",
              "      <td>astrocytoma</td>\n",
              "      <td>6.210005</td>\n",
              "      <td>4.957037</td>\n",
              "      <td>4.293757</td>\n",
              "      <td>5.691838</td>\n",
              "      <td>8.014946</td>\n",
              "      <td>4.540043</td>\n",
              "      <td>5.677879</td>\n",
              "      <td>4.955618</td>\n",
              "      <td>5.603473</td>\n",
              "      <td>...</td>\n",
              "      <td>7.239413</td>\n",
              "      <td>5.612098</td>\n",
              "      <td>6.841084</td>\n",
              "      <td>10.910485</td>\n",
              "      <td>7.200371</td>\n",
              "      <td>6.066338</td>\n",
              "      <td>6.672696</td>\n",
              "      <td>7.542397</td>\n",
              "      <td>6.993956</td>\n",
              "      <td>10.840846</td>\n",
              "    </tr>\n",
              "    <tr>\n",
              "      <th>...</th>\n",
              "      <td>...</td>\n",
              "      <td>...</td>\n",
              "      <td>...</td>\n",
              "      <td>...</td>\n",
              "      <td>...</td>\n",
              "      <td>...</td>\n",
              "      <td>...</td>\n",
              "      <td>...</td>\n",
              "      <td>...</td>\n",
              "      <td>...</td>\n",
              "      <td>...</td>\n",
              "      <td>...</td>\n",
              "      <td>...</td>\n",
              "      <td>...</td>\n",
              "      <td>...</td>\n",
              "      <td>...</td>\n",
              "      <td>...</td>\n",
              "      <td>...</td>\n",
              "      <td>...</td>\n",
              "      <td>...</td>\n",
              "      <td>...</td>\n",
              "    </tr>\n",
              "    <tr>\n",
              "      <th>GSM97937</th>\n",
              "      <td>astrocytoma</td>\n",
              "      <td>5.727782</td>\n",
              "      <td>5.22689</td>\n",
              "      <td>4.589047</td>\n",
              "      <td>9.101085</td>\n",
              "      <td>7.376488</td>\n",
              "      <td>4.444256</td>\n",
              "      <td>5.773927</td>\n",
              "      <td>4.636598</td>\n",
              "      <td>4.955285</td>\n",
              "      <td>...</td>\n",
              "      <td>7.595932</td>\n",
              "      <td>5.953447</td>\n",
              "      <td>5.302745</td>\n",
              "      <td>10.604148</td>\n",
              "      <td>5.272769</td>\n",
              "      <td>5.732561</td>\n",
              "      <td>6.57272</td>\n",
              "      <td>8.136996</td>\n",
              "      <td>7.353564</td>\n",
              "      <td>10.321293</td>\n",
              "    </tr>\n",
              "    <tr>\n",
              "      <th>GSM97941</th>\n",
              "      <td>astrocytoma</td>\n",
              "      <td>8.087553</td>\n",
              "      <td>7.104717</td>\n",
              "      <td>6.085525</td>\n",
              "      <td>9.356834</td>\n",
              "      <td>10.26097</td>\n",
              "      <td>6.199475</td>\n",
              "      <td>8.269022</td>\n",
              "      <td>7.366215</td>\n",
              "      <td>8.355024</td>\n",
              "      <td>...</td>\n",
              "      <td>10.944085</td>\n",
              "      <td>8.790729</td>\n",
              "      <td>8.390767</td>\n",
              "      <td>8.618503</td>\n",
              "      <td>9.142403</td>\n",
              "      <td>9.632305</td>\n",
              "      <td>8.371467</td>\n",
              "      <td>9.654372</td>\n",
              "      <td>8.858492</td>\n",
              "      <td>7.332834</td>\n",
              "    </tr>\n",
              "    <tr>\n",
              "      <th>GSM97943</th>\n",
              "      <td>astrocytoma</td>\n",
              "      <td>5.479639</td>\n",
              "      <td>5.688575</td>\n",
              "      <td>5.088512</td>\n",
              "      <td>8.060022</td>\n",
              "      <td>7.734439</td>\n",
              "      <td>5.492292</td>\n",
              "      <td>5.846326</td>\n",
              "      <td>5.004469</td>\n",
              "      <td>5.376703</td>\n",
              "      <td>...</td>\n",
              "      <td>7.751829</td>\n",
              "      <td>6.257384</td>\n",
              "      <td>6.507641</td>\n",
              "      <td>9.859424</td>\n",
              "      <td>6.259931</td>\n",
              "      <td>8.720351</td>\n",
              "      <td>6.508041</td>\n",
              "      <td>9.324401</td>\n",
              "      <td>7.245471</td>\n",
              "      <td>7.333974</td>\n",
              "    </tr>\n",
              "    <tr>\n",
              "      <th>GSM97958</th>\n",
              "      <td>astrocytoma</td>\n",
              "      <td>7.534782</td>\n",
              "      <td>5.636552</td>\n",
              "      <td>5.216066</td>\n",
              "      <td>9.459388</td>\n",
              "      <td>9.099496</td>\n",
              "      <td>6.465141</td>\n",
              "      <td>7.21763</td>\n",
              "      <td>6.493641</td>\n",
              "      <td>6.651718</td>\n",
              "      <td>...</td>\n",
              "      <td>9.215982</td>\n",
              "      <td>7.481777</td>\n",
              "      <td>6.63868</td>\n",
              "      <td>10.408253</td>\n",
              "      <td>7.346652</td>\n",
              "      <td>7.757082</td>\n",
              "      <td>7.477949</td>\n",
              "      <td>8.206712</td>\n",
              "      <td>7.798445</td>\n",
              "      <td>7.911484</td>\n",
              "    </tr>\n",
              "    <tr>\n",
              "      <th>GSM97960</th>\n",
              "      <td>astrocytoma</td>\n",
              "      <td>7.597819</td>\n",
              "      <td>6.843212</td>\n",
              "      <td>6.551502</td>\n",
              "      <td>8.257159</td>\n",
              "      <td>10.13417</td>\n",
              "      <td>6.376641</td>\n",
              "      <td>8.856394</td>\n",
              "      <td>7.79226</td>\n",
              "      <td>8.590218</td>\n",
              "      <td>...</td>\n",
              "      <td>11.031603</td>\n",
              "      <td>9.016112</td>\n",
              "      <td>8.563594</td>\n",
              "      <td>10.500286</td>\n",
              "      <td>9.608939</td>\n",
              "      <td>9.177026</td>\n",
              "      <td>8.359958</td>\n",
              "      <td>9.618128</td>\n",
              "      <td>9.141854</td>\n",
              "      <td>10.658927</td>\n",
              "    </tr>\n",
              "  </tbody>\n",
              "</table>\n",
              "<p>218 rows × 478 columns</p>\n",
              "</div>\n",
              "      <button class=\"colab-df-convert\" onclick=\"convertToInteractive('df-4bb49800-8db3-4217-92fa-d8b85f2daf16')\"\n",
              "              title=\"Convert this dataframe to an interactive table.\"\n",
              "              style=\"display:none;\">\n",
              "        \n",
              "  <svg xmlns=\"http://www.w3.org/2000/svg\" height=\"24px\"viewBox=\"0 0 24 24\"\n",
              "       width=\"24px\">\n",
              "    <path d=\"M0 0h24v24H0V0z\" fill=\"none\"/>\n",
              "    <path d=\"M18.56 5.44l.94 2.06.94-2.06 2.06-.94-2.06-.94-.94-2.06-.94 2.06-2.06.94zm-11 1L8.5 8.5l.94-2.06 2.06-.94-2.06-.94L8.5 2.5l-.94 2.06-2.06.94zm10 10l.94 2.06.94-2.06 2.06-.94-2.06-.94-.94-2.06-.94 2.06-2.06.94z\"/><path d=\"M17.41 7.96l-1.37-1.37c-.4-.4-.92-.59-1.43-.59-.52 0-1.04.2-1.43.59L10.3 9.45l-7.72 7.72c-.78.78-.78 2.05 0 2.83L4 21.41c.39.39.9.59 1.41.59.51 0 1.02-.2 1.41-.59l7.78-7.78 2.81-2.81c.8-.78.8-2.07 0-2.86zM5.41 20L4 18.59l7.72-7.72 1.47 1.35L5.41 20z\"/>\n",
              "  </svg>\n",
              "      </button>\n",
              "      \n",
              "  <style>\n",
              "    .colab-df-container {\n",
              "      display:flex;\n",
              "      flex-wrap:wrap;\n",
              "      gap: 12px;\n",
              "    }\n",
              "\n",
              "    .colab-df-convert {\n",
              "      background-color: #E8F0FE;\n",
              "      border: none;\n",
              "      border-radius: 50%;\n",
              "      cursor: pointer;\n",
              "      display: none;\n",
              "      fill: #1967D2;\n",
              "      height: 32px;\n",
              "      padding: 0 0 0 0;\n",
              "      width: 32px;\n",
              "    }\n",
              "\n",
              "    .colab-df-convert:hover {\n",
              "      background-color: #E2EBFA;\n",
              "      box-shadow: 0px 1px 2px rgba(60, 64, 67, 0.3), 0px 1px 3px 1px rgba(60, 64, 67, 0.15);\n",
              "      fill: #174EA6;\n",
              "    }\n",
              "\n",
              "    [theme=dark] .colab-df-convert {\n",
              "      background-color: #3B4455;\n",
              "      fill: #D2E3FC;\n",
              "    }\n",
              "\n",
              "    [theme=dark] .colab-df-convert:hover {\n",
              "      background-color: #434B5C;\n",
              "      box-shadow: 0px 1px 3px 1px rgba(0, 0, 0, 0.15);\n",
              "      filter: drop-shadow(0px 1px 2px rgba(0, 0, 0, 0.3));\n",
              "      fill: #FFFFFF;\n",
              "    }\n",
              "  </style>\n",
              "\n",
              "      <script>\n",
              "        const buttonEl =\n",
              "          document.querySelector('#df-4bb49800-8db3-4217-92fa-d8b85f2daf16 button.colab-df-convert');\n",
              "        buttonEl.style.display =\n",
              "          google.colab.kernel.accessAllowed ? 'block' : 'none';\n",
              "\n",
              "        async function convertToInteractive(key) {\n",
              "          const element = document.querySelector('#df-4bb49800-8db3-4217-92fa-d8b85f2daf16');\n",
              "          const dataTable =\n",
              "            await google.colab.kernel.invokeFunction('convertToInteractive',\n",
              "                                                     [key], {});\n",
              "          if (!dataTable) return;\n",
              "\n",
              "          const docLinkHtml = 'Like what you see? Visit the ' +\n",
              "            '<a target=\"_blank\" href=https://colab.research.google.com/notebooks/data_table.ipynb>data table notebook</a>'\n",
              "            + ' to learn more about interactive tables.';\n",
              "          element.innerHTML = '';\n",
              "          dataTable['output_type'] = 'display_data';\n",
              "          await google.colab.output.renderOutput(dataTable, element);\n",
              "          const docLink = document.createElement('div');\n",
              "          docLink.innerHTML = docLinkHtml;\n",
              "          element.appendChild(docLink);\n",
              "        }\n",
              "      </script>\n",
              "    </div>\n",
              "  </div>\n",
              "  "
            ],
            "text/plain": [
              "                  tumor     CREG2     RXFP1    ARPP21  SLC39A12    RBFOX1  \\\n",
              "GSM2899178  astrocytoma  6.333002  4.808679   4.18259  5.234557  7.883327   \n",
              "GSM2899179  astrocytoma  5.940178  5.041461  4.381819  6.428453  7.440704   \n",
              "GSM2899180  astrocytoma  6.297498  5.007448  4.823922  5.316725  9.909314   \n",
              "GSM2899181  astrocytoma  6.291672  4.773659  4.287835  6.463647  8.093616   \n",
              "GSM2899182  astrocytoma  6.210005  4.957037  4.293757  5.691838  8.014946   \n",
              "...                 ...       ...       ...       ...       ...       ...   \n",
              "GSM97937    astrocytoma  5.727782   5.22689  4.589047  9.101085  7.376488   \n",
              "GSM97941    astrocytoma  8.087553  7.104717  6.085525  9.356834  10.26097   \n",
              "GSM97943    astrocytoma  5.479639  5.688575  5.088512  8.060022  7.734439   \n",
              "GSM97958    astrocytoma  7.534782  5.636552  5.216066  9.459388  9.099496   \n",
              "GSM97960    astrocytoma  7.597819  6.843212  6.551502  8.257159  10.13417   \n",
              "\n",
              "              DNAJA4     OLFM3     OLFM3     MYT1L  ...     GABRA1     HTR2A  \\\n",
              "GSM2899178  4.374775  5.278415  4.861743  5.275747  ...   6.650733  5.462042   \n",
              "GSM2899179  4.981632   5.40494  4.898408  5.028062  ...   7.364148  5.552365   \n",
              "GSM2899180  6.494634  6.993744  6.082125  7.875789  ...  10.607552  5.386285   \n",
              "GSM2899181   5.39355  5.395979  5.093254  5.345478  ...   7.070293  5.570899   \n",
              "GSM2899182  4.540043  5.677879  4.955618  5.603473  ...   7.239413  5.612098   \n",
              "...              ...       ...       ...       ...  ...        ...       ...   \n",
              "GSM97937    4.444256  5.773927  4.636598  4.955285  ...   7.595932  5.953447   \n",
              "GSM97941    6.199475  8.269022  7.366215  8.355024  ...  10.944085  8.790729   \n",
              "GSM97943    5.492292  5.846326  5.004469  5.376703  ...   7.751829  6.257384   \n",
              "GSM97958    6.465141   7.21763  6.493641  6.651718  ...   9.215982  7.481777   \n",
              "GSM97960    6.376641  8.856394   7.79226  8.590218  ...  11.031603  9.016112   \n",
              "\n",
              "               RAB3C        NaN     KCNQ5      NEFH     PHF24  PPP1R16B  \\\n",
              "GSM2899178   6.36318  10.889148  7.939272  5.776776  6.386183  6.653625   \n",
              "GSM2899179  5.871922  10.126393  6.156109  6.425945  6.270442  6.320287   \n",
              "GSM2899180  7.556438   9.800518  5.708078  8.224833  6.679088  9.845503   \n",
              "GSM2899181  6.426237  10.855844  7.688511  5.629402  6.358968   7.09821   \n",
              "GSM2899182  6.841084  10.910485  7.200371  6.066338  6.672696  7.542397   \n",
              "...              ...        ...       ...       ...       ...       ...   \n",
              "GSM97937    5.302745  10.604148  5.272769  5.732561   6.57272  8.136996   \n",
              "GSM97941    8.390767   8.618503  9.142403  9.632305  8.371467  9.654372   \n",
              "GSM97943    6.507641   9.859424  6.259931  8.720351  6.508041  9.324401   \n",
              "GSM97958     6.63868  10.408253  7.346652  7.757082  7.477949  8.206712   \n",
              "GSM97960    8.563594  10.500286  9.608939  9.177026  8.359958  9.618128   \n",
              "\n",
              "             SHISAL1     FERMT1  \n",
              "GSM2899178  7.924135  10.602226  \n",
              "GSM2899179  6.463994   7.222421  \n",
              "GSM2899180  7.299382   8.218685  \n",
              "GSM2899181  6.218254  10.501273  \n",
              "GSM2899182  6.993956  10.840846  \n",
              "...              ...        ...  \n",
              "GSM97937    7.353564  10.321293  \n",
              "GSM97941    8.858492   7.332834  \n",
              "GSM97943    7.245471   7.333974  \n",
              "GSM97958    7.798445   7.911484  \n",
              "GSM97960    9.141854  10.658927  \n",
              "\n",
              "[218 rows x 478 columns]"
            ]
          },
          "execution_count": 5,
          "metadata": {},
          "output_type": "execute_result"
        }
      ],
      "source": [
        "# read in the expression values for astrocytoma\n",
        "df = pd.read_csv('interesting_genes_expressions_for_astrocytoma_vs_normal.csv')\n",
        "df = df.drop(columns={'Unnamed: 0'})\n",
        "df_transposed = df.T\n",
        "df_transposed = df_transposed.rename(columns=df_transposed.iloc[218])\n",
        "df_transposed.drop(index=df_transposed.index[218], \n",
        "        axis=0, \n",
        "        inplace=True)\n",
        "frames = [metadata, df_transposed]\n",
        "df = pd.concat(frames, axis=1)\n",
        "df"
      ]
    },
    {
      "cell_type": "code",
      "execution_count": null,
      "metadata": {
        "colab": {
          "base_uri": "https://localhost:8080/"
        },
        "id": "VRg2VC86wxt_",
        "outputId": "0388fa5b-03b6-49bf-cfcc-4326486993ec"
      },
      "outputs": [
        {
          "data": {
            "text/plain": [
              "tumor       0\n",
              "CREG2       0\n",
              "RXFP1       0\n",
              "ARPP21      0\n",
              "SLC39A12    0\n",
              "           ..\n",
              "NEFH        0\n",
              "PHF24       0\n",
              "PPP1R16B    0\n",
              "SHISAL1     0\n",
              "FERMT1      0\n",
              "Length: 478, dtype: int64"
            ]
          },
          "execution_count": 6,
          "metadata": {},
          "output_type": "execute_result"
        }
      ],
      "source": [
        "df.isnull().sum()"
      ]
    },
    {
      "cell_type": "code",
      "execution_count": null,
      "metadata": {
        "colab": {
          "base_uri": "https://localhost:8080/"
        },
        "id": "hOBxeJK7w0RA",
        "outputId": "03cc81e2-84ba-45e4-ecfa-ff1248a419a2"
      },
      "outputs": [
        {
          "name": "stdout",
          "output_type": "stream",
          "text": [
            "Missing values:  0\n"
          ]
        }
      ],
      "source": [
        "print('Missing values: ',sum(df.isnull().sum()))"
      ]
    },
    {
      "cell_type": "code",
      "execution_count": null,
      "metadata": {
        "id": "0It7omXfw4yb"
      },
      "outputs": [],
      "source": [
        "# Encoding categorical values\n",
        "\n",
        "df['tumor'] = df['tumor'].replace({'normal':0,'astrocytoma':1,'Other':-1}).astype(np.uint8)"
      ]
    },
    {
      "cell_type": "code",
      "execution_count": null,
      "metadata": {
        "colab": {
          "base_uri": "https://localhost:8080/"
        },
        "id": "u8N1-dzsxLSL",
        "outputId": "f1b01521-12d4-4fd1-b709-3d0163d0fe19"
      },
      "outputs": [
        {
          "name": "stdout",
          "output_type": "stream",
          "text": [
            "Inverse of Null Accuracy:  0.23394495412844038\n",
            "Null Accuracy:  0.7660550458715596\n"
          ]
        }
      ],
      "source": [
        "# Inverse of Null Accuracy\n",
        "print('Inverse of Null Accuracy: ',51/(51+167))\n",
        "print('Null Accuracy: ',167/(167+51))"
      ]
    },
    {
      "cell_type": "code",
      "execution_count": null,
      "metadata": {
        "colab": {
          "base_uri": "https://localhost:8080/",
          "height": 483
        },
        "id": "SkbQjAnsx-GJ",
        "outputId": "d25cc5f2-a167-477b-a6d7-de3ccfa64651"
      },
      "outputs": [
        {
          "data": {
            "text/html": [
              "\n",
              "  <div id=\"df-e09f162d-fe2a-4048-8b7d-070c85fd98c7\">\n",
              "    <div class=\"colab-df-container\">\n",
              "      <div>\n",
              "<style scoped>\n",
              "    .dataframe tbody tr th:only-of-type {\n",
              "        vertical-align: middle;\n",
              "    }\n",
              "\n",
              "    .dataframe tbody tr th {\n",
              "        vertical-align: top;\n",
              "    }\n",
              "\n",
              "    .dataframe thead th {\n",
              "        text-align: right;\n",
              "    }\n",
              "</style>\n",
              "<table border=\"1\" class=\"dataframe\">\n",
              "  <thead>\n",
              "    <tr style=\"text-align: right;\">\n",
              "      <th></th>\n",
              "      <th>index</th>\n",
              "      <th>tumor</th>\n",
              "      <th>CREG2</th>\n",
              "      <th>RXFP1</th>\n",
              "      <th>ARPP21</th>\n",
              "      <th>SLC39A12</th>\n",
              "      <th>RBFOX1</th>\n",
              "      <th>DNAJA4</th>\n",
              "      <th>OLFM3</th>\n",
              "      <th>OLFM3</th>\n",
              "      <th>...</th>\n",
              "      <th>GABRA1</th>\n",
              "      <th>HTR2A</th>\n",
              "      <th>RAB3C</th>\n",
              "      <th>NaN</th>\n",
              "      <th>KCNQ5</th>\n",
              "      <th>NEFH</th>\n",
              "      <th>PHF24</th>\n",
              "      <th>PPP1R16B</th>\n",
              "      <th>SHISAL1</th>\n",
              "      <th>FERMT1</th>\n",
              "    </tr>\n",
              "  </thead>\n",
              "  <tbody>\n",
              "    <tr>\n",
              "      <th>0</th>\n",
              "      <td>GSM2899178</td>\n",
              "      <td>1</td>\n",
              "      <td>6.333002</td>\n",
              "      <td>4.808679</td>\n",
              "      <td>4.18259</td>\n",
              "      <td>5.234557</td>\n",
              "      <td>7.883327</td>\n",
              "      <td>4.374775</td>\n",
              "      <td>5.278415</td>\n",
              "      <td>4.861743</td>\n",
              "      <td>...</td>\n",
              "      <td>6.650733</td>\n",
              "      <td>5.462042</td>\n",
              "      <td>6.36318</td>\n",
              "      <td>10.889148</td>\n",
              "      <td>7.939272</td>\n",
              "      <td>5.776776</td>\n",
              "      <td>6.386183</td>\n",
              "      <td>6.653625</td>\n",
              "      <td>7.924135</td>\n",
              "      <td>10.602226</td>\n",
              "    </tr>\n",
              "    <tr>\n",
              "      <th>1</th>\n",
              "      <td>GSM2899179</td>\n",
              "      <td>1</td>\n",
              "      <td>5.940178</td>\n",
              "      <td>5.041461</td>\n",
              "      <td>4.381819</td>\n",
              "      <td>6.428453</td>\n",
              "      <td>7.440704</td>\n",
              "      <td>4.981632</td>\n",
              "      <td>5.40494</td>\n",
              "      <td>4.898408</td>\n",
              "      <td>...</td>\n",
              "      <td>7.364148</td>\n",
              "      <td>5.552365</td>\n",
              "      <td>5.871922</td>\n",
              "      <td>10.126393</td>\n",
              "      <td>6.156109</td>\n",
              "      <td>6.425945</td>\n",
              "      <td>6.270442</td>\n",
              "      <td>6.320287</td>\n",
              "      <td>6.463994</td>\n",
              "      <td>7.222421</td>\n",
              "    </tr>\n",
              "    <tr>\n",
              "      <th>2</th>\n",
              "      <td>GSM2899180</td>\n",
              "      <td>1</td>\n",
              "      <td>6.297498</td>\n",
              "      <td>5.007448</td>\n",
              "      <td>4.823922</td>\n",
              "      <td>5.316725</td>\n",
              "      <td>9.909314</td>\n",
              "      <td>6.494634</td>\n",
              "      <td>6.993744</td>\n",
              "      <td>6.082125</td>\n",
              "      <td>...</td>\n",
              "      <td>10.607552</td>\n",
              "      <td>5.386285</td>\n",
              "      <td>7.556438</td>\n",
              "      <td>9.800518</td>\n",
              "      <td>5.708078</td>\n",
              "      <td>8.224833</td>\n",
              "      <td>6.679088</td>\n",
              "      <td>9.845503</td>\n",
              "      <td>7.299382</td>\n",
              "      <td>8.218685</td>\n",
              "    </tr>\n",
              "    <tr>\n",
              "      <th>3</th>\n",
              "      <td>GSM2899181</td>\n",
              "      <td>1</td>\n",
              "      <td>6.291672</td>\n",
              "      <td>4.773659</td>\n",
              "      <td>4.287835</td>\n",
              "      <td>6.463647</td>\n",
              "      <td>8.093616</td>\n",
              "      <td>5.39355</td>\n",
              "      <td>5.395979</td>\n",
              "      <td>5.093254</td>\n",
              "      <td>...</td>\n",
              "      <td>7.070293</td>\n",
              "      <td>5.570899</td>\n",
              "      <td>6.426237</td>\n",
              "      <td>10.855844</td>\n",
              "      <td>7.688511</td>\n",
              "      <td>5.629402</td>\n",
              "      <td>6.358968</td>\n",
              "      <td>7.09821</td>\n",
              "      <td>6.218254</td>\n",
              "      <td>10.501273</td>\n",
              "    </tr>\n",
              "    <tr>\n",
              "      <th>4</th>\n",
              "      <td>GSM2899182</td>\n",
              "      <td>1</td>\n",
              "      <td>6.210005</td>\n",
              "      <td>4.957037</td>\n",
              "      <td>4.293757</td>\n",
              "      <td>5.691838</td>\n",
              "      <td>8.014946</td>\n",
              "      <td>4.540043</td>\n",
              "      <td>5.677879</td>\n",
              "      <td>4.955618</td>\n",
              "      <td>...</td>\n",
              "      <td>7.239413</td>\n",
              "      <td>5.612098</td>\n",
              "      <td>6.841084</td>\n",
              "      <td>10.910485</td>\n",
              "      <td>7.200371</td>\n",
              "      <td>6.066338</td>\n",
              "      <td>6.672696</td>\n",
              "      <td>7.542397</td>\n",
              "      <td>6.993956</td>\n",
              "      <td>10.840846</td>\n",
              "    </tr>\n",
              "    <tr>\n",
              "      <th>...</th>\n",
              "      <td>...</td>\n",
              "      <td>...</td>\n",
              "      <td>...</td>\n",
              "      <td>...</td>\n",
              "      <td>...</td>\n",
              "      <td>...</td>\n",
              "      <td>...</td>\n",
              "      <td>...</td>\n",
              "      <td>...</td>\n",
              "      <td>...</td>\n",
              "      <td>...</td>\n",
              "      <td>...</td>\n",
              "      <td>...</td>\n",
              "      <td>...</td>\n",
              "      <td>...</td>\n",
              "      <td>...</td>\n",
              "      <td>...</td>\n",
              "      <td>...</td>\n",
              "      <td>...</td>\n",
              "      <td>...</td>\n",
              "      <td>...</td>\n",
              "    </tr>\n",
              "    <tr>\n",
              "      <th>213</th>\n",
              "      <td>GSM97937</td>\n",
              "      <td>1</td>\n",
              "      <td>5.727782</td>\n",
              "      <td>5.22689</td>\n",
              "      <td>4.589047</td>\n",
              "      <td>9.101085</td>\n",
              "      <td>7.376488</td>\n",
              "      <td>4.444256</td>\n",
              "      <td>5.773927</td>\n",
              "      <td>4.636598</td>\n",
              "      <td>...</td>\n",
              "      <td>7.595932</td>\n",
              "      <td>5.953447</td>\n",
              "      <td>5.302745</td>\n",
              "      <td>10.604148</td>\n",
              "      <td>5.272769</td>\n",
              "      <td>5.732561</td>\n",
              "      <td>6.57272</td>\n",
              "      <td>8.136996</td>\n",
              "      <td>7.353564</td>\n",
              "      <td>10.321293</td>\n",
              "    </tr>\n",
              "    <tr>\n",
              "      <th>214</th>\n",
              "      <td>GSM97941</td>\n",
              "      <td>1</td>\n",
              "      <td>8.087553</td>\n",
              "      <td>7.104717</td>\n",
              "      <td>6.085525</td>\n",
              "      <td>9.356834</td>\n",
              "      <td>10.26097</td>\n",
              "      <td>6.199475</td>\n",
              "      <td>8.269022</td>\n",
              "      <td>7.366215</td>\n",
              "      <td>...</td>\n",
              "      <td>10.944085</td>\n",
              "      <td>8.790729</td>\n",
              "      <td>8.390767</td>\n",
              "      <td>8.618503</td>\n",
              "      <td>9.142403</td>\n",
              "      <td>9.632305</td>\n",
              "      <td>8.371467</td>\n",
              "      <td>9.654372</td>\n",
              "      <td>8.858492</td>\n",
              "      <td>7.332834</td>\n",
              "    </tr>\n",
              "    <tr>\n",
              "      <th>215</th>\n",
              "      <td>GSM97943</td>\n",
              "      <td>1</td>\n",
              "      <td>5.479639</td>\n",
              "      <td>5.688575</td>\n",
              "      <td>5.088512</td>\n",
              "      <td>8.060022</td>\n",
              "      <td>7.734439</td>\n",
              "      <td>5.492292</td>\n",
              "      <td>5.846326</td>\n",
              "      <td>5.004469</td>\n",
              "      <td>...</td>\n",
              "      <td>7.751829</td>\n",
              "      <td>6.257384</td>\n",
              "      <td>6.507641</td>\n",
              "      <td>9.859424</td>\n",
              "      <td>6.259931</td>\n",
              "      <td>8.720351</td>\n",
              "      <td>6.508041</td>\n",
              "      <td>9.324401</td>\n",
              "      <td>7.245471</td>\n",
              "      <td>7.333974</td>\n",
              "    </tr>\n",
              "    <tr>\n",
              "      <th>216</th>\n",
              "      <td>GSM97958</td>\n",
              "      <td>1</td>\n",
              "      <td>7.534782</td>\n",
              "      <td>5.636552</td>\n",
              "      <td>5.216066</td>\n",
              "      <td>9.459388</td>\n",
              "      <td>9.099496</td>\n",
              "      <td>6.465141</td>\n",
              "      <td>7.21763</td>\n",
              "      <td>6.493641</td>\n",
              "      <td>...</td>\n",
              "      <td>9.215982</td>\n",
              "      <td>7.481777</td>\n",
              "      <td>6.63868</td>\n",
              "      <td>10.408253</td>\n",
              "      <td>7.346652</td>\n",
              "      <td>7.757082</td>\n",
              "      <td>7.477949</td>\n",
              "      <td>8.206712</td>\n",
              "      <td>7.798445</td>\n",
              "      <td>7.911484</td>\n",
              "    </tr>\n",
              "    <tr>\n",
              "      <th>217</th>\n",
              "      <td>GSM97960</td>\n",
              "      <td>1</td>\n",
              "      <td>7.597819</td>\n",
              "      <td>6.843212</td>\n",
              "      <td>6.551502</td>\n",
              "      <td>8.257159</td>\n",
              "      <td>10.13417</td>\n",
              "      <td>6.376641</td>\n",
              "      <td>8.856394</td>\n",
              "      <td>7.79226</td>\n",
              "      <td>...</td>\n",
              "      <td>11.031603</td>\n",
              "      <td>9.016112</td>\n",
              "      <td>8.563594</td>\n",
              "      <td>10.500286</td>\n",
              "      <td>9.608939</td>\n",
              "      <td>9.177026</td>\n",
              "      <td>8.359958</td>\n",
              "      <td>9.618128</td>\n",
              "      <td>9.141854</td>\n",
              "      <td>10.658927</td>\n",
              "    </tr>\n",
              "  </tbody>\n",
              "</table>\n",
              "<p>218 rows × 479 columns</p>\n",
              "</div>\n",
              "      <button class=\"colab-df-convert\" onclick=\"convertToInteractive('df-e09f162d-fe2a-4048-8b7d-070c85fd98c7')\"\n",
              "              title=\"Convert this dataframe to an interactive table.\"\n",
              "              style=\"display:none;\">\n",
              "        \n",
              "  <svg xmlns=\"http://www.w3.org/2000/svg\" height=\"24px\"viewBox=\"0 0 24 24\"\n",
              "       width=\"24px\">\n",
              "    <path d=\"M0 0h24v24H0V0z\" fill=\"none\"/>\n",
              "    <path d=\"M18.56 5.44l.94 2.06.94-2.06 2.06-.94-2.06-.94-.94-2.06-.94 2.06-2.06.94zm-11 1L8.5 8.5l.94-2.06 2.06-.94-2.06-.94L8.5 2.5l-.94 2.06-2.06.94zm10 10l.94 2.06.94-2.06 2.06-.94-2.06-.94-.94-2.06-.94 2.06-2.06.94z\"/><path d=\"M17.41 7.96l-1.37-1.37c-.4-.4-.92-.59-1.43-.59-.52 0-1.04.2-1.43.59L10.3 9.45l-7.72 7.72c-.78.78-.78 2.05 0 2.83L4 21.41c.39.39.9.59 1.41.59.51 0 1.02-.2 1.41-.59l7.78-7.78 2.81-2.81c.8-.78.8-2.07 0-2.86zM5.41 20L4 18.59l7.72-7.72 1.47 1.35L5.41 20z\"/>\n",
              "  </svg>\n",
              "      </button>\n",
              "      \n",
              "  <style>\n",
              "    .colab-df-container {\n",
              "      display:flex;\n",
              "      flex-wrap:wrap;\n",
              "      gap: 12px;\n",
              "    }\n",
              "\n",
              "    .colab-df-convert {\n",
              "      background-color: #E8F0FE;\n",
              "      border: none;\n",
              "      border-radius: 50%;\n",
              "      cursor: pointer;\n",
              "      display: none;\n",
              "      fill: #1967D2;\n",
              "      height: 32px;\n",
              "      padding: 0 0 0 0;\n",
              "      width: 32px;\n",
              "    }\n",
              "\n",
              "    .colab-df-convert:hover {\n",
              "      background-color: #E2EBFA;\n",
              "      box-shadow: 0px 1px 2px rgba(60, 64, 67, 0.3), 0px 1px 3px 1px rgba(60, 64, 67, 0.15);\n",
              "      fill: #174EA6;\n",
              "    }\n",
              "\n",
              "    [theme=dark] .colab-df-convert {\n",
              "      background-color: #3B4455;\n",
              "      fill: #D2E3FC;\n",
              "    }\n",
              "\n",
              "    [theme=dark] .colab-df-convert:hover {\n",
              "      background-color: #434B5C;\n",
              "      box-shadow: 0px 1px 3px 1px rgba(0, 0, 0, 0.15);\n",
              "      filter: drop-shadow(0px 1px 2px rgba(0, 0, 0, 0.3));\n",
              "      fill: #FFFFFF;\n",
              "    }\n",
              "  </style>\n",
              "\n",
              "      <script>\n",
              "        const buttonEl =\n",
              "          document.querySelector('#df-e09f162d-fe2a-4048-8b7d-070c85fd98c7 button.colab-df-convert');\n",
              "        buttonEl.style.display =\n",
              "          google.colab.kernel.accessAllowed ? 'block' : 'none';\n",
              "\n",
              "        async function convertToInteractive(key) {\n",
              "          const element = document.querySelector('#df-e09f162d-fe2a-4048-8b7d-070c85fd98c7');\n",
              "          const dataTable =\n",
              "            await google.colab.kernel.invokeFunction('convertToInteractive',\n",
              "                                                     [key], {});\n",
              "          if (!dataTable) return;\n",
              "\n",
              "          const docLinkHtml = 'Like what you see? Visit the ' +\n",
              "            '<a target=\"_blank\" href=https://colab.research.google.com/notebooks/data_table.ipynb>data table notebook</a>'\n",
              "            + ' to learn more about interactive tables.';\n",
              "          element.innerHTML = '';\n",
              "          dataTable['output_type'] = 'display_data';\n",
              "          await google.colab.output.renderOutput(dataTable, element);\n",
              "          const docLink = document.createElement('div');\n",
              "          docLink.innerHTML = docLinkHtml;\n",
              "          element.appendChild(docLink);\n",
              "        }\n",
              "      </script>\n",
              "    </div>\n",
              "  </div>\n",
              "  "
            ],
            "text/plain": [
              "          index  tumor     CREG2     RXFP1    ARPP21  SLC39A12    RBFOX1  \\\n",
              "0    GSM2899178      1  6.333002  4.808679   4.18259  5.234557  7.883327   \n",
              "1    GSM2899179      1  5.940178  5.041461  4.381819  6.428453  7.440704   \n",
              "2    GSM2899180      1  6.297498  5.007448  4.823922  5.316725  9.909314   \n",
              "3    GSM2899181      1  6.291672  4.773659  4.287835  6.463647  8.093616   \n",
              "4    GSM2899182      1  6.210005  4.957037  4.293757  5.691838  8.014946   \n",
              "..          ...    ...       ...       ...       ...       ...       ...   \n",
              "213    GSM97937      1  5.727782   5.22689  4.589047  9.101085  7.376488   \n",
              "214    GSM97941      1  8.087553  7.104717  6.085525  9.356834  10.26097   \n",
              "215    GSM97943      1  5.479639  5.688575  5.088512  8.060022  7.734439   \n",
              "216    GSM97958      1  7.534782  5.636552  5.216066  9.459388  9.099496   \n",
              "217    GSM97960      1  7.597819  6.843212  6.551502  8.257159  10.13417   \n",
              "\n",
              "       DNAJA4     OLFM3     OLFM3  ...     GABRA1     HTR2A     RAB3C  \\\n",
              "0    4.374775  5.278415  4.861743  ...   6.650733  5.462042   6.36318   \n",
              "1    4.981632   5.40494  4.898408  ...   7.364148  5.552365  5.871922   \n",
              "2    6.494634  6.993744  6.082125  ...  10.607552  5.386285  7.556438   \n",
              "3     5.39355  5.395979  5.093254  ...   7.070293  5.570899  6.426237   \n",
              "4    4.540043  5.677879  4.955618  ...   7.239413  5.612098  6.841084   \n",
              "..        ...       ...       ...  ...        ...       ...       ...   \n",
              "213  4.444256  5.773927  4.636598  ...   7.595932  5.953447  5.302745   \n",
              "214  6.199475  8.269022  7.366215  ...  10.944085  8.790729  8.390767   \n",
              "215  5.492292  5.846326  5.004469  ...   7.751829  6.257384  6.507641   \n",
              "216  6.465141   7.21763  6.493641  ...   9.215982  7.481777   6.63868   \n",
              "217  6.376641  8.856394   7.79226  ...  11.031603  9.016112  8.563594   \n",
              "\n",
              "           NaN     KCNQ5      NEFH     PHF24  PPP1R16B   SHISAL1     FERMT1  \n",
              "0    10.889148  7.939272  5.776776  6.386183  6.653625  7.924135  10.602226  \n",
              "1    10.126393  6.156109  6.425945  6.270442  6.320287  6.463994   7.222421  \n",
              "2     9.800518  5.708078  8.224833  6.679088  9.845503  7.299382   8.218685  \n",
              "3    10.855844  7.688511  5.629402  6.358968   7.09821  6.218254  10.501273  \n",
              "4    10.910485  7.200371  6.066338  6.672696  7.542397  6.993956  10.840846  \n",
              "..         ...       ...       ...       ...       ...       ...        ...  \n",
              "213  10.604148  5.272769  5.732561   6.57272  8.136996  7.353564  10.321293  \n",
              "214   8.618503  9.142403  9.632305  8.371467  9.654372  8.858492   7.332834  \n",
              "215   9.859424  6.259931  8.720351  6.508041  9.324401  7.245471   7.333974  \n",
              "216  10.408253  7.346652  7.757082  7.477949  8.206712  7.798445   7.911484  \n",
              "217  10.500286  9.608939  9.177026  8.359958  9.618128  9.141854  10.658927  \n",
              "\n",
              "[218 rows x 479 columns]"
            ]
          },
          "execution_count": 10,
          "metadata": {},
          "output_type": "execute_result"
        }
      ],
      "source": [
        "df.reset_index(inplace=True)\n",
        "df"
      ]
    },
    {
      "cell_type": "code",
      "execution_count": null,
      "metadata": {
        "id": "J6zpHU7Zxv_O"
      },
      "outputs": [],
      "source": [
        "# get the x values and y values\n",
        "X = df.drop(['tumor', 'index'], axis=1)\n",
        "y = df['tumor']\n",
        "\n",
        "from sklearn.model_selection import train_test_split\n",
        "\n",
        "# split the data with 70-30 train and test split\n",
        "X_train, X_test, y_train, y_test = train_test_split(X, y, train_size=0.3, random_state=42)"
      ]
    },
    {
      "cell_type": "code",
      "execution_count": null,
      "metadata": {
        "id": "OHMHFaz-yL45"
      },
      "outputs": [],
      "source": [
        "# import more libraries for neural networks\n",
        "from sklearn.pipeline import Pipeline\n",
        "from sklearn.preprocessing import StandardScaler\n",
        "from sklearn.ensemble import RandomForestClassifier\n",
        "from sklearn.svm import SVC\n",
        "from sklearn.linear_model import LogisticRegression\n",
        "from sklearn.neighbors import KNeighborsClassifier\n",
        "from sklearn.tree import DecisionTreeClassifier\n",
        "from sklearn.neural_network import MLPClassifier\n",
        "\n",
        "# Models\n",
        "\n",
        "# Scale our data in pipeline, then split\n",
        "\n",
        "rf_pipeline = Pipeline(steps = [('scale',StandardScaler()),('RF',RandomForestClassifier(random_state=42))])\n",
        "svm_pipeline = Pipeline(steps = [('scale',StandardScaler()),('SVM',SVC(random_state=42))])\n",
        "logreg_pipeline = Pipeline(steps = [('scale',StandardScaler()),('LR',LogisticRegression(random_state=42))])\n",
        "knn_pipeline = Pipeline(steps = [('scale',StandardScaler()),('KNN',KNeighborsClassifier())])\n",
        "dt_pipeline = Pipeline(steps = [('scale',StandardScaler()),('DT',DecisionTreeClassifier())])\n",
        "nn_pipeline = Pipeline(steps = [('scale',StandardScaler()),('NN',MLPClassifier())])"
      ]
    },
    {
      "cell_type": "code",
      "execution_count": null,
      "metadata": {
        "id": "egCbD5nWzKLb"
      },
      "outputs": [],
      "source": [
        "# do cross validation\n",
        "import warnings\n",
        "warnings.filterwarnings(\"ignore\")\n",
        "\n",
        "from sklearn.model_selection import cross_val_score\n",
        "\n",
        "rf_cv = cross_val_score(rf_pipeline,X_train,y_train,cv=10,scoring='f1')\n",
        "svm_cv = cross_val_score(svm_pipeline,X_train,y_train,cv=10,scoring='f1')\n",
        "logreg_cv = cross_val_score(logreg_pipeline,X_train,y_train,cv=10,scoring='f1')\n",
        "knn_cv = cross_val_score(knn_pipeline,X_train,y_train,cv=10,scoring='f1')\n",
        "dt_cv = cross_val_score(dt_pipeline,X_train,y_train,cv=10,scoring='f1')\n",
        "nn_cv = cross_val_score(nn_pipeline,X_train,y_train,cv=10,scoring='f1')"
      ]
    },
    {
      "cell_type": "code",
      "execution_count": null,
      "metadata": {
        "colab": {
          "base_uri": "https://localhost:8080/"
        },
        "id": "LAloSvlKzZ4_",
        "outputId": "77ae29d6-a5d9-4f55-94cb-124be2badbc1"
      },
      "outputs": [
        {
          "name": "stdout",
          "output_type": "stream",
          "text": [
            "Mean f1 scores:\n",
            "Random Forest mean : 0.9888888888888889\n",
            "SVM mean : 1.0\n",
            "Logistic Regression mean : 1.0\n",
            "KNN mean : 1.0\n",
            "Decision Tree mean : 0.9636363636363636\n",
            "Neural Network mean : 0.9777777777777779\n"
          ]
        }
      ],
      "source": [
        "# get the mean F1 scores\n",
        "import warnings\n",
        "warnings.filterwarnings(\"ignore\")\n",
        "\n",
        "print('Mean f1 scores:')\n",
        "print('Random Forest mean :',cross_val_score(rf_pipeline,X_train,y_train,cv=10,scoring='f1').mean())\n",
        "print('SVM mean :',cross_val_score(svm_pipeline,X_train,y_train,cv=10,scoring='f1').mean())\n",
        "print('Logistic Regression mean :',cross_val_score(logreg_pipeline,X_train,y_train,cv=10,scoring='f1').mean())\n",
        "print('KNN mean :',cross_val_score(knn_pipeline,X_train,y_train,cv=10,scoring='f1').mean())\n",
        "print('Decision Tree mean :',cross_val_score(dt_pipeline,X_train,y_train,cv=10,scoring='f1').mean())\n",
        "print('Neural Network mean :',cross_val_score(nn_pipeline,X_train,y_train,cv=10,scoring='f1').mean())"
      ]
    },
    {
      "cell_type": "code",
      "execution_count": null,
      "metadata": {
        "id": "Pz0JwgEAzspv"
      },
      "outputs": [],
      "source": [
        "# fit all models to the data \n",
        "rf_pipeline.fit(X_train,y_train)\n",
        "svm_pipeline.fit(X_train,y_train)\n",
        "logreg_pipeline.fit(X_train,y_train)\n",
        "knn_pipeline.fit(X_train, y_train)\n",
        "dt_pipeline.fit(X_train, y_train)\n",
        "nn_pipeline.fit(X_train, y_train)\n",
        "\n",
        "rf_pred = rf_pipeline.predict(X_test)\n",
        "svm_pred = svm_pipeline.predict(X_test)\n",
        "logreg_pred = logreg_pipeline.predict(X_test)\n",
        "knn_pred = knn_pipeline.predict(X_test)\n",
        "dt_pred = knn_pipeline.predict(X_test)\n",
        "nn_pred = knn_pipeline.predict(X_test)\n",
        "\n",
        "from sklearn.metrics import confusion_matrix\n",
        "\n",
        "# get all confusion matrices\n",
        "rf_cm  = confusion_matrix(y_test,rf_pred )\n",
        "svm_cm = confusion_matrix(y_test,svm_pred)\n",
        "logreg_cm  = confusion_matrix(y_test,logreg_pred )\n",
        "knn_cm = confusion_matrix(y_test, knn_pred)\n",
        "dt_cm = confusion_matrix(y_test, dt_pred)\n",
        "nn_cm = confusion_matrix(y_test, nn_pred)\n",
        "\n",
        "from sklearn.metrics import f1_score\n",
        "\n",
        "rf_f1  = f1_score(y_test,rf_pred)\n",
        "svm_f1 = f1_score(y_test,svm_pred)\n",
        "logreg_f1  = f1_score(y_test,logreg_pred)\n",
        "knn_f1 = f1_score(y_test, knn_pred)\n",
        "dt_f1 = f1_score(y_test, dt_pred)\n",
        "nn_f1 = f1_score(y_test, nn_pred)"
      ]
    },
    {
      "cell_type": "code",
      "execution_count": null,
      "metadata": {
        "colab": {
          "base_uri": "https://localhost:8080/"
        },
        "id": "cd6q_8Fx0FL8",
        "outputId": "84667d36-1c92-41af-9d8f-2ddb041adc9c"
      },
      "outputs": [
        {
          "name": "stdout",
          "output_type": "stream",
          "text": [
            "Mean f1 scores:\n",
            "RF mean : 0.9707112970711297\n",
            "SVM mean : 0.975\n",
            "LR mean : 0.975\n",
            "KNN mean : 0.9707112970711297\n",
            "DT mean : 0.9707112970711297\n",
            "NN mean : 0.9707112970711297\n"
          ]
        }
      ],
      "source": [
        "# get the new F1 scores\n",
        "print('Mean f1 scores:')\n",
        "\n",
        "print('RF mean :',rf_f1)\n",
        "print('SVM mean :',svm_f1)\n",
        "print('LR mean :',logreg_f1)\n",
        "print('KNN mean :', knn_f1)\n",
        "print('DT mean :', dt_f1)\n",
        "print('NN mean :', nn_f1)"
      ]
    },
    {
      "cell_type": "code",
      "execution_count": null,
      "metadata": {
        "colab": {
          "base_uri": "https://localhost:8080/"
        },
        "id": "5Pzz-TBc0HfH",
        "outputId": "06ebbfe3-e921-4eb0-fea8-f006365f5258"
      },
      "outputs": [
        {
          "name": "stdout",
          "output_type": "stream",
          "text": [
            "Random Forest. \n",
            "              precision    recall  f1-score   support\n",
            "\n",
            "           0       0.88      0.91      0.90        33\n",
            "           1       0.97      0.97      0.97       120\n",
            "\n",
            "    accuracy                           0.95       153\n",
            "   macro avg       0.93      0.94      0.93       153\n",
            "weighted avg       0.95      0.95      0.95       153\n",
            "\n",
            "Accuracy Score:  0.954248366013072\n",
            "SVM. \n",
            "              precision    recall  f1-score   support\n",
            "\n",
            "           0       0.91      0.91      0.91        33\n",
            "           1       0.97      0.97      0.97       120\n",
            "\n",
            "    accuracy                           0.96       153\n",
            "   macro avg       0.94      0.94      0.94       153\n",
            "weighted avg       0.96      0.96      0.96       153\n",
            "\n",
            "Accuracy Score:  0.9607843137254902\n",
            "Logistic Regression. \n",
            "              precision    recall  f1-score   support\n",
            "\n",
            "           0       0.91      0.91      0.91        33\n",
            "           1       0.97      0.97      0.97       120\n",
            "\n",
            "    accuracy                           0.96       153\n",
            "   macro avg       0.94      0.94      0.94       153\n",
            "weighted avg       0.96      0.96      0.96       153\n",
            "\n",
            "Accuracy Score:  0.9607843137254902\n",
            "KNN. \n",
            "              precision    recall  f1-score   support\n",
            "\n",
            "           0       0.88      0.91      0.90        33\n",
            "           1       0.97      0.97      0.97       120\n",
            "\n",
            "    accuracy                           0.95       153\n",
            "   macro avg       0.93      0.94      0.93       153\n",
            "weighted avg       0.95      0.95      0.95       153\n",
            "\n",
            "Accuracy Score:  0.954248366013072\n"
          ]
        }
      ],
      "source": [
        "# get all the performance data for each \n",
        "from sklearn.metrics import plot_confusion_matrix, classification_report, accuracy_score\n",
        "\n",
        "print(\"Random Forest. \")\n",
        "print(classification_report(y_test,rf_pred))\n",
        "\n",
        "print('Accuracy Score: ', accuracy_score(y_test,rf_pred))\n",
        "\n",
        "print(\"SVM. \")\n",
        "print(classification_report(y_test,svm_pred))\n",
        "\n",
        "print('Accuracy Score: ', accuracy_score(y_test,svm_pred))\n",
        "\n",
        "print(\"Logistic Regression. \")\n",
        "print(classification_report(y_test,logreg_pred))\n",
        "\n",
        "print('Accuracy Score: ', accuracy_score(y_test,logreg_pred))\n",
        "\n",
        "print(\"KNN. \")\n",
        "print(classification_report(y_test,knn_pred))\n",
        "\n",
        "print('Accuracy Score: ', accuracy_score(y_test,knn_pred))"
      ]
    },
    {
      "cell_type": "code",
      "execution_count": null,
      "metadata": {
        "id": "r5UiDXoZ0h7f"
      },
      "outputs": [],
      "source": [
        "# import GridSearchCV for best params for each model \n",
        "from sklearn.model_selection import GridSearchCV\n",
        "\n",
        "# random forest classifier\n",
        "n_estimators =[64,100,128,200]\n",
        "max_features = [2,3,5,7]\n",
        "bootstrap = [True,False]\n",
        "\n",
        "param_grid = {'n_estimators':n_estimators,\n",
        "             'max_features':max_features,\n",
        "             'bootstrap':bootstrap}"
      ]
    },
    {
      "cell_type": "code",
      "execution_count": null,
      "metadata": {
        "id": "TonnYxvK0tT2"
      },
      "outputs": [],
      "source": [
        "rfc = RandomForestClassifier()"
      ]
    },
    {
      "cell_type": "code",
      "execution_count": null,
      "metadata": {
        "colab": {
          "base_uri": "https://localhost:8080/"
        },
        "id": "MF09LauC1Gvy",
        "outputId": "cad69c11-419f-4f97-f8ed-e4f962840f95"
      },
      "outputs": [
        {
          "data": {
            "text/plain": [
              "GridSearchCV(estimator=RandomForestClassifier(),\n",
              "             param_grid={'bootstrap': [True, False],\n",
              "                         'max_features': [2, 3, 5, 7],\n",
              "                         'n_estimators': [64, 100, 128, 200]})"
            ]
          },
          "execution_count": 21,
          "metadata": {},
          "output_type": "execute_result"
        }
      ],
      "source": [
        "# fit the random forest classifier\n",
        "grid = GridSearchCV(rfc,param_grid)\n",
        "\n",
        "grid.fit(X_train,y_train)"
      ]
    },
    {
      "cell_type": "code",
      "execution_count": null,
      "metadata": {
        "colab": {
          "base_uri": "https://localhost:8080/"
        },
        "id": "rHIl1-vKZ73q",
        "outputId": "e7fb75c1-d6a6-4962-ac87-210ebe192b09"
      },
      "outputs": [
        {
          "name": "stdout",
          "output_type": "stream",
          "text": [
            "GridSearch CV best score : 1.0000\n",
            "\n",
            "\n",
            "Parameters that give the best results : \n",
            "\n",
            " {'bootstrap': True, 'max_features': 2, 'n_estimators': 64}\n",
            "\n",
            "\n",
            "Estimator that was chosen by the search : \n",
            "\n",
            " RandomForestClassifier(max_features=2, n_estimators=64)\n"
          ]
        }
      ],
      "source": [
        "# best score achieved during the GridSearchCV\n",
        "print('GridSearch CV best score : {:.4f}\\n\\n'.format(grid.best_score_))\n",
        "\n",
        "\n",
        "# print parameters that give the best results\n",
        "print('Parameters that give the best results :','\\n\\n', (grid.best_params_))\n",
        "\n",
        "\n",
        "# print estimator that was chosen by the GridSearch\n",
        "print('\\n\\nEstimator that was chosen by the search :','\\n\\n', (grid.best_estimator_))"
      ]
    },
    {
      "cell_type": "code",
      "execution_count": null,
      "metadata": {
        "id": "706_cXE_0vih"
      },
      "outputs": [],
      "source": [
        "# Let's use those params now\n",
        "\n",
        "rf_pipeline = Pipeline(steps = [('scale',StandardScaler()),('RF',RandomForestClassifier(max_features=2, n_estimators=64))])\n",
        "\n",
        "rf_pipeline.fit(X_train,y_train)\n",
        "\n",
        "rf_tuned_pred = rf_pipeline.predict(X_test)"
      ]
    },
    {
      "cell_type": "code",
      "execution_count": null,
      "metadata": {
        "colab": {
          "base_uri": "https://localhost:8080/"
        },
        "id": "MmRm3_Rt08Eg",
        "outputId": "0bc2339c-4bbe-44db-8d99-f63733ea95ab"
      },
      "outputs": [
        {
          "name": "stdout",
          "output_type": "stream",
          "text": [
            "              precision    recall  f1-score   support\n",
            "\n",
            "           0       0.88      0.91      0.90        33\n",
            "           1       0.97      0.97      0.97       120\n",
            "\n",
            "    accuracy                           0.95       153\n",
            "   macro avg       0.93      0.94      0.93       153\n",
            "weighted avg       0.95      0.95      0.95       153\n",
            "\n",
            "Accuracy Score:  0.954248366013072\n",
            "F1 Score:  0.9707112970711297\n"
          ]
        }
      ],
      "source": [
        "print(classification_report(y_test,rf_tuned_pred))\n",
        "\n",
        "print('Accuracy Score: ',accuracy_score(y_test,rf_tuned_pred))\n",
        "print('F1 Score: ',f1_score(y_test,rf_tuned_pred))"
      ]
    },
    {
      "cell_type": "code",
      "execution_count": null,
      "metadata": {
        "id": "Nkdk_XJv1NFP"
      },
      "outputs": [],
      "source": [
        "# do logistic regression now\n",
        "penalty = ['l1','l2']\n",
        "C = [0.001, 0.01, 0.1, 1, 10, 100] \n",
        "\n",
        "log_param_grid = {'penalty': penalty, \n",
        "                  'C': C}\n",
        "logreg = LogisticRegression()\n",
        "grid = GridSearchCV(logreg,log_param_grid)"
      ]
    },
    {
      "cell_type": "code",
      "execution_count": null,
      "metadata": {
        "colab": {
          "base_uri": "https://localhost:8080/"
        },
        "id": "IP9Er0Kd1chv",
        "outputId": "7844cd29-848f-4c7b-ccb9-76e4587f6071"
      },
      "outputs": [
        {
          "data": {
            "text/plain": [
              "GridSearchCV(estimator=LogisticRegression(),\n",
              "             param_grid={'C': [0.001, 0.01, 0.1, 1, 10, 100],\n",
              "                         'penalty': ['l1', 'l2']})"
            ]
          },
          "execution_count": 26,
          "metadata": {},
          "output_type": "execute_result"
        }
      ],
      "source": [
        "grid.fit(X_train,y_train)"
      ]
    },
    {
      "cell_type": "code",
      "execution_count": null,
      "metadata": {
        "colab": {
          "base_uri": "https://localhost:8080/"
        },
        "id": "fGwGICGXaJBh",
        "outputId": "b000f6e9-6c07-4dbe-971a-40239ae8b3f6"
      },
      "outputs": [
        {
          "name": "stdout",
          "output_type": "stream",
          "text": [
            "GridSearch CV best score : 1.0000\n",
            "\n",
            "\n",
            "Parameters that give the best results : \n",
            "\n",
            " {'C': 0.001, 'penalty': 'l2'}\n",
            "\n",
            "\n",
            "Estimator that was chosen by the search : \n",
            "\n",
            " LogisticRegression(C=0.001)\n"
          ]
        }
      ],
      "source": [
        "# best score achieved during the GridSearchCV\n",
        "print('GridSearch CV best score : {:.4f}\\n\\n'.format(grid.best_score_))\n",
        "\n",
        "\n",
        "# print parameters that give the best results\n",
        "print('Parameters that give the best results :','\\n\\n', (grid.best_params_))\n",
        "\n",
        "\n",
        "# print estimator that was chosen by the GridSearch\n",
        "print('\\n\\nEstimator that was chosen by the search :','\\n\\n', (grid.best_estimator_))"
      ]
    },
    {
      "cell_type": "code",
      "execution_count": null,
      "metadata": {
        "colab": {
          "base_uri": "https://localhost:8080/"
        },
        "id": "trDAn8hf1g0C",
        "outputId": "44e1b5bd-18a8-453b-e45b-ab66fd1f5acc"
      },
      "outputs": [
        {
          "data": {
            "text/plain": [
              "{'C': 0.001, 'penalty': 'l2'}"
            ]
          },
          "execution_count": 28,
          "metadata": {},
          "output_type": "execute_result"
        }
      ],
      "source": [
        "grid.best_params_"
      ]
    },
    {
      "cell_type": "code",
      "execution_count": null,
      "metadata": {
        "id": "SiWCgJcG1jmr"
      },
      "outputs": [],
      "source": [
        "# Let's use those params now\n",
        "\n",
        "logreg_pipeline = Pipeline(steps = [('scale',StandardScaler()),('LR',LogisticRegression(C=0.001))])\n",
        "\n",
        "logreg_pipeline.fit(X_train,y_train)\n",
        "\n",
        "logreg.fit(X_train,y_train)\n",
        "\n",
        "logreg_tuned_pred = logreg_pipeline.predict(X_test)"
      ]
    },
    {
      "cell_type": "code",
      "execution_count": null,
      "metadata": {
        "colab": {
          "base_uri": "https://localhost:8080/"
        },
        "id": "djVjuaxD1zxs",
        "outputId": "c7fef1fa-3405-4c48-9e1b-0489349c1fcb"
      },
      "outputs": [
        {
          "name": "stdout",
          "output_type": "stream",
          "text": [
            "              precision    recall  f1-score   support\n",
            "\n",
            "           0       0.88      0.91      0.90        33\n",
            "           1       0.97      0.97      0.97       120\n",
            "\n",
            "    accuracy                           0.95       153\n",
            "   macro avg       0.93      0.94      0.93       153\n",
            "weighted avg       0.95      0.95      0.95       153\n",
            "\n",
            "Accuracy Score:  0.954248366013072\n",
            "F1 Score:  0.9707112970711297\n"
          ]
        }
      ],
      "source": [
        "print(classification_report(y_test,logreg_tuned_pred))\n",
        "\n",
        "print('Accuracy Score: ',accuracy_score(y_test,logreg_tuned_pred))\n",
        "print('F1 Score: ',f1_score(y_test,logreg_tuned_pred))"
      ]
    },
    {
      "cell_type": "code",
      "execution_count": null,
      "metadata": {
        "id": "UzWUriKK2Rxk"
      },
      "outputs": [],
      "source": [
        "# do SVMs now\n",
        "svm_param_grid = [ {'C':[1, 10, 100, 1000], 'kernel':['linear']},\n",
        "               {'C':[1, 10, 100, 1000], 'kernel':['rbf'], 'gamma':[0.1, 0.2, 0.3, 0.4, 0.5, 0.6, 0.7, 0.8, 0.9]},\n",
        "               {'C':[1, 10, 100, 1000], 'kernel':['poly'], 'degree': [2,3,4] ,'gamma':[0.01,0.02,0.03,0.04,0.05]} \n",
        "              ]\n",
        "\n",
        "svm = SVC(random_state=42)\n",
        "\n",
        "# grid = GridSearchCV(svm,svm_param_grid)\n",
        "\n",
        "grid = GridSearchCV(estimator = svm,  \n",
        "                           param_grid = svm_param_grid,\n",
        "                           scoring = 'accuracy',\n",
        "                           cv = 5,\n",
        "                           verbose=0)"
      ]
    },
    {
      "cell_type": "code",
      "execution_count": null,
      "metadata": {
        "colab": {
          "base_uri": "https://localhost:8080/"
        },
        "id": "EBMFsICL2VnT",
        "outputId": "81fed8dc-146e-4f57-abe6-86b4aa7aab28"
      },
      "outputs": [
        {
          "data": {
            "text/plain": [
              "GridSearchCV(cv=5, estimator=SVC(random_state=42),\n",
              "             param_grid=[{'C': [1, 10, 100, 1000], 'kernel': ['linear']},\n",
              "                         {'C': [1, 10, 100, 1000],\n",
              "                          'gamma': [0.1, 0.2, 0.3, 0.4, 0.5, 0.6, 0.7, 0.8,\n",
              "                                    0.9],\n",
              "                          'kernel': ['rbf']},\n",
              "                         {'C': [1, 10, 100, 1000], 'degree': [2, 3, 4],\n",
              "                          'gamma': [0.01, 0.02, 0.03, 0.04, 0.05],\n",
              "                          'kernel': ['poly']}],\n",
              "             scoring='accuracy')"
            ]
          },
          "execution_count": 31,
          "metadata": {},
          "output_type": "execute_result"
        }
      ],
      "source": [
        "grid.fit(X_train,y_train)"
      ]
    },
    {
      "cell_type": "code",
      "execution_count": null,
      "metadata": {
        "colab": {
          "base_uri": "https://localhost:8080/"
        },
        "id": "MzUEZemuaiBO",
        "outputId": "d0f7035e-21e3-447d-d5a5-61a2c2adbbf2"
      },
      "outputs": [
        {
          "name": "stdout",
          "output_type": "stream",
          "text": [
            "GridSearch CV best score : 1.0000\n",
            "\n",
            "\n",
            "Parameters that give the best results : \n",
            "\n",
            " {'C': 1, 'kernel': 'linear'}\n",
            "\n",
            "\n",
            "Estimator that was chosen by the search : \n",
            "\n",
            " SVC(C=1, kernel='linear', random_state=42)\n"
          ]
        }
      ],
      "source": [
        "# best score achieved during the GridSearchCV\n",
        "print('GridSearch CV best score : {:.4f}\\n\\n'.format(grid.best_score_))\n",
        "\n",
        "\n",
        "# print parameters that give the best results\n",
        "print('Parameters that give the best results :','\\n\\n', (grid.best_params_))\n",
        "\n",
        "\n",
        "# print estimator that was chosen by the GridSearch\n",
        "print('\\n\\nEstimator that was chosen by the search :','\\n\\n', (grid.best_estimator_))"
      ]
    },
    {
      "cell_type": "code",
      "execution_count": null,
      "metadata": {
        "colab": {
          "base_uri": "https://localhost:8080/"
        },
        "id": "Qm9GK42K2aYN",
        "outputId": "6c961864-1e59-4e94-9b39-705e75696c9e"
      },
      "outputs": [
        {
          "data": {
            "text/plain": [
              "{'C': 1, 'kernel': 'linear'}"
            ]
          },
          "execution_count": 33,
          "metadata": {},
          "output_type": "execute_result"
        }
      ],
      "source": [
        "grid.best_params_"
      ]
    },
    {
      "cell_type": "code",
      "execution_count": null,
      "metadata": {
        "id": "FkgNmDgD2fOK"
      },
      "outputs": [],
      "source": [
        "# use these new params now\n",
        "svm_pipeline = Pipeline(steps = [('scale',StandardScaler()),('SVM',SVC(C=1,kernel='linear',random_state=42))])\n",
        "\n",
        "svm_pipeline.fit(X_train,y_train)\n",
        "\n",
        "svm_tuned_pred = svm_pipeline.predict(X_test)"
      ]
    },
    {
      "cell_type": "code",
      "execution_count": null,
      "metadata": {
        "colab": {
          "base_uri": "https://localhost:8080/"
        },
        "id": "LM5jLYAi2nlG",
        "outputId": "3613cb71-70fd-4bd3-e172-910e31b693da"
      },
      "outputs": [
        {
          "name": "stdout",
          "output_type": "stream",
          "text": [
            "              precision    recall  f1-score   support\n",
            "\n",
            "           0       0.91      0.94      0.93        33\n",
            "           1       0.98      0.97      0.98       120\n",
            "\n",
            "    accuracy                           0.97       153\n",
            "   macro avg       0.95      0.96      0.95       153\n",
            "weighted avg       0.97      0.97      0.97       153\n",
            "\n",
            "Accuracy Score:  0.9673202614379085\n",
            "F1 Score:  0.9790794979079498\n"
          ]
        }
      ],
      "source": [
        "print(classification_report(y_test,svm_tuned_pred))\n",
        "\n",
        "print('Accuracy Score: ',accuracy_score(y_test,svm_tuned_pred))\n",
        "print('F1 Score: ',f1_score(y_test,svm_tuned_pred))"
      ]
    },
    {
      "cell_type": "code",
      "execution_count": null,
      "metadata": {
        "colab": {
          "base_uri": "https://localhost:8080/"
        },
        "id": "xd54fx5icfBA",
        "outputId": "da253fc1-b27a-4bd5-9853-5b9970efc9d7"
      },
      "outputs": [
        {
          "name": "stdout",
          "output_type": "stream",
          "text": [
            "Fitting 10 folds for each of 30 candidates, totalling 300 fits\n"
          ]
        }
      ],
      "source": [
        "# next up is k-nearest-neighbors\n",
        "knn = KNeighborsClassifier()\n",
        "k_range = list(range(1, 31))\n",
        "param_grid = dict(n_neighbors=k_range)\n",
        "  \n",
        "# defining parameter range\n",
        "grid = GridSearchCV(knn, param_grid, cv=10, scoring='accuracy', return_train_score=False,verbose=1)\n",
        "  \n",
        "# fitting the model for grid search\n",
        "grid_search=grid.fit(X_train, y_train)"
      ]
    },
    {
      "cell_type": "code",
      "execution_count": null,
      "metadata": {
        "colab": {
          "base_uri": "https://localhost:8080/"
        },
        "id": "p1NlcuQocr6Y",
        "outputId": "129b3243-a6fa-4667-c8c5-09c1ff6f6011"
      },
      "outputs": [
        {
          "name": "stdout",
          "output_type": "stream",
          "text": [
            "GridSearch CV best score : 1.0000\n",
            "\n",
            "\n",
            "Parameters that give the best results : \n",
            "\n",
            " {'n_neighbors': 3}\n",
            "\n",
            "\n",
            "Estimator that was chosen by the search : \n",
            "\n",
            " KNeighborsClassifier(n_neighbors=3)\n"
          ]
        }
      ],
      "source": [
        "# best score achieved during the GridSearchCV\n",
        "print('GridSearch CV best score : {:.4f}\\n\\n'.format(grid.best_score_))\n",
        "\n",
        "\n",
        "# print parameters that give the best results\n",
        "print('Parameters that give the best results :','\\n\\n', (grid.best_params_))\n",
        "\n",
        "\n",
        "# print estimator that was chosen by the GridSearch\n",
        "print('\\n\\nEstimator that was chosen by the search :','\\n\\n', (grid.best_estimator_))"
      ]
    },
    {
      "cell_type": "code",
      "execution_count": null,
      "metadata": {
        "id": "5eCei3JBc-sj"
      },
      "outputs": [],
      "source": [
        "# using the optimal parameters\n",
        "knn_pipeline = Pipeline(steps = [('scale',StandardScaler()),('KNN',KNeighborsClassifier(n_neighbors=3))])\n",
        "\n",
        "knn_pipeline.fit(X_train,y_train)\n",
        "\n",
        "knn_tuned_pred = knn_pipeline.predict(X_test)"
      ]
    },
    {
      "cell_type": "code",
      "execution_count": null,
      "metadata": {
        "colab": {
          "base_uri": "https://localhost:8080/"
        },
        "id": "dqMdzTzGdKWk",
        "outputId": "3a7fc6fa-99c7-4bce-ca37-855ce3d35ce5"
      },
      "outputs": [
        {
          "name": "stdout",
          "output_type": "stream",
          "text": [
            "              precision    recall  f1-score   support\n",
            "\n",
            "           0       0.91      0.91      0.91        33\n",
            "           1       0.97      0.97      0.97       120\n",
            "\n",
            "    accuracy                           0.96       153\n",
            "   macro avg       0.94      0.94      0.94       153\n",
            "weighted avg       0.96      0.96      0.96       153\n",
            "\n",
            "Accuracy Score:  0.9607843137254902\n",
            "F1 Score:  0.975\n"
          ]
        }
      ],
      "source": [
        "print(classification_report(y_test,knn_tuned_pred))\n",
        "\n",
        "print('Accuracy Score: ',accuracy_score(y_test,knn_tuned_pred))\n",
        "print('F1 Score: ',f1_score(y_test,knn_tuned_pred))"
      ]
    },
    {
      "cell_type": "code",
      "execution_count": null,
      "metadata": {
        "colab": {
          "base_uri": "https://localhost:8080/"
        },
        "id": "vAq1xznWtjU9",
        "outputId": "7deaa1b7-2883-49e6-ec1c-69c4fa9a1de0"
      },
      "outputs": [
        {
          "name": "stdout",
          "output_type": "stream",
          "text": [
            "Fitting 10 folds for each of 648 candidates, totalling 6480 fits\n"
          ]
        }
      ],
      "source": [
        "# next up is decision tree classifier\n",
        "dt = DecisionTreeClassifier(random_state=42)\n",
        "\n",
        "params = {'criterion': ['gini', 'entropy'], 'max_depth': range(1,10), 'min_samples_split': range(1,10), \n",
        "          'min_samples_leaf': range(1,5)}\n",
        "\n",
        "grid = GridSearchCV(dt, params, cv=10, scoring='accuracy', return_train_score=False,verbose=1)\n",
        "grid_search=grid.fit(X_train, y_train)"
      ]
    },
    {
      "cell_type": "code",
      "execution_count": null,
      "metadata": {
        "colab": {
          "base_uri": "https://localhost:8080/"
        },
        "id": "BLu_uCcO_vfL",
        "outputId": "12079a5c-e04c-44bd-e5f2-19108017cda6"
      },
      "outputs": [
        {
          "name": "stdout",
          "output_type": "stream",
          "text": [
            "GridSearch CV best score : 0.9857\n",
            "\n",
            "\n",
            "Parameters that give the best results : \n",
            "\n",
            " {'criterion': 'gini', 'max_depth': 1, 'min_samples_leaf': 1, 'min_samples_split': 2}\n",
            "\n",
            "\n",
            "Estimator that was chosen by the search : \n",
            "\n",
            " DecisionTreeClassifier(max_depth=1, random_state=42)\n"
          ]
        }
      ],
      "source": [
        "# best score achieved during the GridSearchCV\n",
        "print('GridSearch CV best score : {:.4f}\\n\\n'.format(grid.best_score_))\n",
        "\n",
        "\n",
        "# print parameters that give the best results\n",
        "print('Parameters that give the best results :','\\n\\n', (grid.best_params_))\n",
        "\n",
        "\n",
        "# print estimator that was chosen by the GridSearch\n",
        "print('\\n\\nEstimator that was chosen by the search :','\\n\\n', (grid.best_estimator_))"
      ]
    },
    {
      "cell_type": "code",
      "execution_count": null,
      "metadata": {
        "id": "Xr9-iAUZzjIn"
      },
      "outputs": [],
      "source": [
        "# lets use these params now\n",
        "dt_pipeline = Pipeline(steps = [('scale',StandardScaler()),('DT',DecisionTreeClassifier(max_depth=1, random_state=42))])\n",
        "\n",
        "dt_pipeline.fit(X_train,y_train)\n",
        "\n",
        "dt_tuned_pred = dt_pipeline.predict(X_test)"
      ]
    },
    {
      "cell_type": "code",
      "execution_count": null,
      "metadata": {
        "colab": {
          "base_uri": "https://localhost:8080/"
        },
        "id": "UfOO40Piztdr",
        "outputId": "2f08b4ff-45ac-4fa2-c7be-1dbfafac2a35"
      },
      "outputs": [
        {
          "name": "stdout",
          "output_type": "stream",
          "text": [
            "              precision    recall  f1-score   support\n",
            "\n",
            "           0       0.88      0.85      0.86        33\n",
            "           1       0.96      0.97      0.96       120\n",
            "\n",
            "    accuracy                           0.94       153\n",
            "   macro avg       0.92      0.91      0.91       153\n",
            "weighted avg       0.94      0.94      0.94       153\n",
            "\n",
            "Accuracy Score:  0.9411764705882353\n",
            "F1 Score:  0.9626556016597511\n"
          ]
        }
      ],
      "source": [
        "print(classification_report(y_test,dt_tuned_pred))\n",
        "\n",
        "print('Accuracy Score: ',accuracy_score(y_test,dt_tuned_pred))\n",
        "print('F1 Score: ',f1_score(y_test,dt_tuned_pred))"
      ]
    },
    {
      "cell_type": "code",
      "execution_count": null,
      "metadata": {
        "colab": {
          "base_uri": "https://localhost:8080/",
          "height": 358
        },
        "id": "JlyHoNakzyTz",
        "outputId": "21e01a94-406e-4abc-d3be-dd60e53503a4"
      },
      "outputs": [
        {
          "name": "stdout",
          "output_type": "stream",
          "text": [
            "Fitting 10 folds for each of 4950 candidates, totalling 49500 fits\n"
          ]
        },
        {
          "ename": "KeyboardInterrupt",
          "evalue": "ignored",
          "output_type": "error",
          "traceback": [
            "\u001b[0;31m---------------------------------------------------------------------------\u001b[0m",
            "\u001b[0;31mKeyboardInterrupt\u001b[0m                         Traceback (most recent call last)",
            "\u001b[0;32m<ipython-input-44-08cb67670b15>\u001b[0m in \u001b[0;36m<module>\u001b[0;34m\u001b[0m\n\u001b[1;32m      6\u001b[0m \u001b[0;34m\u001b[0m\u001b[0m\n\u001b[1;32m      7\u001b[0m \u001b[0mgrid\u001b[0m \u001b[0;34m=\u001b[0m \u001b[0mGridSearchCV\u001b[0m\u001b[0;34m(\u001b[0m\u001b[0mmlp\u001b[0m\u001b[0;34m,\u001b[0m \u001b[0mparams\u001b[0m\u001b[0;34m,\u001b[0m \u001b[0mcv\u001b[0m\u001b[0;34m=\u001b[0m\u001b[0;36m10\u001b[0m\u001b[0;34m,\u001b[0m \u001b[0mscoring\u001b[0m\u001b[0;34m=\u001b[0m\u001b[0;34m'accuracy'\u001b[0m\u001b[0;34m,\u001b[0m \u001b[0mreturn_train_score\u001b[0m\u001b[0;34m=\u001b[0m\u001b[0;32mFalse\u001b[0m\u001b[0;34m,\u001b[0m\u001b[0mverbose\u001b[0m\u001b[0;34m=\u001b[0m\u001b[0;36m1\u001b[0m\u001b[0;34m)\u001b[0m\u001b[0;34m\u001b[0m\u001b[0;34m\u001b[0m\u001b[0m\n\u001b[0;32m----> 8\u001b[0;31m \u001b[0mgrid_search\u001b[0m\u001b[0;34m=\u001b[0m\u001b[0mgrid\u001b[0m\u001b[0;34m.\u001b[0m\u001b[0mfit\u001b[0m\u001b[0;34m(\u001b[0m\u001b[0mX_train\u001b[0m\u001b[0;34m,\u001b[0m \u001b[0my_train\u001b[0m\u001b[0;34m)\u001b[0m\u001b[0;34m\u001b[0m\u001b[0;34m\u001b[0m\u001b[0m\n\u001b[0m",
            "\u001b[0;32m/usr/local/lib/python3.8/dist-packages/sklearn/model_selection/_search.py\u001b[0m in \u001b[0;36mfit\u001b[0;34m(self, X, y, groups, **fit_params)\u001b[0m\n\u001b[1;32m    889\u001b[0m                 \u001b[0;32mreturn\u001b[0m \u001b[0mresults\u001b[0m\u001b[0;34m\u001b[0m\u001b[0;34m\u001b[0m\u001b[0m\n\u001b[1;32m    890\u001b[0m \u001b[0;34m\u001b[0m\u001b[0m\n\u001b[0;32m--> 891\u001b[0;31m             \u001b[0mself\u001b[0m\u001b[0;34m.\u001b[0m\u001b[0m_run_search\u001b[0m\u001b[0;34m(\u001b[0m\u001b[0mevaluate_candidates\u001b[0m\u001b[0;34m)\u001b[0m\u001b[0;34m\u001b[0m\u001b[0;34m\u001b[0m\u001b[0m\n\u001b[0m\u001b[1;32m    892\u001b[0m \u001b[0;34m\u001b[0m\u001b[0m\n\u001b[1;32m    893\u001b[0m             \u001b[0;31m# multimetric is determined here because in the case of a callable\u001b[0m\u001b[0;34m\u001b[0m\u001b[0;34m\u001b[0m\u001b[0;34m\u001b[0m\u001b[0m\n",
            "\u001b[0;32m/usr/local/lib/python3.8/dist-packages/sklearn/model_selection/_search.py\u001b[0m in \u001b[0;36m_run_search\u001b[0;34m(self, evaluate_candidates)\u001b[0m\n\u001b[1;32m   1390\u001b[0m     \u001b[0;32mdef\u001b[0m \u001b[0m_run_search\u001b[0m\u001b[0;34m(\u001b[0m\u001b[0mself\u001b[0m\u001b[0;34m,\u001b[0m \u001b[0mevaluate_candidates\u001b[0m\u001b[0;34m)\u001b[0m\u001b[0;34m:\u001b[0m\u001b[0;34m\u001b[0m\u001b[0;34m\u001b[0m\u001b[0m\n\u001b[1;32m   1391\u001b[0m         \u001b[0;34m\"\"\"Search all candidates in param_grid\"\"\"\u001b[0m\u001b[0;34m\u001b[0m\u001b[0;34m\u001b[0m\u001b[0m\n\u001b[0;32m-> 1392\u001b[0;31m         \u001b[0mevaluate_candidates\u001b[0m\u001b[0;34m(\u001b[0m\u001b[0mParameterGrid\u001b[0m\u001b[0;34m(\u001b[0m\u001b[0mself\u001b[0m\u001b[0;34m.\u001b[0m\u001b[0mparam_grid\u001b[0m\u001b[0;34m)\u001b[0m\u001b[0;34m)\u001b[0m\u001b[0;34m\u001b[0m\u001b[0;34m\u001b[0m\u001b[0m\n\u001b[0m\u001b[1;32m   1393\u001b[0m \u001b[0;34m\u001b[0m\u001b[0m\n\u001b[1;32m   1394\u001b[0m \u001b[0;34m\u001b[0m\u001b[0m\n",
            "\u001b[0;32m/usr/local/lib/python3.8/dist-packages/sklearn/model_selection/_search.py\u001b[0m in \u001b[0;36mevaluate_candidates\u001b[0;34m(candidate_params, cv, more_results)\u001b[0m\n\u001b[1;32m    836\u001b[0m                     )\n\u001b[1;32m    837\u001b[0m \u001b[0;34m\u001b[0m\u001b[0m\n\u001b[0;32m--> 838\u001b[0;31m                 out = parallel(\n\u001b[0m\u001b[1;32m    839\u001b[0m                     delayed(_fit_and_score)(\n\u001b[1;32m    840\u001b[0m                         \u001b[0mclone\u001b[0m\u001b[0;34m(\u001b[0m\u001b[0mbase_estimator\u001b[0m\u001b[0;34m)\u001b[0m\u001b[0;34m,\u001b[0m\u001b[0;34m\u001b[0m\u001b[0;34m\u001b[0m\u001b[0m\n",
            "\u001b[0;32m/usr/local/lib/python3.8/dist-packages/joblib/parallel.py\u001b[0m in \u001b[0;36m__call__\u001b[0;34m(self, iterable)\u001b[0m\n\u001b[1;32m   1086\u001b[0m                 \u001b[0mself\u001b[0m\u001b[0;34m.\u001b[0m\u001b[0m_iterating\u001b[0m \u001b[0;34m=\u001b[0m \u001b[0mself\u001b[0m\u001b[0;34m.\u001b[0m\u001b[0m_original_iterator\u001b[0m \u001b[0;32mis\u001b[0m \u001b[0;32mnot\u001b[0m \u001b[0;32mNone\u001b[0m\u001b[0;34m\u001b[0m\u001b[0;34m\u001b[0m\u001b[0m\n\u001b[1;32m   1087\u001b[0m \u001b[0;34m\u001b[0m\u001b[0m\n\u001b[0;32m-> 1088\u001b[0;31m             \u001b[0;32mwhile\u001b[0m \u001b[0mself\u001b[0m\u001b[0;34m.\u001b[0m\u001b[0mdispatch_one_batch\u001b[0m\u001b[0;34m(\u001b[0m\u001b[0miterator\u001b[0m\u001b[0;34m)\u001b[0m\u001b[0;34m:\u001b[0m\u001b[0;34m\u001b[0m\u001b[0;34m\u001b[0m\u001b[0m\n\u001b[0m\u001b[1;32m   1089\u001b[0m                 \u001b[0;32mpass\u001b[0m\u001b[0;34m\u001b[0m\u001b[0;34m\u001b[0m\u001b[0m\n\u001b[1;32m   1090\u001b[0m \u001b[0;34m\u001b[0m\u001b[0m\n",
            "\u001b[0;32m/usr/local/lib/python3.8/dist-packages/joblib/parallel.py\u001b[0m in \u001b[0;36mdispatch_one_batch\u001b[0;34m(self, iterator)\u001b[0m\n\u001b[1;32m    899\u001b[0m                 \u001b[0;32mreturn\u001b[0m \u001b[0;32mFalse\u001b[0m\u001b[0;34m\u001b[0m\u001b[0;34m\u001b[0m\u001b[0m\n\u001b[1;32m    900\u001b[0m             \u001b[0;32melse\u001b[0m\u001b[0;34m:\u001b[0m\u001b[0;34m\u001b[0m\u001b[0;34m\u001b[0m\u001b[0m\n\u001b[0;32m--> 901\u001b[0;31m                 \u001b[0mself\u001b[0m\u001b[0;34m.\u001b[0m\u001b[0m_dispatch\u001b[0m\u001b[0;34m(\u001b[0m\u001b[0mtasks\u001b[0m\u001b[0;34m)\u001b[0m\u001b[0;34m\u001b[0m\u001b[0;34m\u001b[0m\u001b[0m\n\u001b[0m\u001b[1;32m    902\u001b[0m                 \u001b[0;32mreturn\u001b[0m \u001b[0;32mTrue\u001b[0m\u001b[0;34m\u001b[0m\u001b[0;34m\u001b[0m\u001b[0m\n\u001b[1;32m    903\u001b[0m \u001b[0;34m\u001b[0m\u001b[0m\n",
            "\u001b[0;32m/usr/local/lib/python3.8/dist-packages/joblib/parallel.py\u001b[0m in \u001b[0;36m_dispatch\u001b[0;34m(self, batch)\u001b[0m\n\u001b[1;32m    817\u001b[0m         \u001b[0;32mwith\u001b[0m \u001b[0mself\u001b[0m\u001b[0;34m.\u001b[0m\u001b[0m_lock\u001b[0m\u001b[0;34m:\u001b[0m\u001b[0;34m\u001b[0m\u001b[0;34m\u001b[0m\u001b[0m\n\u001b[1;32m    818\u001b[0m             \u001b[0mjob_idx\u001b[0m \u001b[0;34m=\u001b[0m \u001b[0mlen\u001b[0m\u001b[0;34m(\u001b[0m\u001b[0mself\u001b[0m\u001b[0;34m.\u001b[0m\u001b[0m_jobs\u001b[0m\u001b[0;34m)\u001b[0m\u001b[0;34m\u001b[0m\u001b[0;34m\u001b[0m\u001b[0m\n\u001b[0;32m--> 819\u001b[0;31m             \u001b[0mjob\u001b[0m \u001b[0;34m=\u001b[0m \u001b[0mself\u001b[0m\u001b[0;34m.\u001b[0m\u001b[0m_backend\u001b[0m\u001b[0;34m.\u001b[0m\u001b[0mapply_async\u001b[0m\u001b[0;34m(\u001b[0m\u001b[0mbatch\u001b[0m\u001b[0;34m,\u001b[0m \u001b[0mcallback\u001b[0m\u001b[0;34m=\u001b[0m\u001b[0mcb\u001b[0m\u001b[0;34m)\u001b[0m\u001b[0;34m\u001b[0m\u001b[0;34m\u001b[0m\u001b[0m\n\u001b[0m\u001b[1;32m    820\u001b[0m             \u001b[0;31m# A job can complete so quickly than its callback is\u001b[0m\u001b[0;34m\u001b[0m\u001b[0;34m\u001b[0m\u001b[0;34m\u001b[0m\u001b[0m\n\u001b[1;32m    821\u001b[0m             \u001b[0;31m# called before we get here, causing self._jobs to\u001b[0m\u001b[0;34m\u001b[0m\u001b[0;34m\u001b[0m\u001b[0;34m\u001b[0m\u001b[0m\n",
            "\u001b[0;32m/usr/local/lib/python3.8/dist-packages/joblib/_parallel_backends.py\u001b[0m in \u001b[0;36mapply_async\u001b[0;34m(self, func, callback)\u001b[0m\n\u001b[1;32m    206\u001b[0m     \u001b[0;32mdef\u001b[0m \u001b[0mapply_async\u001b[0m\u001b[0;34m(\u001b[0m\u001b[0mself\u001b[0m\u001b[0;34m,\u001b[0m \u001b[0mfunc\u001b[0m\u001b[0;34m,\u001b[0m \u001b[0mcallback\u001b[0m\u001b[0;34m=\u001b[0m\u001b[0;32mNone\u001b[0m\u001b[0;34m)\u001b[0m\u001b[0;34m:\u001b[0m\u001b[0;34m\u001b[0m\u001b[0;34m\u001b[0m\u001b[0m\n\u001b[1;32m    207\u001b[0m         \u001b[0;34m\"\"\"Schedule a func to be run\"\"\"\u001b[0m\u001b[0;34m\u001b[0m\u001b[0;34m\u001b[0m\u001b[0m\n\u001b[0;32m--> 208\u001b[0;31m         \u001b[0mresult\u001b[0m \u001b[0;34m=\u001b[0m \u001b[0mImmediateResult\u001b[0m\u001b[0;34m(\u001b[0m\u001b[0mfunc\u001b[0m\u001b[0;34m)\u001b[0m\u001b[0;34m\u001b[0m\u001b[0;34m\u001b[0m\u001b[0m\n\u001b[0m\u001b[1;32m    209\u001b[0m         \u001b[0;32mif\u001b[0m \u001b[0mcallback\u001b[0m\u001b[0;34m:\u001b[0m\u001b[0;34m\u001b[0m\u001b[0;34m\u001b[0m\u001b[0m\n\u001b[1;32m    210\u001b[0m             \u001b[0mcallback\u001b[0m\u001b[0;34m(\u001b[0m\u001b[0mresult\u001b[0m\u001b[0;34m)\u001b[0m\u001b[0;34m\u001b[0m\u001b[0;34m\u001b[0m\u001b[0m\n",
            "\u001b[0;32m/usr/local/lib/python3.8/dist-packages/joblib/_parallel_backends.py\u001b[0m in \u001b[0;36m__init__\u001b[0;34m(self, batch)\u001b[0m\n\u001b[1;32m    595\u001b[0m         \u001b[0;31m# Don't delay the application, to avoid keeping the input\u001b[0m\u001b[0;34m\u001b[0m\u001b[0;34m\u001b[0m\u001b[0;34m\u001b[0m\u001b[0m\n\u001b[1;32m    596\u001b[0m         \u001b[0;31m# arguments in memory\u001b[0m\u001b[0;34m\u001b[0m\u001b[0;34m\u001b[0m\u001b[0;34m\u001b[0m\u001b[0m\n\u001b[0;32m--> 597\u001b[0;31m         \u001b[0mself\u001b[0m\u001b[0;34m.\u001b[0m\u001b[0mresults\u001b[0m \u001b[0;34m=\u001b[0m \u001b[0mbatch\u001b[0m\u001b[0;34m(\u001b[0m\u001b[0;34m)\u001b[0m\u001b[0;34m\u001b[0m\u001b[0;34m\u001b[0m\u001b[0m\n\u001b[0m\u001b[1;32m    598\u001b[0m \u001b[0;34m\u001b[0m\u001b[0m\n\u001b[1;32m    599\u001b[0m     \u001b[0;32mdef\u001b[0m \u001b[0mget\u001b[0m\u001b[0;34m(\u001b[0m\u001b[0mself\u001b[0m\u001b[0;34m)\u001b[0m\u001b[0;34m:\u001b[0m\u001b[0;34m\u001b[0m\u001b[0;34m\u001b[0m\u001b[0m\n",
            "\u001b[0;32m/usr/local/lib/python3.8/dist-packages/joblib/parallel.py\u001b[0m in \u001b[0;36m__call__\u001b[0;34m(self)\u001b[0m\n\u001b[1;32m    286\u001b[0m         \u001b[0;31m# change the default number of processes to -1\u001b[0m\u001b[0;34m\u001b[0m\u001b[0;34m\u001b[0m\u001b[0;34m\u001b[0m\u001b[0m\n\u001b[1;32m    287\u001b[0m         \u001b[0;32mwith\u001b[0m \u001b[0mparallel_backend\u001b[0m\u001b[0;34m(\u001b[0m\u001b[0mself\u001b[0m\u001b[0;34m.\u001b[0m\u001b[0m_backend\u001b[0m\u001b[0;34m,\u001b[0m \u001b[0mn_jobs\u001b[0m\u001b[0;34m=\u001b[0m\u001b[0mself\u001b[0m\u001b[0;34m.\u001b[0m\u001b[0m_n_jobs\u001b[0m\u001b[0;34m)\u001b[0m\u001b[0;34m:\u001b[0m\u001b[0;34m\u001b[0m\u001b[0;34m\u001b[0m\u001b[0m\n\u001b[0;32m--> 288\u001b[0;31m             return [func(*args, **kwargs)\n\u001b[0m\u001b[1;32m    289\u001b[0m                     for func, args, kwargs in self.items]\n\u001b[1;32m    290\u001b[0m \u001b[0;34m\u001b[0m\u001b[0m\n",
            "\u001b[0;32m/usr/local/lib/python3.8/dist-packages/joblib/parallel.py\u001b[0m in \u001b[0;36m<listcomp>\u001b[0;34m(.0)\u001b[0m\n\u001b[1;32m    286\u001b[0m         \u001b[0;31m# change the default number of processes to -1\u001b[0m\u001b[0;34m\u001b[0m\u001b[0;34m\u001b[0m\u001b[0;34m\u001b[0m\u001b[0m\n\u001b[1;32m    287\u001b[0m         \u001b[0;32mwith\u001b[0m \u001b[0mparallel_backend\u001b[0m\u001b[0;34m(\u001b[0m\u001b[0mself\u001b[0m\u001b[0;34m.\u001b[0m\u001b[0m_backend\u001b[0m\u001b[0;34m,\u001b[0m \u001b[0mn_jobs\u001b[0m\u001b[0;34m=\u001b[0m\u001b[0mself\u001b[0m\u001b[0;34m.\u001b[0m\u001b[0m_n_jobs\u001b[0m\u001b[0;34m)\u001b[0m\u001b[0;34m:\u001b[0m\u001b[0;34m\u001b[0m\u001b[0;34m\u001b[0m\u001b[0m\n\u001b[0;32m--> 288\u001b[0;31m             return [func(*args, **kwargs)\n\u001b[0m\u001b[1;32m    289\u001b[0m                     for func, args, kwargs in self.items]\n\u001b[1;32m    290\u001b[0m \u001b[0;34m\u001b[0m\u001b[0m\n",
            "\u001b[0;32m/usr/local/lib/python3.8/dist-packages/sklearn/utils/fixes.py\u001b[0m in \u001b[0;36m__call__\u001b[0;34m(self, *args, **kwargs)\u001b[0m\n\u001b[1;32m    214\u001b[0m     \u001b[0;32mdef\u001b[0m \u001b[0m__call__\u001b[0m\u001b[0;34m(\u001b[0m\u001b[0mself\u001b[0m\u001b[0;34m,\u001b[0m \u001b[0;34m*\u001b[0m\u001b[0margs\u001b[0m\u001b[0;34m,\u001b[0m \u001b[0;34m**\u001b[0m\u001b[0mkwargs\u001b[0m\u001b[0;34m)\u001b[0m\u001b[0;34m:\u001b[0m\u001b[0;34m\u001b[0m\u001b[0;34m\u001b[0m\u001b[0m\n\u001b[1;32m    215\u001b[0m         \u001b[0;32mwith\u001b[0m \u001b[0mconfig_context\u001b[0m\u001b[0;34m(\u001b[0m\u001b[0;34m**\u001b[0m\u001b[0mself\u001b[0m\u001b[0;34m.\u001b[0m\u001b[0mconfig\u001b[0m\u001b[0;34m)\u001b[0m\u001b[0;34m:\u001b[0m\u001b[0;34m\u001b[0m\u001b[0;34m\u001b[0m\u001b[0m\n\u001b[0;32m--> 216\u001b[0;31m             \u001b[0;32mreturn\u001b[0m \u001b[0mself\u001b[0m\u001b[0;34m.\u001b[0m\u001b[0mfunction\u001b[0m\u001b[0;34m(\u001b[0m\u001b[0;34m*\u001b[0m\u001b[0margs\u001b[0m\u001b[0;34m,\u001b[0m \u001b[0;34m**\u001b[0m\u001b[0mkwargs\u001b[0m\u001b[0;34m)\u001b[0m\u001b[0;34m\u001b[0m\u001b[0;34m\u001b[0m\u001b[0m\n\u001b[0m\u001b[1;32m    217\u001b[0m \u001b[0;34m\u001b[0m\u001b[0m\n\u001b[1;32m    218\u001b[0m \u001b[0;34m\u001b[0m\u001b[0m\n",
            "\u001b[0;32m/usr/local/lib/python3.8/dist-packages/sklearn/model_selection/_validation.py\u001b[0m in \u001b[0;36m_fit_and_score\u001b[0;34m(estimator, X, y, scorer, train, test, verbose, parameters, fit_params, return_train_score, return_parameters, return_n_test_samples, return_times, return_estimator, split_progress, candidate_progress, error_score)\u001b[0m\n\u001b[1;32m    678\u001b[0m             \u001b[0mestimator\u001b[0m\u001b[0;34m.\u001b[0m\u001b[0mfit\u001b[0m\u001b[0;34m(\u001b[0m\u001b[0mX_train\u001b[0m\u001b[0;34m,\u001b[0m \u001b[0;34m**\u001b[0m\u001b[0mfit_params\u001b[0m\u001b[0;34m)\u001b[0m\u001b[0;34m\u001b[0m\u001b[0;34m\u001b[0m\u001b[0m\n\u001b[1;32m    679\u001b[0m         \u001b[0;32melse\u001b[0m\u001b[0;34m:\u001b[0m\u001b[0;34m\u001b[0m\u001b[0;34m\u001b[0m\u001b[0m\n\u001b[0;32m--> 680\u001b[0;31m             \u001b[0mestimator\u001b[0m\u001b[0;34m.\u001b[0m\u001b[0mfit\u001b[0m\u001b[0;34m(\u001b[0m\u001b[0mX_train\u001b[0m\u001b[0;34m,\u001b[0m \u001b[0my_train\u001b[0m\u001b[0;34m,\u001b[0m \u001b[0;34m**\u001b[0m\u001b[0mfit_params\u001b[0m\u001b[0;34m)\u001b[0m\u001b[0;34m\u001b[0m\u001b[0;34m\u001b[0m\u001b[0m\n\u001b[0m\u001b[1;32m    681\u001b[0m \u001b[0;34m\u001b[0m\u001b[0m\n\u001b[1;32m    682\u001b[0m     \u001b[0;32mexcept\u001b[0m \u001b[0mException\u001b[0m\u001b[0;34m:\u001b[0m\u001b[0;34m\u001b[0m\u001b[0;34m\u001b[0m\u001b[0m\n",
            "\u001b[0;32m/usr/local/lib/python3.8/dist-packages/sklearn/neural_network/_multilayer_perceptron.py\u001b[0m in \u001b[0;36mfit\u001b[0;34m(self, X, y)\u001b[0m\n\u001b[1;32m    750\u001b[0m             \u001b[0mReturns\u001b[0m \u001b[0ma\u001b[0m \u001b[0mtrained\u001b[0m \u001b[0mMLP\u001b[0m \u001b[0mmodel\u001b[0m\u001b[0;34m.\u001b[0m\u001b[0;34m\u001b[0m\u001b[0;34m\u001b[0m\u001b[0m\n\u001b[1;32m    751\u001b[0m         \"\"\"\n\u001b[0;32m--> 752\u001b[0;31m         \u001b[0;32mreturn\u001b[0m \u001b[0mself\u001b[0m\u001b[0;34m.\u001b[0m\u001b[0m_fit\u001b[0m\u001b[0;34m(\u001b[0m\u001b[0mX\u001b[0m\u001b[0;34m,\u001b[0m \u001b[0my\u001b[0m\u001b[0;34m,\u001b[0m \u001b[0mincremental\u001b[0m\u001b[0;34m=\u001b[0m\u001b[0;32mFalse\u001b[0m\u001b[0;34m)\u001b[0m\u001b[0;34m\u001b[0m\u001b[0;34m\u001b[0m\u001b[0m\n\u001b[0m\u001b[1;32m    753\u001b[0m \u001b[0;34m\u001b[0m\u001b[0m\n\u001b[1;32m    754\u001b[0m     \u001b[0;32mdef\u001b[0m \u001b[0m_check_solver\u001b[0m\u001b[0;34m(\u001b[0m\u001b[0mself\u001b[0m\u001b[0;34m)\u001b[0m\u001b[0;34m:\u001b[0m\u001b[0;34m\u001b[0m\u001b[0;34m\u001b[0m\u001b[0m\n",
            "\u001b[0;32m/usr/local/lib/python3.8/dist-packages/sklearn/neural_network/_multilayer_perceptron.py\u001b[0m in \u001b[0;36m_fit\u001b[0;34m(self, X, y, incremental)\u001b[0m\n\u001b[1;32m    438\u001b[0m         \u001b[0;31m# Run the LBFGS solver\u001b[0m\u001b[0;34m\u001b[0m\u001b[0;34m\u001b[0m\u001b[0;34m\u001b[0m\u001b[0m\n\u001b[1;32m    439\u001b[0m         \u001b[0;32melif\u001b[0m \u001b[0mself\u001b[0m\u001b[0;34m.\u001b[0m\u001b[0msolver\u001b[0m \u001b[0;34m==\u001b[0m \u001b[0;34m\"lbfgs\"\u001b[0m\u001b[0;34m:\u001b[0m\u001b[0;34m\u001b[0m\u001b[0;34m\u001b[0m\u001b[0m\n\u001b[0;32m--> 440\u001b[0;31m             self._fit_lbfgs(\n\u001b[0m\u001b[1;32m    441\u001b[0m                 \u001b[0mX\u001b[0m\u001b[0;34m,\u001b[0m \u001b[0my\u001b[0m\u001b[0;34m,\u001b[0m \u001b[0mactivations\u001b[0m\u001b[0;34m,\u001b[0m \u001b[0mdeltas\u001b[0m\u001b[0;34m,\u001b[0m \u001b[0mcoef_grads\u001b[0m\u001b[0;34m,\u001b[0m \u001b[0mintercept_grads\u001b[0m\u001b[0;34m,\u001b[0m \u001b[0mlayer_units\u001b[0m\u001b[0;34m\u001b[0m\u001b[0;34m\u001b[0m\u001b[0m\n\u001b[1;32m    442\u001b[0m             )\n",
            "\u001b[0;32m/usr/local/lib/python3.8/dist-packages/sklearn/neural_network/_multilayer_perceptron.py\u001b[0m in \u001b[0;36m_fit_lbfgs\u001b[0;34m(self, X, y, activations, deltas, coef_grads, intercept_grads, layer_units)\u001b[0m\n\u001b[1;32m    534\u001b[0m             \u001b[0miprint\u001b[0m \u001b[0;34m=\u001b[0m \u001b[0;34m-\u001b[0m\u001b[0;36m1\u001b[0m\u001b[0;34m\u001b[0m\u001b[0;34m\u001b[0m\u001b[0m\n\u001b[1;32m    535\u001b[0m \u001b[0;34m\u001b[0m\u001b[0m\n\u001b[0;32m--> 536\u001b[0;31m         opt_res = scipy.optimize.minimize(\n\u001b[0m\u001b[1;32m    537\u001b[0m             \u001b[0mself\u001b[0m\u001b[0;34m.\u001b[0m\u001b[0m_loss_grad_lbfgs\u001b[0m\u001b[0;34m,\u001b[0m\u001b[0;34m\u001b[0m\u001b[0;34m\u001b[0m\u001b[0m\n\u001b[1;32m    538\u001b[0m             \u001b[0mpacked_coef_inter\u001b[0m\u001b[0;34m,\u001b[0m\u001b[0;34m\u001b[0m\u001b[0;34m\u001b[0m\u001b[0m\n",
            "\u001b[0;32m/usr/local/lib/python3.8/dist-packages/scipy/optimize/_minimize.py\u001b[0m in \u001b[0;36mminimize\u001b[0;34m(fun, x0, args, method, jac, hess, hessp, bounds, constraints, tol, callback, options)\u001b[0m\n\u001b[1;32m    621\u001b[0m                                   **options)\n\u001b[1;32m    622\u001b[0m     \u001b[0;32melif\u001b[0m \u001b[0mmeth\u001b[0m \u001b[0;34m==\u001b[0m \u001b[0;34m'l-bfgs-b'\u001b[0m\u001b[0;34m:\u001b[0m\u001b[0;34m\u001b[0m\u001b[0;34m\u001b[0m\u001b[0m\n\u001b[0;32m--> 623\u001b[0;31m         return _minimize_lbfgsb(fun, x0, args, jac, bounds,\n\u001b[0m\u001b[1;32m    624\u001b[0m                                 callback=callback, **options)\n\u001b[1;32m    625\u001b[0m     \u001b[0;32melif\u001b[0m \u001b[0mmeth\u001b[0m \u001b[0;34m==\u001b[0m \u001b[0;34m'tnc'\u001b[0m\u001b[0;34m:\u001b[0m\u001b[0;34m\u001b[0m\u001b[0;34m\u001b[0m\u001b[0m\n",
            "\u001b[0;32m/usr/local/lib/python3.8/dist-packages/scipy/optimize/lbfgsb.py\u001b[0m in \u001b[0;36m_minimize_lbfgsb\u001b[0;34m(fun, x0, args, jac, bounds, disp, maxcor, ftol, gtol, eps, maxfun, maxiter, iprint, callback, maxls, finite_diff_rel_step, **unknown_options)\u001b[0m\n\u001b[1;32m    358\u001b[0m             \u001b[0;31m# until the completion of the current minimization iteration.\u001b[0m\u001b[0;34m\u001b[0m\u001b[0;34m\u001b[0m\u001b[0;34m\u001b[0m\u001b[0m\n\u001b[1;32m    359\u001b[0m             \u001b[0;31m# Overwrite f and g:\u001b[0m\u001b[0;34m\u001b[0m\u001b[0;34m\u001b[0m\u001b[0;34m\u001b[0m\u001b[0m\n\u001b[0;32m--> 360\u001b[0;31m             \u001b[0mf\u001b[0m\u001b[0;34m,\u001b[0m \u001b[0mg\u001b[0m \u001b[0;34m=\u001b[0m \u001b[0mfunc_and_grad\u001b[0m\u001b[0;34m(\u001b[0m\u001b[0mx\u001b[0m\u001b[0;34m)\u001b[0m\u001b[0;34m\u001b[0m\u001b[0;34m\u001b[0m\u001b[0m\n\u001b[0m\u001b[1;32m    361\u001b[0m         \u001b[0;32melif\u001b[0m \u001b[0mtask_str\u001b[0m\u001b[0;34m.\u001b[0m\u001b[0mstartswith\u001b[0m\u001b[0;34m(\u001b[0m\u001b[0;34mb'NEW_X'\u001b[0m\u001b[0;34m)\u001b[0m\u001b[0;34m:\u001b[0m\u001b[0;34m\u001b[0m\u001b[0;34m\u001b[0m\u001b[0m\n\u001b[1;32m    362\u001b[0m             \u001b[0;31m# new iteration\u001b[0m\u001b[0;34m\u001b[0m\u001b[0;34m\u001b[0m\u001b[0;34m\u001b[0m\u001b[0m\n",
            "\u001b[0;32m/usr/local/lib/python3.8/dist-packages/scipy/optimize/_differentiable_functions.py\u001b[0m in \u001b[0;36mfun_and_grad\u001b[0;34m(self, x)\u001b[0m\n\u001b[1;32m    265\u001b[0m         \u001b[0;32mif\u001b[0m \u001b[0;32mnot\u001b[0m \u001b[0mnp\u001b[0m\u001b[0;34m.\u001b[0m\u001b[0marray_equal\u001b[0m\u001b[0;34m(\u001b[0m\u001b[0mx\u001b[0m\u001b[0;34m,\u001b[0m \u001b[0mself\u001b[0m\u001b[0;34m.\u001b[0m\u001b[0mx\u001b[0m\u001b[0;34m)\u001b[0m\u001b[0;34m:\u001b[0m\u001b[0;34m\u001b[0m\u001b[0;34m\u001b[0m\u001b[0m\n\u001b[1;32m    266\u001b[0m             \u001b[0mself\u001b[0m\u001b[0;34m.\u001b[0m\u001b[0m_update_x_impl\u001b[0m\u001b[0;34m(\u001b[0m\u001b[0mx\u001b[0m\u001b[0;34m)\u001b[0m\u001b[0;34m\u001b[0m\u001b[0;34m\u001b[0m\u001b[0m\n\u001b[0;32m--> 267\u001b[0;31m         \u001b[0mself\u001b[0m\u001b[0;34m.\u001b[0m\u001b[0m_update_fun\u001b[0m\u001b[0;34m(\u001b[0m\u001b[0;34m)\u001b[0m\u001b[0;34m\u001b[0m\u001b[0;34m\u001b[0m\u001b[0m\n\u001b[0m\u001b[1;32m    268\u001b[0m         \u001b[0mself\u001b[0m\u001b[0;34m.\u001b[0m\u001b[0m_update_grad\u001b[0m\u001b[0;34m(\u001b[0m\u001b[0;34m)\u001b[0m\u001b[0;34m\u001b[0m\u001b[0;34m\u001b[0m\u001b[0m\n\u001b[1;32m    269\u001b[0m         \u001b[0;32mreturn\u001b[0m \u001b[0mself\u001b[0m\u001b[0;34m.\u001b[0m\u001b[0mf\u001b[0m\u001b[0;34m,\u001b[0m \u001b[0mself\u001b[0m\u001b[0;34m.\u001b[0m\u001b[0mg\u001b[0m\u001b[0;34m\u001b[0m\u001b[0;34m\u001b[0m\u001b[0m\n",
            "\u001b[0;32m/usr/local/lib/python3.8/dist-packages/scipy/optimize/_differentiable_functions.py\u001b[0m in \u001b[0;36m_update_fun\u001b[0;34m(self)\u001b[0m\n\u001b[1;32m    231\u001b[0m     \u001b[0;32mdef\u001b[0m \u001b[0m_update_fun\u001b[0m\u001b[0;34m(\u001b[0m\u001b[0mself\u001b[0m\u001b[0;34m)\u001b[0m\u001b[0;34m:\u001b[0m\u001b[0;34m\u001b[0m\u001b[0;34m\u001b[0m\u001b[0m\n\u001b[1;32m    232\u001b[0m         \u001b[0;32mif\u001b[0m \u001b[0;32mnot\u001b[0m \u001b[0mself\u001b[0m\u001b[0;34m.\u001b[0m\u001b[0mf_updated\u001b[0m\u001b[0;34m:\u001b[0m\u001b[0;34m\u001b[0m\u001b[0;34m\u001b[0m\u001b[0m\n\u001b[0;32m--> 233\u001b[0;31m             \u001b[0mself\u001b[0m\u001b[0;34m.\u001b[0m\u001b[0m_update_fun_impl\u001b[0m\u001b[0;34m(\u001b[0m\u001b[0;34m)\u001b[0m\u001b[0;34m\u001b[0m\u001b[0;34m\u001b[0m\u001b[0m\n\u001b[0m\u001b[1;32m    234\u001b[0m             \u001b[0mself\u001b[0m\u001b[0;34m.\u001b[0m\u001b[0mf_updated\u001b[0m \u001b[0;34m=\u001b[0m \u001b[0;32mTrue\u001b[0m\u001b[0;34m\u001b[0m\u001b[0;34m\u001b[0m\u001b[0m\n\u001b[1;32m    235\u001b[0m \u001b[0;34m\u001b[0m\u001b[0m\n",
            "\u001b[0;32m/usr/local/lib/python3.8/dist-packages/scipy/optimize/_differentiable_functions.py\u001b[0m in \u001b[0;36mupdate_fun\u001b[0;34m()\u001b[0m\n\u001b[1;32m    135\u001b[0m \u001b[0;34m\u001b[0m\u001b[0m\n\u001b[1;32m    136\u001b[0m         \u001b[0;32mdef\u001b[0m \u001b[0mupdate_fun\u001b[0m\u001b[0;34m(\u001b[0m\u001b[0;34m)\u001b[0m\u001b[0;34m:\u001b[0m\u001b[0;34m\u001b[0m\u001b[0;34m\u001b[0m\u001b[0m\n\u001b[0;32m--> 137\u001b[0;31m             \u001b[0mself\u001b[0m\u001b[0;34m.\u001b[0m\u001b[0mf\u001b[0m \u001b[0;34m=\u001b[0m \u001b[0mfun_wrapped\u001b[0m\u001b[0;34m(\u001b[0m\u001b[0mself\u001b[0m\u001b[0;34m.\u001b[0m\u001b[0mx\u001b[0m\u001b[0;34m)\u001b[0m\u001b[0;34m\u001b[0m\u001b[0;34m\u001b[0m\u001b[0m\n\u001b[0m\u001b[1;32m    138\u001b[0m \u001b[0;34m\u001b[0m\u001b[0m\n\u001b[1;32m    139\u001b[0m         \u001b[0mself\u001b[0m\u001b[0;34m.\u001b[0m\u001b[0m_update_fun_impl\u001b[0m \u001b[0;34m=\u001b[0m \u001b[0mupdate_fun\u001b[0m\u001b[0;34m\u001b[0m\u001b[0;34m\u001b[0m\u001b[0m\n",
            "\u001b[0;32m/usr/local/lib/python3.8/dist-packages/scipy/optimize/_differentiable_functions.py\u001b[0m in \u001b[0;36mfun_wrapped\u001b[0;34m(x)\u001b[0m\n\u001b[1;32m    132\u001b[0m             \u001b[0;31m# Overwriting results in undefined behaviour because\u001b[0m\u001b[0;34m\u001b[0m\u001b[0;34m\u001b[0m\u001b[0;34m\u001b[0m\u001b[0m\n\u001b[1;32m    133\u001b[0m             \u001b[0;31m# fun(self.x) will change self.x, with the two no longer linked.\u001b[0m\u001b[0;34m\u001b[0m\u001b[0;34m\u001b[0m\u001b[0;34m\u001b[0m\u001b[0m\n\u001b[0;32m--> 134\u001b[0;31m             \u001b[0;32mreturn\u001b[0m \u001b[0mfun\u001b[0m\u001b[0;34m(\u001b[0m\u001b[0mnp\u001b[0m\u001b[0;34m.\u001b[0m\u001b[0mcopy\u001b[0m\u001b[0;34m(\u001b[0m\u001b[0mx\u001b[0m\u001b[0;34m)\u001b[0m\u001b[0;34m,\u001b[0m \u001b[0;34m*\u001b[0m\u001b[0margs\u001b[0m\u001b[0;34m)\u001b[0m\u001b[0;34m\u001b[0m\u001b[0;34m\u001b[0m\u001b[0m\n\u001b[0m\u001b[1;32m    135\u001b[0m \u001b[0;34m\u001b[0m\u001b[0m\n\u001b[1;32m    136\u001b[0m         \u001b[0;32mdef\u001b[0m \u001b[0mupdate_fun\u001b[0m\u001b[0;34m(\u001b[0m\u001b[0;34m)\u001b[0m\u001b[0;34m:\u001b[0m\u001b[0;34m\u001b[0m\u001b[0;34m\u001b[0m\u001b[0m\n",
            "\u001b[0;32m/usr/local/lib/python3.8/dist-packages/scipy/optimize/optimize.py\u001b[0m in \u001b[0;36m__call__\u001b[0;34m(self, x, *args)\u001b[0m\n\u001b[1;32m     72\u001b[0m     \u001b[0;32mdef\u001b[0m \u001b[0m__call__\u001b[0m\u001b[0;34m(\u001b[0m\u001b[0mself\u001b[0m\u001b[0;34m,\u001b[0m \u001b[0mx\u001b[0m\u001b[0;34m,\u001b[0m \u001b[0;34m*\u001b[0m\u001b[0margs\u001b[0m\u001b[0;34m)\u001b[0m\u001b[0;34m:\u001b[0m\u001b[0;34m\u001b[0m\u001b[0;34m\u001b[0m\u001b[0m\n\u001b[1;32m     73\u001b[0m         \u001b[0;34m\"\"\" returns the the function value \"\"\"\u001b[0m\u001b[0;34m\u001b[0m\u001b[0;34m\u001b[0m\u001b[0m\n\u001b[0;32m---> 74\u001b[0;31m         \u001b[0mself\u001b[0m\u001b[0;34m.\u001b[0m\u001b[0m_compute_if_needed\u001b[0m\u001b[0;34m(\u001b[0m\u001b[0mx\u001b[0m\u001b[0;34m,\u001b[0m \u001b[0;34m*\u001b[0m\u001b[0margs\u001b[0m\u001b[0;34m)\u001b[0m\u001b[0;34m\u001b[0m\u001b[0;34m\u001b[0m\u001b[0m\n\u001b[0m\u001b[1;32m     75\u001b[0m         \u001b[0;32mreturn\u001b[0m \u001b[0mself\u001b[0m\u001b[0;34m.\u001b[0m\u001b[0m_value\u001b[0m\u001b[0;34m\u001b[0m\u001b[0;34m\u001b[0m\u001b[0m\n\u001b[1;32m     76\u001b[0m \u001b[0;34m\u001b[0m\u001b[0m\n",
            "\u001b[0;32m/usr/local/lib/python3.8/dist-packages/scipy/optimize/optimize.py\u001b[0m in \u001b[0;36m_compute_if_needed\u001b[0;34m(self, x, *args)\u001b[0m\n\u001b[1;32m     66\u001b[0m         \u001b[0;32mif\u001b[0m \u001b[0;32mnot\u001b[0m \u001b[0mnp\u001b[0m\u001b[0;34m.\u001b[0m\u001b[0mall\u001b[0m\u001b[0;34m(\u001b[0m\u001b[0mx\u001b[0m \u001b[0;34m==\u001b[0m \u001b[0mself\u001b[0m\u001b[0;34m.\u001b[0m\u001b[0mx\u001b[0m\u001b[0;34m)\u001b[0m \u001b[0;32mor\u001b[0m \u001b[0mself\u001b[0m\u001b[0;34m.\u001b[0m\u001b[0m_value\u001b[0m \u001b[0;32mis\u001b[0m \u001b[0;32mNone\u001b[0m \u001b[0;32mor\u001b[0m \u001b[0mself\u001b[0m\u001b[0;34m.\u001b[0m\u001b[0mjac\u001b[0m \u001b[0;32mis\u001b[0m \u001b[0;32mNone\u001b[0m\u001b[0;34m:\u001b[0m\u001b[0;34m\u001b[0m\u001b[0;34m\u001b[0m\u001b[0m\n\u001b[1;32m     67\u001b[0m             \u001b[0mself\u001b[0m\u001b[0;34m.\u001b[0m\u001b[0mx\u001b[0m \u001b[0;34m=\u001b[0m \u001b[0mnp\u001b[0m\u001b[0;34m.\u001b[0m\u001b[0masarray\u001b[0m\u001b[0;34m(\u001b[0m\u001b[0mx\u001b[0m\u001b[0;34m)\u001b[0m\u001b[0;34m.\u001b[0m\u001b[0mcopy\u001b[0m\u001b[0;34m(\u001b[0m\u001b[0;34m)\u001b[0m\u001b[0;34m\u001b[0m\u001b[0;34m\u001b[0m\u001b[0m\n\u001b[0;32m---> 68\u001b[0;31m             \u001b[0mfg\u001b[0m \u001b[0;34m=\u001b[0m \u001b[0mself\u001b[0m\u001b[0;34m.\u001b[0m\u001b[0mfun\u001b[0m\u001b[0;34m(\u001b[0m\u001b[0mx\u001b[0m\u001b[0;34m,\u001b[0m \u001b[0;34m*\u001b[0m\u001b[0margs\u001b[0m\u001b[0;34m)\u001b[0m\u001b[0;34m\u001b[0m\u001b[0;34m\u001b[0m\u001b[0m\n\u001b[0m\u001b[1;32m     69\u001b[0m             \u001b[0mself\u001b[0m\u001b[0;34m.\u001b[0m\u001b[0mjac\u001b[0m \u001b[0;34m=\u001b[0m \u001b[0mfg\u001b[0m\u001b[0;34m[\u001b[0m\u001b[0;36m1\u001b[0m\u001b[0;34m]\u001b[0m\u001b[0;34m\u001b[0m\u001b[0;34m\u001b[0m\u001b[0m\n\u001b[1;32m     70\u001b[0m             \u001b[0mself\u001b[0m\u001b[0;34m.\u001b[0m\u001b[0m_value\u001b[0m \u001b[0;34m=\u001b[0m \u001b[0mfg\u001b[0m\u001b[0;34m[\u001b[0m\u001b[0;36m0\u001b[0m\u001b[0;34m]\u001b[0m\u001b[0;34m\u001b[0m\u001b[0;34m\u001b[0m\u001b[0m\n",
            "\u001b[0;32m/usr/local/lib/python3.8/dist-packages/sklearn/neural_network/_multilayer_perceptron.py\u001b[0m in \u001b[0;36m_loss_grad_lbfgs\u001b[0;34m(self, packed_coef_inter, X, y, activations, deltas, coef_grads, intercept_grads)\u001b[0m\n\u001b[1;32m    232\u001b[0m         \"\"\"\n\u001b[1;32m    233\u001b[0m         \u001b[0mself\u001b[0m\u001b[0;34m.\u001b[0m\u001b[0m_unpack\u001b[0m\u001b[0;34m(\u001b[0m\u001b[0mpacked_coef_inter\u001b[0m\u001b[0;34m)\u001b[0m\u001b[0;34m\u001b[0m\u001b[0;34m\u001b[0m\u001b[0m\n\u001b[0;32m--> 234\u001b[0;31m         loss, coef_grads, intercept_grads = self._backprop(\n\u001b[0m\u001b[1;32m    235\u001b[0m             \u001b[0mX\u001b[0m\u001b[0;34m,\u001b[0m \u001b[0my\u001b[0m\u001b[0;34m,\u001b[0m \u001b[0mactivations\u001b[0m\u001b[0;34m,\u001b[0m \u001b[0mdeltas\u001b[0m\u001b[0;34m,\u001b[0m \u001b[0mcoef_grads\u001b[0m\u001b[0;34m,\u001b[0m \u001b[0mintercept_grads\u001b[0m\u001b[0;34m\u001b[0m\u001b[0;34m\u001b[0m\u001b[0m\n\u001b[1;32m    236\u001b[0m         )\n",
            "\u001b[0;32m/usr/local/lib/python3.8/dist-packages/sklearn/neural_network/_multilayer_perceptron.py\u001b[0m in \u001b[0;36m_backprop\u001b[0;34m(self, X, y, activations, deltas, coef_grads, intercept_grads)\u001b[0m\n\u001b[1;32m    311\u001b[0m             \u001b[0minplace_derivative\u001b[0m\u001b[0;34m(\u001b[0m\u001b[0mactivations\u001b[0m\u001b[0;34m[\u001b[0m\u001b[0mi\u001b[0m\u001b[0;34m]\u001b[0m\u001b[0;34m,\u001b[0m \u001b[0mdeltas\u001b[0m\u001b[0;34m[\u001b[0m\u001b[0mi\u001b[0m \u001b[0;34m-\u001b[0m \u001b[0;36m1\u001b[0m\u001b[0;34m]\u001b[0m\u001b[0;34m)\u001b[0m\u001b[0;34m\u001b[0m\u001b[0;34m\u001b[0m\u001b[0m\n\u001b[1;32m    312\u001b[0m \u001b[0;34m\u001b[0m\u001b[0m\n\u001b[0;32m--> 313\u001b[0;31m             self._compute_loss_grad(\n\u001b[0m\u001b[1;32m    314\u001b[0m                 \u001b[0mi\u001b[0m \u001b[0;34m-\u001b[0m \u001b[0;36m1\u001b[0m\u001b[0;34m,\u001b[0m \u001b[0mn_samples\u001b[0m\u001b[0;34m,\u001b[0m \u001b[0mactivations\u001b[0m\u001b[0;34m,\u001b[0m \u001b[0mdeltas\u001b[0m\u001b[0;34m,\u001b[0m \u001b[0mcoef_grads\u001b[0m\u001b[0;34m,\u001b[0m \u001b[0mintercept_grads\u001b[0m\u001b[0;34m\u001b[0m\u001b[0;34m\u001b[0m\u001b[0m\n\u001b[1;32m    315\u001b[0m             )\n",
            "\u001b[0;32m/usr/local/lib/python3.8/dist-packages/sklearn/neural_network/_multilayer_perceptron.py\u001b[0m in \u001b[0;36m_compute_loss_grad\u001b[0;34m(self, layer, n_samples, activations, deltas, coef_grads, intercept_grads)\u001b[0m\n\u001b[1;32m    182\u001b[0m         \u001b[0mThis\u001b[0m \u001b[0mfunction\u001b[0m \u001b[0mdoes\u001b[0m \u001b[0mbackpropagation\u001b[0m \u001b[0;32mfor\u001b[0m \u001b[0mthe\u001b[0m \u001b[0mspecified\u001b[0m \u001b[0mone\u001b[0m \u001b[0mlayer\u001b[0m\u001b[0;34m.\u001b[0m\u001b[0;34m\u001b[0m\u001b[0;34m\u001b[0m\u001b[0m\n\u001b[1;32m    183\u001b[0m         \"\"\"\n\u001b[0;32m--> 184\u001b[0;31m         \u001b[0mcoef_grads\u001b[0m\u001b[0;34m[\u001b[0m\u001b[0mlayer\u001b[0m\u001b[0;34m]\u001b[0m \u001b[0;34m=\u001b[0m \u001b[0msafe_sparse_dot\u001b[0m\u001b[0;34m(\u001b[0m\u001b[0mactivations\u001b[0m\u001b[0;34m[\u001b[0m\u001b[0mlayer\u001b[0m\u001b[0;34m]\u001b[0m\u001b[0;34m.\u001b[0m\u001b[0mT\u001b[0m\u001b[0;34m,\u001b[0m \u001b[0mdeltas\u001b[0m\u001b[0;34m[\u001b[0m\u001b[0mlayer\u001b[0m\u001b[0;34m]\u001b[0m\u001b[0;34m)\u001b[0m\u001b[0;34m\u001b[0m\u001b[0;34m\u001b[0m\u001b[0m\n\u001b[0m\u001b[1;32m    185\u001b[0m         \u001b[0mcoef_grads\u001b[0m\u001b[0;34m[\u001b[0m\u001b[0mlayer\u001b[0m\u001b[0;34m]\u001b[0m \u001b[0;34m+=\u001b[0m \u001b[0mself\u001b[0m\u001b[0;34m.\u001b[0m\u001b[0malpha\u001b[0m \u001b[0;34m*\u001b[0m \u001b[0mself\u001b[0m\u001b[0;34m.\u001b[0m\u001b[0mcoefs_\u001b[0m\u001b[0;34m[\u001b[0m\u001b[0mlayer\u001b[0m\u001b[0;34m]\u001b[0m\u001b[0;34m\u001b[0m\u001b[0;34m\u001b[0m\u001b[0m\n\u001b[1;32m    186\u001b[0m         \u001b[0mcoef_grads\u001b[0m\u001b[0;34m[\u001b[0m\u001b[0mlayer\u001b[0m\u001b[0;34m]\u001b[0m \u001b[0;34m/=\u001b[0m \u001b[0mn_samples\u001b[0m\u001b[0;34m\u001b[0m\u001b[0;34m\u001b[0m\u001b[0m\n",
            "\u001b[0;32m/usr/local/lib/python3.8/dist-packages/sklearn/utils/extmath.py\u001b[0m in \u001b[0;36msafe_sparse_dot\u001b[0;34m(a, b, dense_output)\u001b[0m\n\u001b[1;32m    151\u001b[0m             \u001b[0mret\u001b[0m \u001b[0;34m=\u001b[0m \u001b[0mnp\u001b[0m\u001b[0;34m.\u001b[0m\u001b[0mdot\u001b[0m\u001b[0;34m(\u001b[0m\u001b[0ma\u001b[0m\u001b[0;34m,\u001b[0m \u001b[0mb\u001b[0m\u001b[0;34m)\u001b[0m\u001b[0;34m\u001b[0m\u001b[0;34m\u001b[0m\u001b[0m\n\u001b[1;32m    152\u001b[0m     \u001b[0;32melse\u001b[0m\u001b[0;34m:\u001b[0m\u001b[0;34m\u001b[0m\u001b[0;34m\u001b[0m\u001b[0m\n\u001b[0;32m--> 153\u001b[0;31m         \u001b[0mret\u001b[0m \u001b[0;34m=\u001b[0m \u001b[0ma\u001b[0m \u001b[0;34m@\u001b[0m \u001b[0mb\u001b[0m\u001b[0;34m\u001b[0m\u001b[0;34m\u001b[0m\u001b[0m\n\u001b[0m\u001b[1;32m    154\u001b[0m \u001b[0;34m\u001b[0m\u001b[0m\n\u001b[1;32m    155\u001b[0m     if (\n",
            "\u001b[0;31mKeyboardInterrupt\u001b[0m: "
          ]
        }
      ],
      "source": [
        "# using a multilayer perceptron neural network\n",
        "mlp = MLPClassifier(random_state=42)\n",
        "\n",
        "params = {'solver': ['lbfgs'], 'max_iter': [1000,1100,1200,1300,1400,1500,1600,1700,1800,1900,2000 ], \n",
        "              'alpha': 10.0 ** -np.arange(1, 10), 'hidden_layer_sizes':np.arange(10, 15), \n",
        "              'random_state':[0,1,2,3,4,5,6,7,8,9]}\n",
        "\n",
        "grid = GridSearchCV(mlp, params, cv=10, scoring='accuracy', return_train_score=False,verbose=1)\n",
        "grid_search=grid.fit(X_train, y_train)"
      ]
    },
    {
      "cell_type": "code",
      "execution_count": null,
      "metadata": {
        "colab": {
          "base_uri": "https://localhost:8080/"
        },
        "id": "GQF-9x2ABKbd",
        "outputId": "11304202-c4e7-4bd6-fe1c-a5c6cb152fec"
      },
      "outputs": [
        {
          "name": "stdout",
          "output_type": "stream",
          "text": [
            "GridSearch CV best score : 1.0000\n",
            "\n",
            "\n",
            "Parameters that give the best results : \n",
            "\n",
            " {'alpha': 0.1, 'hidden_layer_sizes': 10, 'max_iter': 1000, 'random_state': 0, 'solver': 'lbfgs'}\n",
            "\n",
            "\n",
            "Estimator that was chosen by the search : \n",
            "\n",
            " MLPClassifier(alpha=0.1, hidden_layer_sizes=10, max_iter=1000, random_state=0,\n",
            "              solver='lbfgs')\n"
          ]
        }
      ],
      "source": [
        "# best score achieved during the GridSearchCV\n",
        "print('GridSearch CV best score : {:.4f}\\n\\n'.format(grid.best_score_))\n",
        "\n",
        "\n",
        "# print parameters that give the best results\n",
        "print('Parameters that give the best results :','\\n\\n', (grid.best_params_))\n",
        "\n",
        "\n",
        "# print estimator that was chosen by the GridSearch\n",
        "print('\\n\\nEstimator that was chosen by the search :','\\n\\n', (grid.best_estimator_))"
      ]
    },
    {
      "cell_type": "code",
      "execution_count": null,
      "metadata": {
        "id": "E3f85iWX0RmJ"
      },
      "outputs": [],
      "source": [
        "# lets use these params now\n",
        "nn_pipeline = Pipeline(steps = [('scale',StandardScaler()),('NN',MLPClassifier(alpha=0.1, hidden_layer_sizes=10, max_iter=1000, random_state=0,\n",
        "              solver='lbfgs'))])\n",
        "\n",
        "nn_pipeline.fit(X_train,y_train)\n",
        "\n",
        "nn_tuned_pred = nn_pipeline.predict(X_test)"
      ]
    },
    {
      "cell_type": "code",
      "execution_count": null,
      "metadata": {
        "colab": {
          "base_uri": "https://localhost:8080/"
        },
        "id": "8gLEPzqFPUXr",
        "outputId": "2f5f982c-c55c-41bd-c298-419723838df4"
      },
      "outputs": [
        {
          "name": "stdout",
          "output_type": "stream",
          "text": [
            "              precision    recall  f1-score   support\n",
            "\n",
            "           0       0.91      0.94      0.93        33\n",
            "           1       0.98      0.97      0.98       120\n",
            "\n",
            "    accuracy                           0.97       153\n",
            "   macro avg       0.95      0.96      0.95       153\n",
            "weighted avg       0.97      0.97      0.97       153\n",
            "\n",
            "Accuracy Score:  0.9673202614379085\n",
            "F1 Score:  0.9790794979079498\n"
          ]
        }
      ],
      "source": [
        "print(classification_report(y_test,nn_tuned_pred))\n",
        "\n",
        "print('Accuracy Score: ',accuracy_score(y_test,nn_tuned_pred))\n",
        "print('F1 Score: ',f1_score(y_test,nn_tuned_pred))"
      ]
    },
    {
      "cell_type": "code",
      "execution_count": null,
      "metadata": {
        "id": "2x7xPtjLyCT0"
      },
      "outputs": [],
      "source": [
        "# fit all of these new networks\n",
        "rf_pipeline.fit(X_train,y_train)\n",
        "svm_pipeline.fit(X_train,y_train)\n",
        "logreg_pipeline.fit(X_train,y_train)\n",
        "knn_pipeline.fit(X_train, y_train)\n",
        "dt_pipeline.fit(X_train, y_train)\n",
        "nn_pipeline.fit(X_train, y_train)\n",
        "\n",
        "rf_pred = rf_pipeline.predict(X_test)\n",
        "svm_pred = svm_pipeline.predict(X_test)\n",
        "logreg_pred = logreg_pipeline.predict(X_test)\n",
        "knn_pred = knn_pipeline.predict(X_test)\n",
        "dt_pred = knn_pipeline.predict(X_test)\n",
        "nn_pred = knn_pipeline.predict(X_test)\n",
        "\n",
        "from sklearn.metrics import confusion_matrix\n",
        "\n",
        "# create new confusion matrices\n",
        "rf_cm  = confusion_matrix(y_test,rf_pred )\n",
        "svm_cm = confusion_matrix(y_test,svm_pred)\n",
        "logreg_cm  = confusion_matrix(y_test,logreg_pred )\n",
        "knn_cm = confusion_matrix(y_test, knn_pred)\n",
        "dt_cm = confusion_matrix(y_test, dt_pred)\n",
        "nn_cm = confusion_matrix(y_test, nn_pred)\n",
        "\n",
        "from sklearn.metrics import f1_score\n",
        "\n",
        "rf_f1  = f1_score(y_test,rf_pred)\n",
        "svm_f1 = f1_score(y_test,svm_pred)\n",
        "logreg_f1  = f1_score(y_test,logreg_pred)\n",
        "knn_f1 = f1_score(y_test, knn_pred)\n",
        "dt_f1 = f1_score(y_test, dt_pred)\n",
        "nn_f1 = f1_score(y_test, nn_pred)"
      ]
    },
    {
      "cell_type": "code",
      "execution_count": null,
      "metadata": {
        "id": "mV5JJmSy2vRe"
      },
      "outputs": [],
      "source": [
        "# Make dataframes to plot\n",
        "\n",
        "from sklearn.metrics import recall_score, precision_score, roc_auc_score\n",
        "\n",
        "rf_df = pd.DataFrame(data=[f1_score(y_test,rf_pred),accuracy_score(y_test, rf_pred), recall_score(y_test, rf_pred),\n",
        "                   precision_score(y_test, rf_pred), roc_auc_score(y_test, rf_pred)], \n",
        "             columns=['Random Forest Score'],\n",
        "             index=[\"F1\",\"Accuracy\", \"Recall\", \"Precision\", \"ROC AUC Score\"])\n",
        "\n",
        "svm_df = pd.DataFrame(data=[f1_score(y_test,svm_pred),accuracy_score(y_test, svm_pred), recall_score(y_test, svm_pred),\n",
        "                   precision_score(y_test, svm_pred), roc_auc_score(y_test, svm_pred)], \n",
        "             columns=['Support Vector Machine (SVM) Score'],\n",
        "             index=[\"F1\",\"Accuracy\", \"Recall\", \"Precision\", \"ROC AUC Score\"])\n",
        "\n",
        "lr_df = pd.DataFrame(data=[f1_score(y_test,logreg_tuned_pred),accuracy_score(y_test, logreg_tuned_pred), recall_score(y_test, logreg_tuned_pred),\n",
        "                   precision_score(y_test, logreg_tuned_pred), roc_auc_score(y_test, logreg_tuned_pred)], \n",
        "             columns=['Tuned Logistic Regression Score'],\n",
        "             index=[\"F1\",\"Accuracy\", \"Recall\", \"Precision\", \"ROC AUC Score\"])\n",
        "\n",
        "knn_df = pd.DataFrame(data=[f1_score(y_test,knn_tuned_pred),accuracy_score(y_test, knn_tuned_pred), recall_score(y_test, knn_tuned_pred),\n",
        "                   precision_score(y_test, knn_tuned_pred), roc_auc_score(y_test, knn_tuned_pred)], \n",
        "             columns=['K-Nearest-Neighbors Score'],\n",
        "             index=[\"F1\",\"Accuracy\", \"Recall\", \"Precision\", \"ROC AUC Score\"])\n",
        "\n",
        "dt_df = pd.DataFrame(data=[f1_score(y_test,dt_tuned_pred),accuracy_score(y_test, dt_tuned_pred), recall_score(y_test, dt_tuned_pred),\n",
        "                   precision_score(y_test, dt_tuned_pred), roc_auc_score(y_test, dt_tuned_pred)], \n",
        "             columns=['Decision Tree Classifier Score'],\n",
        "             index=[\"F1\",\"Accuracy\", \"Recall\", \"Precision\", \"ROC AUC Score\"])\n",
        "\n",
        "nn_df = pd.DataFrame(data=[f1_score(y_test,nn_tuned_pred),accuracy_score(y_test, nn_tuned_pred), recall_score(y_test, nn_tuned_pred),\n",
        "                   precision_score(y_test, nn_tuned_pred), roc_auc_score(y_test, nn_tuned_pred)], \n",
        "             columns=['Multilayer Perceptron Neural Network Score'],\n",
        "             index=[\"F1\",\"Accuracy\", \"Recall\", \"Precision\", \"ROC AUC Score\"])"
      ]
    },
    {
      "cell_type": "code",
      "execution_count": null,
      "metadata": {
        "colab": {
          "base_uri": "https://localhost:8080/",
          "height": 380
        },
        "id": "Cp58DUr322OB",
        "outputId": "dfac7bf1-cce6-4c07-ee5c-c3c0040eb36f"
      },
      "outputs": [
        {
          "data": {
            "image/png": "[encoded data removed]",
            "text/plain": [
              "<Figure size 1080x2160 with 1 Axes>"
            ]
          },
          "metadata": {},
          "output_type": "display_data"
        }
      ],
      "source": [
        "# create a full figure\n",
        "df_models = round(pd.concat([rf_df,svm_df,lr_df,knn_df, dt_df, nn_df], axis=1),3)\n",
        "import matplotlib\n",
        "colors = [\"lightgray\",\"lightgray\",\"#0f4c81\"]\n",
        "colormap = matplotlib.colors.LinearSegmentedColormap.from_list(\"\", colors)\n",
        "\n",
        "background_color = \"#fbfbfb\"\n",
        "\n",
        "fig = plt.figure(figsize=(15,30)) # create figure\n",
        "gs = fig.add_gridspec(4, 2)\n",
        "gs.update(wspace=0.1, hspace=0.5)\n",
        "ax0 = fig.add_subplot(gs[0, :])\n",
        "\n",
        "sns.heatmap(df_models.T, cmap=colormap,annot=True,fmt=\".1%\",vmin=0.90,vmax=1, linewidths=2.5,cbar=False,ax=ax0,annot_kws={\"fontsize\":18})\n",
        "fig.patch.set_facecolor(background_color) # figure background color\n",
        "ax0.set_facecolor(background_color) \n",
        "\n",
        "ax0.text(0,-0.5,'Model Comparison',fontsize=18,fontweight='bold',fontfamily='serif')\n",
        "ax0.tick_params(axis=u'both', which=u'both',length=0)\n",
        "\n",
        "plt.show()"
      ]
    },
    {
      "cell_type": "code",
      "execution_count": null,
      "metadata": {
        "colab": {
          "base_uri": "https://localhost:8080/",
          "height": 1000
        },
        "id": "-W99kU7Q3KUv",
        "outputId": "259c0020-7b49-4f94-d51d-0687d1de945a"
      },
      "outputs": [
        {
          "data": {
            "image/png": "[encoded data removed]",
            "text/plain": [
              "<Figure size 720x1440 with 6 Axes>"
            ]
          },
          "metadata": {},
          "output_type": "display_data"
        }
      ],
      "source": [
        "# Plotting our results\n",
        "\n",
        "colors = [\"lightgray\",\"#0f4c81\",\"#0f4c81\",\"#0f4c81\",\"#0f4c81\",\"#0f4c81\",\"#0f4c81\",\"#0f4c81\"]\n",
        "colormap = matplotlib.colors.LinearSegmentedColormap.from_list(\"\", colors)\n",
        "\n",
        "\n",
        "background_color = \"#fbfbfb\"\n",
        "\n",
        "fig = plt.figure(figsize=(10,20)) # create figure\n",
        "gs = fig.add_gridspec(6, 2)\n",
        "gs.update(wspace=0.1, hspace=0.8)\n",
        "ax0 = fig.add_subplot(gs[0, :])\n",
        "ax1 = fig.add_subplot(gs[1, :])\n",
        "ax2 = fig.add_subplot(gs[2, :])\n",
        "ax3 = fig.add_subplot(gs[3, :])\n",
        "ax4 = fig.add_subplot(gs[4, :])\n",
        "ax5 = fig.add_subplot(gs[5, :])\n",
        "ax0.set_facecolor(background_color) # axes background color\n",
        "\n",
        "# Overall\n",
        "sns.heatmap(rf_cm, cmap=colormap,annot=True,fmt=\"d\", linewidths=5,cbar=False,ax=ax0,\n",
        "            yticklabels=['Actual Normal','Actual Astrocytoma'],xticklabels=['Predicted Normal','Predicted Astrocytoma'],annot_kws={\"fontsize\":12})\n",
        "\n",
        "sns.heatmap(logreg_cm, cmap=colormap,annot=True,fmt=\"d\", linewidths=5,cbar=False,ax=ax1,\n",
        "            yticklabels=['Actual Normal','Actual Astrocytoma'],xticklabels=['Predicted Normal','Predicted Astrocytoma'],annot_kws={\"fontsize\":12})\n",
        "\n",
        "sns.heatmap(svm_cm, cmap=colormap,annot=True,fmt=\"d\", linewidths=5,cbar=False,ax=ax2,\n",
        "            yticklabels=['Actual Normal','Actual Astrocytoma'],xticklabels=['Predicted Normal','Predicted Astrocytoma'],annot_kws={\"fontsize\":12})\n",
        "\n",
        "sns.heatmap(knn_cm, cmap=colormap,annot=True,fmt=\"d\", linewidths=5,cbar=False,ax=ax3,\n",
        "            yticklabels=['Actual Normal','Actual Astrocytoma'],xticklabels=['Predicted Normal','Predicted Astrocytoma'],annot_kws={\"fontsize\":12})\n",
        "\n",
        "sns.heatmap(dt_cm, cmap=colormap,annot=True,fmt=\"d\", linewidths=5,cbar=False,ax=ax4,\n",
        "            yticklabels=['Actual Normal','Actual Astrocytoma'],xticklabels=['Predicted Normal','Predicted Astrocytoma'],annot_kws={\"fontsize\":12})\n",
        "\n",
        "sns.heatmap(nn_cm, cmap=colormap,annot=True,fmt=\"d\", linewidths=5,cbar=False,ax=ax5,\n",
        "            yticklabels=['Actual Normal','Actual Astrocytoma'],xticklabels=['Predicted Normal','Predicted Astrocytoma'],annot_kws={\"fontsize\":12})\n",
        "\n",
        "ax0.tick_params(axis=u'both', which=u'both',length=0)\n",
        "background_color = \"#fbfbfb\"\n",
        "fig.patch.set_facecolor(background_color) # figure background color\n",
        "ax0.set_facecolor(background_color) \n",
        "ax1.tick_params(axis=u'both', which=u'both',length=0)\n",
        "ax1.set_facecolor(background_color) \n",
        "ax2.tick_params(axis=u'both', which=u'both',length=0)\n",
        "ax2.set_facecolor(background_color)\n",
        "ax3.tick_params(axis=u'both', which=u'both',length=0)\n",
        "ax3.set_facecolor(background_color)\n",
        "ax4.tick_params(axis=u'both', which=u'both',length=0)\n",
        "ax4.set_facecolor(background_color)\n",
        "ax5.tick_params(axis=u'both', which=u'both',length=0)\n",
        "ax5.set_facecolor(background_color)\n",
        "\n",
        "ax0.text(0,-0.75,'Random Forest Performance',fontsize=18,fontweight='bold',fontfamily='serif')\n",
        "\n",
        "ax1.text(0,-0.75,'Logistic Regression Performance',fontsize=18,fontweight='bold',fontfamily='serif')\n",
        "\n",
        "ax2.text(0,-0.75,'Support Vector Machine Performance',fontsize=18,fontweight='bold',fontfamily='serif')\n",
        "\n",
        "ax3.text(0,-0.75,'K-Nearest-Neighbors Performance',fontsize=18,fontweight='bold',fontfamily='serif')\n",
        "\n",
        "ax4.text(0,-0.75,'Decision Tree Performance',fontsize=18,fontweight='bold',fontfamily='serif')\n",
        "\n",
        "ax5.text(0,-0.75,'Neural Network: MLP Performance',fontsize=18,fontweight='bold',fontfamily='serif')\n",
        "\n",
        "plt.show()"
      ]
    }
  ],
  "metadata": {
    "colab": {
      "provenance": []
    },
    "kernelspec": {
      "display_name": "Python 3",
      "name": "python3"
    },
    "language_info": {
      "name": "python"
    }
  },
  "nbformat": 4,
  "nbformat_minor": 0
}
